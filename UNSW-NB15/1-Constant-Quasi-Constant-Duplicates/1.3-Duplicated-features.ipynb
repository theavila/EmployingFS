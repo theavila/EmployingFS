{
 "cells": [
  {
   "cell_type": "markdown",
   "metadata": {},
   "source": [
    "## Duplicated features"
   ]
  },
  {
   "cell_type": "code",
   "execution_count": 1,
   "metadata": {},
   "outputs": [],
   "source": [
    "import pandas as pd\n",
    "import numpy as np\n",
    "from sklearn.model_selection import train_test_split"
   ]
  },
  {
   "cell_type": "markdown",
   "metadata": {},
   "source": [
    "## Read Data"
   ]
  },
  {
   "cell_type": "code",
   "execution_count": 2,
   "metadata": {},
   "outputs": [
    {
     "data": {
      "text/plain": [
       "(175341, 44)"
      ]
     },
     "execution_count": 2,
     "metadata": {},
     "output_type": "execute_result"
    }
   ],
   "source": [
    "data = pd.read_csv('../UNSW_Train.csv')\n",
    "data.shape"
   ]
  },
  {
   "cell_type": "code",
   "execution_count": 3,
   "metadata": {
    "scrolled": true
   },
   "outputs": [
    {
     "data": {
      "text/plain": [
       "[]"
      ]
     },
     "execution_count": 3,
     "metadata": {},
     "output_type": "execute_result"
    }
   ],
   "source": [
    "# check the presence of missing data.\n",
    "# (there are no missing data in this dataset)\n",
    "[col for col in data.columns if data[col].isnull().sum() > 0]"
   ]
  },
  {
   "cell_type": "code",
   "execution_count": 4,
   "metadata": {},
   "outputs": [
    {
     "data": {
      "text/html": [
       "<div>\n",
       "<style scoped>\n",
       "    .dataframe tbody tr th:only-of-type {\n",
       "        vertical-align: middle;\n",
       "    }\n",
       "\n",
       "    .dataframe tbody tr th {\n",
       "        vertical-align: top;\n",
       "    }\n",
       "\n",
       "    .dataframe thead th {\n",
       "        text-align: right;\n",
       "    }\n",
       "</style>\n",
       "<table border=\"1\" class=\"dataframe\">\n",
       "  <thead>\n",
       "    <tr style=\"text-align: right;\">\n",
       "      <th></th>\n",
       "      <th>dur</th>\n",
       "      <th>proto</th>\n",
       "      <th>service</th>\n",
       "      <th>state</th>\n",
       "      <th>spkts</th>\n",
       "      <th>dpkts</th>\n",
       "      <th>sbytes</th>\n",
       "      <th>dbytes</th>\n",
       "      <th>rate</th>\n",
       "      <th>sttl</th>\n",
       "      <th>...</th>\n",
       "      <th>ct_dst_sport_ltm</th>\n",
       "      <th>ct_dst_src_ltm</th>\n",
       "      <th>is_ftp_login</th>\n",
       "      <th>ct_ftp_cmd</th>\n",
       "      <th>ct_flw_http_mthd</th>\n",
       "      <th>ct_src_ltm</th>\n",
       "      <th>ct_srv_dst</th>\n",
       "      <th>is_sm_ips_ports</th>\n",
       "      <th>attack</th>\n",
       "      <th>is_intrusion</th>\n",
       "    </tr>\n",
       "  </thead>\n",
       "  <tbody>\n",
       "    <tr>\n",
       "      <th>0</th>\n",
       "      <td>0.121478</td>\n",
       "      <td>113.0</td>\n",
       "      <td>0.0</td>\n",
       "      <td>2.0</td>\n",
       "      <td>6</td>\n",
       "      <td>4</td>\n",
       "      <td>258</td>\n",
       "      <td>172</td>\n",
       "      <td>74.087490</td>\n",
       "      <td>252</td>\n",
       "      <td>...</td>\n",
       "      <td>1</td>\n",
       "      <td>1</td>\n",
       "      <td>0</td>\n",
       "      <td>0</td>\n",
       "      <td>0</td>\n",
       "      <td>1</td>\n",
       "      <td>1</td>\n",
       "      <td>0</td>\n",
       "      <td>0</td>\n",
       "      <td>0</td>\n",
       "    </tr>\n",
       "    <tr>\n",
       "      <th>1</th>\n",
       "      <td>0.649902</td>\n",
       "      <td>113.0</td>\n",
       "      <td>0.0</td>\n",
       "      <td>2.0</td>\n",
       "      <td>14</td>\n",
       "      <td>38</td>\n",
       "      <td>734</td>\n",
       "      <td>42014</td>\n",
       "      <td>78.473372</td>\n",
       "      <td>62</td>\n",
       "      <td>...</td>\n",
       "      <td>1</td>\n",
       "      <td>2</td>\n",
       "      <td>0</td>\n",
       "      <td>0</td>\n",
       "      <td>0</td>\n",
       "      <td>1</td>\n",
       "      <td>6</td>\n",
       "      <td>0</td>\n",
       "      <td>0</td>\n",
       "      <td>0</td>\n",
       "    </tr>\n",
       "    <tr>\n",
       "      <th>2</th>\n",
       "      <td>1.623129</td>\n",
       "      <td>113.0</td>\n",
       "      <td>0.0</td>\n",
       "      <td>2.0</td>\n",
       "      <td>8</td>\n",
       "      <td>16</td>\n",
       "      <td>364</td>\n",
       "      <td>13186</td>\n",
       "      <td>14.170161</td>\n",
       "      <td>62</td>\n",
       "      <td>...</td>\n",
       "      <td>1</td>\n",
       "      <td>3</td>\n",
       "      <td>0</td>\n",
       "      <td>0</td>\n",
       "      <td>0</td>\n",
       "      <td>2</td>\n",
       "      <td>6</td>\n",
       "      <td>0</td>\n",
       "      <td>0</td>\n",
       "      <td>0</td>\n",
       "    </tr>\n",
       "    <tr>\n",
       "      <th>3</th>\n",
       "      <td>1.681642</td>\n",
       "      <td>113.0</td>\n",
       "      <td>3.0</td>\n",
       "      <td>2.0</td>\n",
       "      <td>12</td>\n",
       "      <td>12</td>\n",
       "      <td>628</td>\n",
       "      <td>770</td>\n",
       "      <td>13.677108</td>\n",
       "      <td>62</td>\n",
       "      <td>...</td>\n",
       "      <td>1</td>\n",
       "      <td>3</td>\n",
       "      <td>1</td>\n",
       "      <td>1</td>\n",
       "      <td>0</td>\n",
       "      <td>2</td>\n",
       "      <td>1</td>\n",
       "      <td>0</td>\n",
       "      <td>0</td>\n",
       "      <td>0</td>\n",
       "    </tr>\n",
       "    <tr>\n",
       "      <th>4</th>\n",
       "      <td>0.449454</td>\n",
       "      <td>113.0</td>\n",
       "      <td>0.0</td>\n",
       "      <td>2.0</td>\n",
       "      <td>10</td>\n",
       "      <td>6</td>\n",
       "      <td>534</td>\n",
       "      <td>268</td>\n",
       "      <td>33.373826</td>\n",
       "      <td>254</td>\n",
       "      <td>...</td>\n",
       "      <td>1</td>\n",
       "      <td>40</td>\n",
       "      <td>0</td>\n",
       "      <td>0</td>\n",
       "      <td>0</td>\n",
       "      <td>2</td>\n",
       "      <td>39</td>\n",
       "      <td>0</td>\n",
       "      <td>0</td>\n",
       "      <td>0</td>\n",
       "    </tr>\n",
       "  </tbody>\n",
       "</table>\n",
       "<p>5 rows × 44 columns</p>\n",
       "</div>"
      ],
      "text/plain": [
       "        dur  proto  service  state  spkts  dpkts  sbytes  dbytes       rate  \\\n",
       "0  0.121478  113.0      0.0    2.0      6      4     258     172  74.087490   \n",
       "1  0.649902  113.0      0.0    2.0     14     38     734   42014  78.473372   \n",
       "2  1.623129  113.0      0.0    2.0      8     16     364   13186  14.170161   \n",
       "3  1.681642  113.0      3.0    2.0     12     12     628     770  13.677108   \n",
       "4  0.449454  113.0      0.0    2.0     10      6     534     268  33.373826   \n",
       "\n",
       "   sttl  ...  ct_dst_sport_ltm  ct_dst_src_ltm  is_ftp_login  ct_ftp_cmd  \\\n",
       "0   252  ...                 1               1             0           0   \n",
       "1    62  ...                 1               2             0           0   \n",
       "2    62  ...                 1               3             0           0   \n",
       "3    62  ...                 1               3             1           1   \n",
       "4   254  ...                 1              40             0           0   \n",
       "\n",
       "   ct_flw_http_mthd  ct_src_ltm  ct_srv_dst  is_sm_ips_ports  attack  \\\n",
       "0                 0           1           1                0       0   \n",
       "1                 0           1           6                0       0   \n",
       "2                 0           2           6                0       0   \n",
       "3                 0           2           1                0       0   \n",
       "4                 0           2          39                0       0   \n",
       "\n",
       "   is_intrusion  \n",
       "0             0  \n",
       "1             0  \n",
       "2             0  \n",
       "3             0  \n",
       "4             0  \n",
       "\n",
       "[5 rows x 44 columns]"
      ]
     },
     "execution_count": 4,
     "metadata": {},
     "output_type": "execute_result"
    }
   ],
   "source": [
    "data.head(5)"
   ]
  },
  {
   "cell_type": "markdown",
   "metadata": {},
   "source": [
    "### Train - Test Split"
   ]
  },
  {
   "cell_type": "code",
   "execution_count": 5,
   "metadata": {},
   "outputs": [
    {
     "data": {
      "text/plain": [
       "((140272, 43), (35069, 43))"
      ]
     },
     "execution_count": 5,
     "metadata": {},
     "output_type": "execute_result"
    }
   ],
   "source": [
    "# separate dataset into train and test\n",
    "X_train, X_test, y_train, y_test = train_test_split(\n",
    "    data.drop(labels=['is_intrusion'], axis=1),         # drop the target\n",
    "    data['is_intrusion'],                               # just the target\n",
    "    test_size=0.2,\n",
    "    random_state=0)\n",
    "\n",
    "X_train.shape, X_test.shape"
   ]
  },
  {
   "cell_type": "markdown",
   "metadata": {},
   "source": [
    "## Remove constant and quasi-constant (optional)"
   ]
  },
  {
   "cell_type": "code",
   "execution_count": 6,
   "metadata": {},
   "outputs": [
    {
     "data": {
      "text/plain": [
       "0"
      ]
     },
     "execution_count": 6,
     "metadata": {},
     "output_type": "execute_result"
    }
   ],
   "source": [
    "# remove constant and quasi-constant features first:\n",
    "# we can remove the 2 types of features together with this code\n",
    "\n",
    "# create an empty list\n",
    "quasi_constant_feat = []\n",
    "\n",
    "# iterate over every feature\n",
    "for feature in X_train.columns:\n",
    "\n",
    "    # find the predominant value, that is the value that is shared\n",
    "    # by most observations\n",
    "    predominant = (X_train[feature].value_counts() / np.float64(\n",
    "        len(X_train))).sort_values(ascending=False).values[0]\n",
    "\n",
    "    # evaluate predominant feature: do more than 99% of the observations\n",
    "    # show 1 value?\n",
    "    if predominant > 0.998:\n",
    "        quasi_constant_feat.append(feature)\n",
    "\n",
    "len(quasi_constant_feat)"
   ]
  },
  {
   "cell_type": "code",
   "execution_count": 7,
   "metadata": {},
   "outputs": [
    {
     "data": {
      "text/plain": [
       "[]"
      ]
     },
     "execution_count": 7,
     "metadata": {},
     "output_type": "execute_result"
    }
   ],
   "source": [
    "quasi_constant_feat"
   ]
  },
  {
   "cell_type": "code",
   "execution_count": 8,
   "metadata": {},
   "outputs": [
    {
     "data": {
      "text/plain": [
       "((140272, 43), (35069, 43))"
      ]
     },
     "execution_count": 8,
     "metadata": {},
     "output_type": "execute_result"
    }
   ],
   "source": [
    "# we can then drop these columns from the train and test sets:\n",
    "\n",
    "X_train.drop(labels=quasi_constant_feat, axis=1, inplace=True)\n",
    "X_test.drop(labels=quasi_constant_feat, axis=1, inplace=True)\n",
    "\n",
    "X_train.shape, X_test.shape"
   ]
  },
  {
   "cell_type": "markdown",
   "metadata": {},
   "source": [
    "## Remove duplicated features"
   ]
  },
  {
   "cell_type": "code",
   "execution_count": 9,
   "metadata": {
    "scrolled": true
   },
   "outputs": [
    {
     "name": "stdout",
     "output_type": "stream",
     "text": [
      "0\n",
      "10\n",
      "20\n",
      "30\n",
      "40\n"
     ]
    }
   ],
   "source": [
    "# fiding duplicated features\n",
    "duplicated_feat_pairs = {}\n",
    "_duplicated_feat = []\n",
    "\n",
    "for i in range(0, len(X_train.columns)):\n",
    "    if i % 10 == 0:  \n",
    "        print(i)\n",
    " \n",
    "    feat_1 = X_train.columns[i]\n",
    "    \n",
    "    if feat_1 not in _duplicated_feat:\n",
    "        duplicated_feat_pairs[feat_1] = []\n",
    "\n",
    "        for feat_2 in X_train.columns[i + 1:]:\n",
    "            if X_train[feat_1].equals(X_train[feat_2]):\n",
    "                duplicated_feat_pairs[feat_1].append(feat_2)\n",
    "                _duplicated_feat.append(feat_2)"
   ]
  },
  {
   "cell_type": "code",
   "execution_count": 10,
   "metadata": {},
   "outputs": [
    {
     "data": {
      "text/plain": [
       "1"
      ]
     },
     "execution_count": 10,
     "metadata": {},
     "output_type": "execute_result"
    }
   ],
   "source": [
    "# let's explore our list of duplicated features\n",
    "len(_duplicated_feat)"
   ]
  },
  {
   "cell_type": "markdown",
   "metadata": {},
   "source": [
    "We found 1 features that were duplicates of others."
   ]
  },
  {
   "cell_type": "code",
   "execution_count": 11,
   "metadata": {},
   "outputs": [
    {
     "data": {
      "text/plain": [
       "['ct_ftp_cmd']"
      ]
     },
     "execution_count": 11,
     "metadata": {},
     "output_type": "execute_result"
    }
   ],
   "source": [
    "# these are the ones:\n",
    "\n",
    "_duplicated_feat"
   ]
  },
  {
   "cell_type": "code",
   "execution_count": 12,
   "metadata": {},
   "outputs": [
    {
     "data": {
      "text/plain": [
       "{'dur': [],\n",
       " 'proto': [],\n",
       " 'service': [],\n",
       " 'state': [],\n",
       " 'spkts': [],\n",
       " 'dpkts': [],\n",
       " 'sbytes': [],\n",
       " 'dbytes': [],\n",
       " 'rate': [],\n",
       " 'sttl': [],\n",
       " 'dttl': [],\n",
       " 'sload': [],\n",
       " 'dload': [],\n",
       " 'sloss': [],\n",
       " 'dloss': [],\n",
       " 'sinpkt': [],\n",
       " 'dinpkt': [],\n",
       " 'sjit': [],\n",
       " 'djit': [],\n",
       " 'swin': [],\n",
       " 'stcpb': [],\n",
       " 'dtcpb': [],\n",
       " 'dwin': [],\n",
       " 'tcprtt': [],\n",
       " 'synack': [],\n",
       " 'ackdat': [],\n",
       " 'smean': [],\n",
       " 'dmean': [],\n",
       " 'trans_depth': [],\n",
       " 'response_body_len': [],\n",
       " 'ct_srv_src': [],\n",
       " 'ct_state_ttl': [],\n",
       " 'ct_dst_ltm': [],\n",
       " 'ct_src_dport_ltm': [],\n",
       " 'ct_dst_sport_ltm': [],\n",
       " 'ct_dst_src_ltm': [],\n",
       " 'is_ftp_login': ['ct_ftp_cmd'],\n",
       " 'ct_flw_http_mthd': [],\n",
       " 'ct_src_ltm': [],\n",
       " 'ct_srv_dst': [],\n",
       " 'is_sm_ips_ports': [],\n",
       " 'attack': []}"
      ]
     },
     "execution_count": 12,
     "metadata": {},
     "output_type": "execute_result"
    }
   ],
   "source": [
    "# let's explore the dictionary we created:\n",
    "\n",
    "duplicated_feat_pairs"
   ]
  },
  {
   "cell_type": "markdown",
   "metadata": {},
   "source": [
    "We see that for every feature, if it had duplicates, we have entries in the list, otherwise, we have empty lists. Let's explore those features with duplicates now:"
   ]
  },
  {
   "cell_type": "code",
   "execution_count": 13,
   "metadata": {},
   "outputs": [
    {
     "name": "stdout",
     "output_type": "stream",
     "text": [
      "42\n"
     ]
    }
   ],
   "source": [
    "# let's explore the number of keys in our dictionary\n",
    "# we see it is 21, because 2 of the 23 were duplicates,\n",
    "# so they were not included as keys\n",
    "\n",
    "print(len(duplicated_feat_pairs.keys()))"
   ]
  },
  {
   "cell_type": "code",
   "execution_count": 14,
   "metadata": {},
   "outputs": [
    {
     "name": "stdout",
     "output_type": "stream",
     "text": [
      "is_ftp_login ['ct_ftp_cmd']\n",
      "\n"
     ]
    }
   ],
   "source": [
    "# print the features with its duplicates\n",
    "# iterate over every feature in our dict:\n",
    "for feat in duplicated_feat_pairs.keys():\n",
    "    # if it has duplicates, the list should not be empty:\n",
    "    if len(duplicated_feat_pairs[feat]) > 0:\n",
    "        # print the feature and its duplicates:\n",
    "        print(feat, duplicated_feat_pairs[feat])\n",
    "        print()"
   ]
  },
  {
   "cell_type": "code",
   "execution_count": 15,
   "metadata": {},
   "outputs": [
    {
     "data": {
      "text/plain": [
       "((140272, 42), (35069, 42))"
      ]
     },
     "execution_count": 15,
     "metadata": {},
     "output_type": "execute_result"
    }
   ],
   "source": [
    "# to remove the duplicates (if necessary)\n",
    "X_train = X_train[duplicated_feat_pairs.keys()]\n",
    "X_test = X_test[duplicated_feat_pairs.keys()]\n",
    "X_train.shape, X_test.shape"
   ]
  },
  {
   "cell_type": "markdown",
   "metadata": {},
   "source": [
    "1 duplicate features were found in the UNSW-NB15 dataset"
   ]
  },
  {
   "cell_type": "markdown",
   "metadata": {},
   "source": [
    "## Standardize Data"
   ]
  },
  {
   "cell_type": "code",
   "execution_count": 16,
   "metadata": {},
   "outputs": [],
   "source": [
    "from sklearn.preprocessing import StandardScaler\n",
    "scaler = StandardScaler().fit(X_train)\n",
    "X_train = scaler.transform(X_train)"
   ]
  },
  {
   "cell_type": "markdown",
   "metadata": {},
   "source": [
    "## Classifiers"
   ]
  },
  {
   "cell_type": "code",
   "execution_count": 17,
   "metadata": {},
   "outputs": [],
   "source": [
    "from sklearn import linear_model\n",
    "from sklearn.naive_bayes import GaussianNB\n",
    "from sklearn.ensemble import RandomForestClassifier\n",
    "from sklearn.neighbors import KNeighborsClassifier\n",
    "from catboost import CatBoostClassifier"
   ]
  },
  {
   "cell_type": "markdown",
   "metadata": {},
   "source": [
    "## Metrics Evaluation"
   ]
  },
  {
   "cell_type": "code",
   "execution_count": 18,
   "metadata": {},
   "outputs": [],
   "source": [
    "from sklearn.metrics import accuracy_score\n",
    "from sklearn.metrics import confusion_matrix\n",
    "from sklearn.metrics import roc_curve, f1_score\n",
    "from sklearn import metrics\n",
    "from sklearn.model_selection import cross_val_score"
   ]
  },
  {
   "cell_type": "markdown",
   "metadata": {},
   "source": [
    "### Logistic Regression"
   ]
  },
  {
   "cell_type": "code",
   "execution_count": 19,
   "metadata": {},
   "outputs": [
    {
     "name": "stdout",
     "output_type": "stream",
     "text": [
      "CPU times: user 96.8 ms, sys: 193 ms, total: 290 ms\n",
      "Wall time: 4.45 s\n"
     ]
    }
   ],
   "source": [
    "%%time\n",
    "clf_LR = linear_model.LogisticRegression(n_jobs=-1, random_state=42, C=25).fit(X_train, y_train)"
   ]
  },
  {
   "cell_type": "code",
   "execution_count": 20,
   "metadata": {},
   "outputs": [
    {
     "name": "stdout",
     "output_type": "stream",
     "text": [
      "Accuracy: 0.33471156862185975\n",
      "F1 Score: 0.04479017400204708\n",
      "FPR: 0.0048906277787657835\n",
      "TPR: 0.02296100407169542\n"
     ]
    }
   ],
   "source": [
    "pred_y_test = clf_LR.predict(X_test)\n",
    "print('Accuracy:', accuracy_score(y_test, pred_y_test))\n",
    "\n",
    "f1 = f1_score(y_test, pred_y_test)\n",
    "print('F1 Score:', f1)\n",
    "\n",
    "fpr, tpr, thresholds = roc_curve(y_test, pred_y_test)\n",
    "print('FPR:', fpr[1])\n",
    "print('TPR:', tpr[1])"
   ]
  },
  {
   "cell_type": "markdown",
   "metadata": {},
   "source": [
    "### Naive Bayes"
   ]
  },
  {
   "cell_type": "code",
   "execution_count": 21,
   "metadata": {},
   "outputs": [
    {
     "name": "stdout",
     "output_type": "stream",
     "text": [
      "CPU times: user 110 ms, sys: 22.7 ms, total: 133 ms\n",
      "Wall time: 131 ms\n"
     ]
    }
   ],
   "source": [
    "%%time\n",
    "clf_NB = GaussianNB(var_smoothing=1e-08).fit(X_train, y_train)"
   ]
  },
  {
   "cell_type": "code",
   "execution_count": 22,
   "metadata": {},
   "outputs": [
    {
     "name": "stdout",
     "output_type": "stream",
     "text": [
      "Accuracy: 0.7423365365422453\n",
      "F1 Score: 0.7751791401273885\n",
      "FPR: 0.07033611950915881\n",
      "TPR: 0.653905889266675\n"
     ]
    }
   ],
   "source": [
    "pred_y_testNB = clf_NB.predict(X_test)\n",
    "print('Accuracy:', accuracy_score(y_test, pred_y_testNB))\n",
    "\n",
    "f1 = f1_score(y_test, pred_y_testNB)\n",
    "print('F1 Score:', f1)\n",
    "\n",
    "fpr, tpr, thresholds = roc_curve(y_test, pred_y_testNB)\n",
    "print('FPR:', fpr[1])\n",
    "print('TPR:', tpr[1])"
   ]
  },
  {
   "cell_type": "markdown",
   "metadata": {},
   "source": [
    "### Random Forest"
   ]
  },
  {
   "cell_type": "code",
   "execution_count": 23,
   "metadata": {},
   "outputs": [
    {
     "name": "stdout",
     "output_type": "stream",
     "text": [
      "CPU times: user 1min 33s, sys: 698 ms, total: 1min 34s\n",
      "Wall time: 1min 34s\n"
     ]
    }
   ],
   "source": [
    "%%time\n",
    "clf_RF = RandomForestClassifier(random_state=0,max_depth=100,n_estimators=1000).fit(X_train, y_train)"
   ]
  },
  {
   "cell_type": "code",
   "execution_count": 24,
   "metadata": {},
   "outputs": [
    {
     "name": "stdout",
     "output_type": "stream",
     "text": [
      "Accuracy: 0.6793179161082438\n",
      "F1 Score: 0.5495955550990522\n",
      "FPR: 1.0\n",
      "TPR: 1.0\n"
     ]
    }
   ],
   "source": [
    "pred_y_testRF = clf_RF.predict(X_test)\n",
    "print('Accuracy:', accuracy_score(y_test, pred_y_testRF))\n",
    "\n",
    "f1 = f1_score(y_test, pred_y_testRF, average='weighted', zero_division=0)\n",
    "print('F1 Score:', f1)\n",
    "\n",
    "fpr, tpr, thresholds = roc_curve(y_test, pred_y_testRF)\n",
    "print('FPR:', fpr[1])\n",
    "print('TPR:', tpr[1])"
   ]
  },
  {
   "cell_type": "markdown",
   "metadata": {},
   "source": [
    "### KNN"
   ]
  },
  {
   "cell_type": "code",
   "execution_count": 25,
   "metadata": {},
   "outputs": [
    {
     "name": "stdout",
     "output_type": "stream",
     "text": [
      "CPU times: user 23.7 s, sys: 191 ms, total: 23.9 s\n",
      "Wall time: 23.8 s\n"
     ]
    }
   ],
   "source": [
    "%%time\n",
    "clf_KNN = KNeighborsClassifier(algorithm='ball_tree',leaf_size=1,n_neighbors=5,weights='uniform').fit(X_train, y_train)"
   ]
  },
  {
   "cell_type": "code",
   "execution_count": 26,
   "metadata": {},
   "outputs": [
    {
     "name": "stdout",
     "output_type": "stream",
     "text": [
      "accuracy_score: 0.6842510479340729\n",
      "f1: 0.7391703766518267\n",
      "fpr: 0.26142628490129827\n",
      "tpr: 0.6586072283087773\n"
     ]
    }
   ],
   "source": [
    "pred_y_testKNN = clf_KNN.predict(X_test)\n",
    "print('accuracy_score:', accuracy_score(y_test, pred_y_testKNN))\n",
    "\n",
    "f1 = f1_score(y_test, pred_y_testKNN)\n",
    "print('f1:', f1)\n",
    "\n",
    "fpr, tpr, thresholds = roc_curve(y_test, pred_y_testKNN)\n",
    "print('fpr:', fpr[1])\n",
    "print('tpr:', tpr[1])"
   ]
  },
  {
   "cell_type": "markdown",
   "metadata": {},
   "source": [
    "### CatBoost"
   ]
  },
  {
   "cell_type": "code",
   "execution_count": 27,
   "metadata": {},
   "outputs": [
    {
     "name": "stdout",
     "output_type": "stream",
     "text": [
      "0:\tlearn: 0.5217342\ttotal: 77.2ms\tremaining: 3.78s\n",
      "1:\tlearn: 0.3893232\ttotal: 99.2ms\tremaining: 2.38s\n",
      "2:\tlearn: 0.2867859\ttotal: 122ms\tremaining: 1.91s\n",
      "3:\tlearn: 0.2108494\ttotal: 145ms\tremaining: 1.66s\n",
      "4:\tlearn: 0.1560807\ttotal: 166ms\tremaining: 1.5s\n",
      "5:\tlearn: 0.1117287\ttotal: 182ms\tremaining: 1.33s\n",
      "6:\tlearn: 0.0822786\ttotal: 203ms\tremaining: 1.25s\n",
      "7:\tlearn: 0.0617629\ttotal: 223ms\tremaining: 1.17s\n",
      "8:\tlearn: 0.0484606\ttotal: 244ms\tremaining: 1.11s\n",
      "9:\tlearn: 0.0374214\ttotal: 265ms\tremaining: 1.06s\n",
      "10:\tlearn: 0.0289180\ttotal: 288ms\tremaining: 1.02s\n",
      "11:\tlearn: 0.0227302\ttotal: 311ms\tremaining: 985ms\n",
      "12:\tlearn: 0.0179617\ttotal: 332ms\tremaining: 946ms\n",
      "13:\tlearn: 0.0143036\ttotal: 354ms\tremaining: 911ms\n",
      "14:\tlearn: 0.0115591\ttotal: 374ms\tremaining: 874ms\n",
      "15:\tlearn: 0.0094435\ttotal: 394ms\tremaining: 838ms\n",
      "16:\tlearn: 0.0076586\ttotal: 415ms\tremaining: 805ms\n",
      "17:\tlearn: 0.0063433\ttotal: 436ms\tremaining: 774ms\n",
      "18:\tlearn: 0.0052707\ttotal: 456ms\tremaining: 744ms\n",
      "19:\tlearn: 0.0044306\ttotal: 475ms\tremaining: 713ms\n",
      "20:\tlearn: 0.0038387\ttotal: 495ms\tremaining: 684ms\n",
      "21:\tlearn: 0.0032474\ttotal: 517ms\tremaining: 658ms\n",
      "22:\tlearn: 0.0027719\ttotal: 537ms\tremaining: 630ms\n",
      "23:\tlearn: 0.0023972\ttotal: 557ms\tremaining: 603ms\n",
      "24:\tlearn: 0.0020797\ttotal: 577ms\tremaining: 577ms\n",
      "25:\tlearn: 0.0018078\ttotal: 598ms\tremaining: 552ms\n",
      "26:\tlearn: 0.0015955\ttotal: 616ms\tremaining: 525ms\n",
      "27:\tlearn: 0.0014210\ttotal: 636ms\tremaining: 500ms\n",
      "28:\tlearn: 0.0012725\ttotal: 655ms\tremaining: 474ms\n",
      "29:\tlearn: 0.0011287\ttotal: 674ms\tremaining: 450ms\n",
      "30:\tlearn: 0.0010185\ttotal: 693ms\tremaining: 425ms\n",
      "31:\tlearn: 0.0009396\ttotal: 714ms\tremaining: 401ms\n",
      "32:\tlearn: 0.0008528\ttotal: 734ms\tremaining: 378ms\n",
      "33:\tlearn: 0.0007846\ttotal: 755ms\tremaining: 355ms\n",
      "34:\tlearn: 0.0007226\ttotal: 775ms\tremaining: 332ms\n",
      "35:\tlearn: 0.0006685\ttotal: 794ms\tremaining: 309ms\n",
      "36:\tlearn: 0.0006215\ttotal: 812ms\tremaining: 285ms\n",
      "37:\tlearn: 0.0005816\ttotal: 831ms\tremaining: 262ms\n",
      "38:\tlearn: 0.0005467\ttotal: 848ms\tremaining: 239ms\n",
      "39:\tlearn: 0.0005117\ttotal: 867ms\tremaining: 217ms\n",
      "40:\tlearn: 0.0004818\ttotal: 884ms\tremaining: 194ms\n",
      "41:\tlearn: 0.0004553\ttotal: 902ms\tremaining: 172ms\n",
      "42:\tlearn: 0.0004319\ttotal: 921ms\tremaining: 150ms\n",
      "43:\tlearn: 0.0004105\ttotal: 943ms\tremaining: 129ms\n",
      "44:\tlearn: 0.0003914\ttotal: 962ms\tremaining: 107ms\n",
      "45:\tlearn: 0.0003728\ttotal: 980ms\tremaining: 85.3ms\n",
      "46:\tlearn: 0.0003538\ttotal: 998ms\tremaining: 63.7ms\n",
      "47:\tlearn: 0.0003384\ttotal: 1.01s\tremaining: 42.3ms\n",
      "48:\tlearn: 0.0003219\ttotal: 1.03s\tremaining: 21.1ms\n",
      "49:\tlearn: 0.0003130\ttotal: 1.05s\tremaining: 0us\n",
      "CPU times: user 7.95 s, sys: 1.63 s, total: 9.58 s\n",
      "Wall time: 1.14 s\n"
     ]
    }
   ],
   "source": [
    "%%time\n",
    "clf_CB = CatBoostClassifier(depth=7,iterations=50,learning_rate=0.04).fit(X_train, y_train)"
   ]
  },
  {
   "cell_type": "code",
   "execution_count": 28,
   "metadata": {},
   "outputs": [
    {
     "name": "stdout",
     "output_type": "stream",
     "text": [
      "Accuracy: 0.6793179161082438\n",
      "F1 Score: 0.5495955550990522\n",
      "FPR: 1.0\n",
      "TPR: 1.0\n"
     ]
    }
   ],
   "source": [
    "pred_y_testCB = clf_CB.predict(X_test)\n",
    "print('Accuracy:', accuracy_score(y_test, pred_y_testCB))\n",
    "\n",
    "f1 = f1_score(y_test, pred_y_testCB, average='weighted', zero_division=0)\n",
    "print('F1 Score:', f1)\n",
    "\n",
    "fpr, tpr, thresholds = roc_curve(y_test, pred_y_testCB)\n",
    "print('FPR:', fpr[1])\n",
    "print('TPR:', tpr[1])"
   ]
  },
  {
   "cell_type": "markdown",
   "metadata": {},
   "source": [
    "## Model Evaluation"
   ]
  },
  {
   "cell_type": "code",
   "execution_count": 29,
   "metadata": {},
   "outputs": [
    {
     "data": {
      "text/plain": [
       "(175341, 44)"
      ]
     },
     "execution_count": 29,
     "metadata": {},
     "output_type": "execute_result"
    }
   ],
   "source": [
    "import pandas as pd, numpy as np\n",
    "test_df = pd.read_csv(\"../UNSW_Test.csv\")\n",
    "test_df.shape"
   ]
  },
  {
   "cell_type": "code",
   "execution_count": 30,
   "metadata": {},
   "outputs": [],
   "source": [
    "# Create feature matrix X and target vextor y\n",
    "y_eval = test_df['is_intrusion']\n",
    "X_eval = test_df.drop(columns=['is_intrusion','ct_ftp_cmd'])"
   ]
  },
  {
   "cell_type": "markdown",
   "metadata": {},
   "source": [
    "### Model Evaluation - Logistic Regression"
   ]
  },
  {
   "cell_type": "code",
   "execution_count": 31,
   "metadata": {},
   "outputs": [
    {
     "data": {
      "text/plain": [
       "LogisticRegression(C=25, n_jobs=-1, random_state=42)"
      ]
     },
     "execution_count": 31,
     "metadata": {},
     "output_type": "execute_result"
    }
   ],
   "source": [
    "modelLR = linear_model.LogisticRegression(n_jobs=-1, random_state=42, C=25)\n",
    "modelLR.fit(X_train, y_train)"
   ]
  },
  {
   "cell_type": "code",
   "execution_count": 32,
   "metadata": {},
   "outputs": [],
   "source": [
    "# Predict on the new unseen test data\n",
    "y_evalpredLR = modelLR.predict(X_eval)\n",
    "y_predLR = modelLR.predict(X_test)"
   ]
  },
  {
   "cell_type": "code",
   "execution_count": 33,
   "metadata": {},
   "outputs": [
    {
     "name": "stdout",
     "output_type": "stream",
     "text": [
      "Training accuracy is  1.0\n",
      "Testing accuracy is  0.33471156862185975\n"
     ]
    }
   ],
   "source": [
    "train_scoreLR = modelLR.score(X_train, y_train)\n",
    "test_scoreLR = modelLR.score(X_test, y_test)\n",
    "print(\"Training accuracy is \", train_scoreLR)\n",
    "print(\"Testing accuracy is \", test_scoreLR)"
   ]
  },
  {
   "cell_type": "code",
   "execution_count": 34,
   "metadata": {},
   "outputs": [
    {
     "name": "stdout",
     "output_type": "stream",
     "text": [
      "Performance measures for test:\n",
      "--------\n",
      "Accuracy: 0.33471156862185975\n",
      "F1 Score: 0.04479017400204708\n",
      "Precision Score: 0.9086378737541528\n",
      "Recall Score: 0.02296100407169542\n",
      "Confusion Matrix:\n",
      " [[11191    55]\n",
      " [23276   547]]\n"
     ]
    }
   ],
   "source": [
    "from sklearn.metrics import confusion_matrix, precision_score, recall_score, f1_score\n",
    "print('Performance measures for test:')\n",
    "print('--------')\n",
    "print('Accuracy:', test_scoreLR)\n",
    "print('F1 Score:',f1_score(y_test, y_predLR))\n",
    "print('Precision Score:',precision_score(y_test, y_predLR))\n",
    "print('Recall Score:', recall_score(y_test, y_predLR))\n",
    "print('Confusion Matrix:\\n', confusion_matrix(y_test, y_predLR))"
   ]
  },
  {
   "cell_type": "markdown",
   "metadata": {},
   "source": [
    "### Cross validation - Logistic Regression\n",
    "\n"
   ]
  },
  {
   "cell_type": "code",
   "execution_count": 35,
   "metadata": {},
   "outputs": [
    {
     "name": "stderr",
     "output_type": "stream",
     "text": [
      "/opt/anaconda3/lib/python3.8/site-packages/joblib/externals/loky/process_executor.py:688: UserWarning: A worker stopped while some jobs were given to the executor. This can be caused by a too short worker timeout or by a memory leak.\n",
      "  warnings.warn(\n"
     ]
    },
    {
     "name": "stdout",
     "output_type": "stream",
     "text": [
      "Accuracy: 0.84997 (+/- 0.14701)\n",
      "F1 Score: 0.90011 (+/- 0.08196)\n",
      "Precision: 0.84748 (+/- 0.15547)\n",
      "Recall: 0.96586 (+/- 0.03799)\n"
     ]
    }
   ],
   "source": [
    "from sklearn.model_selection import cross_val_score\n",
    "from sklearn import metrics\n",
    "\n",
    "accuracy = cross_val_score(modelLR, X_eval, y_eval, cv=10, scoring='accuracy')\n",
    "print(\"Accuracy: %0.5f (+/- %0.5f)\" % (accuracy.mean(), accuracy.std() * 2))\n",
    "\n",
    "f = cross_val_score(modelLR, X_eval, y_eval, cv=10, scoring='f1')\n",
    "print(\"F1 Score: %0.5f (+/- %0.5f)\" % (f.mean(), f.std() * 2))\n",
    "\n",
    "precision = cross_val_score(modelLR, X_eval, y_eval, cv=10, scoring='precision')\n",
    "print(\"Precision: %0.5f (+/- %0.5f)\" % (precision.mean(), precision.std() * 2))\n",
    "\n",
    "recall = cross_val_score(modelLR, X_eval, y_eval, cv=10, scoring='recall')\n",
    "print(\"Recall: %0.5f (+/- %0.5f)\" % (recall.mean(), recall.std() * 2))"
   ]
  },
  {
   "cell_type": "markdown",
   "metadata": {},
   "source": [
    "### Model Evaluation - Naive Bayes\n",
    "\n"
   ]
  },
  {
   "cell_type": "code",
   "execution_count": 36,
   "metadata": {},
   "outputs": [
    {
     "data": {
      "text/plain": [
       "GaussianNB(var_smoothing=1e-08)"
      ]
     },
     "execution_count": 36,
     "metadata": {},
     "output_type": "execute_result"
    }
   ],
   "source": [
    "modelNB = GaussianNB(var_smoothing=1e-08)\n",
    "modelNB.fit(X_train, y_train)"
   ]
  },
  {
   "cell_type": "code",
   "execution_count": 37,
   "metadata": {},
   "outputs": [],
   "source": [
    "# Predict on the new unseen test data\n",
    "y_evalpredNB = modelNB.predict(X_eval)\n",
    "y_predNB = modelNB.predict(X_test)"
   ]
  },
  {
   "cell_type": "code",
   "execution_count": 38,
   "metadata": {},
   "outputs": [
    {
     "name": "stdout",
     "output_type": "stream",
     "text": [
      "Training accuracy is  1.0\n",
      "Testing accuracy is  0.7423365365422453\n"
     ]
    }
   ],
   "source": [
    "train_scoreNB = modelNB.score(X_train, y_train)\n",
    "test_scoreNB = modelNB.score(X_test, y_test)\n",
    "print(\"Training accuracy is \", train_scoreNB)\n",
    "print(\"Testing accuracy is \", test_scoreNB)"
   ]
  },
  {
   "cell_type": "code",
   "execution_count": 39,
   "metadata": {},
   "outputs": [
    {
     "name": "stdout",
     "output_type": "stream",
     "text": [
      "Performance measures for test:\n",
      "--------\n",
      "Accuracy: 0.7423365365422453\n",
      "F1 Score: 0.7751791401273885\n",
      "Precision Score: 0.9516769503329464\n",
      "Recall Score: 0.653905889266675\n",
      "Confusion Matrix:\n",
      " [[10455   791]\n",
      " [ 8245 15578]]\n"
     ]
    }
   ],
   "source": [
    "from sklearn.metrics import confusion_matrix, precision_score, recall_score, f1_score\n",
    "print('Performance measures for test:')\n",
    "print('--------')\n",
    "print('Accuracy:', test_scoreNB)\n",
    "print('F1 Score:',f1_score(y_test, y_predNB))\n",
    "print('Precision Score:',precision_score(y_test, y_predNB))\n",
    "print('Recall Score:', recall_score(y_test, y_predNB))\n",
    "print('Confusion Matrix:\\n', confusion_matrix(y_test, y_predNB))"
   ]
  },
  {
   "cell_type": "markdown",
   "metadata": {},
   "source": [
    "### Cross validation - Naive Bayes\n"
   ]
  },
  {
   "cell_type": "code",
   "execution_count": 40,
   "metadata": {},
   "outputs": [
    {
     "name": "stdout",
     "output_type": "stream",
     "text": [
      "Accuracy: 0.81069 (+/- 0.14598)\n",
      "F1 Score: 0.87452 (+/- 0.07697)\n",
      "Precision: 0.81743 (+/- 0.15330)\n",
      "Recall: 0.94776 (+/- 0.06318)\n"
     ]
    }
   ],
   "source": [
    "from sklearn.model_selection import cross_val_score\n",
    "from sklearn import metrics\n",
    "\n",
    "accuracy = cross_val_score(modelNB, X_eval, y_eval, cv=10, scoring='accuracy')\n",
    "print(\"Accuracy: %0.5f (+/- %0.5f)\" % (accuracy.mean(), accuracy.std() * 2))\n",
    "\n",
    "f = cross_val_score(modelNB, X_eval, y_eval, cv=10, scoring='f1')\n",
    "print(\"F1 Score: %0.5f (+/- %0.5f)\" % (f.mean(), f.std() * 2))\n",
    "\n",
    "precision = cross_val_score(modelNB, X_eval, y_eval, cv=10, scoring='precision')\n",
    "print(\"Precision: %0.5f (+/- %0.5f)\" % (precision.mean(), precision.std() * 2))\n",
    "\n",
    "recall = cross_val_score(modelNB, X_eval, y_eval, cv=10, scoring='recall')\n",
    "print(\"Recall: %0.5f (+/- %0.5f)\" % (recall.mean(), recall.std() * 2))"
   ]
  },
  {
   "cell_type": "markdown",
   "metadata": {},
   "source": [
    "### Model Evaluation - Random Forest\n",
    "\n"
   ]
  },
  {
   "cell_type": "code",
   "execution_count": 41,
   "metadata": {},
   "outputs": [
    {
     "data": {
      "text/plain": [
       "RandomForestClassifier(max_depth=100, n_estimators=1000, random_state=0)"
      ]
     },
     "execution_count": 41,
     "metadata": {},
     "output_type": "execute_result"
    }
   ],
   "source": [
    "modelRF = RandomForestClassifier(random_state=0,max_depth=100,n_estimators=1000)\n",
    "modelRF.fit(X_train, y_train)"
   ]
  },
  {
   "cell_type": "code",
   "execution_count": 42,
   "metadata": {},
   "outputs": [],
   "source": [
    "# Predict on the new unseen test data\n",
    "y_evalpredRF = modelRF.predict(X_eval)\n",
    "y_predRF = modelRF.predict(X_test)"
   ]
  },
  {
   "cell_type": "code",
   "execution_count": 43,
   "metadata": {},
   "outputs": [
    {
     "name": "stdout",
     "output_type": "stream",
     "text": [
      "Training accuracy is  1.0\n",
      "Testing accuracy is  0.6793179161082438\n"
     ]
    }
   ],
   "source": [
    "train_scoreRF = modelRF.score(X_train, y_train)\n",
    "test_scoreRF = modelRF.score(X_test, y_test)\n",
    "print(\"Training accuracy is \", train_scoreRF)\n",
    "print(\"Testing accuracy is \", test_scoreRF)"
   ]
  },
  {
   "cell_type": "code",
   "execution_count": 44,
   "metadata": {},
   "outputs": [
    {
     "name": "stdout",
     "output_type": "stream",
     "text": [
      "Performance measures for test:\n",
      "--------\n",
      "Accuracy: 0.6793179161082438\n",
      "F1 Score: 0.5495955550990522\n",
      "Precision Score: 0.4614728311456469\n",
      "Recall Score: 0.6793179161082438\n",
      "Confusion Matrix:\n",
      " [[    0 11246]\n",
      " [    0 23823]]\n"
     ]
    }
   ],
   "source": [
    "from sklearn.metrics import confusion_matrix, precision_score, recall_score, f1_score\n",
    "print('Performance measures for test:')\n",
    "print('--------')\n",
    "print('Accuracy:', test_scoreRF)\n",
    "print('F1 Score:', f1_score(y_test, y_predRF, average='weighted', zero_division=0))\n",
    "print('Precision Score:', precision_score(y_test, y_predRF, average='weighted', zero_division=0))\n",
    "print('Recall Score:', recall_score(y_test, y_predRF, average='weighted', zero_division=0))\n",
    "print('Confusion Matrix:\\n', confusion_matrix(y_test, y_predRF))"
   ]
  },
  {
   "cell_type": "markdown",
   "metadata": {},
   "source": [
    "### Cross validation - Random Forest\n"
   ]
  },
  {
   "cell_type": "code",
   "execution_count": 45,
   "metadata": {},
   "outputs": [
    {
     "name": "stdout",
     "output_type": "stream",
     "text": [
      "Accuracy: 1.00000 (+/- 0.00000)\n",
      "F1 Score: 1.00000 (+/- 0.00000)\n",
      "Precision: 1.00000 (+/- 0.00000)\n",
      "Recall: 1.00000 (+/- 0.00000)\n"
     ]
    }
   ],
   "source": [
    "from sklearn.model_selection import cross_val_score\n",
    "from sklearn import metrics\n",
    "\n",
    "accuracy = cross_val_score(modelRF, X_eval, y_eval, cv=5, scoring='accuracy')\n",
    "print(\"Accuracy: %0.5f (+/- %0.5f)\" % (accuracy.mean(), accuracy.std() * 2))\n",
    "\n",
    "f = cross_val_score(modelRF, X_eval, y_eval, cv=5, scoring='f1')\n",
    "print(\"F1 Score: %0.5f (+/- %0.5f)\" % (f.mean(), f.std() * 2))\n",
    "\n",
    "precision = cross_val_score(modelRF, X_eval, y_eval, cv=5, scoring='precision')\n",
    "print(\"Precision: %0.5f (+/- %0.5f)\" % (precision.mean(), precision.std() * 2))\n",
    "\n",
    "recall = cross_val_score(modelRF, X_eval, y_eval, cv=5, scoring='recall')\n",
    "print(\"Recall: %0.5f (+/- %0.5f)\" % (recall.mean(), recall.std() * 2))"
   ]
  },
  {
   "cell_type": "markdown",
   "metadata": {},
   "source": [
    "### Model Evaluation - KNN"
   ]
  },
  {
   "cell_type": "code",
   "execution_count": 46,
   "metadata": {},
   "outputs": [
    {
     "data": {
      "text/plain": [
       "KNeighborsClassifier(algorithm='ball_tree', leaf_size=1)"
      ]
     },
     "execution_count": 46,
     "metadata": {},
     "output_type": "execute_result"
    }
   ],
   "source": [
    "modelKNN = KNeighborsClassifier(algorithm='ball_tree',leaf_size=1,n_neighbors=5,weights='uniform')\n",
    "modelKNN.fit(X_train, y_train)"
   ]
  },
  {
   "cell_type": "code",
   "execution_count": 47,
   "metadata": {},
   "outputs": [],
   "source": [
    "# Predict on the new unseen test data\n",
    "y_evalpredKNN = modelKNN.predict(X_eval)\n",
    "y_predKNN = modelKNN.predict(X_test)"
   ]
  },
  {
   "cell_type": "code",
   "execution_count": 48,
   "metadata": {},
   "outputs": [
    {
     "name": "stdout",
     "output_type": "stream",
     "text": [
      "Training accuracy is  0.9993441314018479\n",
      "Testing accuracy is  0.6842510479340729\n"
     ]
    }
   ],
   "source": [
    "train_scoreKNN = modelKNN.score(X_train, y_train)\n",
    "test_scoreKNN = modelKNN.score(X_test, y_test)\n",
    "print(\"Training accuracy is \", train_scoreKNN)\n",
    "print(\"Testing accuracy is \", test_scoreKNN)"
   ]
  },
  {
   "cell_type": "code",
   "execution_count": 49,
   "metadata": {},
   "outputs": [
    {
     "name": "stdout",
     "output_type": "stream",
     "text": [
      "Performance measures for test:\n",
      "--------\n",
      "Accuracy: 0.6842510479340729\n",
      "F1 Score: 0.7391703766518267\n",
      "Precision Score: 0.8421900161030595\n",
      "Recall Score: 0.6586072283087773\n",
      "Confusion Matrix:\n",
      " [[ 8306  2940]\n",
      " [ 8133 15690]]\n"
     ]
    }
   ],
   "source": [
    "from sklearn.metrics import confusion_matrix, precision_score, recall_score, f1_score\n",
    "print('Performance measures for test:')\n",
    "print('--------')\n",
    "print('Accuracy:', test_scoreKNN)\n",
    "print('F1 Score:', f1_score(y_test, y_predKNN))\n",
    "print('Precision Score:', precision_score(y_test, y_predKNN))\n",
    "print('Recall Score:', recall_score(y_test, y_predKNN))\n",
    "print('Confusion Matrix:\\n', confusion_matrix(y_test, y_predKNN))"
   ]
  },
  {
   "cell_type": "markdown",
   "metadata": {},
   "source": [
    "### Cross validation - KNN\n",
    "\n"
   ]
  },
  {
   "cell_type": "code",
   "execution_count": 50,
   "metadata": {},
   "outputs": [
    {
     "name": "stdout",
     "output_type": "stream",
     "text": [
      "Accuracy: 0.87901 (+/- 0.13180)\n",
      "F1 Score: 0.91584 (+/- 0.07682)\n",
      "Precision: 0.90359 (+/- 0.17653)\n",
      "Recall: 0.93684 (+/- 0.07517)\n"
     ]
    }
   ],
   "source": [
    "from sklearn.model_selection import cross_val_score\n",
    "from sklearn import metrics\n",
    "\n",
    "accuracy = cross_val_score(modelKNN, X_eval, y_eval, cv=10, scoring='accuracy')\n",
    "print(\"Accuracy: %0.5f (+/- %0.5f)\" % (accuracy.mean(), accuracy.std() * 2))\n",
    "\n",
    "f = cross_val_score(modelKNN, X_eval, y_eval, cv=10, scoring='f1')\n",
    "print(\"F1 Score: %0.5f (+/- %0.5f)\" % (f.mean(), f.std() * 2))\n",
    "\n",
    "precision = cross_val_score(modelKNN, X_eval, y_eval, cv=10, scoring='precision')\n",
    "print(\"Precision: %0.5f (+/- %0.5f)\" % (precision.mean(), precision.std() * 2))\n",
    "\n",
    "recall = cross_val_score(modelKNN, X_eval, y_eval, cv=10, scoring='recall')\n",
    "print(\"Recall: %0.5f (+/- %0.5f)\" % (recall.mean(), recall.std() * 2))"
   ]
  },
  {
   "cell_type": "markdown",
   "metadata": {},
   "source": [
    "### Model Evaluation - CatBoost"
   ]
  },
  {
   "cell_type": "code",
   "execution_count": 51,
   "metadata": {},
   "outputs": [
    {
     "name": "stdout",
     "output_type": "stream",
     "text": [
      "0:\tlearn: 0.5217342\ttotal: 20.7ms\tremaining: 1.01s\n",
      "1:\tlearn: 0.3893232\ttotal: 42.3ms\tremaining: 1.01s\n",
      "2:\tlearn: 0.2867859\ttotal: 62.8ms\tremaining: 984ms\n",
      "3:\tlearn: 0.2108494\ttotal: 83.3ms\tremaining: 958ms\n",
      "4:\tlearn: 0.1560807\ttotal: 104ms\tremaining: 937ms\n",
      "5:\tlearn: 0.1117287\ttotal: 120ms\tremaining: 881ms\n",
      "6:\tlearn: 0.0822786\ttotal: 140ms\tremaining: 863ms\n",
      "7:\tlearn: 0.0617629\ttotal: 162ms\tremaining: 849ms\n",
      "8:\tlearn: 0.0484606\ttotal: 183ms\tremaining: 833ms\n",
      "9:\tlearn: 0.0374214\ttotal: 204ms\tremaining: 815ms\n",
      "10:\tlearn: 0.0289180\ttotal: 225ms\tremaining: 799ms\n",
      "11:\tlearn: 0.0227302\ttotal: 246ms\tremaining: 780ms\n",
      "12:\tlearn: 0.0179617\ttotal: 266ms\tremaining: 757ms\n",
      "13:\tlearn: 0.0143036\ttotal: 286ms\tremaining: 736ms\n",
      "14:\tlearn: 0.0115591\ttotal: 307ms\tremaining: 716ms\n",
      "15:\tlearn: 0.0094435\ttotal: 326ms\tremaining: 693ms\n",
      "16:\tlearn: 0.0076586\ttotal: 347ms\tremaining: 675ms\n",
      "17:\tlearn: 0.0063433\ttotal: 368ms\tremaining: 655ms\n",
      "18:\tlearn: 0.0052707\ttotal: 389ms\tremaining: 635ms\n",
      "19:\tlearn: 0.0044306\ttotal: 409ms\tremaining: 614ms\n",
      "20:\tlearn: 0.0038387\ttotal: 430ms\tremaining: 593ms\n",
      "21:\tlearn: 0.0032474\ttotal: 450ms\tremaining: 573ms\n",
      "22:\tlearn: 0.0027719\ttotal: 470ms\tremaining: 551ms\n",
      "23:\tlearn: 0.0023972\ttotal: 489ms\tremaining: 530ms\n",
      "24:\tlearn: 0.0020797\ttotal: 508ms\tremaining: 508ms\n",
      "25:\tlearn: 0.0018078\ttotal: 528ms\tremaining: 487ms\n",
      "26:\tlearn: 0.0015955\ttotal: 546ms\tremaining: 465ms\n",
      "27:\tlearn: 0.0014210\ttotal: 565ms\tremaining: 444ms\n",
      "28:\tlearn: 0.0012725\ttotal: 584ms\tremaining: 423ms\n",
      "29:\tlearn: 0.0011287\ttotal: 603ms\tremaining: 402ms\n",
      "30:\tlearn: 0.0010185\ttotal: 622ms\tremaining: 381ms\n",
      "31:\tlearn: 0.0009396\ttotal: 640ms\tremaining: 360ms\n",
      "32:\tlearn: 0.0008528\ttotal: 660ms\tremaining: 340ms\n",
      "33:\tlearn: 0.0007846\ttotal: 679ms\tremaining: 319ms\n",
      "34:\tlearn: 0.0007226\ttotal: 697ms\tremaining: 299ms\n",
      "35:\tlearn: 0.0006685\ttotal: 716ms\tremaining: 278ms\n",
      "36:\tlearn: 0.0006215\ttotal: 734ms\tremaining: 258ms\n",
      "37:\tlearn: 0.0005816\ttotal: 752ms\tremaining: 238ms\n",
      "38:\tlearn: 0.0005467\ttotal: 771ms\tremaining: 217ms\n",
      "39:\tlearn: 0.0005117\ttotal: 789ms\tremaining: 197ms\n",
      "40:\tlearn: 0.0004818\ttotal: 806ms\tremaining: 177ms\n",
      "41:\tlearn: 0.0004553\ttotal: 824ms\tremaining: 157ms\n",
      "42:\tlearn: 0.0004319\ttotal: 842ms\tremaining: 137ms\n",
      "43:\tlearn: 0.0004105\ttotal: 861ms\tremaining: 117ms\n",
      "44:\tlearn: 0.0003914\ttotal: 880ms\tremaining: 97.8ms\n",
      "45:\tlearn: 0.0003728\ttotal: 897ms\tremaining: 78ms\n",
      "46:\tlearn: 0.0003538\ttotal: 913ms\tremaining: 58.3ms\n",
      "47:\tlearn: 0.0003384\ttotal: 930ms\tremaining: 38.7ms\n",
      "48:\tlearn: 0.0003219\ttotal: 948ms\tremaining: 19.3ms\n",
      "49:\tlearn: 0.0003130\ttotal: 966ms\tremaining: 0us\n"
     ]
    },
    {
     "data": {
      "text/plain": [
       "<catboost.core.CatBoostClassifier at 0x7fe6b8a02f40>"
      ]
     },
     "execution_count": 51,
     "metadata": {},
     "output_type": "execute_result"
    }
   ],
   "source": [
    "modelCB = CatBoostClassifier(depth=7,iterations=50,learning_rate=0.04)\n",
    "modelCB.fit(X_train, y_train)"
   ]
  },
  {
   "cell_type": "code",
   "execution_count": 52,
   "metadata": {},
   "outputs": [],
   "source": [
    "# Predict on the new unseen test data\n",
    "y_evalpredCB = modelCB.predict(X_eval)\n",
    "y_predCB = modelCB.predict(X_test)"
   ]
  },
  {
   "cell_type": "code",
   "execution_count": 53,
   "metadata": {},
   "outputs": [
    {
     "name": "stdout",
     "output_type": "stream",
     "text": [
      "Training accuracy is  1.0\n",
      "Testing accuracy is  0.6793179161082438\n"
     ]
    }
   ],
   "source": [
    "train_scoreCB = modelCB.score(X_train, y_train)\n",
    "test_scoreCB = modelCB.score(X_test, y_test)\n",
    "print(\"Training accuracy is \", train_scoreCB)\n",
    "print(\"Testing accuracy is \", test_scoreCB)"
   ]
  },
  {
   "cell_type": "code",
   "execution_count": 54,
   "metadata": {},
   "outputs": [
    {
     "name": "stdout",
     "output_type": "stream",
     "text": [
      "Performance measures for test:\n",
      "--------\n",
      "Accuracy: 0.6793179161082438\n",
      "F1 Score: 0.5495955550990522\n",
      "Precision Score: 0.4614728311456469\n",
      "Recall Score: 0.6793179161082438\n",
      "Confusion Matrix:\n",
      " [[    0 11246]\n",
      " [    0 23823]]\n"
     ]
    }
   ],
   "source": [
    "from sklearn.metrics import confusion_matrix, precision_score, recall_score, f1_score\n",
    "print('Performance measures for test:')\n",
    "print('--------')\n",
    "print('Accuracy:', test_scoreCB)\n",
    "print('F1 Score:',f1_score(y_test, y_predCB, average='weighted', zero_division=0))\n",
    "print('Precision Score:',precision_score(y_test, y_predCB, average='weighted', zero_division=0))\n",
    "print('Recall Score:', recall_score(y_test, y_predCB, average='weighted', zero_division=0))\n",
    "print('Confusion Matrix:\\n', confusion_matrix(y_test, y_predCB))"
   ]
  },
  {
   "cell_type": "markdown",
   "metadata": {},
   "source": [
    "### Cross validation - CatBoost"
   ]
  },
  {
   "cell_type": "code",
   "execution_count": 55,
   "metadata": {},
   "outputs": [
    {
     "name": "stdout",
     "output_type": "stream",
     "text": [
      "0:\tlearn: 0.5217568\ttotal: 20.7ms\tremaining: 1.01s\n",
      "1:\tlearn: 0.3892948\ttotal: 42.6ms\tremaining: 1.02s\n",
      "2:\tlearn: 0.2909019\ttotal: 63.8ms\tremaining: 999ms\n",
      "3:\tlearn: 0.2137098\ttotal: 85ms\tremaining: 977ms\n",
      "4:\tlearn: 0.1581339\ttotal: 106ms\tremaining: 957ms\n",
      "5:\tlearn: 0.1131897\ttotal: 122ms\tremaining: 895ms\n",
      "6:\tlearn: 0.0839631\ttotal: 142ms\tremaining: 874ms\n",
      "7:\tlearn: 0.0631400\ttotal: 163ms\tremaining: 857ms\n",
      "8:\tlearn: 0.0484262\ttotal: 184ms\tremaining: 840ms\n",
      "9:\tlearn: 0.0375332\ttotal: 202ms\tremaining: 810ms\n",
      "10:\tlearn: 0.0293757\ttotal: 224ms\tremaining: 793ms\n",
      "11:\tlearn: 0.0232955\ttotal: 245ms\tremaining: 777ms\n",
      "12:\tlearn: 0.0182611\ttotal: 266ms\tremaining: 756ms\n",
      "13:\tlearn: 0.0143901\ttotal: 288ms\tremaining: 740ms\n",
      "14:\tlearn: 0.0115975\ttotal: 309ms\tremaining: 720ms\n",
      "15:\tlearn: 0.0094226\ttotal: 331ms\tremaining: 703ms\n",
      "16:\tlearn: 0.0075173\ttotal: 347ms\tremaining: 673ms\n",
      "17:\tlearn: 0.0062402\ttotal: 367ms\tremaining: 653ms\n",
      "18:\tlearn: 0.0051324\ttotal: 388ms\tremaining: 634ms\n",
      "19:\tlearn: 0.0044304\ttotal: 408ms\tremaining: 612ms\n",
      "20:\tlearn: 0.0037097\ttotal: 428ms\tremaining: 592ms\n",
      "21:\tlearn: 0.0031411\ttotal: 449ms\tremaining: 572ms\n",
      "22:\tlearn: 0.0026845\ttotal: 471ms\tremaining: 553ms\n",
      "23:\tlearn: 0.0023300\ttotal: 491ms\tremaining: 532ms\n",
      "24:\tlearn: 0.0020594\ttotal: 510ms\tremaining: 510ms\n",
      "25:\tlearn: 0.0017951\ttotal: 529ms\tremaining: 489ms\n",
      "26:\tlearn: 0.0015783\ttotal: 549ms\tremaining: 468ms\n",
      "27:\tlearn: 0.0013865\ttotal: 567ms\tremaining: 446ms\n",
      "28:\tlearn: 0.0012329\ttotal: 587ms\tremaining: 425ms\n",
      "29:\tlearn: 0.0011029\ttotal: 606ms\tremaining: 404ms\n",
      "30:\tlearn: 0.0009960\ttotal: 626ms\tremaining: 383ms\n",
      "31:\tlearn: 0.0009035\ttotal: 645ms\tremaining: 363ms\n",
      "32:\tlearn: 0.0008279\ttotal: 664ms\tremaining: 342ms\n",
      "33:\tlearn: 0.0007588\ttotal: 685ms\tremaining: 322ms\n",
      "34:\tlearn: 0.0006997\ttotal: 705ms\tremaining: 302ms\n",
      "35:\tlearn: 0.0006482\ttotal: 724ms\tremaining: 281ms\n",
      "36:\tlearn: 0.0005990\ttotal: 743ms\tremaining: 261ms\n",
      "37:\tlearn: 0.0005569\ttotal: 762ms\tremaining: 241ms\n",
      "38:\tlearn: 0.0005167\ttotal: 780ms\tremaining: 220ms\n",
      "39:\tlearn: 0.0004819\ttotal: 797ms\tremaining: 199ms\n",
      "40:\tlearn: 0.0004545\ttotal: 815ms\tremaining: 179ms\n",
      "41:\tlearn: 0.0004291\ttotal: 833ms\tremaining: 159ms\n",
      "42:\tlearn: 0.0004055\ttotal: 851ms\tremaining: 139ms\n",
      "43:\tlearn: 0.0003852\ttotal: 870ms\tremaining: 119ms\n",
      "44:\tlearn: 0.0003658\ttotal: 890ms\tremaining: 98.9ms\n",
      "45:\tlearn: 0.0003475\ttotal: 908ms\tremaining: 78.9ms\n",
      "46:\tlearn: 0.0003295\ttotal: 925ms\tremaining: 59ms\n",
      "47:\tlearn: 0.0003149\ttotal: 943ms\tremaining: 39.3ms\n",
      "48:\tlearn: 0.0003006\ttotal: 960ms\tremaining: 19.6ms\n",
      "49:\tlearn: 0.0002881\ttotal: 977ms\tremaining: 0us\n",
      "0:\tlearn: 0.5223626\ttotal: 22.1ms\tremaining: 1.08s\n",
      "1:\tlearn: 0.3895522\ttotal: 44ms\tremaining: 1.05s\n",
      "2:\tlearn: 0.2910330\ttotal: 65.5ms\tremaining: 1.02s\n",
      "3:\tlearn: 0.2138121\ttotal: 85.9ms\tremaining: 988ms\n",
      "4:\tlearn: 0.1586902\ttotal: 107ms\tremaining: 966ms\n",
      "5:\tlearn: 0.1135920\ttotal: 123ms\tremaining: 902ms\n",
      "6:\tlearn: 0.0847379\ttotal: 143ms\tremaining: 878ms\n",
      "7:\tlearn: 0.0637391\ttotal: 163ms\tremaining: 858ms\n",
      "8:\tlearn: 0.0484280\ttotal: 184ms\tremaining: 839ms\n",
      "9:\tlearn: 0.0366514\ttotal: 202ms\tremaining: 809ms\n",
      "10:\tlearn: 0.0287114\ttotal: 223ms\tremaining: 790ms\n",
      "11:\tlearn: 0.0227502\ttotal: 244ms\tremaining: 773ms\n",
      "12:\tlearn: 0.0179209\ttotal: 266ms\tremaining: 757ms\n",
      "13:\tlearn: 0.0140511\ttotal: 284ms\tremaining: 731ms\n",
      "14:\tlearn: 0.0112590\ttotal: 304ms\tremaining: 710ms\n",
      "15:\tlearn: 0.0091976\ttotal: 325ms\tremaining: 690ms\n",
      "16:\tlearn: 0.0075300\ttotal: 345ms\tremaining: 669ms\n",
      "17:\tlearn: 0.0061439\ttotal: 365ms\tremaining: 649ms\n",
      "18:\tlearn: 0.0051113\ttotal: 386ms\tremaining: 631ms\n",
      "19:\tlearn: 0.0043623\ttotal: 406ms\tremaining: 609ms\n",
      "20:\tlearn: 0.0037072\ttotal: 426ms\tremaining: 589ms\n",
      "21:\tlearn: 0.0031371\ttotal: 447ms\tremaining: 569ms\n",
      "22:\tlearn: 0.0027482\ttotal: 468ms\tremaining: 550ms\n",
      "23:\tlearn: 0.0023896\ttotal: 489ms\tremaining: 530ms\n",
      "24:\tlearn: 0.0021060\ttotal: 508ms\tremaining: 508ms\n",
      "25:\tlearn: 0.0018788\ttotal: 527ms\tremaining: 486ms\n",
      "26:\tlearn: 0.0016608\ttotal: 547ms\tremaining: 466ms\n",
      "27:\tlearn: 0.0014804\ttotal: 566ms\tremaining: 445ms\n",
      "28:\tlearn: 0.0013258\ttotal: 586ms\tremaining: 424ms\n",
      "29:\tlearn: 0.0011838\ttotal: 603ms\tremaining: 402ms\n",
      "30:\tlearn: 0.0010777\ttotal: 623ms\tremaining: 382ms\n",
      "31:\tlearn: 0.0009957\ttotal: 642ms\tremaining: 361ms\n",
      "32:\tlearn: 0.0009196\ttotal: 662ms\tremaining: 341ms\n",
      "33:\tlearn: 0.0008366\ttotal: 682ms\tremaining: 321ms\n",
      "34:\tlearn: 0.0007687\ttotal: 701ms\tremaining: 300ms\n",
      "35:\tlearn: 0.0007086\ttotal: 720ms\tremaining: 280ms\n",
      "36:\tlearn: 0.0006547\ttotal: 739ms\tremaining: 260ms\n",
      "37:\tlearn: 0.0006036\ttotal: 757ms\tremaining: 239ms\n",
      "38:\tlearn: 0.0005590\ttotal: 775ms\tremaining: 219ms\n",
      "39:\tlearn: 0.0005203\ttotal: 794ms\tremaining: 198ms\n",
      "40:\tlearn: 0.0004907\ttotal: 811ms\tremaining: 178ms\n",
      "41:\tlearn: 0.0004638\ttotal: 828ms\tremaining: 158ms\n",
      "42:\tlearn: 0.0004381\ttotal: 847ms\tremaining: 138ms\n",
      "43:\tlearn: 0.0004152\ttotal: 866ms\tremaining: 118ms\n",
      "44:\tlearn: 0.0003925\ttotal: 885ms\tremaining: 98.3ms\n",
      "45:\tlearn: 0.0003716\ttotal: 902ms\tremaining: 78.4ms\n",
      "46:\tlearn: 0.0003541\ttotal: 918ms\tremaining: 58.6ms\n",
      "47:\tlearn: 0.0003362\ttotal: 935ms\tremaining: 39ms\n",
      "48:\tlearn: 0.0003209\ttotal: 952ms\tremaining: 19.4ms\n",
      "49:\tlearn: 0.0003057\ttotal: 969ms\tremaining: 0us\n",
      "0:\tlearn: 0.5218547\ttotal: 20.7ms\tremaining: 1.01s\n",
      "1:\tlearn: 0.3896602\ttotal: 42.1ms\tremaining: 1.01s\n",
      "2:\tlearn: 0.2912479\ttotal: 62.9ms\tremaining: 985ms\n",
      "3:\tlearn: 0.2140785\ttotal: 83.3ms\tremaining: 958ms\n",
      "4:\tlearn: 0.1585607\ttotal: 104ms\tremaining: 938ms\n",
      "5:\tlearn: 0.1134926\ttotal: 120ms\tremaining: 878ms\n",
      "6:\tlearn: 0.0842337\ttotal: 139ms\tremaining: 855ms\n",
      "7:\tlearn: 0.0633781\ttotal: 160ms\tremaining: 839ms\n",
      "8:\tlearn: 0.0486446\ttotal: 181ms\tremaining: 827ms\n",
      "9:\tlearn: 0.0376992\ttotal: 199ms\tremaining: 796ms\n",
      "10:\tlearn: 0.0297976\ttotal: 220ms\tremaining: 781ms\n",
      "11:\tlearn: 0.0236530\ttotal: 241ms\tremaining: 764ms\n",
      "12:\tlearn: 0.0183583\ttotal: 261ms\tremaining: 743ms\n",
      "13:\tlearn: 0.0145958\ttotal: 283ms\tremaining: 726ms\n",
      "14:\tlearn: 0.0117608\ttotal: 303ms\tremaining: 707ms\n",
      "15:\tlearn: 0.0097598\ttotal: 324ms\tremaining: 689ms\n",
      "16:\tlearn: 0.0077789\ttotal: 340ms\tremaining: 660ms\n",
      "17:\tlearn: 0.0064562\ttotal: 361ms\tremaining: 641ms\n",
      "18:\tlearn: 0.0053022\ttotal: 381ms\tremaining: 621ms\n",
      "19:\tlearn: 0.0045681\ttotal: 401ms\tremaining: 601ms\n",
      "20:\tlearn: 0.0039323\ttotal: 421ms\tremaining: 581ms\n",
      "21:\tlearn: 0.0033546\ttotal: 441ms\tremaining: 561ms\n",
      "22:\tlearn: 0.0028605\ttotal: 461ms\tremaining: 541ms\n",
      "23:\tlearn: 0.0024610\ttotal: 481ms\tremaining: 521ms\n",
      "24:\tlearn: 0.0021821\ttotal: 501ms\tremaining: 501ms\n",
      "25:\tlearn: 0.0019410\ttotal: 520ms\tremaining: 480ms\n",
      "26:\tlearn: 0.0016980\ttotal: 539ms\tremaining: 459ms\n",
      "27:\tlearn: 0.0015022\ttotal: 558ms\tremaining: 438ms\n",
      "28:\tlearn: 0.0013303\ttotal: 576ms\tremaining: 417ms\n",
      "29:\tlearn: 0.0011894\ttotal: 597ms\tremaining: 398ms\n",
      "30:\tlearn: 0.0010752\ttotal: 619ms\tremaining: 380ms\n",
      "31:\tlearn: 0.0009890\ttotal: 643ms\tremaining: 362ms\n",
      "32:\tlearn: 0.0008941\ttotal: 664ms\tremaining: 342ms\n",
      "33:\tlearn: 0.0008167\ttotal: 683ms\tremaining: 322ms\n",
      "34:\tlearn: 0.0007482\ttotal: 702ms\tremaining: 301ms\n",
      "35:\tlearn: 0.0006886\ttotal: 722ms\tremaining: 281ms\n",
      "36:\tlearn: 0.0006369\ttotal: 742ms\tremaining: 261ms\n",
      "37:\tlearn: 0.0005889\ttotal: 760ms\tremaining: 240ms\n",
      "38:\tlearn: 0.0005458\ttotal: 777ms\tremaining: 219ms\n",
      "39:\tlearn: 0.0005173\ttotal: 795ms\tremaining: 199ms\n",
      "40:\tlearn: 0.0004911\ttotal: 812ms\tremaining: 178ms\n",
      "41:\tlearn: 0.0004577\ttotal: 831ms\tremaining: 158ms\n",
      "42:\tlearn: 0.0004335\ttotal: 851ms\tremaining: 138ms\n",
      "43:\tlearn: 0.0004093\ttotal: 870ms\tremaining: 119ms\n",
      "44:\tlearn: 0.0003872\ttotal: 888ms\tremaining: 98.6ms\n",
      "45:\tlearn: 0.0003677\ttotal: 905ms\tremaining: 78.7ms\n",
      "46:\tlearn: 0.0003508\ttotal: 923ms\tremaining: 58.9ms\n",
      "47:\tlearn: 0.0003341\ttotal: 940ms\tremaining: 39.2ms\n",
      "48:\tlearn: 0.0003246\ttotal: 956ms\tremaining: 19.5ms\n",
      "49:\tlearn: 0.0003092\ttotal: 974ms\tremaining: 0us\n",
      "0:\tlearn: 0.5216803\ttotal: 20.5ms\tremaining: 1.01s\n",
      "1:\tlearn: 0.3897176\ttotal: 42.4ms\tremaining: 1.02s\n",
      "2:\tlearn: 0.2873670\ttotal: 63ms\tremaining: 987ms\n",
      "3:\tlearn: 0.2114789\ttotal: 83.5ms\tremaining: 960ms\n",
      "4:\tlearn: 0.1565692\ttotal: 105ms\tremaining: 941ms\n",
      "5:\tlearn: 0.1120749\ttotal: 120ms\tremaining: 880ms\n",
      "6:\tlearn: 0.0824868\ttotal: 139ms\tremaining: 857ms\n",
      "7:\tlearn: 0.0619179\ttotal: 160ms\tremaining: 840ms\n",
      "8:\tlearn: 0.0480795\ttotal: 181ms\tremaining: 825ms\n",
      "9:\tlearn: 0.0364278\ttotal: 200ms\tremaining: 798ms\n",
      "10:\tlearn: 0.0284548\ttotal: 220ms\tremaining: 780ms\n",
      "11:\tlearn: 0.0226081\ttotal: 241ms\tremaining: 764ms\n",
      "12:\tlearn: 0.0179877\ttotal: 262ms\tremaining: 746ms\n",
      "13:\tlearn: 0.0142832\ttotal: 283ms\tremaining: 728ms\n",
      "14:\tlearn: 0.0115227\ttotal: 304ms\tremaining: 710ms\n",
      "15:\tlearn: 0.0094940\ttotal: 324ms\tremaining: 688ms\n",
      "16:\tlearn: 0.0078241\ttotal: 345ms\tremaining: 670ms\n",
      "17:\tlearn: 0.0065136\ttotal: 365ms\tremaining: 649ms\n",
      "18:\tlearn: 0.0054158\ttotal: 386ms\tremaining: 630ms\n",
      "19:\tlearn: 0.0045447\ttotal: 406ms\tremaining: 609ms\n"
     ]
    },
    {
     "name": "stdout",
     "output_type": "stream",
     "text": [
      "20:\tlearn: 0.0038901\ttotal: 425ms\tremaining: 587ms\n",
      "21:\tlearn: 0.0033149\ttotal: 446ms\tremaining: 567ms\n",
      "22:\tlearn: 0.0028854\ttotal: 466ms\tremaining: 547ms\n",
      "23:\tlearn: 0.0025240\ttotal: 487ms\tremaining: 527ms\n",
      "24:\tlearn: 0.0021977\ttotal: 507ms\tremaining: 507ms\n",
      "25:\tlearn: 0.0019384\ttotal: 526ms\tremaining: 486ms\n",
      "26:\tlearn: 0.0017287\ttotal: 546ms\tremaining: 465ms\n",
      "27:\tlearn: 0.0015298\ttotal: 566ms\tremaining: 444ms\n",
      "28:\tlearn: 0.0013465\ttotal: 586ms\tremaining: 424ms\n",
      "29:\tlearn: 0.0012245\ttotal: 605ms\tremaining: 403ms\n",
      "30:\tlearn: 0.0011121\ttotal: 625ms\tremaining: 383ms\n",
      "31:\tlearn: 0.0010112\ttotal: 645ms\tremaining: 363ms\n",
      "32:\tlearn: 0.0009225\ttotal: 664ms\tremaining: 342ms\n",
      "33:\tlearn: 0.0008463\ttotal: 683ms\tremaining: 322ms\n",
      "34:\tlearn: 0.0007763\ttotal: 703ms\tremaining: 301ms\n",
      "35:\tlearn: 0.0007229\ttotal: 722ms\tremaining: 281ms\n",
      "36:\tlearn: 0.0006683\ttotal: 742ms\tremaining: 261ms\n",
      "37:\tlearn: 0.0006250\ttotal: 760ms\tremaining: 240ms\n",
      "38:\tlearn: 0.0005769\ttotal: 778ms\tremaining: 220ms\n",
      "39:\tlearn: 0.0005411\ttotal: 797ms\tremaining: 199ms\n",
      "40:\tlearn: 0.0005083\ttotal: 816ms\tremaining: 179ms\n",
      "41:\tlearn: 0.0004798\ttotal: 835ms\tremaining: 159ms\n",
      "42:\tlearn: 0.0004526\ttotal: 855ms\tremaining: 139ms\n",
      "43:\tlearn: 0.0004214\ttotal: 874ms\tremaining: 119ms\n",
      "44:\tlearn: 0.0004028\ttotal: 893ms\tremaining: 99.2ms\n",
      "45:\tlearn: 0.0003852\ttotal: 911ms\tremaining: 79.2ms\n",
      "46:\tlearn: 0.0003698\ttotal: 930ms\tremaining: 59.3ms\n",
      "47:\tlearn: 0.0003471\ttotal: 947ms\tremaining: 39.5ms\n",
      "48:\tlearn: 0.0003333\ttotal: 965ms\tremaining: 19.7ms\n",
      "49:\tlearn: 0.0003207\ttotal: 982ms\tremaining: 0us\n",
      "0:\tlearn: 0.5146804\ttotal: 21.4ms\tremaining: 1.05s\n",
      "1:\tlearn: 0.3822109\ttotal: 43.3ms\tremaining: 1.04s\n",
      "2:\tlearn: 0.2747716\ttotal: 59ms\tremaining: 924ms\n",
      "3:\tlearn: 0.2009790\ttotal: 78.6ms\tremaining: 904ms\n",
      "4:\tlearn: 0.1485951\ttotal: 99.1ms\tremaining: 892ms\n",
      "5:\tlearn: 0.1093419\ttotal: 119ms\tremaining: 875ms\n",
      "6:\tlearn: 0.0827593\ttotal: 140ms\tremaining: 863ms\n",
      "7:\tlearn: 0.0625326\ttotal: 161ms\tremaining: 846ms\n",
      "8:\tlearn: 0.0478741\ttotal: 182ms\tremaining: 831ms\n",
      "9:\tlearn: 0.0366880\ttotal: 203ms\tremaining: 814ms\n",
      "10:\tlearn: 0.0286939\ttotal: 225ms\tremaining: 798ms\n",
      "11:\tlearn: 0.0226062\ttotal: 247ms\tremaining: 781ms\n",
      "12:\tlearn: 0.0179686\ttotal: 268ms\tremaining: 763ms\n",
      "13:\tlearn: 0.0143690\ttotal: 289ms\tremaining: 744ms\n",
      "14:\tlearn: 0.0114933\ttotal: 310ms\tremaining: 723ms\n",
      "15:\tlearn: 0.0095303\ttotal: 330ms\tremaining: 701ms\n",
      "16:\tlearn: 0.0077428\ttotal: 351ms\tremaining: 682ms\n",
      "17:\tlearn: 0.0063914\ttotal: 372ms\tremaining: 661ms\n",
      "18:\tlearn: 0.0052805\ttotal: 392ms\tremaining: 639ms\n",
      "19:\tlearn: 0.0045089\ttotal: 411ms\tremaining: 616ms\n",
      "20:\tlearn: 0.0038745\ttotal: 430ms\tremaining: 594ms\n",
      "21:\tlearn: 0.0033128\ttotal: 451ms\tremaining: 574ms\n",
      "22:\tlearn: 0.0028433\ttotal: 471ms\tremaining: 553ms\n",
      "23:\tlearn: 0.0024527\ttotal: 491ms\tremaining: 532ms\n",
      "24:\tlearn: 0.0021183\ttotal: 512ms\tremaining: 512ms\n",
      "25:\tlearn: 0.0018787\ttotal: 531ms\tremaining: 490ms\n",
      "26:\tlearn: 0.0016486\ttotal: 551ms\tremaining: 470ms\n",
      "27:\tlearn: 0.0014653\ttotal: 571ms\tremaining: 449ms\n",
      "28:\tlearn: 0.0013063\ttotal: 591ms\tremaining: 428ms\n",
      "29:\tlearn: 0.0011754\ttotal: 611ms\tremaining: 407ms\n",
      "30:\tlearn: 0.0010520\ttotal: 630ms\tremaining: 386ms\n",
      "31:\tlearn: 0.0009475\ttotal: 651ms\tremaining: 366ms\n",
      "32:\tlearn: 0.0008764\ttotal: 670ms\tremaining: 345ms\n",
      "33:\tlearn: 0.0007983\ttotal: 689ms\tremaining: 324ms\n",
      "34:\tlearn: 0.0007361\ttotal: 708ms\tremaining: 303ms\n",
      "35:\tlearn: 0.0006780\ttotal: 727ms\tremaining: 283ms\n",
      "36:\tlearn: 0.0006281\ttotal: 746ms\tremaining: 262ms\n",
      "37:\tlearn: 0.0005846\ttotal: 763ms\tremaining: 241ms\n",
      "38:\tlearn: 0.0005418\ttotal: 782ms\tremaining: 220ms\n",
      "39:\tlearn: 0.0005044\ttotal: 799ms\tremaining: 200ms\n",
      "40:\tlearn: 0.0004725\ttotal: 818ms\tremaining: 180ms\n",
      "41:\tlearn: 0.0004434\ttotal: 837ms\tremaining: 159ms\n",
      "42:\tlearn: 0.0004178\ttotal: 856ms\tremaining: 139ms\n",
      "43:\tlearn: 0.0003961\ttotal: 874ms\tremaining: 119ms\n",
      "44:\tlearn: 0.0003754\ttotal: 892ms\tremaining: 99.1ms\n",
      "45:\tlearn: 0.0003564\ttotal: 909ms\tremaining: 79.1ms\n",
      "46:\tlearn: 0.0003383\ttotal: 927ms\tremaining: 59.1ms\n",
      "47:\tlearn: 0.0003222\ttotal: 943ms\tremaining: 39.3ms\n",
      "48:\tlearn: 0.0003127\ttotal: 960ms\tremaining: 19.6ms\n",
      "49:\tlearn: 0.0002980\ttotal: 977ms\tremaining: 0us\n",
      "0:\tlearn: 0.5217568\ttotal: 21.1ms\tremaining: 1.03s\n",
      "1:\tlearn: 0.3892948\ttotal: 43.5ms\tremaining: 1.04s\n",
      "2:\tlearn: 0.2909019\ttotal: 64.8ms\tremaining: 1.01s\n",
      "3:\tlearn: 0.2137098\ttotal: 86.7ms\tremaining: 997ms\n",
      "4:\tlearn: 0.1581339\ttotal: 108ms\tremaining: 969ms\n",
      "5:\tlearn: 0.1131897\ttotal: 123ms\tremaining: 905ms\n",
      "6:\tlearn: 0.0839631\ttotal: 143ms\tremaining: 879ms\n",
      "7:\tlearn: 0.0631400\ttotal: 164ms\tremaining: 860ms\n",
      "8:\tlearn: 0.0484262\ttotal: 185ms\tremaining: 844ms\n",
      "9:\tlearn: 0.0375332\ttotal: 203ms\tremaining: 813ms\n",
      "10:\tlearn: 0.0293757\ttotal: 225ms\tremaining: 797ms\n",
      "11:\tlearn: 0.0232955\ttotal: 246ms\tremaining: 779ms\n",
      "12:\tlearn: 0.0182611\ttotal: 265ms\tremaining: 754ms\n",
      "13:\tlearn: 0.0143901\ttotal: 285ms\tremaining: 733ms\n",
      "14:\tlearn: 0.0115975\ttotal: 306ms\tremaining: 713ms\n",
      "15:\tlearn: 0.0094226\ttotal: 327ms\tremaining: 695ms\n",
      "16:\tlearn: 0.0075173\ttotal: 343ms\tremaining: 665ms\n",
      "17:\tlearn: 0.0062402\ttotal: 363ms\tremaining: 646ms\n",
      "18:\tlearn: 0.0051324\ttotal: 384ms\tremaining: 626ms\n",
      "19:\tlearn: 0.0044304\ttotal: 403ms\tremaining: 605ms\n",
      "20:\tlearn: 0.0037097\ttotal: 424ms\tremaining: 585ms\n",
      "21:\tlearn: 0.0031411\ttotal: 444ms\tremaining: 565ms\n",
      "22:\tlearn: 0.0026845\ttotal: 464ms\tremaining: 545ms\n",
      "23:\tlearn: 0.0023300\ttotal: 484ms\tremaining: 524ms\n",
      "24:\tlearn: 0.0020594\ttotal: 503ms\tremaining: 503ms\n",
      "25:\tlearn: 0.0017951\ttotal: 521ms\tremaining: 481ms\n",
      "26:\tlearn: 0.0015783\ttotal: 542ms\tremaining: 461ms\n",
      "27:\tlearn: 0.0013865\ttotal: 560ms\tremaining: 440ms\n",
      "28:\tlearn: 0.0012329\ttotal: 579ms\tremaining: 419ms\n",
      "29:\tlearn: 0.0011029\ttotal: 599ms\tremaining: 399ms\n",
      "30:\tlearn: 0.0009960\ttotal: 619ms\tremaining: 379ms\n",
      "31:\tlearn: 0.0009035\ttotal: 638ms\tremaining: 359ms\n",
      "32:\tlearn: 0.0008279\ttotal: 658ms\tremaining: 339ms\n",
      "33:\tlearn: 0.0007588\ttotal: 676ms\tremaining: 318ms\n",
      "34:\tlearn: 0.0006997\ttotal: 695ms\tremaining: 298ms\n",
      "35:\tlearn: 0.0006482\ttotal: 714ms\tremaining: 278ms\n",
      "36:\tlearn: 0.0005990\ttotal: 733ms\tremaining: 258ms\n",
      "37:\tlearn: 0.0005569\ttotal: 752ms\tremaining: 237ms\n",
      "38:\tlearn: 0.0005167\ttotal: 770ms\tremaining: 217ms\n",
      "39:\tlearn: 0.0004819\ttotal: 788ms\tremaining: 197ms\n",
      "40:\tlearn: 0.0004545\ttotal: 806ms\tremaining: 177ms\n",
      "41:\tlearn: 0.0004291\ttotal: 824ms\tremaining: 157ms\n",
      "42:\tlearn: 0.0004055\ttotal: 843ms\tremaining: 137ms\n",
      "43:\tlearn: 0.0003852\ttotal: 862ms\tremaining: 118ms\n",
      "44:\tlearn: 0.0003658\ttotal: 880ms\tremaining: 97.8ms\n",
      "45:\tlearn: 0.0003475\ttotal: 898ms\tremaining: 78.1ms\n",
      "46:\tlearn: 0.0003295\ttotal: 915ms\tremaining: 58.4ms\n",
      "47:\tlearn: 0.0003149\ttotal: 933ms\tremaining: 38.9ms\n",
      "48:\tlearn: 0.0003006\ttotal: 950ms\tremaining: 19.4ms\n",
      "49:\tlearn: 0.0002881\ttotal: 967ms\tremaining: 0us\n",
      "0:\tlearn: 0.5223626\ttotal: 20.9ms\tremaining: 1.02s\n",
      "1:\tlearn: 0.3895522\ttotal: 42.5ms\tremaining: 1.02s\n",
      "2:\tlearn: 0.2910330\ttotal: 63.3ms\tremaining: 991ms\n",
      "3:\tlearn: 0.2138121\ttotal: 83.8ms\tremaining: 964ms\n",
      "4:\tlearn: 0.1586902\ttotal: 105ms\tremaining: 945ms\n",
      "5:\tlearn: 0.1135920\ttotal: 121ms\tremaining: 885ms\n",
      "6:\tlearn: 0.0847379\ttotal: 140ms\tremaining: 863ms\n",
      "7:\tlearn: 0.0637391\ttotal: 161ms\tremaining: 845ms\n",
      "8:\tlearn: 0.0484280\ttotal: 182ms\tremaining: 829ms\n",
      "9:\tlearn: 0.0366514\ttotal: 200ms\tremaining: 800ms\n",
      "10:\tlearn: 0.0287114\ttotal: 221ms\tremaining: 783ms\n",
      "11:\tlearn: 0.0227502\ttotal: 241ms\tremaining: 765ms\n",
      "12:\tlearn: 0.0179209\ttotal: 263ms\tremaining: 748ms\n",
      "13:\tlearn: 0.0140511\ttotal: 281ms\tremaining: 722ms\n",
      "14:\tlearn: 0.0112590\ttotal: 301ms\tremaining: 702ms\n",
      "15:\tlearn: 0.0091976\ttotal: 321ms\tremaining: 683ms\n",
      "16:\tlearn: 0.0075300\ttotal: 341ms\tremaining: 663ms\n",
      "17:\tlearn: 0.0061439\ttotal: 362ms\tremaining: 644ms\n",
      "18:\tlearn: 0.0051113\ttotal: 383ms\tremaining: 625ms\n",
      "19:\tlearn: 0.0043623\ttotal: 403ms\tremaining: 604ms\n",
      "20:\tlearn: 0.0037072\ttotal: 423ms\tremaining: 584ms\n",
      "21:\tlearn: 0.0031371\ttotal: 443ms\tremaining: 564ms\n",
      "22:\tlearn: 0.0027482\ttotal: 464ms\tremaining: 544ms\n",
      "23:\tlearn: 0.0023896\ttotal: 484ms\tremaining: 525ms\n",
      "24:\tlearn: 0.0021060\ttotal: 503ms\tremaining: 503ms\n",
      "25:\tlearn: 0.0018788\ttotal: 521ms\tremaining: 481ms\n",
      "26:\tlearn: 0.0016608\ttotal: 542ms\tremaining: 461ms\n",
      "27:\tlearn: 0.0014804\ttotal: 561ms\tremaining: 441ms\n",
      "28:\tlearn: 0.0013258\ttotal: 581ms\tremaining: 420ms\n",
      "29:\tlearn: 0.0011838\ttotal: 599ms\tremaining: 399ms\n",
      "30:\tlearn: 0.0010777\ttotal: 619ms\tremaining: 380ms\n"
     ]
    },
    {
     "name": "stdout",
     "output_type": "stream",
     "text": [
      "31:\tlearn: 0.0009957\ttotal: 639ms\tremaining: 359ms\n",
      "32:\tlearn: 0.0009196\ttotal: 659ms\tremaining: 339ms\n",
      "33:\tlearn: 0.0008366\ttotal: 679ms\tremaining: 320ms\n",
      "34:\tlearn: 0.0007687\ttotal: 698ms\tremaining: 299ms\n",
      "35:\tlearn: 0.0007086\ttotal: 717ms\tremaining: 279ms\n",
      "36:\tlearn: 0.0006547\ttotal: 737ms\tremaining: 259ms\n",
      "37:\tlearn: 0.0006036\ttotal: 755ms\tremaining: 238ms\n",
      "38:\tlearn: 0.0005590\ttotal: 773ms\tremaining: 218ms\n",
      "39:\tlearn: 0.0005203\ttotal: 792ms\tremaining: 198ms\n",
      "40:\tlearn: 0.0004907\ttotal: 810ms\tremaining: 178ms\n",
      "41:\tlearn: 0.0004638\ttotal: 827ms\tremaining: 158ms\n",
      "42:\tlearn: 0.0004381\ttotal: 847ms\tremaining: 138ms\n",
      "43:\tlearn: 0.0004152\ttotal: 866ms\tremaining: 118ms\n",
      "44:\tlearn: 0.0003925\ttotal: 884ms\tremaining: 98.3ms\n",
      "45:\tlearn: 0.0003716\ttotal: 901ms\tremaining: 78.4ms\n",
      "46:\tlearn: 0.0003541\ttotal: 918ms\tremaining: 58.6ms\n",
      "47:\tlearn: 0.0003362\ttotal: 935ms\tremaining: 39ms\n",
      "48:\tlearn: 0.0003209\ttotal: 952ms\tremaining: 19.4ms\n",
      "49:\tlearn: 0.0003057\ttotal: 970ms\tremaining: 0us\n",
      "0:\tlearn: 0.5218547\ttotal: 20.6ms\tremaining: 1.01s\n",
      "1:\tlearn: 0.3896602\ttotal: 42.2ms\tremaining: 1.01s\n",
      "2:\tlearn: 0.2912479\ttotal: 62.9ms\tremaining: 986ms\n",
      "3:\tlearn: 0.2140785\ttotal: 83.5ms\tremaining: 960ms\n",
      "4:\tlearn: 0.1585607\ttotal: 104ms\tremaining: 937ms\n",
      "5:\tlearn: 0.1134926\ttotal: 120ms\tremaining: 878ms\n",
      "6:\tlearn: 0.0842337\ttotal: 140ms\tremaining: 858ms\n",
      "7:\tlearn: 0.0633781\ttotal: 161ms\tremaining: 843ms\n",
      "8:\tlearn: 0.0486446\ttotal: 182ms\tremaining: 829ms\n",
      "9:\tlearn: 0.0376992\ttotal: 200ms\tremaining: 799ms\n",
      "10:\tlearn: 0.0297976\ttotal: 221ms\tremaining: 783ms\n",
      "11:\tlearn: 0.0236530\ttotal: 244ms\tremaining: 772ms\n",
      "12:\tlearn: 0.0183583\ttotal: 262ms\tremaining: 747ms\n",
      "13:\tlearn: 0.0145958\ttotal: 283ms\tremaining: 728ms\n",
      "14:\tlearn: 0.0117608\ttotal: 304ms\tremaining: 709ms\n",
      "15:\tlearn: 0.0097598\ttotal: 325ms\tremaining: 691ms\n",
      "16:\tlearn: 0.0077789\ttotal: 342ms\tremaining: 663ms\n",
      "17:\tlearn: 0.0064562\ttotal: 362ms\tremaining: 644ms\n",
      "18:\tlearn: 0.0053022\ttotal: 383ms\tremaining: 624ms\n",
      "19:\tlearn: 0.0045681\ttotal: 404ms\tremaining: 606ms\n",
      "20:\tlearn: 0.0039323\ttotal: 426ms\tremaining: 589ms\n",
      "21:\tlearn: 0.0033546\ttotal: 449ms\tremaining: 571ms\n",
      "22:\tlearn: 0.0028605\ttotal: 470ms\tremaining: 551ms\n",
      "23:\tlearn: 0.0024610\ttotal: 490ms\tremaining: 531ms\n",
      "24:\tlearn: 0.0021821\ttotal: 511ms\tremaining: 511ms\n",
      "25:\tlearn: 0.0019410\ttotal: 531ms\tremaining: 490ms\n",
      "26:\tlearn: 0.0016980\ttotal: 551ms\tremaining: 470ms\n",
      "27:\tlearn: 0.0015022\ttotal: 570ms\tremaining: 448ms\n",
      "28:\tlearn: 0.0013303\ttotal: 589ms\tremaining: 427ms\n",
      "29:\tlearn: 0.0011894\ttotal: 609ms\tremaining: 406ms\n",
      "30:\tlearn: 0.0010752\ttotal: 629ms\tremaining: 385ms\n",
      "31:\tlearn: 0.0009890\ttotal: 650ms\tremaining: 366ms\n",
      "32:\tlearn: 0.0008941\ttotal: 671ms\tremaining: 346ms\n",
      "33:\tlearn: 0.0008167\ttotal: 689ms\tremaining: 324ms\n",
      "34:\tlearn: 0.0007482\ttotal: 709ms\tremaining: 304ms\n",
      "35:\tlearn: 0.0006886\ttotal: 729ms\tremaining: 283ms\n",
      "36:\tlearn: 0.0006369\ttotal: 749ms\tremaining: 263ms\n",
      "37:\tlearn: 0.0005889\ttotal: 768ms\tremaining: 242ms\n",
      "38:\tlearn: 0.0005458\ttotal: 786ms\tremaining: 222ms\n",
      "39:\tlearn: 0.0005173\ttotal: 804ms\tremaining: 201ms\n",
      "40:\tlearn: 0.0004911\ttotal: 822ms\tremaining: 180ms\n",
      "41:\tlearn: 0.0004577\ttotal: 843ms\tremaining: 161ms\n",
      "42:\tlearn: 0.0004335\ttotal: 863ms\tremaining: 140ms\n",
      "43:\tlearn: 0.0004093\ttotal: 882ms\tremaining: 120ms\n",
      "44:\tlearn: 0.0003872\ttotal: 900ms\tremaining: 100ms\n",
      "45:\tlearn: 0.0003677\ttotal: 918ms\tremaining: 79.9ms\n",
      "46:\tlearn: 0.0003508\ttotal: 936ms\tremaining: 59.7ms\n",
      "47:\tlearn: 0.0003341\ttotal: 953ms\tremaining: 39.7ms\n",
      "48:\tlearn: 0.0003246\ttotal: 970ms\tremaining: 19.8ms\n",
      "49:\tlearn: 0.0003092\ttotal: 987ms\tremaining: 0us\n",
      "0:\tlearn: 0.5216803\ttotal: 20.5ms\tremaining: 1.01s\n",
      "1:\tlearn: 0.3897176\ttotal: 42ms\tremaining: 1.01s\n",
      "2:\tlearn: 0.2873670\ttotal: 63.1ms\tremaining: 989ms\n",
      "3:\tlearn: 0.2114789\ttotal: 84ms\tremaining: 966ms\n",
      "4:\tlearn: 0.1565692\ttotal: 105ms\tremaining: 946ms\n",
      "5:\tlearn: 0.1120749\ttotal: 121ms\tremaining: 885ms\n",
      "6:\tlearn: 0.0824868\ttotal: 140ms\tremaining: 862ms\n",
      "7:\tlearn: 0.0619179\ttotal: 161ms\tremaining: 844ms\n",
      "8:\tlearn: 0.0480795\ttotal: 182ms\tremaining: 831ms\n",
      "9:\tlearn: 0.0364278\ttotal: 201ms\tremaining: 803ms\n",
      "10:\tlearn: 0.0284548\ttotal: 221ms\tremaining: 785ms\n",
      "11:\tlearn: 0.0226081\ttotal: 243ms\tremaining: 770ms\n",
      "12:\tlearn: 0.0179877\ttotal: 264ms\tremaining: 751ms\n",
      "13:\tlearn: 0.0142832\ttotal: 285ms\tremaining: 733ms\n",
      "14:\tlearn: 0.0115227\ttotal: 306ms\tremaining: 714ms\n",
      "15:\tlearn: 0.0094940\ttotal: 326ms\tremaining: 693ms\n",
      "16:\tlearn: 0.0078241\ttotal: 347ms\tremaining: 674ms\n",
      "17:\tlearn: 0.0065136\ttotal: 367ms\tremaining: 652ms\n",
      "18:\tlearn: 0.0054158\ttotal: 388ms\tremaining: 632ms\n",
      "19:\tlearn: 0.0045447\ttotal: 407ms\tremaining: 611ms\n",
      "20:\tlearn: 0.0038901\ttotal: 426ms\tremaining: 589ms\n",
      "21:\tlearn: 0.0033149\ttotal: 447ms\tremaining: 569ms\n",
      "22:\tlearn: 0.0028854\ttotal: 467ms\tremaining: 548ms\n",
      "23:\tlearn: 0.0025240\ttotal: 488ms\tremaining: 529ms\n",
      "24:\tlearn: 0.0021977\ttotal: 508ms\tremaining: 508ms\n",
      "25:\tlearn: 0.0019384\ttotal: 528ms\tremaining: 487ms\n",
      "26:\tlearn: 0.0017287\ttotal: 548ms\tremaining: 467ms\n",
      "27:\tlearn: 0.0015298\ttotal: 567ms\tremaining: 446ms\n",
      "28:\tlearn: 0.0013465\ttotal: 588ms\tremaining: 426ms\n",
      "29:\tlearn: 0.0012245\ttotal: 607ms\tremaining: 405ms\n",
      "30:\tlearn: 0.0011121\ttotal: 628ms\tremaining: 385ms\n",
      "31:\tlearn: 0.0010112\ttotal: 647ms\tremaining: 364ms\n",
      "32:\tlearn: 0.0009225\ttotal: 666ms\tremaining: 343ms\n",
      "33:\tlearn: 0.0008463\ttotal: 685ms\tremaining: 322ms\n",
      "34:\tlearn: 0.0007763\ttotal: 704ms\tremaining: 302ms\n",
      "35:\tlearn: 0.0007229\ttotal: 723ms\tremaining: 281ms\n",
      "36:\tlearn: 0.0006683\ttotal: 742ms\tremaining: 261ms\n",
      "37:\tlearn: 0.0006250\ttotal: 760ms\tremaining: 240ms\n",
      "38:\tlearn: 0.0005769\ttotal: 778ms\tremaining: 220ms\n",
      "39:\tlearn: 0.0005411\ttotal: 797ms\tremaining: 199ms\n",
      "40:\tlearn: 0.0005083\ttotal: 816ms\tremaining: 179ms\n",
      "41:\tlearn: 0.0004798\ttotal: 835ms\tremaining: 159ms\n",
      "42:\tlearn: 0.0004526\ttotal: 854ms\tremaining: 139ms\n",
      "43:\tlearn: 0.0004214\ttotal: 874ms\tremaining: 119ms\n",
      "44:\tlearn: 0.0004028\ttotal: 893ms\tremaining: 99.2ms\n",
      "45:\tlearn: 0.0003852\ttotal: 911ms\tremaining: 79.2ms\n",
      "46:\tlearn: 0.0003698\ttotal: 929ms\tremaining: 59.3ms\n",
      "47:\tlearn: 0.0003471\ttotal: 946ms\tremaining: 39.4ms\n",
      "48:\tlearn: 0.0003333\ttotal: 964ms\tremaining: 19.7ms\n",
      "49:\tlearn: 0.0003207\ttotal: 981ms\tremaining: 0us\n",
      "0:\tlearn: 0.5146804\ttotal: 20.3ms\tremaining: 995ms\n",
      "1:\tlearn: 0.3822109\ttotal: 41.4ms\tremaining: 993ms\n",
      "2:\tlearn: 0.2747716\ttotal: 56.9ms\tremaining: 892ms\n",
      "3:\tlearn: 0.2009790\ttotal: 76.4ms\tremaining: 879ms\n",
      "4:\tlearn: 0.1485951\ttotal: 96.6ms\tremaining: 870ms\n",
      "5:\tlearn: 0.1093419\ttotal: 117ms\tremaining: 854ms\n",
      "6:\tlearn: 0.0827593\ttotal: 137ms\tremaining: 843ms\n",
      "7:\tlearn: 0.0625326\ttotal: 158ms\tremaining: 829ms\n",
      "8:\tlearn: 0.0478741\ttotal: 179ms\tremaining: 816ms\n",
      "9:\tlearn: 0.0366880\ttotal: 200ms\tremaining: 799ms\n",
      "10:\tlearn: 0.0286939\ttotal: 221ms\tremaining: 783ms\n",
      "11:\tlearn: 0.0226062\ttotal: 243ms\tremaining: 768ms\n",
      "12:\tlearn: 0.0179686\ttotal: 264ms\tremaining: 751ms\n",
      "13:\tlearn: 0.0143690\ttotal: 285ms\tremaining: 732ms\n",
      "14:\tlearn: 0.0114933\ttotal: 305ms\tremaining: 712ms\n",
      "15:\tlearn: 0.0095303\ttotal: 325ms\tremaining: 691ms\n",
      "16:\tlearn: 0.0077428\ttotal: 347ms\tremaining: 673ms\n",
      "17:\tlearn: 0.0063914\ttotal: 367ms\tremaining: 653ms\n",
      "18:\tlearn: 0.0052805\ttotal: 387ms\tremaining: 632ms\n",
      "19:\tlearn: 0.0045089\ttotal: 406ms\tremaining: 610ms\n",
      "20:\tlearn: 0.0038745\ttotal: 425ms\tremaining: 587ms\n",
      "21:\tlearn: 0.0033128\ttotal: 446ms\tremaining: 568ms\n",
      "22:\tlearn: 0.0028433\ttotal: 465ms\tremaining: 546ms\n",
      "23:\tlearn: 0.0024527\ttotal: 486ms\tremaining: 527ms\n",
      "24:\tlearn: 0.0021183\ttotal: 508ms\tremaining: 508ms\n",
      "25:\tlearn: 0.0018787\ttotal: 527ms\tremaining: 486ms\n",
      "26:\tlearn: 0.0016486\ttotal: 547ms\tremaining: 466ms\n",
      "27:\tlearn: 0.0014653\ttotal: 567ms\tremaining: 446ms\n",
      "28:\tlearn: 0.0013063\ttotal: 586ms\tremaining: 425ms\n",
      "29:\tlearn: 0.0011754\ttotal: 606ms\tremaining: 404ms\n",
      "30:\tlearn: 0.0010520\ttotal: 627ms\tremaining: 384ms\n",
      "31:\tlearn: 0.0009475\ttotal: 646ms\tremaining: 364ms\n",
      "32:\tlearn: 0.0008764\ttotal: 666ms\tremaining: 343ms\n",
      "33:\tlearn: 0.0007983\ttotal: 685ms\tremaining: 322ms\n",
      "34:\tlearn: 0.0007361\ttotal: 704ms\tremaining: 302ms\n",
      "35:\tlearn: 0.0006780\ttotal: 723ms\tremaining: 281ms\n",
      "36:\tlearn: 0.0006281\ttotal: 742ms\tremaining: 261ms\n",
      "37:\tlearn: 0.0005846\ttotal: 760ms\tremaining: 240ms\n",
      "38:\tlearn: 0.0005418\ttotal: 779ms\tremaining: 220ms\n",
      "39:\tlearn: 0.0005044\ttotal: 796ms\tremaining: 199ms\n",
      "40:\tlearn: 0.0004725\ttotal: 815ms\tremaining: 179ms\n",
      "41:\tlearn: 0.0004434\ttotal: 834ms\tremaining: 159ms\n",
      "42:\tlearn: 0.0004178\ttotal: 853ms\tremaining: 139ms\n",
      "43:\tlearn: 0.0003961\ttotal: 871ms\tremaining: 119ms\n",
      "44:\tlearn: 0.0003754\ttotal: 889ms\tremaining: 98.8ms\n",
      "45:\tlearn: 0.0003564\ttotal: 907ms\tremaining: 78.8ms\n",
      "46:\tlearn: 0.0003383\ttotal: 924ms\tremaining: 59ms\n",
      "47:\tlearn: 0.0003222\ttotal: 941ms\tremaining: 39.2ms\n",
      "48:\tlearn: 0.0003127\ttotal: 957ms\tremaining: 19.5ms\n",
      "49:\tlearn: 0.0002980\ttotal: 975ms\tremaining: 0us\n"
     ]
    },
    {
     "name": "stdout",
     "output_type": "stream",
     "text": [
      "0:\tlearn: 0.5217568\ttotal: 20.6ms\tremaining: 1.01s\n",
      "1:\tlearn: 0.3892948\ttotal: 42.4ms\tremaining: 1.02s\n",
      "2:\tlearn: 0.2909019\ttotal: 63.2ms\tremaining: 990ms\n",
      "3:\tlearn: 0.2137098\ttotal: 83.4ms\tremaining: 959ms\n",
      "4:\tlearn: 0.1581339\ttotal: 104ms\tremaining: 938ms\n",
      "5:\tlearn: 0.1131897\ttotal: 120ms\tremaining: 880ms\n",
      "6:\tlearn: 0.0839631\ttotal: 139ms\tremaining: 856ms\n",
      "7:\tlearn: 0.0631400\ttotal: 160ms\tremaining: 840ms\n",
      "8:\tlearn: 0.0484262\ttotal: 181ms\tremaining: 826ms\n",
      "9:\tlearn: 0.0375332\ttotal: 199ms\tremaining: 797ms\n",
      "10:\tlearn: 0.0293757\ttotal: 221ms\tremaining: 783ms\n",
      "11:\tlearn: 0.0232955\ttotal: 242ms\tremaining: 766ms\n",
      "12:\tlearn: 0.0182611\ttotal: 261ms\tremaining: 742ms\n",
      "13:\tlearn: 0.0143901\ttotal: 281ms\tremaining: 723ms\n",
      "14:\tlearn: 0.0115975\ttotal: 301ms\tremaining: 703ms\n",
      "15:\tlearn: 0.0094226\ttotal: 323ms\tremaining: 686ms\n",
      "16:\tlearn: 0.0075173\ttotal: 339ms\tremaining: 657ms\n",
      "17:\tlearn: 0.0062402\ttotal: 359ms\tremaining: 639ms\n",
      "18:\tlearn: 0.0051324\ttotal: 380ms\tremaining: 620ms\n",
      "19:\tlearn: 0.0044304\ttotal: 400ms\tremaining: 600ms\n",
      "20:\tlearn: 0.0037097\ttotal: 420ms\tremaining: 580ms\n",
      "21:\tlearn: 0.0031411\ttotal: 441ms\tremaining: 561ms\n",
      "22:\tlearn: 0.0026845\ttotal: 461ms\tremaining: 542ms\n",
      "23:\tlearn: 0.0023300\ttotal: 481ms\tremaining: 521ms\n",
      "24:\tlearn: 0.0020594\ttotal: 499ms\tremaining: 499ms\n",
      "25:\tlearn: 0.0017951\ttotal: 518ms\tremaining: 478ms\n",
      "26:\tlearn: 0.0015783\ttotal: 538ms\tremaining: 459ms\n",
      "27:\tlearn: 0.0013865\ttotal: 557ms\tremaining: 438ms\n",
      "28:\tlearn: 0.0012329\ttotal: 576ms\tremaining: 417ms\n",
      "29:\tlearn: 0.0011029\ttotal: 596ms\tremaining: 397ms\n",
      "30:\tlearn: 0.0009960\ttotal: 616ms\tremaining: 378ms\n",
      "31:\tlearn: 0.0009035\ttotal: 636ms\tremaining: 358ms\n",
      "32:\tlearn: 0.0008279\ttotal: 655ms\tremaining: 337ms\n",
      "33:\tlearn: 0.0007588\ttotal: 675ms\tremaining: 317ms\n",
      "34:\tlearn: 0.0006997\ttotal: 693ms\tremaining: 297ms\n",
      "35:\tlearn: 0.0006482\ttotal: 712ms\tremaining: 277ms\n",
      "36:\tlearn: 0.0005990\ttotal: 732ms\tremaining: 257ms\n",
      "37:\tlearn: 0.0005569\ttotal: 750ms\tremaining: 237ms\n",
      "38:\tlearn: 0.0005167\ttotal: 769ms\tremaining: 217ms\n",
      "39:\tlearn: 0.0004819\ttotal: 787ms\tremaining: 197ms\n",
      "40:\tlearn: 0.0004545\ttotal: 804ms\tremaining: 177ms\n",
      "41:\tlearn: 0.0004291\ttotal: 823ms\tremaining: 157ms\n",
      "42:\tlearn: 0.0004055\ttotal: 841ms\tremaining: 137ms\n",
      "43:\tlearn: 0.0003852\ttotal: 860ms\tremaining: 117ms\n",
      "44:\tlearn: 0.0003658\ttotal: 879ms\tremaining: 97.7ms\n",
      "45:\tlearn: 0.0003475\ttotal: 897ms\tremaining: 78ms\n",
      "46:\tlearn: 0.0003295\ttotal: 914ms\tremaining: 58.4ms\n",
      "47:\tlearn: 0.0003149\ttotal: 933ms\tremaining: 38.9ms\n",
      "48:\tlearn: 0.0003006\ttotal: 950ms\tremaining: 19.4ms\n",
      "49:\tlearn: 0.0002881\ttotal: 967ms\tremaining: 0us\n",
      "0:\tlearn: 0.5223626\ttotal: 21.4ms\tremaining: 1.05s\n",
      "1:\tlearn: 0.3895522\ttotal: 43ms\tremaining: 1.03s\n",
      "2:\tlearn: 0.2910330\ttotal: 63.9ms\tremaining: 1s\n",
      "3:\tlearn: 0.2138121\ttotal: 84.1ms\tremaining: 968ms\n",
      "4:\tlearn: 0.1586902\ttotal: 106ms\tremaining: 951ms\n",
      "5:\tlearn: 0.1135920\ttotal: 121ms\tremaining: 889ms\n",
      "6:\tlearn: 0.0847379\ttotal: 141ms\tremaining: 865ms\n",
      "7:\tlearn: 0.0637391\ttotal: 161ms\tremaining: 848ms\n",
      "8:\tlearn: 0.0484280\ttotal: 182ms\tremaining: 831ms\n",
      "9:\tlearn: 0.0366514\ttotal: 201ms\tremaining: 803ms\n",
      "10:\tlearn: 0.0287114\ttotal: 221ms\tremaining: 785ms\n",
      "11:\tlearn: 0.0227502\ttotal: 242ms\tremaining: 767ms\n",
      "12:\tlearn: 0.0179209\ttotal: 263ms\tremaining: 749ms\n",
      "13:\tlearn: 0.0140511\ttotal: 281ms\tremaining: 724ms\n",
      "14:\tlearn: 0.0112590\ttotal: 301ms\tremaining: 703ms\n",
      "15:\tlearn: 0.0091976\ttotal: 322ms\tremaining: 684ms\n",
      "16:\tlearn: 0.0075300\ttotal: 342ms\tremaining: 664ms\n",
      "17:\tlearn: 0.0061439\ttotal: 363ms\tremaining: 645ms\n",
      "18:\tlearn: 0.0051113\ttotal: 384ms\tremaining: 626ms\n",
      "19:\tlearn: 0.0043623\ttotal: 403ms\tremaining: 605ms\n",
      "20:\tlearn: 0.0037072\ttotal: 423ms\tremaining: 585ms\n",
      "21:\tlearn: 0.0031371\ttotal: 444ms\tremaining: 565ms\n",
      "22:\tlearn: 0.0027482\ttotal: 464ms\tremaining: 545ms\n",
      "23:\tlearn: 0.0023896\ttotal: 485ms\tremaining: 526ms\n",
      "24:\tlearn: 0.0021060\ttotal: 504ms\tremaining: 504ms\n",
      "25:\tlearn: 0.0018788\ttotal: 523ms\tremaining: 483ms\n",
      "26:\tlearn: 0.0016608\ttotal: 544ms\tremaining: 463ms\n",
      "27:\tlearn: 0.0014804\ttotal: 563ms\tremaining: 442ms\n",
      "28:\tlearn: 0.0013258\ttotal: 583ms\tremaining: 422ms\n",
      "29:\tlearn: 0.0011838\ttotal: 602ms\tremaining: 401ms\n",
      "30:\tlearn: 0.0010777\ttotal: 622ms\tremaining: 381ms\n",
      "31:\tlearn: 0.0009957\ttotal: 642ms\tremaining: 361ms\n",
      "32:\tlearn: 0.0009196\ttotal: 661ms\tremaining: 341ms\n",
      "33:\tlearn: 0.0008366\ttotal: 681ms\tremaining: 320ms\n",
      "34:\tlearn: 0.0007687\ttotal: 700ms\tremaining: 300ms\n",
      "35:\tlearn: 0.0007086\ttotal: 720ms\tremaining: 280ms\n",
      "36:\tlearn: 0.0006547\ttotal: 739ms\tremaining: 260ms\n",
      "37:\tlearn: 0.0006036\ttotal: 758ms\tremaining: 239ms\n",
      "38:\tlearn: 0.0005590\ttotal: 776ms\tremaining: 219ms\n",
      "39:\tlearn: 0.0005203\ttotal: 795ms\tremaining: 199ms\n",
      "40:\tlearn: 0.0004907\ttotal: 812ms\tremaining: 178ms\n",
      "41:\tlearn: 0.0004638\ttotal: 831ms\tremaining: 158ms\n",
      "42:\tlearn: 0.0004381\ttotal: 850ms\tremaining: 138ms\n",
      "43:\tlearn: 0.0004152\ttotal: 869ms\tremaining: 118ms\n",
      "44:\tlearn: 0.0003925\ttotal: 887ms\tremaining: 98.6ms\n",
      "45:\tlearn: 0.0003716\ttotal: 904ms\tremaining: 78.6ms\n",
      "46:\tlearn: 0.0003541\ttotal: 921ms\tremaining: 58.8ms\n",
      "47:\tlearn: 0.0003362\ttotal: 938ms\tremaining: 39.1ms\n",
      "48:\tlearn: 0.0003209\ttotal: 956ms\tremaining: 19.5ms\n",
      "49:\tlearn: 0.0003057\ttotal: 973ms\tremaining: 0us\n",
      "0:\tlearn: 0.5218547\ttotal: 20.6ms\tremaining: 1.01s\n",
      "1:\tlearn: 0.3896602\ttotal: 42.6ms\tremaining: 1.02s\n",
      "2:\tlearn: 0.2912479\ttotal: 63.5ms\tremaining: 995ms\n",
      "3:\tlearn: 0.2140785\ttotal: 85.3ms\tremaining: 981ms\n",
      "4:\tlearn: 0.1585607\ttotal: 106ms\tremaining: 956ms\n",
      "5:\tlearn: 0.1134926\ttotal: 122ms\tremaining: 896ms\n",
      "6:\tlearn: 0.0842337\ttotal: 143ms\tremaining: 877ms\n",
      "7:\tlearn: 0.0633781\ttotal: 164ms\tremaining: 859ms\n",
      "8:\tlearn: 0.0486446\ttotal: 185ms\tremaining: 842ms\n",
      "9:\tlearn: 0.0376992\ttotal: 203ms\tremaining: 811ms\n",
      "10:\tlearn: 0.0297976\ttotal: 224ms\tremaining: 794ms\n",
      "11:\tlearn: 0.0236530\ttotal: 245ms\tremaining: 776ms\n",
      "12:\tlearn: 0.0183583\ttotal: 264ms\tremaining: 751ms\n",
      "13:\tlearn: 0.0145958\ttotal: 284ms\tremaining: 731ms\n",
      "14:\tlearn: 0.0117608\ttotal: 305ms\tremaining: 711ms\n",
      "15:\tlearn: 0.0097598\ttotal: 326ms\tremaining: 694ms\n",
      "16:\tlearn: 0.0077789\ttotal: 343ms\tremaining: 665ms\n",
      "17:\tlearn: 0.0064562\ttotal: 363ms\tremaining: 646ms\n",
      "18:\tlearn: 0.0053022\ttotal: 384ms\tremaining: 626ms\n",
      "19:\tlearn: 0.0045681\ttotal: 404ms\tremaining: 606ms\n",
      "20:\tlearn: 0.0039323\ttotal: 424ms\tremaining: 585ms\n",
      "21:\tlearn: 0.0033546\ttotal: 445ms\tremaining: 566ms\n",
      "22:\tlearn: 0.0028605\ttotal: 465ms\tremaining: 546ms\n",
      "23:\tlearn: 0.0024610\ttotal: 486ms\tremaining: 527ms\n",
      "24:\tlearn: 0.0021821\ttotal: 505ms\tremaining: 505ms\n",
      "25:\tlearn: 0.0019410\ttotal: 525ms\tremaining: 484ms\n",
      "26:\tlearn: 0.0016980\ttotal: 544ms\tremaining: 464ms\n",
      "27:\tlearn: 0.0015022\ttotal: 563ms\tremaining: 442ms\n",
      "28:\tlearn: 0.0013303\ttotal: 582ms\tremaining: 421ms\n",
      "29:\tlearn: 0.0011894\ttotal: 601ms\tremaining: 401ms\n",
      "30:\tlearn: 0.0010752\ttotal: 622ms\tremaining: 381ms\n",
      "31:\tlearn: 0.0009890\ttotal: 641ms\tremaining: 360ms\n",
      "32:\tlearn: 0.0008941\ttotal: 661ms\tremaining: 341ms\n",
      "33:\tlearn: 0.0008167\ttotal: 680ms\tremaining: 320ms\n",
      "34:\tlearn: 0.0007482\ttotal: 699ms\tremaining: 300ms\n",
      "35:\tlearn: 0.0006886\ttotal: 719ms\tremaining: 279ms\n",
      "36:\tlearn: 0.0006369\ttotal: 738ms\tremaining: 259ms\n",
      "37:\tlearn: 0.0005889\ttotal: 757ms\tremaining: 239ms\n",
      "38:\tlearn: 0.0005458\ttotal: 775ms\tremaining: 219ms\n",
      "39:\tlearn: 0.0005173\ttotal: 792ms\tremaining: 198ms\n",
      "40:\tlearn: 0.0004911\ttotal: 810ms\tremaining: 178ms\n",
      "41:\tlearn: 0.0004577\ttotal: 829ms\tremaining: 158ms\n",
      "42:\tlearn: 0.0004335\ttotal: 849ms\tremaining: 138ms\n",
      "43:\tlearn: 0.0004093\ttotal: 867ms\tremaining: 118ms\n",
      "44:\tlearn: 0.0003872\ttotal: 886ms\tremaining: 98.4ms\n",
      "45:\tlearn: 0.0003677\ttotal: 903ms\tremaining: 78.5ms\n",
      "46:\tlearn: 0.0003508\ttotal: 920ms\tremaining: 58.7ms\n",
      "47:\tlearn: 0.0003341\ttotal: 938ms\tremaining: 39.1ms\n",
      "48:\tlearn: 0.0003246\ttotal: 954ms\tremaining: 19.5ms\n",
      "49:\tlearn: 0.0003092\ttotal: 972ms\tremaining: 0us\n",
      "0:\tlearn: 0.5216803\ttotal: 20.8ms\tremaining: 1.02s\n",
      "1:\tlearn: 0.3897176\ttotal: 42.7ms\tremaining: 1.02s\n",
      "2:\tlearn: 0.2873670\ttotal: 63.5ms\tremaining: 995ms\n",
      "3:\tlearn: 0.2114789\ttotal: 84.1ms\tremaining: 967ms\n",
      "4:\tlearn: 0.1565692\ttotal: 105ms\tremaining: 944ms\n",
      "5:\tlearn: 0.1120749\ttotal: 120ms\tremaining: 880ms\n",
      "6:\tlearn: 0.0824868\ttotal: 140ms\tremaining: 858ms\n",
      "7:\tlearn: 0.0619179\ttotal: 160ms\tremaining: 842ms\n",
      "8:\tlearn: 0.0480795\ttotal: 181ms\tremaining: 826ms\n",
      "9:\tlearn: 0.0364278\ttotal: 200ms\tremaining: 799ms\n",
      "10:\tlearn: 0.0284548\ttotal: 220ms\tremaining: 781ms\n",
      "11:\tlearn: 0.0226081\ttotal: 241ms\tremaining: 764ms\n",
      "12:\tlearn: 0.0179877\ttotal: 262ms\tremaining: 746ms\n",
      "13:\tlearn: 0.0142832\ttotal: 283ms\tremaining: 728ms\n",
      "14:\tlearn: 0.0115227\ttotal: 304ms\tremaining: 710ms\n",
      "15:\tlearn: 0.0094940\ttotal: 325ms\tremaining: 690ms\n",
      "16:\tlearn: 0.0078241\ttotal: 346ms\tremaining: 671ms\n",
      "17:\tlearn: 0.0065136\ttotal: 366ms\tremaining: 650ms\n",
      "18:\tlearn: 0.0054158\ttotal: 386ms\tremaining: 630ms\n",
      "19:\tlearn: 0.0045447\ttotal: 406ms\tremaining: 609ms\n"
     ]
    },
    {
     "name": "stdout",
     "output_type": "stream",
     "text": [
      "20:\tlearn: 0.0038901\ttotal: 425ms\tremaining: 587ms\n",
      "21:\tlearn: 0.0033149\ttotal: 446ms\tremaining: 568ms\n",
      "22:\tlearn: 0.0028854\ttotal: 467ms\tremaining: 548ms\n",
      "23:\tlearn: 0.0025240\ttotal: 488ms\tremaining: 529ms\n",
      "24:\tlearn: 0.0021977\ttotal: 509ms\tremaining: 509ms\n",
      "25:\tlearn: 0.0019384\ttotal: 528ms\tremaining: 487ms\n",
      "26:\tlearn: 0.0017287\ttotal: 548ms\tremaining: 467ms\n",
      "27:\tlearn: 0.0015298\ttotal: 567ms\tremaining: 446ms\n",
      "28:\tlearn: 0.0013465\ttotal: 588ms\tremaining: 426ms\n",
      "29:\tlearn: 0.0012245\ttotal: 608ms\tremaining: 405ms\n",
      "30:\tlearn: 0.0011121\ttotal: 628ms\tremaining: 385ms\n",
      "31:\tlearn: 0.0010112\ttotal: 648ms\tremaining: 364ms\n",
      "32:\tlearn: 0.0009225\ttotal: 667ms\tremaining: 344ms\n",
      "33:\tlearn: 0.0008463\ttotal: 686ms\tremaining: 323ms\n",
      "34:\tlearn: 0.0007763\ttotal: 705ms\tremaining: 302ms\n",
      "35:\tlearn: 0.0007229\ttotal: 724ms\tremaining: 282ms\n",
      "36:\tlearn: 0.0006683\ttotal: 743ms\tremaining: 261ms\n",
      "37:\tlearn: 0.0006250\ttotal: 761ms\tremaining: 240ms\n",
      "38:\tlearn: 0.0005769\ttotal: 780ms\tremaining: 220ms\n",
      "39:\tlearn: 0.0005411\ttotal: 799ms\tremaining: 200ms\n",
      "40:\tlearn: 0.0005083\ttotal: 817ms\tremaining: 179ms\n",
      "41:\tlearn: 0.0004798\ttotal: 836ms\tremaining: 159ms\n",
      "42:\tlearn: 0.0004526\ttotal: 856ms\tremaining: 139ms\n",
      "43:\tlearn: 0.0004214\ttotal: 876ms\tremaining: 119ms\n",
      "44:\tlearn: 0.0004028\ttotal: 894ms\tremaining: 99.3ms\n",
      "45:\tlearn: 0.0003852\ttotal: 912ms\tremaining: 79.3ms\n",
      "46:\tlearn: 0.0003698\ttotal: 931ms\tremaining: 59.4ms\n",
      "47:\tlearn: 0.0003471\ttotal: 948ms\tremaining: 39.5ms\n",
      "48:\tlearn: 0.0003333\ttotal: 967ms\tremaining: 19.7ms\n",
      "49:\tlearn: 0.0003207\ttotal: 983ms\tremaining: 0us\n",
      "0:\tlearn: 0.5146804\ttotal: 20.3ms\tremaining: 996ms\n",
      "1:\tlearn: 0.3822109\ttotal: 41.2ms\tremaining: 990ms\n",
      "2:\tlearn: 0.2747716\ttotal: 56.9ms\tremaining: 892ms\n",
      "3:\tlearn: 0.2009790\ttotal: 76.3ms\tremaining: 878ms\n",
      "4:\tlearn: 0.1485951\ttotal: 96.5ms\tremaining: 869ms\n",
      "5:\tlearn: 0.1093419\ttotal: 117ms\tremaining: 854ms\n",
      "6:\tlearn: 0.0827593\ttotal: 137ms\tremaining: 843ms\n",
      "7:\tlearn: 0.0625326\ttotal: 158ms\tremaining: 828ms\n",
      "8:\tlearn: 0.0478741\ttotal: 179ms\tremaining: 815ms\n",
      "9:\tlearn: 0.0366880\ttotal: 199ms\tremaining: 798ms\n",
      "10:\tlearn: 0.0286939\ttotal: 221ms\tremaining: 783ms\n",
      "11:\tlearn: 0.0226062\ttotal: 242ms\tremaining: 767ms\n",
      "12:\tlearn: 0.0179686\ttotal: 264ms\tremaining: 750ms\n",
      "13:\tlearn: 0.0143690\ttotal: 284ms\tremaining: 731ms\n",
      "14:\tlearn: 0.0114933\ttotal: 305ms\tremaining: 711ms\n",
      "15:\tlearn: 0.0095303\ttotal: 325ms\tremaining: 690ms\n",
      "16:\tlearn: 0.0077428\ttotal: 346ms\tremaining: 672ms\n",
      "17:\tlearn: 0.0063914\ttotal: 367ms\tremaining: 652ms\n",
      "18:\tlearn: 0.0052805\ttotal: 387ms\tremaining: 631ms\n",
      "19:\tlearn: 0.0045089\ttotal: 406ms\tremaining: 609ms\n",
      "20:\tlearn: 0.0038745\ttotal: 425ms\tremaining: 587ms\n",
      "21:\tlearn: 0.0033128\ttotal: 447ms\tremaining: 568ms\n",
      "22:\tlearn: 0.0028433\ttotal: 466ms\tremaining: 548ms\n",
      "23:\tlearn: 0.0024527\ttotal: 487ms\tremaining: 528ms\n",
      "24:\tlearn: 0.0021183\ttotal: 509ms\tremaining: 509ms\n",
      "25:\tlearn: 0.0018787\ttotal: 528ms\tremaining: 487ms\n",
      "26:\tlearn: 0.0016486\ttotal: 548ms\tremaining: 467ms\n",
      "27:\tlearn: 0.0014653\ttotal: 568ms\tremaining: 447ms\n",
      "28:\tlearn: 0.0013063\ttotal: 588ms\tremaining: 426ms\n",
      "29:\tlearn: 0.0011754\ttotal: 608ms\tremaining: 405ms\n",
      "30:\tlearn: 0.0010520\ttotal: 628ms\tremaining: 385ms\n",
      "31:\tlearn: 0.0009475\ttotal: 648ms\tremaining: 364ms\n",
      "32:\tlearn: 0.0008764\ttotal: 667ms\tremaining: 343ms\n",
      "33:\tlearn: 0.0007983\ttotal: 686ms\tremaining: 323ms\n",
      "34:\tlearn: 0.0007361\ttotal: 705ms\tremaining: 302ms\n",
      "35:\tlearn: 0.0006780\ttotal: 724ms\tremaining: 282ms\n",
      "36:\tlearn: 0.0006281\ttotal: 743ms\tremaining: 261ms\n",
      "37:\tlearn: 0.0005846\ttotal: 761ms\tremaining: 240ms\n",
      "38:\tlearn: 0.0005418\ttotal: 779ms\tremaining: 220ms\n",
      "39:\tlearn: 0.0005044\ttotal: 797ms\tremaining: 199ms\n",
      "40:\tlearn: 0.0004725\ttotal: 816ms\tremaining: 179ms\n",
      "41:\tlearn: 0.0004434\ttotal: 835ms\tremaining: 159ms\n",
      "42:\tlearn: 0.0004178\ttotal: 854ms\tremaining: 139ms\n",
      "43:\tlearn: 0.0003961\ttotal: 872ms\tremaining: 119ms\n",
      "44:\tlearn: 0.0003754\ttotal: 890ms\tremaining: 98.8ms\n",
      "45:\tlearn: 0.0003564\ttotal: 907ms\tremaining: 78.8ms\n",
      "46:\tlearn: 0.0003383\ttotal: 924ms\tremaining: 59ms\n",
      "47:\tlearn: 0.0003222\ttotal: 941ms\tremaining: 39.2ms\n",
      "48:\tlearn: 0.0003127\ttotal: 957ms\tremaining: 19.5ms\n",
      "49:\tlearn: 0.0002980\ttotal: 975ms\tremaining: 0us\n",
      "0:\tlearn: 0.5217568\ttotal: 20.4ms\tremaining: 1s\n",
      "1:\tlearn: 0.3892948\ttotal: 42.1ms\tremaining: 1.01s\n",
      "2:\tlearn: 0.2909019\ttotal: 62.8ms\tremaining: 984ms\n",
      "3:\tlearn: 0.2137098\ttotal: 83.5ms\tremaining: 960ms\n",
      "4:\tlearn: 0.1581339\ttotal: 104ms\tremaining: 939ms\n",
      "5:\tlearn: 0.1131897\ttotal: 120ms\tremaining: 880ms\n",
      "6:\tlearn: 0.0839631\ttotal: 139ms\tremaining: 856ms\n",
      "7:\tlearn: 0.0631400\ttotal: 160ms\tremaining: 839ms\n",
      "8:\tlearn: 0.0484262\ttotal: 181ms\tremaining: 824ms\n",
      "9:\tlearn: 0.0375332\ttotal: 199ms\tremaining: 796ms\n",
      "10:\tlearn: 0.0293757\ttotal: 220ms\tremaining: 780ms\n",
      "11:\tlearn: 0.0232955\ttotal: 241ms\tremaining: 764ms\n",
      "12:\tlearn: 0.0182611\ttotal: 260ms\tremaining: 740ms\n",
      "13:\tlearn: 0.0143901\ttotal: 281ms\tremaining: 722ms\n",
      "14:\tlearn: 0.0115975\ttotal: 301ms\tremaining: 703ms\n",
      "15:\tlearn: 0.0094226\ttotal: 323ms\tremaining: 686ms\n",
      "16:\tlearn: 0.0075173\ttotal: 339ms\tremaining: 658ms\n",
      "17:\tlearn: 0.0062402\ttotal: 359ms\tremaining: 639ms\n",
      "18:\tlearn: 0.0051324\ttotal: 380ms\tremaining: 620ms\n",
      "19:\tlearn: 0.0044304\ttotal: 400ms\tremaining: 600ms\n",
      "20:\tlearn: 0.0037097\ttotal: 421ms\tremaining: 581ms\n",
      "21:\tlearn: 0.0031411\ttotal: 441ms\tremaining: 561ms\n",
      "22:\tlearn: 0.0026845\ttotal: 461ms\tremaining: 541ms\n",
      "23:\tlearn: 0.0023300\ttotal: 481ms\tremaining: 521ms\n",
      "24:\tlearn: 0.0020594\ttotal: 500ms\tremaining: 500ms\n",
      "25:\tlearn: 0.0017951\ttotal: 519ms\tremaining: 479ms\n",
      "26:\tlearn: 0.0015783\ttotal: 539ms\tremaining: 459ms\n",
      "27:\tlearn: 0.0013865\ttotal: 558ms\tremaining: 439ms\n",
      "28:\tlearn: 0.0012329\ttotal: 578ms\tremaining: 418ms\n",
      "29:\tlearn: 0.0011029\ttotal: 597ms\tremaining: 398ms\n",
      "30:\tlearn: 0.0009960\ttotal: 617ms\tremaining: 378ms\n",
      "31:\tlearn: 0.0009035\ttotal: 637ms\tremaining: 358ms\n",
      "32:\tlearn: 0.0008279\ttotal: 657ms\tremaining: 338ms\n",
      "33:\tlearn: 0.0007588\ttotal: 676ms\tremaining: 318ms\n",
      "34:\tlearn: 0.0006997\ttotal: 694ms\tremaining: 298ms\n",
      "35:\tlearn: 0.0006482\ttotal: 713ms\tremaining: 277ms\n",
      "36:\tlearn: 0.0005990\ttotal: 733ms\tremaining: 257ms\n",
      "37:\tlearn: 0.0005569\ttotal: 752ms\tremaining: 237ms\n",
      "38:\tlearn: 0.0005167\ttotal: 770ms\tremaining: 217ms\n",
      "39:\tlearn: 0.0004819\ttotal: 788ms\tremaining: 197ms\n",
      "40:\tlearn: 0.0004545\ttotal: 806ms\tremaining: 177ms\n",
      "41:\tlearn: 0.0004291\ttotal: 824ms\tremaining: 157ms\n",
      "42:\tlearn: 0.0004055\ttotal: 843ms\tremaining: 137ms\n",
      "43:\tlearn: 0.0003852\ttotal: 862ms\tremaining: 118ms\n",
      "44:\tlearn: 0.0003658\ttotal: 881ms\tremaining: 97.9ms\n",
      "45:\tlearn: 0.0003475\ttotal: 898ms\tremaining: 78.1ms\n",
      "46:\tlearn: 0.0003295\ttotal: 915ms\tremaining: 58.4ms\n",
      "47:\tlearn: 0.0003149\ttotal: 933ms\tremaining: 38.9ms\n",
      "48:\tlearn: 0.0003006\ttotal: 951ms\tremaining: 19.4ms\n",
      "49:\tlearn: 0.0002881\ttotal: 967ms\tremaining: 0us\n",
      "0:\tlearn: 0.5223626\ttotal: 20.7ms\tremaining: 1.01s\n",
      "1:\tlearn: 0.3895522\ttotal: 42ms\tremaining: 1.01s\n",
      "2:\tlearn: 0.2910330\ttotal: 62.7ms\tremaining: 983ms\n",
      "3:\tlearn: 0.2138121\ttotal: 83.5ms\tremaining: 960ms\n",
      "4:\tlearn: 0.1586902\ttotal: 105ms\tremaining: 943ms\n",
      "5:\tlearn: 0.1135920\ttotal: 120ms\tremaining: 881ms\n",
      "6:\tlearn: 0.0847379\ttotal: 140ms\tremaining: 859ms\n",
      "7:\tlearn: 0.0637391\ttotal: 160ms\tremaining: 842ms\n",
      "8:\tlearn: 0.0484280\ttotal: 181ms\tremaining: 826ms\n",
      "9:\tlearn: 0.0366514\ttotal: 199ms\tremaining: 797ms\n",
      "10:\tlearn: 0.0287114\ttotal: 220ms\tremaining: 780ms\n",
      "11:\tlearn: 0.0227502\ttotal: 240ms\tremaining: 761ms\n",
      "12:\tlearn: 0.0179209\ttotal: 262ms\tremaining: 747ms\n",
      "13:\tlearn: 0.0140511\ttotal: 281ms\tremaining: 721ms\n",
      "14:\tlearn: 0.0112590\ttotal: 301ms\tremaining: 702ms\n",
      "15:\tlearn: 0.0091976\ttotal: 321ms\tremaining: 683ms\n",
      "16:\tlearn: 0.0075300\ttotal: 341ms\tremaining: 662ms\n",
      "17:\tlearn: 0.0061439\ttotal: 362ms\tremaining: 643ms\n",
      "18:\tlearn: 0.0051113\ttotal: 383ms\tremaining: 624ms\n",
      "19:\tlearn: 0.0043623\ttotal: 402ms\tremaining: 603ms\n",
      "20:\tlearn: 0.0037072\ttotal: 423ms\tremaining: 584ms\n",
      "21:\tlearn: 0.0031371\ttotal: 444ms\tremaining: 565ms\n",
      "22:\tlearn: 0.0027482\ttotal: 464ms\tremaining: 545ms\n",
      "23:\tlearn: 0.0023896\ttotal: 485ms\tremaining: 526ms\n",
      "24:\tlearn: 0.0021060\ttotal: 504ms\tremaining: 504ms\n",
      "25:\tlearn: 0.0018788\ttotal: 522ms\tremaining: 482ms\n",
      "26:\tlearn: 0.0016608\ttotal: 543ms\tremaining: 463ms\n",
      "27:\tlearn: 0.0014804\ttotal: 562ms\tremaining: 442ms\n",
      "28:\tlearn: 0.0013258\ttotal: 582ms\tremaining: 422ms\n",
      "29:\tlearn: 0.0011838\ttotal: 601ms\tremaining: 401ms\n",
      "30:\tlearn: 0.0010777\ttotal: 621ms\tremaining: 381ms\n",
      "31:\tlearn: 0.0009957\ttotal: 641ms\tremaining: 361ms\n",
      "32:\tlearn: 0.0009196\ttotal: 661ms\tremaining: 340ms\n",
      "33:\tlearn: 0.0008366\ttotal: 681ms\tremaining: 320ms\n",
      "34:\tlearn: 0.0007687\ttotal: 700ms\tremaining: 300ms\n",
      "35:\tlearn: 0.0007086\ttotal: 719ms\tremaining: 280ms\n",
      "36:\tlearn: 0.0006547\ttotal: 738ms\tremaining: 259ms\n",
      "37:\tlearn: 0.0006036\ttotal: 757ms\tremaining: 239ms\n",
      "38:\tlearn: 0.0005590\ttotal: 775ms\tremaining: 219ms\n",
      "39:\tlearn: 0.0005203\ttotal: 794ms\tremaining: 198ms\n",
      "40:\tlearn: 0.0004907\ttotal: 812ms\tremaining: 178ms\n"
     ]
    },
    {
     "name": "stdout",
     "output_type": "stream",
     "text": [
      "41:\tlearn: 0.0004638\ttotal: 830ms\tremaining: 158ms\n",
      "42:\tlearn: 0.0004381\ttotal: 849ms\tremaining: 138ms\n",
      "43:\tlearn: 0.0004152\ttotal: 868ms\tremaining: 118ms\n",
      "44:\tlearn: 0.0003925\ttotal: 886ms\tremaining: 98.5ms\n",
      "45:\tlearn: 0.0003716\ttotal: 903ms\tremaining: 78.5ms\n",
      "46:\tlearn: 0.0003541\ttotal: 920ms\tremaining: 58.7ms\n",
      "47:\tlearn: 0.0003362\ttotal: 937ms\tremaining: 39ms\n",
      "48:\tlearn: 0.0003209\ttotal: 954ms\tremaining: 19.5ms\n",
      "49:\tlearn: 0.0003057\ttotal: 972ms\tremaining: 0us\n",
      "0:\tlearn: 0.5218547\ttotal: 21.9ms\tremaining: 1.07s\n",
      "1:\tlearn: 0.3896602\ttotal: 44.7ms\tremaining: 1.07s\n",
      "2:\tlearn: 0.2912479\ttotal: 66.3ms\tremaining: 1.04s\n",
      "3:\tlearn: 0.2140785\ttotal: 87.7ms\tremaining: 1.01s\n",
      "4:\tlearn: 0.1585607\ttotal: 109ms\tremaining: 977ms\n",
      "5:\tlearn: 0.1134926\ttotal: 124ms\tremaining: 910ms\n",
      "6:\tlearn: 0.0842337\ttotal: 144ms\tremaining: 882ms\n",
      "7:\tlearn: 0.0633781\ttotal: 165ms\tremaining: 865ms\n",
      "8:\tlearn: 0.0486446\ttotal: 186ms\tremaining: 848ms\n",
      "9:\tlearn: 0.0376992\ttotal: 204ms\tremaining: 815ms\n",
      "10:\tlearn: 0.0297976\ttotal: 225ms\tremaining: 798ms\n",
      "11:\tlearn: 0.0236530\ttotal: 247ms\tremaining: 782ms\n",
      "12:\tlearn: 0.0183583\ttotal: 266ms\tremaining: 757ms\n",
      "13:\tlearn: 0.0145958\ttotal: 287ms\tremaining: 737ms\n",
      "14:\tlearn: 0.0117608\ttotal: 307ms\tremaining: 717ms\n",
      "15:\tlearn: 0.0097598\ttotal: 329ms\tremaining: 698ms\n",
      "16:\tlearn: 0.0077789\ttotal: 344ms\tremaining: 669ms\n",
      "17:\tlearn: 0.0064562\ttotal: 365ms\tremaining: 649ms\n",
      "18:\tlearn: 0.0053022\ttotal: 385ms\tremaining: 628ms\n",
      "19:\tlearn: 0.0045681\ttotal: 405ms\tremaining: 608ms\n",
      "20:\tlearn: 0.0039323\ttotal: 425ms\tremaining: 586ms\n",
      "21:\tlearn: 0.0033546\ttotal: 446ms\tremaining: 568ms\n",
      "22:\tlearn: 0.0028605\ttotal: 467ms\tremaining: 548ms\n",
      "23:\tlearn: 0.0024610\ttotal: 488ms\tremaining: 528ms\n",
      "24:\tlearn: 0.0021821\ttotal: 507ms\tremaining: 507ms\n",
      "25:\tlearn: 0.0019410\ttotal: 527ms\tremaining: 486ms\n",
      "26:\tlearn: 0.0016980\ttotal: 546ms\tremaining: 465ms\n",
      "27:\tlearn: 0.0015022\ttotal: 565ms\tremaining: 444ms\n",
      "28:\tlearn: 0.0013303\ttotal: 584ms\tremaining: 423ms\n",
      "29:\tlearn: 0.0011894\ttotal: 603ms\tremaining: 402ms\n",
      "30:\tlearn: 0.0010752\ttotal: 624ms\tremaining: 382ms\n",
      "31:\tlearn: 0.0009890\ttotal: 643ms\tremaining: 362ms\n",
      "32:\tlearn: 0.0008941\ttotal: 663ms\tremaining: 342ms\n",
      "33:\tlearn: 0.0008167\ttotal: 682ms\tremaining: 321ms\n",
      "34:\tlearn: 0.0007482\ttotal: 701ms\tremaining: 300ms\n",
      "35:\tlearn: 0.0006886\ttotal: 721ms\tremaining: 280ms\n",
      "36:\tlearn: 0.0006369\ttotal: 741ms\tremaining: 260ms\n",
      "37:\tlearn: 0.0005889\ttotal: 759ms\tremaining: 240ms\n",
      "38:\tlearn: 0.0005458\ttotal: 777ms\tremaining: 219ms\n",
      "39:\tlearn: 0.0005173\ttotal: 794ms\tremaining: 199ms\n",
      "40:\tlearn: 0.0004911\ttotal: 812ms\tremaining: 178ms\n",
      "41:\tlearn: 0.0004577\ttotal: 831ms\tremaining: 158ms\n",
      "42:\tlearn: 0.0004335\ttotal: 850ms\tremaining: 138ms\n",
      "43:\tlearn: 0.0004093\ttotal: 870ms\tremaining: 119ms\n",
      "44:\tlearn: 0.0003872\ttotal: 888ms\tremaining: 98.7ms\n",
      "45:\tlearn: 0.0003677\ttotal: 906ms\tremaining: 78.8ms\n",
      "46:\tlearn: 0.0003508\ttotal: 923ms\tremaining: 58.9ms\n",
      "47:\tlearn: 0.0003341\ttotal: 940ms\tremaining: 39.2ms\n",
      "48:\tlearn: 0.0003246\ttotal: 957ms\tremaining: 19.5ms\n",
      "49:\tlearn: 0.0003092\ttotal: 974ms\tremaining: 0us\n",
      "0:\tlearn: 0.5216803\ttotal: 20.8ms\tremaining: 1.02s\n",
      "1:\tlearn: 0.3897176\ttotal: 42.7ms\tremaining: 1.02s\n",
      "2:\tlearn: 0.2873670\ttotal: 63.3ms\tremaining: 991ms\n",
      "3:\tlearn: 0.2114789\ttotal: 83.7ms\tremaining: 962ms\n",
      "4:\tlearn: 0.1565692\ttotal: 105ms\tremaining: 943ms\n",
      "5:\tlearn: 0.1120749\ttotal: 121ms\tremaining: 886ms\n",
      "6:\tlearn: 0.0824868\ttotal: 140ms\tremaining: 862ms\n",
      "7:\tlearn: 0.0619179\ttotal: 161ms\tremaining: 845ms\n",
      "8:\tlearn: 0.0480795\ttotal: 182ms\tremaining: 830ms\n",
      "9:\tlearn: 0.0364278\ttotal: 200ms\tremaining: 802ms\n",
      "10:\tlearn: 0.0284548\ttotal: 221ms\tremaining: 783ms\n",
      "11:\tlearn: 0.0226081\ttotal: 242ms\tremaining: 765ms\n",
      "12:\tlearn: 0.0179877\ttotal: 264ms\tremaining: 750ms\n",
      "13:\tlearn: 0.0142832\ttotal: 286ms\tremaining: 734ms\n",
      "14:\tlearn: 0.0115227\ttotal: 308ms\tremaining: 718ms\n",
      "15:\tlearn: 0.0094940\ttotal: 328ms\tremaining: 697ms\n",
      "16:\tlearn: 0.0078241\ttotal: 350ms\tremaining: 680ms\n",
      "17:\tlearn: 0.0065136\ttotal: 371ms\tremaining: 659ms\n",
      "18:\tlearn: 0.0054158\ttotal: 391ms\tremaining: 638ms\n",
      "19:\tlearn: 0.0045447\ttotal: 411ms\tremaining: 617ms\n",
      "20:\tlearn: 0.0038901\ttotal: 431ms\tremaining: 595ms\n",
      "21:\tlearn: 0.0033149\ttotal: 452ms\tremaining: 576ms\n",
      "22:\tlearn: 0.0028854\ttotal: 473ms\tremaining: 556ms\n",
      "23:\tlearn: 0.0025240\ttotal: 494ms\tremaining: 536ms\n",
      "24:\tlearn: 0.0021977\ttotal: 515ms\tremaining: 515ms\n",
      "25:\tlearn: 0.0019384\ttotal: 534ms\tremaining: 493ms\n",
      "26:\tlearn: 0.0017287\ttotal: 555ms\tremaining: 472ms\n",
      "27:\tlearn: 0.0015298\ttotal: 574ms\tremaining: 451ms\n",
      "28:\tlearn: 0.0013465\ttotal: 595ms\tremaining: 431ms\n",
      "29:\tlearn: 0.0012245\ttotal: 615ms\tremaining: 410ms\n",
      "30:\tlearn: 0.0011121\ttotal: 635ms\tremaining: 389ms\n",
      "31:\tlearn: 0.0010112\ttotal: 655ms\tremaining: 368ms\n",
      "32:\tlearn: 0.0009225\ttotal: 674ms\tremaining: 347ms\n",
      "33:\tlearn: 0.0008463\ttotal: 694ms\tremaining: 327ms\n",
      "34:\tlearn: 0.0007763\ttotal: 713ms\tremaining: 305ms\n",
      "35:\tlearn: 0.0007229\ttotal: 732ms\tremaining: 285ms\n",
      "36:\tlearn: 0.0006683\ttotal: 751ms\tremaining: 264ms\n",
      "37:\tlearn: 0.0006250\ttotal: 769ms\tremaining: 243ms\n",
      "38:\tlearn: 0.0005769\ttotal: 788ms\tremaining: 222ms\n",
      "39:\tlearn: 0.0005411\ttotal: 806ms\tremaining: 202ms\n",
      "40:\tlearn: 0.0005083\ttotal: 825ms\tremaining: 181ms\n",
      "41:\tlearn: 0.0004798\ttotal: 844ms\tremaining: 161ms\n",
      "42:\tlearn: 0.0004526\ttotal: 864ms\tremaining: 141ms\n",
      "43:\tlearn: 0.0004214\ttotal: 884ms\tremaining: 121ms\n",
      "44:\tlearn: 0.0004028\ttotal: 903ms\tremaining: 100ms\n",
      "45:\tlearn: 0.0003852\ttotal: 921ms\tremaining: 80.1ms\n",
      "46:\tlearn: 0.0003698\ttotal: 939ms\tremaining: 59.9ms\n",
      "47:\tlearn: 0.0003471\ttotal: 957ms\tremaining: 39.9ms\n",
      "48:\tlearn: 0.0003333\ttotal: 975ms\tremaining: 19.9ms\n",
      "49:\tlearn: 0.0003207\ttotal: 992ms\tremaining: 0us\n",
      "0:\tlearn: 0.5146804\ttotal: 20.5ms\tremaining: 1s\n",
      "1:\tlearn: 0.3822109\ttotal: 41.6ms\tremaining: 998ms\n",
      "2:\tlearn: 0.2747716\ttotal: 57ms\tremaining: 894ms\n",
      "3:\tlearn: 0.2009790\ttotal: 76.5ms\tremaining: 880ms\n",
      "4:\tlearn: 0.1485951\ttotal: 96.8ms\tremaining: 871ms\n",
      "5:\tlearn: 0.1093419\ttotal: 117ms\tremaining: 858ms\n",
      "6:\tlearn: 0.0827593\ttotal: 138ms\tremaining: 846ms\n",
      "7:\tlearn: 0.0625326\ttotal: 158ms\tremaining: 832ms\n",
      "8:\tlearn: 0.0478741\ttotal: 179ms\tremaining: 818ms\n",
      "9:\tlearn: 0.0366880\ttotal: 200ms\tremaining: 802ms\n",
      "10:\tlearn: 0.0286939\ttotal: 222ms\tremaining: 786ms\n",
      "11:\tlearn: 0.0226062\ttotal: 244ms\tremaining: 772ms\n",
      "12:\tlearn: 0.0179686\ttotal: 266ms\tremaining: 757ms\n",
      "13:\tlearn: 0.0143690\ttotal: 287ms\tremaining: 738ms\n",
      "14:\tlearn: 0.0114933\ttotal: 308ms\tremaining: 718ms\n",
      "15:\tlearn: 0.0095303\ttotal: 328ms\tremaining: 697ms\n",
      "16:\tlearn: 0.0077428\ttotal: 349ms\tremaining: 678ms\n",
      "17:\tlearn: 0.0063914\ttotal: 370ms\tremaining: 657ms\n",
      "18:\tlearn: 0.0052805\ttotal: 390ms\tremaining: 637ms\n",
      "19:\tlearn: 0.0045089\ttotal: 409ms\tremaining: 614ms\n",
      "20:\tlearn: 0.0038745\ttotal: 429ms\tremaining: 592ms\n",
      "21:\tlearn: 0.0033128\ttotal: 450ms\tremaining: 573ms\n",
      "22:\tlearn: 0.0028433\ttotal: 470ms\tremaining: 552ms\n",
      "23:\tlearn: 0.0024527\ttotal: 491ms\tremaining: 532ms\n",
      "24:\tlearn: 0.0021183\ttotal: 512ms\tremaining: 512ms\n",
      "25:\tlearn: 0.0018787\ttotal: 532ms\tremaining: 491ms\n",
      "26:\tlearn: 0.0016486\ttotal: 553ms\tremaining: 471ms\n",
      "27:\tlearn: 0.0014653\ttotal: 573ms\tremaining: 450ms\n",
      "28:\tlearn: 0.0013063\ttotal: 592ms\tremaining: 429ms\n",
      "29:\tlearn: 0.0011754\ttotal: 612ms\tremaining: 408ms\n",
      "30:\tlearn: 0.0010520\ttotal: 633ms\tremaining: 388ms\n",
      "31:\tlearn: 0.0009475\ttotal: 653ms\tremaining: 367ms\n",
      "32:\tlearn: 0.0008764\ttotal: 672ms\tremaining: 346ms\n",
      "33:\tlearn: 0.0007983\ttotal: 691ms\tremaining: 325ms\n",
      "34:\tlearn: 0.0007361\ttotal: 710ms\tremaining: 304ms\n",
      "35:\tlearn: 0.0006780\ttotal: 730ms\tremaining: 284ms\n",
      "36:\tlearn: 0.0006281\ttotal: 748ms\tremaining: 263ms\n",
      "37:\tlearn: 0.0005846\ttotal: 766ms\tremaining: 242ms\n",
      "38:\tlearn: 0.0005418\ttotal: 785ms\tremaining: 221ms\n",
      "39:\tlearn: 0.0005044\ttotal: 803ms\tremaining: 201ms\n",
      "40:\tlearn: 0.0004725\ttotal: 822ms\tremaining: 180ms\n",
      "41:\tlearn: 0.0004434\ttotal: 841ms\tremaining: 160ms\n",
      "42:\tlearn: 0.0004178\ttotal: 860ms\tremaining: 140ms\n",
      "43:\tlearn: 0.0003961\ttotal: 878ms\tremaining: 120ms\n",
      "44:\tlearn: 0.0003754\ttotal: 896ms\tremaining: 99.6ms\n",
      "45:\tlearn: 0.0003564\ttotal: 914ms\tremaining: 79.5ms\n",
      "46:\tlearn: 0.0003383\ttotal: 931ms\tremaining: 59.4ms\n",
      "47:\tlearn: 0.0003222\ttotal: 948ms\tremaining: 39.5ms\n",
      "48:\tlearn: 0.0003127\ttotal: 964ms\tremaining: 19.7ms\n",
      "49:\tlearn: 0.0002980\ttotal: 982ms\tremaining: 0us\n"
     ]
    }
   ],
   "source": [
    "from sklearn.model_selection import cross_val_score\n",
    "from sklearn import metrics\n",
    "\n",
    "accuracy = cross_val_score(modelCB, X_eval, y_eval, cv=5, scoring='accuracy')\n",
    "f = cross_val_score(modelCB, X_eval, y_eval, cv=5, scoring='f1')\n",
    "precision = cross_val_score(modelCB, X_eval, y_eval, cv=5, scoring='precision')\n",
    "recall = cross_val_score(modelCB, X_eval, y_eval, cv=5, scoring='recall')"
   ]
  },
  {
   "cell_type": "code",
   "execution_count": 56,
   "metadata": {},
   "outputs": [
    {
     "name": "stdout",
     "output_type": "stream",
     "text": [
      "Accuracy: 1.00000 (+/- 0.00000)\n",
      "F1 Score: 1.00000 (+/- 0.00000)\n",
      "Precision: 1.00000 (+/- 0.00000)\n",
      "Recall: 1.00000 (+/- 0.00000)\n"
     ]
    }
   ],
   "source": [
    "print(\"Accuracy: %0.5f (+/- %0.5f)\" % (accuracy.mean(), accuracy.std() * 2))\n",
    "print(\"F1 Score: %0.5f (+/- %0.5f)\" % (f.mean(), f.std() * 2))\n",
    "print(\"Precision: %0.5f (+/- %0.5f)\" % (precision.mean(), precision.std() * 2))\n",
    "print(\"Recall: %0.5f (+/- %0.5f)\" % (recall.mean(), recall.std() * 2))"
   ]
  }
 ],
 "metadata": {
  "kernelspec": {
   "display_name": "Python 3",
   "language": "python",
   "name": "python3"
  },
  "language_info": {
   "codemirror_mode": {
    "name": "ipython",
    "version": 3
   },
   "file_extension": ".py",
   "mimetype": "text/x-python",
   "name": "python",
   "nbconvert_exporter": "python",
   "pygments_lexer": "ipython3",
   "version": "3.7.6"
  },
  "toc": {
   "base_numbering": 1,
   "nav_menu": {},
   "number_sections": true,
   "sideBar": true,
   "skip_h1_title": false,
   "title_cell": "Table of Contents",
   "title_sidebar": "Contents",
   "toc_cell": false,
   "toc_position": {
    "height": "calc(100% - 180px)",
    "left": "10px",
    "top": "150px",
    "width": "316px"
   },
   "toc_section_display": "block",
   "toc_window_display": true
  }
 },
 "nbformat": 4,
 "nbformat_minor": 2
}
