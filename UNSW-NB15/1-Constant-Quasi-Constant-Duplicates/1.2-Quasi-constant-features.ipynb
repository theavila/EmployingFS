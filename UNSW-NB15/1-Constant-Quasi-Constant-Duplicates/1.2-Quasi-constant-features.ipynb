{
 "cells": [
  {
   "cell_type": "markdown",
   "metadata": {},
   "source": [
    "## Quasi-constant features"
   ]
  },
  {
   "cell_type": "code",
   "execution_count": 6,
   "metadata": {},
   "outputs": [],
   "source": [
    "import numpy as np\n",
    "import pandas as pd\n",
    "from sklearn.model_selection import train_test_split\n",
    "from sklearn.feature_selection import VarianceThreshold"
   ]
  },
  {
   "cell_type": "markdown",
   "metadata": {},
   "source": [
    "## Read Data"
   ]
  },
  {
   "cell_type": "code",
   "execution_count": 7,
   "metadata": {},
   "outputs": [
    {
     "data": {
      "text/plain": [
       "(175341, 44)"
      ]
     },
     "execution_count": 7,
     "metadata": {},
     "output_type": "execute_result"
    }
   ],
   "source": [
    "data = pd.read_csv('../UNSW_Train.csv')\n",
    "data.shape"
   ]
  },
  {
   "cell_type": "code",
   "execution_count": 8,
   "metadata": {},
   "outputs": [
    {
     "data": {
      "text/html": [
       "<div>\n",
       "<style scoped>\n",
       "    .dataframe tbody tr th:only-of-type {\n",
       "        vertical-align: middle;\n",
       "    }\n",
       "\n",
       "    .dataframe tbody tr th {\n",
       "        vertical-align: top;\n",
       "    }\n",
       "\n",
       "    .dataframe thead th {\n",
       "        text-align: right;\n",
       "    }\n",
       "</style>\n",
       "<table border=\"1\" class=\"dataframe\">\n",
       "  <thead>\n",
       "    <tr style=\"text-align: right;\">\n",
       "      <th></th>\n",
       "      <th>dur</th>\n",
       "      <th>proto</th>\n",
       "      <th>service</th>\n",
       "      <th>state</th>\n",
       "      <th>spkts</th>\n",
       "      <th>dpkts</th>\n",
       "      <th>sbytes</th>\n",
       "      <th>dbytes</th>\n",
       "      <th>rate</th>\n",
       "      <th>sttl</th>\n",
       "      <th>...</th>\n",
       "      <th>ct_dst_sport_ltm</th>\n",
       "      <th>ct_dst_src_ltm</th>\n",
       "      <th>is_ftp_login</th>\n",
       "      <th>ct_ftp_cmd</th>\n",
       "      <th>ct_flw_http_mthd</th>\n",
       "      <th>ct_src_ltm</th>\n",
       "      <th>ct_srv_dst</th>\n",
       "      <th>is_sm_ips_ports</th>\n",
       "      <th>attack</th>\n",
       "      <th>is_intrusion</th>\n",
       "    </tr>\n",
       "  </thead>\n",
       "  <tbody>\n",
       "    <tr>\n",
       "      <th>0</th>\n",
       "      <td>0.121478</td>\n",
       "      <td>113.0</td>\n",
       "      <td>0.0</td>\n",
       "      <td>2.0</td>\n",
       "      <td>6</td>\n",
       "      <td>4</td>\n",
       "      <td>258</td>\n",
       "      <td>172</td>\n",
       "      <td>74.087490</td>\n",
       "      <td>252</td>\n",
       "      <td>...</td>\n",
       "      <td>1</td>\n",
       "      <td>1</td>\n",
       "      <td>0</td>\n",
       "      <td>0</td>\n",
       "      <td>0</td>\n",
       "      <td>1</td>\n",
       "      <td>1</td>\n",
       "      <td>0</td>\n",
       "      <td>0</td>\n",
       "      <td>0</td>\n",
       "    </tr>\n",
       "    <tr>\n",
       "      <th>1</th>\n",
       "      <td>0.649902</td>\n",
       "      <td>113.0</td>\n",
       "      <td>0.0</td>\n",
       "      <td>2.0</td>\n",
       "      <td>14</td>\n",
       "      <td>38</td>\n",
       "      <td>734</td>\n",
       "      <td>42014</td>\n",
       "      <td>78.473372</td>\n",
       "      <td>62</td>\n",
       "      <td>...</td>\n",
       "      <td>1</td>\n",
       "      <td>2</td>\n",
       "      <td>0</td>\n",
       "      <td>0</td>\n",
       "      <td>0</td>\n",
       "      <td>1</td>\n",
       "      <td>6</td>\n",
       "      <td>0</td>\n",
       "      <td>0</td>\n",
       "      <td>0</td>\n",
       "    </tr>\n",
       "    <tr>\n",
       "      <th>2</th>\n",
       "      <td>1.623129</td>\n",
       "      <td>113.0</td>\n",
       "      <td>0.0</td>\n",
       "      <td>2.0</td>\n",
       "      <td>8</td>\n",
       "      <td>16</td>\n",
       "      <td>364</td>\n",
       "      <td>13186</td>\n",
       "      <td>14.170161</td>\n",
       "      <td>62</td>\n",
       "      <td>...</td>\n",
       "      <td>1</td>\n",
       "      <td>3</td>\n",
       "      <td>0</td>\n",
       "      <td>0</td>\n",
       "      <td>0</td>\n",
       "      <td>2</td>\n",
       "      <td>6</td>\n",
       "      <td>0</td>\n",
       "      <td>0</td>\n",
       "      <td>0</td>\n",
       "    </tr>\n",
       "    <tr>\n",
       "      <th>3</th>\n",
       "      <td>1.681642</td>\n",
       "      <td>113.0</td>\n",
       "      <td>3.0</td>\n",
       "      <td>2.0</td>\n",
       "      <td>12</td>\n",
       "      <td>12</td>\n",
       "      <td>628</td>\n",
       "      <td>770</td>\n",
       "      <td>13.677108</td>\n",
       "      <td>62</td>\n",
       "      <td>...</td>\n",
       "      <td>1</td>\n",
       "      <td>3</td>\n",
       "      <td>1</td>\n",
       "      <td>1</td>\n",
       "      <td>0</td>\n",
       "      <td>2</td>\n",
       "      <td>1</td>\n",
       "      <td>0</td>\n",
       "      <td>0</td>\n",
       "      <td>0</td>\n",
       "    </tr>\n",
       "    <tr>\n",
       "      <th>4</th>\n",
       "      <td>0.449454</td>\n",
       "      <td>113.0</td>\n",
       "      <td>0.0</td>\n",
       "      <td>2.0</td>\n",
       "      <td>10</td>\n",
       "      <td>6</td>\n",
       "      <td>534</td>\n",
       "      <td>268</td>\n",
       "      <td>33.373826</td>\n",
       "      <td>254</td>\n",
       "      <td>...</td>\n",
       "      <td>1</td>\n",
       "      <td>40</td>\n",
       "      <td>0</td>\n",
       "      <td>0</td>\n",
       "      <td>0</td>\n",
       "      <td>2</td>\n",
       "      <td>39</td>\n",
       "      <td>0</td>\n",
       "      <td>0</td>\n",
       "      <td>0</td>\n",
       "    </tr>\n",
       "  </tbody>\n",
       "</table>\n",
       "<p>5 rows × 44 columns</p>\n",
       "</div>"
      ],
      "text/plain": [
       "        dur  proto  service  state  spkts  dpkts  sbytes  dbytes       rate  \\\n",
       "0  0.121478  113.0      0.0    2.0      6      4     258     172  74.087490   \n",
       "1  0.649902  113.0      0.0    2.0     14     38     734   42014  78.473372   \n",
       "2  1.623129  113.0      0.0    2.0      8     16     364   13186  14.170161   \n",
       "3  1.681642  113.0      3.0    2.0     12     12     628     770  13.677108   \n",
       "4  0.449454  113.0      0.0    2.0     10      6     534     268  33.373826   \n",
       "\n",
       "   sttl  ...  ct_dst_sport_ltm  ct_dst_src_ltm  is_ftp_login  ct_ftp_cmd  \\\n",
       "0   252  ...                 1               1             0           0   \n",
       "1    62  ...                 1               2             0           0   \n",
       "2    62  ...                 1               3             0           0   \n",
       "3    62  ...                 1               3             1           1   \n",
       "4   254  ...                 1              40             0           0   \n",
       "\n",
       "   ct_flw_http_mthd  ct_src_ltm  ct_srv_dst  is_sm_ips_ports  attack  \\\n",
       "0                 0           1           1                0       0   \n",
       "1                 0           1           6                0       0   \n",
       "2                 0           2           6                0       0   \n",
       "3                 0           2           1                0       0   \n",
       "4                 0           2          39                0       0   \n",
       "\n",
       "   is_intrusion  \n",
       "0             0  \n",
       "1             0  \n",
       "2             0  \n",
       "3             0  \n",
       "4             0  \n",
       "\n",
       "[5 rows x 44 columns]"
      ]
     },
     "execution_count": 8,
     "metadata": {},
     "output_type": "execute_result"
    }
   ],
   "source": [
    "data.head(5)"
   ]
  },
  {
   "cell_type": "markdown",
   "metadata": {},
   "source": [
    "### Train - Test Split"
   ]
  },
  {
   "cell_type": "code",
   "execution_count": 9,
   "metadata": {},
   "outputs": [
    {
     "data": {
      "text/plain": [
       "((140272, 43), (35069, 43))"
      ]
     },
     "execution_count": 9,
     "metadata": {},
     "output_type": "execute_result"
    }
   ],
   "source": [
    "# separate dataset into train and test\n",
    "X_train, X_test, y_train, y_test = train_test_split(\n",
    "    data.drop(labels=['is_intrusion'], axis=1),       # drop the target\n",
    "    data['is_intrusion'],                             # just the target\n",
    "    test_size=0.2,\n",
    "    random_state=0)\n",
    "\n",
    "X_train.shape, X_test.shape"
   ]
  },
  {
   "cell_type": "markdown",
   "metadata": {},
   "source": [
    "## Remove constant features (optional)\n",
    "\n",
    "First, I will remove constant features like I did in the previous lecture. This will allow a better visualisation of the quasi-constant ones."
   ]
  },
  {
   "cell_type": "code",
   "execution_count": 10,
   "metadata": {},
   "outputs": [
    {
     "data": {
      "text/plain": [
       "((140272, 43), (35069, 43))"
      ]
     },
     "execution_count": 10,
     "metadata": {},
     "output_type": "execute_result"
    }
   ],
   "source": [
    "constant_features = [\n",
    "    feat for feat in X_train.columns if X_train[feat].std() == 0.01]\n",
    "\n",
    "X_train.drop(labels=constant_features, axis=1, inplace=True)\n",
    "X_test.drop(labels=constant_features, axis=1, inplace=True)\n",
    "X_train.shape, X_test.shape"
   ]
  },
  {
   "cell_type": "markdown",
   "metadata": {},
   "source": [
    "## Remove quasi-constant features\n",
    "\n",
    "### Using the VarianceThreshold from sklearn"
   ]
  },
  {
   "cell_type": "code",
   "execution_count": 11,
   "metadata": {},
   "outputs": [
    {
     "data": {
      "text/plain": [
       "VarianceThreshold(threshold=0.03)"
      ]
     },
     "execution_count": 11,
     "metadata": {},
     "output_type": "execute_result"
    }
   ],
   "source": [
    "sel = VarianceThreshold(threshold=0.03)\n",
    "sel.fit(X_train)                         # fit finds the features with low variance"
   ]
  },
  {
   "cell_type": "code",
   "execution_count": 12,
   "metadata": {},
   "outputs": [
    {
     "data": {
      "text/plain": [
       "37"
      ]
     },
     "execution_count": 12,
     "metadata": {},
     "output_type": "execute_result"
    }
   ],
   "source": [
    "# If we sum over get_support, we get the number of features that are not quasi-constant\n",
    "sum(sel.get_support())"
   ]
  },
  {
   "cell_type": "code",
   "execution_count": 13,
   "metadata": {
    "scrolled": true
   },
   "outputs": [
    {
     "data": {
      "text/plain": [
       "6"
      ]
     },
     "execution_count": 13,
     "metadata": {},
     "output_type": "execute_result"
    }
   ],
   "source": [
    "# let's print the number of quasi-constant features\n",
    "quasi_constant = X_train.columns[~sel.get_support()]\n",
    "len(quasi_constant)"
   ]
  },
  {
   "cell_type": "markdown",
   "metadata": {},
   "source": [
    "We can see that 1 columns / variables are constant. This means that 6 variable show the same value, just one value, for all the observations of the training set."
   ]
  },
  {
   "cell_type": "code",
   "execution_count": 14,
   "metadata": {},
   "outputs": [
    {
     "data": {
      "text/plain": [
       "Index(['tcprtt', 'synack', 'ackdat', 'is_ftp_login', 'ct_ftp_cmd',\n",
       "       'is_sm_ips_ports'],\n",
       "      dtype='object')"
      ]
     },
     "execution_count": 14,
     "metadata": {},
     "output_type": "execute_result"
    }
   ],
   "source": [
    "# let's print the variable names\n",
    "quasi_constant"
   ]
  },
  {
   "cell_type": "code",
   "execution_count": 16,
   "metadata": {},
   "outputs": [
    {
     "data": {
      "text/plain": [
       "0    0.985471\n",
       "1    0.014401\n",
       "4    0.000093\n",
       "2    0.000036\n",
       "Name: is_ftp_login, dtype: float64"
      ]
     },
     "execution_count": 16,
     "metadata": {},
     "output_type": "execute_result"
    }
   ],
   "source": [
    "# percentage of observations showing each of the different values of the variable\n",
    "X_train['is_ftp_login'].value_counts() / np.float64(len(X_train))"
   ]
  },
  {
   "cell_type": "markdown",
   "metadata": {},
   "source": [
    "We can see that > 98,5% of the observations show one value, 0. Therefore, this features is fairly constant."
   ]
  },
  {
   "cell_type": "code",
   "execution_count": 17,
   "metadata": {},
   "outputs": [],
   "source": [
    "# capture feature names\n",
    "feat_names = X_train.columns[sel.get_support()]"
   ]
  },
  {
   "cell_type": "code",
   "execution_count": 18,
   "metadata": {},
   "outputs": [
    {
     "data": {
      "text/plain": [
       "((140272, 37), (35069, 37))"
      ]
     },
     "execution_count": 18,
     "metadata": {},
     "output_type": "execute_result"
    }
   ],
   "source": [
    "#remove the quasi-constant features\n",
    "X_train = sel.transform(X_train)\n",
    "X_test = sel.transform(X_test)\n",
    "X_train.shape, X_test.shape"
   ]
  },
  {
   "cell_type": "code",
   "execution_count": 19,
   "metadata": {},
   "outputs": [
    {
     "data": {
      "text/html": [
       "<div>\n",
       "<style scoped>\n",
       "    .dataframe tbody tr th:only-of-type {\n",
       "        vertical-align: middle;\n",
       "    }\n",
       "\n",
       "    .dataframe tbody tr th {\n",
       "        vertical-align: top;\n",
       "    }\n",
       "\n",
       "    .dataframe thead th {\n",
       "        text-align: right;\n",
       "    }\n",
       "</style>\n",
       "<table border=\"1\" class=\"dataframe\">\n",
       "  <thead>\n",
       "    <tr style=\"text-align: right;\">\n",
       "      <th></th>\n",
       "      <th>dur</th>\n",
       "      <th>proto</th>\n",
       "      <th>service</th>\n",
       "      <th>state</th>\n",
       "      <th>spkts</th>\n",
       "      <th>dpkts</th>\n",
       "      <th>sbytes</th>\n",
       "      <th>dbytes</th>\n",
       "      <th>rate</th>\n",
       "      <th>sttl</th>\n",
       "      <th>...</th>\n",
       "      <th>ct_srv_src</th>\n",
       "      <th>ct_state_ttl</th>\n",
       "      <th>ct_dst_ltm</th>\n",
       "      <th>ct_src_dport_ltm</th>\n",
       "      <th>ct_dst_sport_ltm</th>\n",
       "      <th>ct_dst_src_ltm</th>\n",
       "      <th>ct_flw_http_mthd</th>\n",
       "      <th>ct_src_ltm</th>\n",
       "      <th>ct_srv_dst</th>\n",
       "      <th>attack</th>\n",
       "    </tr>\n",
       "  </thead>\n",
       "  <tbody>\n",
       "    <tr>\n",
       "      <th>0</th>\n",
       "      <td>1.157229</td>\n",
       "      <td>113.0</td>\n",
       "      <td>5.0</td>\n",
       "      <td>2.0</td>\n",
       "      <td>10.0</td>\n",
       "      <td>8.0</td>\n",
       "      <td>966.0</td>\n",
       "      <td>354.0</td>\n",
       "      <td>14.690265</td>\n",
       "      <td>254.0</td>\n",
       "      <td>...</td>\n",
       "      <td>1.0</td>\n",
       "      <td>1.0</td>\n",
       "      <td>1.0</td>\n",
       "      <td>1.0</td>\n",
       "      <td>1.0</td>\n",
       "      <td>5.0</td>\n",
       "      <td>0.0</td>\n",
       "      <td>1.0</td>\n",
       "      <td>1.0</td>\n",
       "      <td>1.0</td>\n",
       "    </tr>\n",
       "    <tr>\n",
       "      <th>1</th>\n",
       "      <td>0.000004</td>\n",
       "      <td>119.0</td>\n",
       "      <td>2.0</td>\n",
       "      <td>3.0</td>\n",
       "      <td>2.0</td>\n",
       "      <td>0.0</td>\n",
       "      <td>114.0</td>\n",
       "      <td>0.0</td>\n",
       "      <td>250000.000600</td>\n",
       "      <td>254.0</td>\n",
       "      <td>...</td>\n",
       "      <td>14.0</td>\n",
       "      <td>2.0</td>\n",
       "      <td>15.0</td>\n",
       "      <td>14.0</td>\n",
       "      <td>14.0</td>\n",
       "      <td>14.0</td>\n",
       "      <td>0.0</td>\n",
       "      <td>14.0</td>\n",
       "      <td>14.0</td>\n",
       "      <td>1.0</td>\n",
       "    </tr>\n",
       "    <tr>\n",
       "      <th>2</th>\n",
       "      <td>0.212211</td>\n",
       "      <td>113.0</td>\n",
       "      <td>0.0</td>\n",
       "      <td>0.0</td>\n",
       "      <td>6.0</td>\n",
       "      <td>2.0</td>\n",
       "      <td>986.0</td>\n",
       "      <td>86.0</td>\n",
       "      <td>32.986038</td>\n",
       "      <td>62.0</td>\n",
       "      <td>...</td>\n",
       "      <td>7.0</td>\n",
       "      <td>3.0</td>\n",
       "      <td>4.0</td>\n",
       "      <td>4.0</td>\n",
       "      <td>1.0</td>\n",
       "      <td>7.0</td>\n",
       "      <td>0.0</td>\n",
       "      <td>5.0</td>\n",
       "      <td>7.0</td>\n",
       "      <td>0.0</td>\n",
       "    </tr>\n",
       "    <tr>\n",
       "      <th>3</th>\n",
       "      <td>0.000009</td>\n",
       "      <td>120.0</td>\n",
       "      <td>0.0</td>\n",
       "      <td>3.0</td>\n",
       "      <td>2.0</td>\n",
       "      <td>0.0</td>\n",
       "      <td>200.0</td>\n",
       "      <td>0.0</td>\n",
       "      <td>111111.107200</td>\n",
       "      <td>254.0</td>\n",
       "      <td>...</td>\n",
       "      <td>4.0</td>\n",
       "      <td>2.0</td>\n",
       "      <td>3.0</td>\n",
       "      <td>3.0</td>\n",
       "      <td>3.0</td>\n",
       "      <td>4.0</td>\n",
       "      <td>0.0</td>\n",
       "      <td>3.0</td>\n",
       "      <td>4.0</td>\n",
       "      <td>1.0</td>\n",
       "    </tr>\n",
       "    <tr>\n",
       "      <th>4</th>\n",
       "      <td>1.157823</td>\n",
       "      <td>113.0</td>\n",
       "      <td>5.0</td>\n",
       "      <td>2.0</td>\n",
       "      <td>10.0</td>\n",
       "      <td>8.0</td>\n",
       "      <td>526.0</td>\n",
       "      <td>354.0</td>\n",
       "      <td>14.682728</td>\n",
       "      <td>254.0</td>\n",
       "      <td>...</td>\n",
       "      <td>2.0</td>\n",
       "      <td>1.0</td>\n",
       "      <td>1.0</td>\n",
       "      <td>2.0</td>\n",
       "      <td>1.0</td>\n",
       "      <td>1.0</td>\n",
       "      <td>1.0</td>\n",
       "      <td>19.0</td>\n",
       "      <td>1.0</td>\n",
       "      <td>1.0</td>\n",
       "    </tr>\n",
       "  </tbody>\n",
       "</table>\n",
       "<p>5 rows × 37 columns</p>\n",
       "</div>"
      ],
      "text/plain": [
       "        dur  proto  service  state  spkts  dpkts  sbytes  dbytes  \\\n",
       "0  1.157229  113.0      5.0    2.0   10.0    8.0   966.0   354.0   \n",
       "1  0.000004  119.0      2.0    3.0    2.0    0.0   114.0     0.0   \n",
       "2  0.212211  113.0      0.0    0.0    6.0    2.0   986.0    86.0   \n",
       "3  0.000009  120.0      0.0    3.0    2.0    0.0   200.0     0.0   \n",
       "4  1.157823  113.0      5.0    2.0   10.0    8.0   526.0   354.0   \n",
       "\n",
       "            rate   sttl  ...  ct_srv_src  ct_state_ttl  ct_dst_ltm  \\\n",
       "0      14.690265  254.0  ...         1.0           1.0         1.0   \n",
       "1  250000.000600  254.0  ...        14.0           2.0        15.0   \n",
       "2      32.986038   62.0  ...         7.0           3.0         4.0   \n",
       "3  111111.107200  254.0  ...         4.0           2.0         3.0   \n",
       "4      14.682728  254.0  ...         2.0           1.0         1.0   \n",
       "\n",
       "   ct_src_dport_ltm  ct_dst_sport_ltm  ct_dst_src_ltm  ct_flw_http_mthd  \\\n",
       "0               1.0               1.0             5.0               0.0   \n",
       "1              14.0              14.0            14.0               0.0   \n",
       "2               4.0               1.0             7.0               0.0   \n",
       "3               3.0               3.0             4.0               0.0   \n",
       "4               2.0               1.0             1.0               1.0   \n",
       "\n",
       "   ct_src_ltm  ct_srv_dst  attack  \n",
       "0         1.0         1.0     1.0  \n",
       "1        14.0        14.0     1.0  \n",
       "2         5.0         7.0     0.0  \n",
       "3         3.0         4.0     1.0  \n",
       "4        19.0         1.0     1.0  \n",
       "\n",
       "[5 rows x 37 columns]"
      ]
     },
     "execution_count": 19,
     "metadata": {},
     "output_type": "execute_result"
    }
   ],
   "source": [
    "# transform the array into a dataframe\n",
    "X_train = pd.DataFrame(X_train, columns=feat_names)\n",
    "X_test = pd.DataFrame(X_test, columns=feat_names)\n",
    "X_test.head()"
   ]
  },
  {
   "cell_type": "markdown",
   "metadata": {},
   "source": [
    "In the dataset UNSW-NB15, 6 feature are classified as Quasi constant, thus, 37 features remain"
   ]
  },
  {
   "cell_type": "markdown",
   "metadata": {},
   "source": [
    "## Standardize Data"
   ]
  },
  {
   "cell_type": "code",
   "execution_count": 20,
   "metadata": {},
   "outputs": [],
   "source": [
    "from sklearn.preprocessing import StandardScaler\n",
    "scaler = StandardScaler().fit(X_train)\n",
    "X_train = scaler.transform(X_train)"
   ]
  },
  {
   "cell_type": "markdown",
   "metadata": {},
   "source": [
    "## Classifiers"
   ]
  },
  {
   "cell_type": "code",
   "execution_count": 21,
   "metadata": {},
   "outputs": [],
   "source": [
    "from sklearn import linear_model\n",
    "from sklearn.naive_bayes import GaussianNB\n",
    "from sklearn.ensemble import RandomForestClassifier\n",
    "from sklearn.neighbors import KNeighborsClassifier\n",
    "from catboost import CatBoostClassifier"
   ]
  },
  {
   "cell_type": "markdown",
   "metadata": {},
   "source": [
    "## Metrics Evaluation"
   ]
  },
  {
   "cell_type": "code",
   "execution_count": 22,
   "metadata": {},
   "outputs": [],
   "source": [
    "from sklearn.metrics import accuracy_score\n",
    "from sklearn.metrics import confusion_matrix\n",
    "from sklearn.metrics import roc_curve, f1_score\n",
    "from sklearn import metrics\n",
    "from sklearn.model_selection import cross_val_score"
   ]
  },
  {
   "cell_type": "markdown",
   "metadata": {},
   "source": [
    "### Logistic Regression"
   ]
  },
  {
   "cell_type": "code",
   "execution_count": 23,
   "metadata": {},
   "outputs": [
    {
     "name": "stdout",
     "output_type": "stream",
     "text": [
      "CPU times: user 95.8 ms, sys: 197 ms, total: 293 ms\n",
      "Wall time: 3.46 s\n"
     ]
    }
   ],
   "source": [
    "%%time\n",
    "clf_LR = linear_model.LogisticRegression(n_jobs=-1, random_state=42, C=25).fit(X_train, y_train)"
   ]
  },
  {
   "cell_type": "code",
   "execution_count": 24,
   "metadata": {},
   "outputs": [
    {
     "name": "stdout",
     "output_type": "stream",
     "text": [
      "Accuracy: 0.33265847329550313\n",
      "F1 Score: 0.03900956760974007\n",
      "FPR: 0.0048906277787657835\n",
      "TPR: 0.019938714687486883\n"
     ]
    }
   ],
   "source": [
    "pred_y_test = clf_LR.predict(X_test)\n",
    "print('Accuracy:', accuracy_score(y_test, pred_y_test))\n",
    "\n",
    "f1 = f1_score(y_test, pred_y_test)\n",
    "print('F1 Score:', f1)\n",
    "\n",
    "fpr, tpr, thresholds = roc_curve(y_test, pred_y_test)\n",
    "print('FPR:', fpr[1])\n",
    "print('TPR:', tpr[1])"
   ]
  },
  {
   "cell_type": "markdown",
   "metadata": {},
   "source": [
    "### Naive Bayes"
   ]
  },
  {
   "cell_type": "code",
   "execution_count": 26,
   "metadata": {},
   "outputs": [
    {
     "name": "stdout",
     "output_type": "stream",
     "text": [
      "CPU times: user 81 ms, sys: 5.66 ms, total: 86.6 ms\n",
      "Wall time: 84.7 ms\n"
     ]
    }
   ],
   "source": [
    "%%time\n",
    "clf_NB = GaussianNB(var_smoothing=1e-08).fit(X_train, y_train)"
   ]
  },
  {
   "cell_type": "code",
   "execution_count": 27,
   "metadata": {},
   "outputs": [
    {
     "name": "stdout",
     "output_type": "stream",
     "text": [
      "Accuracy: 0.7423365365422453\n",
      "F1 Score: 0.7751791401273885\n",
      "FPR: 0.07033611950915881\n",
      "TPR: 0.653905889266675\n"
     ]
    }
   ],
   "source": [
    "pred_y_testNB = clf_NB.predict(X_test)\n",
    "print('Accuracy:', accuracy_score(y_test, pred_y_testNB))\n",
    "\n",
    "f1 = f1_score(y_test, pred_y_testNB)\n",
    "print('F1 Score:', f1)\n",
    "\n",
    "fpr, tpr, thresholds = roc_curve(y_test, pred_y_testNB)\n",
    "print('FPR:', fpr[1])\n",
    "print('TPR:', tpr[1])"
   ]
  },
  {
   "cell_type": "markdown",
   "metadata": {},
   "source": [
    "### Random Forest"
   ]
  },
  {
   "cell_type": "code",
   "execution_count": 28,
   "metadata": {},
   "outputs": [
    {
     "name": "stdout",
     "output_type": "stream",
     "text": [
      "CPU times: user 1min 22s, sys: 706 ms, total: 1min 23s\n",
      "Wall time: 1min 23s\n"
     ]
    }
   ],
   "source": [
    "%%time\n",
    "clf_RF = RandomForestClassifier(random_state=0,max_depth=100,n_estimators=1000).fit(X_train, y_train)"
   ]
  },
  {
   "cell_type": "code",
   "execution_count": 29,
   "metadata": {},
   "outputs": [
    {
     "name": "stdout",
     "output_type": "stream",
     "text": [
      "Accuracy: 0.6793179161082438\n",
      "F1 Score: 0.5495955550990522\n",
      "FPR: 1.0\n",
      "TPR: 1.0\n"
     ]
    }
   ],
   "source": [
    "pred_y_testRF = clf_RF.predict(X_test)\n",
    "print('Accuracy:', accuracy_score(y_test, pred_y_testRF))\n",
    "\n",
    "f1 = f1_score(y_test, pred_y_testRF, average='weighted', zero_division=0)\n",
    "print('F1 Score:', f1)\n",
    "\n",
    "fpr, tpr, thresholds = roc_curve(y_test, pred_y_testRF)\n",
    "print('FPR:', fpr[1])\n",
    "print('TPR:', tpr[1])"
   ]
  },
  {
   "cell_type": "markdown",
   "metadata": {},
   "source": [
    "### KNN"
   ]
  },
  {
   "cell_type": "code",
   "execution_count": 30,
   "metadata": {},
   "outputs": [
    {
     "name": "stdout",
     "output_type": "stream",
     "text": [
      "CPU times: user 23.4 s, sys: 174 ms, total: 23.6 s\n",
      "Wall time: 23.4 s\n"
     ]
    }
   ],
   "source": [
    "%%time\n",
    "clf_KNN = KNeighborsClassifier(algorithm='ball_tree',leaf_size=1,n_neighbors=5,weights='uniform').fit(X_train, y_train)"
   ]
  },
  {
   "cell_type": "code",
   "execution_count": 31,
   "metadata": {},
   "outputs": [
    {
     "name": "stdout",
     "output_type": "stream",
     "text": [
      "accuracy_score: 0.6842510479340729\n",
      "f1: 0.7391703766518267\n",
      "fpr: 0.26142628490129827\n",
      "tpr: 0.6586072283087773\n"
     ]
    }
   ],
   "source": [
    "pred_y_testKNN = clf_KNN.predict(X_test)\n",
    "print('accuracy_score:', accuracy_score(y_test, pred_y_testKNN))\n",
    "\n",
    "f1 = f1_score(y_test, pred_y_testKNN)\n",
    "print('f1:', f1)\n",
    "\n",
    "fpr, tpr, thresholds = roc_curve(y_test, pred_y_testKNN)\n",
    "print('fpr:', fpr[1])\n",
    "print('tpr:', tpr[1])"
   ]
  },
  {
   "cell_type": "markdown",
   "metadata": {},
   "source": [
    "### CatBoost"
   ]
  },
  {
   "cell_type": "code",
   "execution_count": 32,
   "metadata": {},
   "outputs": [
    {
     "name": "stdout",
     "output_type": "stream",
     "text": [
      "0:\tlearn: 0.5203762\ttotal: 82.5ms\tremaining: 4.04s\n",
      "1:\tlearn: 0.3863715\ttotal: 103ms\tremaining: 2.47s\n",
      "2:\tlearn: 0.2883336\ttotal: 125ms\tremaining: 1.97s\n",
      "3:\tlearn: 0.2130400\ttotal: 148ms\tremaining: 1.7s\n",
      "4:\tlearn: 0.1581939\ttotal: 169ms\tremaining: 1.52s\n",
      "5:\tlearn: 0.1214909\ttotal: 190ms\tremaining: 1.39s\n",
      "6:\tlearn: 0.0909181\ttotal: 211ms\tremaining: 1.3s\n",
      "7:\tlearn: 0.0686590\ttotal: 233ms\tremaining: 1.22s\n",
      "8:\tlearn: 0.0527265\ttotal: 254ms\tremaining: 1.16s\n",
      "9:\tlearn: 0.0403258\ttotal: 275ms\tremaining: 1.1s\n",
      "10:\tlearn: 0.0305359\ttotal: 296ms\tremaining: 1.05s\n",
      "11:\tlearn: 0.0236932\ttotal: 318ms\tremaining: 1.01s\n",
      "12:\tlearn: 0.0185799\ttotal: 342ms\tremaining: 973ms\n",
      "13:\tlearn: 0.0146775\ttotal: 364ms\tremaining: 936ms\n",
      "14:\tlearn: 0.0118577\ttotal: 385ms\tremaining: 899ms\n",
      "15:\tlearn: 0.0093696\ttotal: 405ms\tremaining: 861ms\n",
      "16:\tlearn: 0.0076554\ttotal: 426ms\tremaining: 827ms\n",
      "17:\tlearn: 0.0063683\ttotal: 447ms\tremaining: 795ms\n",
      "18:\tlearn: 0.0052865\ttotal: 469ms\tremaining: 765ms\n",
      "19:\tlearn: 0.0044068\ttotal: 489ms\tremaining: 734ms\n",
      "20:\tlearn: 0.0037088\ttotal: 510ms\tremaining: 704ms\n",
      "21:\tlearn: 0.0031328\ttotal: 531ms\tremaining: 676ms\n",
      "22:\tlearn: 0.0026781\ttotal: 552ms\tremaining: 648ms\n",
      "23:\tlearn: 0.0022982\ttotal: 572ms\tremaining: 620ms\n",
      "24:\tlearn: 0.0019719\ttotal: 592ms\tremaining: 592ms\n",
      "25:\tlearn: 0.0017094\ttotal: 613ms\tremaining: 565ms\n",
      "26:\tlearn: 0.0015294\ttotal: 631ms\tremaining: 538ms\n",
      "27:\tlearn: 0.0013547\ttotal: 650ms\tremaining: 511ms\n",
      "28:\tlearn: 0.0012061\ttotal: 669ms\tremaining: 485ms\n",
      "29:\tlearn: 0.0010843\ttotal: 688ms\tremaining: 459ms\n",
      "30:\tlearn: 0.0009698\ttotal: 707ms\tremaining: 433ms\n",
      "31:\tlearn: 0.0008719\ttotal: 726ms\tremaining: 408ms\n",
      "32:\tlearn: 0.0007961\ttotal: 746ms\tremaining: 385ms\n",
      "33:\tlearn: 0.0007273\ttotal: 767ms\tremaining: 361ms\n",
      "34:\tlearn: 0.0006647\ttotal: 787ms\tremaining: 337ms\n",
      "35:\tlearn: 0.0006103\ttotal: 804ms\tremaining: 313ms\n",
      "36:\tlearn: 0.0005663\ttotal: 823ms\tremaining: 289ms\n",
      "37:\tlearn: 0.0005269\ttotal: 842ms\tremaining: 266ms\n",
      "38:\tlearn: 0.0004930\ttotal: 860ms\tremaining: 243ms\n",
      "39:\tlearn: 0.0004632\ttotal: 877ms\tremaining: 219ms\n",
      "40:\tlearn: 0.0004329\ttotal: 894ms\tremaining: 196ms\n",
      "41:\tlearn: 0.0004045\ttotal: 912ms\tremaining: 174ms\n",
      "42:\tlearn: 0.0003829\ttotal: 930ms\tremaining: 151ms\n",
      "43:\tlearn: 0.0003591\ttotal: 950ms\tremaining: 130ms\n",
      "44:\tlearn: 0.0003431\ttotal: 968ms\tremaining: 108ms\n",
      "45:\tlearn: 0.0003253\ttotal: 985ms\tremaining: 85.7ms\n",
      "46:\tlearn: 0.0003089\ttotal: 1s\tremaining: 64.1ms\n",
      "47:\tlearn: 0.0002963\ttotal: 1.02s\tremaining: 42.6ms\n",
      "48:\tlearn: 0.0002825\ttotal: 1.04s\tremaining: 21.2ms\n",
      "49:\tlearn: 0.0002718\ttotal: 1.05s\tremaining: 0us\n",
      "CPU times: user 8.49 s, sys: 1.44 s, total: 9.92 s\n",
      "Wall time: 1.15 s\n"
     ]
    }
   ],
   "source": [
    "%%time\n",
    "clf_CB = CatBoostClassifier(depth=7,iterations=50,learning_rate=0.04).fit(X_train, y_train)"
   ]
  },
  {
   "cell_type": "code",
   "execution_count": 33,
   "metadata": {},
   "outputs": [
    {
     "name": "stdout",
     "output_type": "stream",
     "text": [
      "Accuracy: 0.6793179161082438\n",
      "F1 Score: 0.8090402771174354\n",
      "FPR: 1.0\n",
      "TPR: 1.0\n"
     ]
    }
   ],
   "source": [
    "pred_y_testCB = clf_CB.predict(X_test)\n",
    "print('Accuracy:', accuracy_score(y_test, pred_y_testCB))\n",
    "\n",
    "f1 = f1_score(y_test, pred_y_testCB)\n",
    "print('F1 Score:', f1)\n",
    "\n",
    "fpr, tpr, thresholds = roc_curve(y_test, pred_y_testCB)\n",
    "print('FPR:', fpr[1])\n",
    "print('TPR:', tpr[1])"
   ]
  },
  {
   "cell_type": "markdown",
   "metadata": {},
   "source": [
    "## Model Evaluation"
   ]
  },
  {
   "cell_type": "code",
   "execution_count": 34,
   "metadata": {},
   "outputs": [
    {
     "data": {
      "text/plain": [
       "(175341, 44)"
      ]
     },
     "execution_count": 34,
     "metadata": {},
     "output_type": "execute_result"
    }
   ],
   "source": [
    "import pandas as pd, numpy as np\n",
    "test_df = pd.read_csv(\"../UNSW_Test.csv\")\n",
    "test_df.shape"
   ]
  },
  {
   "cell_type": "code",
   "execution_count": 35,
   "metadata": {},
   "outputs": [
    {
     "data": {
      "text/html": [
       "<div>\n",
       "<style scoped>\n",
       "    .dataframe tbody tr th:only-of-type {\n",
       "        vertical-align: middle;\n",
       "    }\n",
       "\n",
       "    .dataframe tbody tr th {\n",
       "        vertical-align: top;\n",
       "    }\n",
       "\n",
       "    .dataframe thead th {\n",
       "        text-align: right;\n",
       "    }\n",
       "</style>\n",
       "<table border=\"1\" class=\"dataframe\">\n",
       "  <thead>\n",
       "    <tr style=\"text-align: right;\">\n",
       "      <th></th>\n",
       "      <th>dur</th>\n",
       "      <th>proto</th>\n",
       "      <th>service</th>\n",
       "      <th>state</th>\n",
       "      <th>spkts</th>\n",
       "      <th>dpkts</th>\n",
       "      <th>sbytes</th>\n",
       "      <th>dbytes</th>\n",
       "      <th>rate</th>\n",
       "      <th>sttl</th>\n",
       "      <th>...</th>\n",
       "      <th>ct_dst_sport_ltm</th>\n",
       "      <th>ct_dst_src_ltm</th>\n",
       "      <th>is_ftp_login</th>\n",
       "      <th>ct_ftp_cmd</th>\n",
       "      <th>ct_flw_http_mthd</th>\n",
       "      <th>ct_src_ltm</th>\n",
       "      <th>ct_srv_dst</th>\n",
       "      <th>is_sm_ips_ports</th>\n",
       "      <th>attack</th>\n",
       "      <th>is_intrusion</th>\n",
       "    </tr>\n",
       "  </thead>\n",
       "  <tbody>\n",
       "    <tr>\n",
       "      <th>0</th>\n",
       "      <td>0.121478</td>\n",
       "      <td>113.0</td>\n",
       "      <td>0.0</td>\n",
       "      <td>2.0</td>\n",
       "      <td>6</td>\n",
       "      <td>4</td>\n",
       "      <td>258</td>\n",
       "      <td>172</td>\n",
       "      <td>74.087490</td>\n",
       "      <td>252</td>\n",
       "      <td>...</td>\n",
       "      <td>1</td>\n",
       "      <td>1</td>\n",
       "      <td>0</td>\n",
       "      <td>0</td>\n",
       "      <td>0</td>\n",
       "      <td>1</td>\n",
       "      <td>1</td>\n",
       "      <td>0</td>\n",
       "      <td>0</td>\n",
       "      <td>0</td>\n",
       "    </tr>\n",
       "    <tr>\n",
       "      <th>1</th>\n",
       "      <td>0.649902</td>\n",
       "      <td>113.0</td>\n",
       "      <td>0.0</td>\n",
       "      <td>2.0</td>\n",
       "      <td>14</td>\n",
       "      <td>38</td>\n",
       "      <td>734</td>\n",
       "      <td>42014</td>\n",
       "      <td>78.473372</td>\n",
       "      <td>62</td>\n",
       "      <td>...</td>\n",
       "      <td>1</td>\n",
       "      <td>2</td>\n",
       "      <td>0</td>\n",
       "      <td>0</td>\n",
       "      <td>0</td>\n",
       "      <td>1</td>\n",
       "      <td>6</td>\n",
       "      <td>0</td>\n",
       "      <td>0</td>\n",
       "      <td>0</td>\n",
       "    </tr>\n",
       "    <tr>\n",
       "      <th>2</th>\n",
       "      <td>1.623129</td>\n",
       "      <td>113.0</td>\n",
       "      <td>0.0</td>\n",
       "      <td>2.0</td>\n",
       "      <td>8</td>\n",
       "      <td>16</td>\n",
       "      <td>364</td>\n",
       "      <td>13186</td>\n",
       "      <td>14.170161</td>\n",
       "      <td>62</td>\n",
       "      <td>...</td>\n",
       "      <td>1</td>\n",
       "      <td>3</td>\n",
       "      <td>0</td>\n",
       "      <td>0</td>\n",
       "      <td>0</td>\n",
       "      <td>2</td>\n",
       "      <td>6</td>\n",
       "      <td>0</td>\n",
       "      <td>0</td>\n",
       "      <td>0</td>\n",
       "    </tr>\n",
       "    <tr>\n",
       "      <th>3</th>\n",
       "      <td>1.681642</td>\n",
       "      <td>113.0</td>\n",
       "      <td>3.0</td>\n",
       "      <td>2.0</td>\n",
       "      <td>12</td>\n",
       "      <td>12</td>\n",
       "      <td>628</td>\n",
       "      <td>770</td>\n",
       "      <td>13.677108</td>\n",
       "      <td>62</td>\n",
       "      <td>...</td>\n",
       "      <td>1</td>\n",
       "      <td>3</td>\n",
       "      <td>1</td>\n",
       "      <td>1</td>\n",
       "      <td>0</td>\n",
       "      <td>2</td>\n",
       "      <td>1</td>\n",
       "      <td>0</td>\n",
       "      <td>0</td>\n",
       "      <td>0</td>\n",
       "    </tr>\n",
       "    <tr>\n",
       "      <th>4</th>\n",
       "      <td>0.449454</td>\n",
       "      <td>113.0</td>\n",
       "      <td>0.0</td>\n",
       "      <td>2.0</td>\n",
       "      <td>10</td>\n",
       "      <td>6</td>\n",
       "      <td>534</td>\n",
       "      <td>268</td>\n",
       "      <td>33.373826</td>\n",
       "      <td>254</td>\n",
       "      <td>...</td>\n",
       "      <td>1</td>\n",
       "      <td>40</td>\n",
       "      <td>0</td>\n",
       "      <td>0</td>\n",
       "      <td>0</td>\n",
       "      <td>2</td>\n",
       "      <td>39</td>\n",
       "      <td>0</td>\n",
       "      <td>0</td>\n",
       "      <td>0</td>\n",
       "    </tr>\n",
       "  </tbody>\n",
       "</table>\n",
       "<p>5 rows × 44 columns</p>\n",
       "</div>"
      ],
      "text/plain": [
       "        dur  proto  service  state  spkts  dpkts  sbytes  dbytes       rate  \\\n",
       "0  0.121478  113.0      0.0    2.0      6      4     258     172  74.087490   \n",
       "1  0.649902  113.0      0.0    2.0     14     38     734   42014  78.473372   \n",
       "2  1.623129  113.0      0.0    2.0      8     16     364   13186  14.170161   \n",
       "3  1.681642  113.0      3.0    2.0     12     12     628     770  13.677108   \n",
       "4  0.449454  113.0      0.0    2.0     10      6     534     268  33.373826   \n",
       "\n",
       "   sttl  ...  ct_dst_sport_ltm  ct_dst_src_ltm  is_ftp_login  ct_ftp_cmd  \\\n",
       "0   252  ...                 1               1             0           0   \n",
       "1    62  ...                 1               2             0           0   \n",
       "2    62  ...                 1               3             0           0   \n",
       "3    62  ...                 1               3             1           1   \n",
       "4   254  ...                 1              40             0           0   \n",
       "\n",
       "   ct_flw_http_mthd  ct_src_ltm  ct_srv_dst  is_sm_ips_ports  attack  \\\n",
       "0                 0           1           1                0       0   \n",
       "1                 0           1           6                0       0   \n",
       "2                 0           2           6                0       0   \n",
       "3                 0           2           1                0       0   \n",
       "4                 0           2          39                0       0   \n",
       "\n",
       "   is_intrusion  \n",
       "0             0  \n",
       "1             0  \n",
       "2             0  \n",
       "3             0  \n",
       "4             0  \n",
       "\n",
       "[5 rows x 44 columns]"
      ]
     },
     "execution_count": 35,
     "metadata": {},
     "output_type": "execute_result"
    }
   ],
   "source": [
    "test_df.head()"
   ]
  },
  {
   "cell_type": "code",
   "execution_count": 36,
   "metadata": {},
   "outputs": [],
   "source": [
    "# Create feature matrix X and target vextor y\n",
    "y_eval = test_df['is_intrusion']\n",
    "X_eval = test_df.drop(columns=['is_intrusion','tcprtt','synack','ackdat','is_ftp_login','ct_ftp_cmd',\n",
    "       'is_sm_ips_ports'])"
   ]
  },
  {
   "cell_type": "code",
   "execution_count": 37,
   "metadata": {},
   "outputs": [
    {
     "data": {
      "text/plain": [
       "(175341, 37)"
      ]
     },
     "execution_count": 37,
     "metadata": {},
     "output_type": "execute_result"
    }
   ],
   "source": [
    "X_eval.shape"
   ]
  },
  {
   "cell_type": "markdown",
   "metadata": {},
   "source": [
    "### Model Evaluation - Logistic Regression"
   ]
  },
  {
   "cell_type": "code",
   "execution_count": 38,
   "metadata": {},
   "outputs": [
    {
     "data": {
      "text/plain": [
       "LogisticRegression(C=25, n_jobs=-1, random_state=42)"
      ]
     },
     "execution_count": 38,
     "metadata": {},
     "output_type": "execute_result"
    }
   ],
   "source": [
    "modelLR = linear_model.LogisticRegression(n_jobs=-1, random_state=42, C=25)\n",
    "modelLR.fit(X_train, y_train)"
   ]
  },
  {
   "cell_type": "code",
   "execution_count": 39,
   "metadata": {},
   "outputs": [],
   "source": [
    "# Predict on the new unseen test data\n",
    "y_evalpredLR = modelLR.predict(X_eval)\n",
    "y_predLR = modelLR.predict(X_test)"
   ]
  },
  {
   "cell_type": "code",
   "execution_count": 40,
   "metadata": {},
   "outputs": [
    {
     "name": "stdout",
     "output_type": "stream",
     "text": [
      "Training accuracy is  1.0\n",
      "Testing accuracy is  0.33265847329550313\n"
     ]
    }
   ],
   "source": [
    "train_scoreLR = modelLR.score(X_train, y_train)\n",
    "test_scoreLR = modelLR.score(X_test, y_test)\n",
    "print(\"Training accuracy is \", train_scoreLR)\n",
    "print(\"Testing accuracy is \", test_scoreLR)"
   ]
  },
  {
   "cell_type": "code",
   "execution_count": 41,
   "metadata": {},
   "outputs": [
    {
     "name": "stdout",
     "output_type": "stream",
     "text": [
      "Performance measures for test:\n",
      "--------\n",
      "Accuracy: 0.33265847329550313\n",
      "F1 Score: 0.03900956760974007\n",
      "Precision Score: 0.8962264150943396\n",
      "Recall Score: 0.019938714687486883\n",
      "Confusion Matrix:\n",
      " [[11191    55]\n",
      " [23348   475]]\n"
     ]
    }
   ],
   "source": [
    "from sklearn.metrics import confusion_matrix, precision_score, recall_score, f1_score\n",
    "print('Performance measures for test:')\n",
    "print('--------')\n",
    "print('Accuracy:', test_scoreLR)\n",
    "print('F1 Score:',f1_score(y_test, y_predLR))\n",
    "print('Precision Score:',precision_score(y_test, y_predLR))\n",
    "print('Recall Score:', recall_score(y_test, y_predLR))\n",
    "print('Confusion Matrix:\\n', confusion_matrix(y_test, y_predLR))"
   ]
  },
  {
   "cell_type": "markdown",
   "metadata": {},
   "source": [
    "### Cross validation - Logistic Regression"
   ]
  },
  {
   "cell_type": "code",
   "execution_count": 42,
   "metadata": {},
   "outputs": [
    {
     "name": "stdout",
     "output_type": "stream",
     "text": [
      "Accuracy: 0.84997 (+/- 0.14701)\n",
      "F1 Score: 0.90011 (+/- 0.08196)\n",
      "Precision: 0.84748 (+/- 0.15547)\n",
      "Recall: 0.96586 (+/- 0.03799)\n"
     ]
    }
   ],
   "source": [
    "from sklearn.model_selection import cross_val_score\n",
    "from sklearn import metrics\n",
    "\n",
    "accuracy = cross_val_score(modelLR, X_eval, y_eval, cv=10, scoring='accuracy')\n",
    "print(\"Accuracy: %0.5f (+/- %0.5f)\" % (accuracy.mean(), accuracy.std() * 2))\n",
    "\n",
    "f = cross_val_score(modelLR, X_eval, y_eval, cv=10, scoring='f1')\n",
    "print(\"F1 Score: %0.5f (+/- %0.5f)\" % (f.mean(), f.std() * 2))\n",
    "\n",
    "precision = cross_val_score(modelLR, X_eval, y_eval, cv=10, scoring='precision')\n",
    "print(\"Precision: %0.5f (+/- %0.5f)\" % (precision.mean(), precision.std() * 2))\n",
    "\n",
    "recall = cross_val_score(modelLR, X_eval, y_eval, cv=10, scoring='recall')\n",
    "print(\"Recall: %0.5f (+/- %0.5f)\" % (recall.mean(), recall.std() * 2))"
   ]
  },
  {
   "cell_type": "markdown",
   "metadata": {},
   "source": [
    "### Model Evaluation - Naive Bayes\n"
   ]
  },
  {
   "cell_type": "code",
   "execution_count": 43,
   "metadata": {},
   "outputs": [
    {
     "data": {
      "text/plain": [
       "GaussianNB(var_smoothing=1e-08)"
      ]
     },
     "execution_count": 43,
     "metadata": {},
     "output_type": "execute_result"
    }
   ],
   "source": [
    "modelNB = GaussianNB(var_smoothing=1e-08)\n",
    "modelNB.fit(X_train, y_train)"
   ]
  },
  {
   "cell_type": "code",
   "execution_count": 44,
   "metadata": {},
   "outputs": [],
   "source": [
    "# Predict on the new unseen test data\n",
    "y_evalpredNB = modelNB.predict(X_eval)\n",
    "y_predNB = modelNB.predict(X_test)"
   ]
  },
  {
   "cell_type": "code",
   "execution_count": 45,
   "metadata": {},
   "outputs": [
    {
     "name": "stdout",
     "output_type": "stream",
     "text": [
      "Training accuracy is  1.0\n",
      "Testing accuracy is  0.7423365365422453\n"
     ]
    }
   ],
   "source": [
    "train_scoreNB = modelNB.score(X_train, y_train)\n",
    "test_scoreNB = modelNB.score(X_test, y_test)\n",
    "print(\"Training accuracy is \", train_scoreNB)\n",
    "print(\"Testing accuracy is \", test_scoreNB)"
   ]
  },
  {
   "cell_type": "code",
   "execution_count": 46,
   "metadata": {},
   "outputs": [
    {
     "name": "stdout",
     "output_type": "stream",
     "text": [
      "Performance measures for test:\n",
      "--------\n",
      "Accuracy: 0.7423365365422453\n",
      "F1 Score: 0.7751791401273885\n",
      "Precision Score: 0.9516769503329464\n",
      "Recall Score: 0.653905889266675\n",
      "Confusion Matrix:\n",
      " [[10455   791]\n",
      " [ 8245 15578]]\n"
     ]
    }
   ],
   "source": [
    "from sklearn.metrics import confusion_matrix, precision_score, recall_score, f1_score\n",
    "print('Performance measures for test:')\n",
    "print('--------')\n",
    "print('Accuracy:', test_scoreNB)\n",
    "print('F1 Score:',f1_score(y_test, y_predNB))\n",
    "print('Precision Score:',precision_score(y_test, y_predNB))\n",
    "print('Recall Score:', recall_score(y_test, y_predNB))\n",
    "print('Confusion Matrix:\\n', confusion_matrix(y_test, y_predNB))"
   ]
  },
  {
   "cell_type": "markdown",
   "metadata": {},
   "source": [
    "### Cross validation - Naive Bayes"
   ]
  },
  {
   "cell_type": "code",
   "execution_count": 47,
   "metadata": {},
   "outputs": [
    {
     "name": "stdout",
     "output_type": "stream",
     "text": [
      "Accuracy: 0.81069 (+/- 0.14598)\n",
      "F1 Score: 0.87452 (+/- 0.07697)\n",
      "Precision: 0.81743 (+/- 0.15330)\n",
      "Recall: 0.94776 (+/- 0.06318)\n"
     ]
    }
   ],
   "source": [
    "from sklearn.model_selection import cross_val_score\n",
    "from sklearn import metrics\n",
    "\n",
    "accuracy = cross_val_score(modelNB, X_eval, y_eval, cv=10, scoring='accuracy')\n",
    "print(\"Accuracy: %0.5f (+/- %0.5f)\" % (accuracy.mean(), accuracy.std() * 2))\n",
    "\n",
    "f = cross_val_score(modelNB, X_eval, y_eval, cv=10, scoring='f1')\n",
    "print(\"F1 Score: %0.5f (+/- %0.5f)\" % (f.mean(), f.std() * 2))\n",
    "\n",
    "precision = cross_val_score(modelNB, X_eval, y_eval, cv=10, scoring='precision')\n",
    "print(\"Precision: %0.5f (+/- %0.5f)\" % (precision.mean(), precision.std() * 2))\n",
    "\n",
    "recall = cross_val_score(modelNB, X_eval, y_eval, cv=10, scoring='recall')\n",
    "print(\"Recall: %0.5f (+/- %0.5f)\" % (recall.mean(), recall.std() * 2))"
   ]
  },
  {
   "cell_type": "markdown",
   "metadata": {},
   "source": [
    "### Model Evaluation - Random Forest\n"
   ]
  },
  {
   "cell_type": "code",
   "execution_count": 48,
   "metadata": {},
   "outputs": [
    {
     "data": {
      "text/plain": [
       "RandomForestClassifier(max_depth=100, n_estimators=1000, random_state=0)"
      ]
     },
     "execution_count": 48,
     "metadata": {},
     "output_type": "execute_result"
    }
   ],
   "source": [
    "modelRF = RandomForestClassifier(random_state=0,max_depth=100,n_estimators=1000)\n",
    "modelRF.fit(X_train, y_train)"
   ]
  },
  {
   "cell_type": "code",
   "execution_count": 49,
   "metadata": {},
   "outputs": [],
   "source": [
    "# Predict on the new unseen test data\n",
    "y_evalpredRF = modelRF.predict(X_eval)\n",
    "y_predRF = modelRF.predict(X_test)"
   ]
  },
  {
   "cell_type": "code",
   "execution_count": 50,
   "metadata": {},
   "outputs": [
    {
     "name": "stdout",
     "output_type": "stream",
     "text": [
      "Training accuracy is  1.0\n",
      "Testing accuracy is  0.6793179161082438\n"
     ]
    }
   ],
   "source": [
    "train_scoreRF = modelRF.score(X_train, y_train)\n",
    "test_scoreRF = modelRF.score(X_test, y_test)\n",
    "print(\"Training accuracy is \", train_scoreRF)\n",
    "print(\"Testing accuracy is \", test_scoreRF)"
   ]
  },
  {
   "cell_type": "code",
   "execution_count": 51,
   "metadata": {},
   "outputs": [
    {
     "name": "stdout",
     "output_type": "stream",
     "text": [
      "Performance measures for test:\n",
      "--------\n",
      "Accuracy: 0.6793179161082438\n",
      "F1 Score: 0.5495955550990522\n",
      "Precision Score: 0.4614728311456469\n",
      "Recall Score: 0.6793179161082438\n",
      "Confusion Matrix:\n",
      " [[    0 11246]\n",
      " [    0 23823]]\n"
     ]
    }
   ],
   "source": [
    "from sklearn.metrics import confusion_matrix, precision_score, recall_score, f1_score\n",
    "print('Performance measures for test:')\n",
    "print('--------')\n",
    "print('Accuracy:', test_scoreRF)\n",
    "print('F1 Score:', f1_score(y_test, y_predRF, average='weighted', zero_division=0))\n",
    "print('Precision Score:', precision_score(y_test, y_predRF, average='weighted', zero_division=0))\n",
    "print('Recall Score:', recall_score(y_test, y_predRF, average='weighted', zero_division=0))\n",
    "print('Confusion Matrix:\\n', confusion_matrix(y_test, y_predRF))"
   ]
  },
  {
   "cell_type": "markdown",
   "metadata": {},
   "source": [
    "### Cross validation - Random Forest"
   ]
  },
  {
   "cell_type": "code",
   "execution_count": 64,
   "metadata": {},
   "outputs": [
    {
     "name": "stdout",
     "output_type": "stream",
     "text": [
      "Accuracy: 1.00000 (+/- 0.00000)\n",
      "F1 Score: 1.00000 (+/- 0.00000)\n",
      "Precision: 1.00000 (+/- 0.00000)\n",
      "Recall: 1.00000 (+/- 0.00000)\n"
     ]
    }
   ],
   "source": [
    "from sklearn.model_selection import cross_val_score\n",
    "from sklearn import metrics\n",
    "\n",
    "accuracy = cross_val_score(modelRF, X_eval, y_eval, cv=5, scoring='accuracy')\n",
    "print(\"Accuracy: %0.5f (+/- %0.5f)\" % (accuracy.mean(), accuracy.std() * 2))\n",
    "\n",
    "f = cross_val_score(modelRF, X_eval, y_eval, cv=5, scoring='f1')\n",
    "print(\"F1 Score: %0.5f (+/- %0.5f)\" % (f.mean(), f.std() * 2))\n",
    "\n",
    "precision = cross_val_score(modelRF, X_eval, y_eval, cv=5, scoring='precision')\n",
    "print(\"Precision: %0.5f (+/- %0.5f)\" % (precision.mean(), precision.std() * 2))\n",
    "\n",
    "recall = cross_val_score(modelRF, X_eval, y_eval, cv=5, scoring='recall')\n",
    "print(\"Recall: %0.5f (+/- %0.5f)\" % (recall.mean(), recall.std() * 2))"
   ]
  },
  {
   "cell_type": "markdown",
   "metadata": {},
   "source": [
    "### Model Evaluation - KNN"
   ]
  },
  {
   "cell_type": "code",
   "execution_count": 53,
   "metadata": {},
   "outputs": [
    {
     "data": {
      "text/plain": [
       "KNeighborsClassifier(algorithm='ball_tree', leaf_size=1)"
      ]
     },
     "execution_count": 53,
     "metadata": {},
     "output_type": "execute_result"
    }
   ],
   "source": [
    "modelKNN = KNeighborsClassifier(algorithm='ball_tree',leaf_size=1,n_neighbors=5,weights='uniform')\n",
    "modelKNN.fit(X_train, y_train)"
   ]
  },
  {
   "cell_type": "code",
   "execution_count": 54,
   "metadata": {},
   "outputs": [],
   "source": [
    "# Predict on the new unseen test data\n",
    "y_evalpredKNN = modelKNN.predict(X_eval)\n",
    "y_predKNN = modelKNN.predict(X_test)"
   ]
  },
  {
   "cell_type": "code",
   "execution_count": 55,
   "metadata": {},
   "outputs": [
    {
     "name": "stdout",
     "output_type": "stream",
     "text": [
      "Training accuracy is  0.9995366145773925\n",
      "Testing accuracy is  0.6842510479340729\n"
     ]
    }
   ],
   "source": [
    "train_scoreKNN = modelKNN.score(X_train, y_train)\n",
    "test_scoreKNN = modelKNN.score(X_test, y_test)\n",
    "print(\"Training accuracy is \", train_scoreKNN)\n",
    "print(\"Testing accuracy is \", test_scoreKNN)"
   ]
  },
  {
   "cell_type": "code",
   "execution_count": 56,
   "metadata": {},
   "outputs": [
    {
     "name": "stdout",
     "output_type": "stream",
     "text": [
      "Performance measures for test:\n",
      "--------\n",
      "Accuracy: 0.6842510479340729\n",
      "F1 Score: 0.7391703766518267\n",
      "Precision Score: 0.8421900161030595\n",
      "Recall Score: 0.6586072283087773\n",
      "Confusion Matrix:\n",
      " [[ 8306  2940]\n",
      " [ 8133 15690]]\n"
     ]
    }
   ],
   "source": [
    "from sklearn.metrics import confusion_matrix, precision_score, recall_score, f1_score\n",
    "print('Performance measures for test:')\n",
    "print('--------')\n",
    "print('Accuracy:', test_scoreKNN)\n",
    "print('F1 Score:', f1_score(y_test, y_predKNN))\n",
    "print('Precision Score:', precision_score(y_test, y_predKNN))\n",
    "print('Recall Score:', recall_score(y_test, y_predKNN))\n",
    "print('Confusion Matrix:\\n', confusion_matrix(y_test, y_predKNN))"
   ]
  },
  {
   "cell_type": "markdown",
   "metadata": {},
   "source": [
    "### Cross validation - KNN\n"
   ]
  },
  {
   "cell_type": "code",
   "execution_count": 57,
   "metadata": {},
   "outputs": [
    {
     "name": "stdout",
     "output_type": "stream",
     "text": [
      "Accuracy: 0.87901 (+/- 0.13180)\n",
      "F1 Score: 0.91584 (+/- 0.07682)\n",
      "Precision: 0.90359 (+/- 0.17653)\n",
      "Recall: 0.93684 (+/- 0.07517)\n"
     ]
    }
   ],
   "source": [
    "from sklearn.model_selection import cross_val_score\n",
    "from sklearn import metrics\n",
    "\n",
    "accuracy = cross_val_score(modelKNN, X_eval, y_eval, cv=10, scoring='accuracy')\n",
    "print(\"Accuracy: %0.5f (+/- %0.5f)\" % (accuracy.mean(), accuracy.std() * 2))\n",
    "\n",
    "f = cross_val_score(modelKNN, X_eval, y_eval, cv=10, scoring='f1')\n",
    "print(\"F1 Score: %0.5f (+/- %0.5f)\" % (f.mean(), f.std() * 2))\n",
    "\n",
    "precision = cross_val_score(modelKNN, X_eval, y_eval, cv=10, scoring='precision')\n",
    "print(\"Precision: %0.5f (+/- %0.5f)\" % (precision.mean(), precision.std() * 2))\n",
    "\n",
    "recall = cross_val_score(modelKNN, X_eval, y_eval, cv=10, scoring='recall')\n",
    "print(\"Recall: %0.5f (+/- %0.5f)\" % (recall.mean(), recall.std() * 2))"
   ]
  },
  {
   "cell_type": "markdown",
   "metadata": {},
   "source": [
    "### Model Evaluation - CatBoost"
   ]
  },
  {
   "cell_type": "code",
   "execution_count": 58,
   "metadata": {},
   "outputs": [
    {
     "name": "stdout",
     "output_type": "stream",
     "text": [
      "0:\tlearn: 0.5203762\ttotal: 20.7ms\tremaining: 1.01s\n",
      "1:\tlearn: 0.3863715\ttotal: 40.3ms\tremaining: 967ms\n",
      "2:\tlearn: 0.2883336\ttotal: 61.1ms\tremaining: 958ms\n",
      "3:\tlearn: 0.2130400\ttotal: 81.2ms\tremaining: 934ms\n",
      "4:\tlearn: 0.1581939\ttotal: 101ms\tremaining: 912ms\n",
      "5:\tlearn: 0.1214909\ttotal: 122ms\tremaining: 896ms\n",
      "6:\tlearn: 0.0909181\ttotal: 143ms\tremaining: 878ms\n",
      "7:\tlearn: 0.0686590\ttotal: 164ms\tremaining: 861ms\n",
      "8:\tlearn: 0.0527265\ttotal: 185ms\tremaining: 843ms\n",
      "9:\tlearn: 0.0403258\ttotal: 206ms\tremaining: 823ms\n",
      "10:\tlearn: 0.0305359\ttotal: 225ms\tremaining: 799ms\n",
      "11:\tlearn: 0.0236932\ttotal: 246ms\tremaining: 778ms\n",
      "12:\tlearn: 0.0185799\ttotal: 268ms\tremaining: 762ms\n",
      "13:\tlearn: 0.0146775\ttotal: 288ms\tremaining: 741ms\n",
      "14:\tlearn: 0.0118577\ttotal: 309ms\tremaining: 721ms\n",
      "15:\tlearn: 0.0093696\ttotal: 328ms\tremaining: 698ms\n",
      "16:\tlearn: 0.0076554\ttotal: 349ms\tremaining: 677ms\n",
      "17:\tlearn: 0.0063683\ttotal: 368ms\tremaining: 655ms\n",
      "18:\tlearn: 0.0052865\ttotal: 389ms\tremaining: 635ms\n",
      "19:\tlearn: 0.0044068\ttotal: 410ms\tremaining: 615ms\n",
      "20:\tlearn: 0.0037088\ttotal: 430ms\tremaining: 594ms\n",
      "21:\tlearn: 0.0031328\ttotal: 449ms\tremaining: 572ms\n",
      "22:\tlearn: 0.0026781\ttotal: 469ms\tremaining: 551ms\n",
      "23:\tlearn: 0.0022982\ttotal: 488ms\tremaining: 529ms\n",
      "24:\tlearn: 0.0019719\ttotal: 507ms\tremaining: 507ms\n",
      "25:\tlearn: 0.0017094\ttotal: 527ms\tremaining: 486ms\n",
      "26:\tlearn: 0.0015294\ttotal: 545ms\tremaining: 464ms\n",
      "27:\tlearn: 0.0013547\ttotal: 563ms\tremaining: 442ms\n",
      "28:\tlearn: 0.0012061\ttotal: 582ms\tremaining: 421ms\n",
      "29:\tlearn: 0.0010843\ttotal: 600ms\tremaining: 400ms\n",
      "30:\tlearn: 0.0009698\ttotal: 619ms\tremaining: 379ms\n",
      "31:\tlearn: 0.0008719\ttotal: 637ms\tremaining: 358ms\n",
      "32:\tlearn: 0.0007961\ttotal: 654ms\tremaining: 337ms\n",
      "33:\tlearn: 0.0007273\ttotal: 673ms\tremaining: 317ms\n",
      "34:\tlearn: 0.0006647\ttotal: 691ms\tremaining: 296ms\n",
      "35:\tlearn: 0.0006103\ttotal: 708ms\tremaining: 275ms\n",
      "36:\tlearn: 0.0005663\ttotal: 726ms\tremaining: 255ms\n",
      "37:\tlearn: 0.0005269\ttotal: 744ms\tremaining: 235ms\n",
      "38:\tlearn: 0.0004930\ttotal: 762ms\tremaining: 215ms\n",
      "39:\tlearn: 0.0004632\ttotal: 778ms\tremaining: 195ms\n",
      "40:\tlearn: 0.0004329\ttotal: 795ms\tremaining: 175ms\n",
      "41:\tlearn: 0.0004045\ttotal: 813ms\tremaining: 155ms\n",
      "42:\tlearn: 0.0003829\ttotal: 831ms\tremaining: 135ms\n",
      "43:\tlearn: 0.0003591\ttotal: 851ms\tremaining: 116ms\n",
      "44:\tlearn: 0.0003431\ttotal: 869ms\tremaining: 96.6ms\n",
      "45:\tlearn: 0.0003253\ttotal: 886ms\tremaining: 77ms\n",
      "46:\tlearn: 0.0003089\ttotal: 905ms\tremaining: 57.7ms\n",
      "47:\tlearn: 0.0002963\ttotal: 924ms\tremaining: 38.5ms\n",
      "48:\tlearn: 0.0002825\ttotal: 941ms\tremaining: 19.2ms\n",
      "49:\tlearn: 0.0002718\ttotal: 959ms\tremaining: 0us\n"
     ]
    },
    {
     "data": {
      "text/plain": [
       "<catboost.core.CatBoostClassifier at 0x7fd7ca41c5b0>"
      ]
     },
     "execution_count": 58,
     "metadata": {},
     "output_type": "execute_result"
    }
   ],
   "source": [
    "modelCB = CatBoostClassifier(depth=7,iterations=50,learning_rate=0.04)\n",
    "modelCB.fit(X_train, y_train)"
   ]
  },
  {
   "cell_type": "code",
   "execution_count": 59,
   "metadata": {},
   "outputs": [],
   "source": [
    "# Predict on the new unseen test data\n",
    "y_evalpredCB = modelCB.predict(X_eval)\n",
    "y_predCB = modelCB.predict(X_test)"
   ]
  },
  {
   "cell_type": "code",
   "execution_count": 60,
   "metadata": {},
   "outputs": [
    {
     "name": "stdout",
     "output_type": "stream",
     "text": [
      "Training accuracy is  1.0\n",
      "Testing accuracy is  0.6793179161082438\n"
     ]
    }
   ],
   "source": [
    "train_scoreCB = modelCB.score(X_train, y_train)\n",
    "test_scoreCB = modelCB.score(X_test, y_test)\n",
    "print(\"Training accuracy is \", train_scoreCB)\n",
    "print(\"Testing accuracy is \", test_scoreCB)"
   ]
  },
  {
   "cell_type": "code",
   "execution_count": 61,
   "metadata": {},
   "outputs": [
    {
     "name": "stdout",
     "output_type": "stream",
     "text": [
      "Performance measures for test:\n",
      "--------\n",
      "Accuracy: 0.6793179161082438\n",
      "F1 Score: 0.5495955550990522\n",
      "Precision Score: 0.4614728311456469\n",
      "Recall Score: 0.6793179161082438\n",
      "Confusion Matrix:\n",
      " [[    0 11246]\n",
      " [    0 23823]]\n"
     ]
    }
   ],
   "source": [
    "from sklearn.metrics import confusion_matrix, precision_score, recall_score, f1_score\n",
    "print('Performance measures for test:')\n",
    "print('--------')\n",
    "print('Accuracy:', test_scoreCB)\n",
    "print('F1 Score:',f1_score(y_test, y_predCB, average='weighted', zero_division=0))\n",
    "print('Precision Score:',precision_score(y_test, y_predCB, average='weighted', zero_division=0))\n",
    "print('Recall Score:', recall_score(y_test, y_predCB, average='weighted', zero_division=0))\n",
    "print('Confusion Matrix:\\n', confusion_matrix(y_test, y_predCB))"
   ]
  },
  {
   "cell_type": "markdown",
   "metadata": {},
   "source": [
    "### Cross validation - CatBoost"
   ]
  },
  {
   "cell_type": "code",
   "execution_count": 65,
   "metadata": {},
   "outputs": [
    {
     "name": "stdout",
     "output_type": "stream",
     "text": [
      "0:\tlearn: 0.5200986\ttotal: 19.7ms\tremaining: 967ms\n",
      "1:\tlearn: 0.3858020\ttotal: 39.4ms\tremaining: 945ms\n",
      "2:\tlearn: 0.2877645\ttotal: 60.5ms\tremaining: 947ms\n",
      "3:\tlearn: 0.2125625\ttotal: 80.4ms\tremaining: 924ms\n",
      "4:\tlearn: 0.1577542\ttotal: 100ms\tremaining: 904ms\n",
      "5:\tlearn: 0.1210598\ttotal: 123ms\tremaining: 901ms\n",
      "6:\tlearn: 0.0906504\ttotal: 143ms\tremaining: 881ms\n",
      "7:\tlearn: 0.0664036\ttotal: 159ms\tremaining: 836ms\n",
      "8:\tlearn: 0.0506660\ttotal: 179ms\tremaining: 815ms\n",
      "9:\tlearn: 0.0386760\ttotal: 199ms\tremaining: 796ms\n",
      "10:\tlearn: 0.0298533\ttotal: 220ms\tremaining: 780ms\n",
      "11:\tlearn: 0.0231533\ttotal: 242ms\tremaining: 766ms\n",
      "12:\tlearn: 0.0183607\ttotal: 260ms\tremaining: 739ms\n",
      "13:\tlearn: 0.0144009\ttotal: 279ms\tremaining: 718ms\n",
      "14:\tlearn: 0.0117596\ttotal: 300ms\tremaining: 699ms\n",
      "15:\tlearn: 0.0094999\ttotal: 319ms\tremaining: 678ms\n",
      "16:\tlearn: 0.0078327\ttotal: 340ms\tremaining: 660ms\n",
      "17:\tlearn: 0.0065094\ttotal: 360ms\tremaining: 640ms\n",
      "18:\tlearn: 0.0055002\ttotal: 380ms\tremaining: 619ms\n",
      "19:\tlearn: 0.0045881\ttotal: 400ms\tremaining: 600ms\n",
      "20:\tlearn: 0.0038626\ttotal: 416ms\tremaining: 575ms\n",
      "21:\tlearn: 0.0032867\ttotal: 436ms\tremaining: 555ms\n",
      "22:\tlearn: 0.0027596\ttotal: 455ms\tremaining: 534ms\n",
      "23:\tlearn: 0.0023557\ttotal: 474ms\tremaining: 513ms\n",
      "24:\tlearn: 0.0020347\ttotal: 494ms\tremaining: 494ms\n",
      "25:\tlearn: 0.0017508\ttotal: 514ms\tremaining: 475ms\n",
      "26:\tlearn: 0.0015440\ttotal: 534ms\tremaining: 455ms\n",
      "27:\tlearn: 0.0013531\ttotal: 556ms\tremaining: 437ms\n",
      "28:\tlearn: 0.0011952\ttotal: 576ms\tremaining: 417ms\n",
      "29:\tlearn: 0.0010533\ttotal: 595ms\tremaining: 397ms\n",
      "30:\tlearn: 0.0009415\ttotal: 614ms\tremaining: 376ms\n",
      "31:\tlearn: 0.0008412\ttotal: 633ms\tremaining: 356ms\n",
      "32:\tlearn: 0.0007678\ttotal: 652ms\tremaining: 336ms\n",
      "33:\tlearn: 0.0007022\ttotal: 669ms\tremaining: 315ms\n",
      "34:\tlearn: 0.0006362\ttotal: 687ms\tremaining: 295ms\n",
      "35:\tlearn: 0.0005797\ttotal: 704ms\tremaining: 274ms\n",
      "36:\tlearn: 0.0005300\ttotal: 722ms\tremaining: 254ms\n",
      "37:\tlearn: 0.0004877\ttotal: 740ms\tremaining: 234ms\n",
      "38:\tlearn: 0.0004507\ttotal: 759ms\tremaining: 214ms\n",
      "39:\tlearn: 0.0004285\ttotal: 776ms\tremaining: 194ms\n",
      "40:\tlearn: 0.0004053\ttotal: 792ms\tremaining: 174ms\n",
      "41:\tlearn: 0.0003828\ttotal: 808ms\tremaining: 154ms\n",
      "42:\tlearn: 0.0003582\ttotal: 825ms\tremaining: 134ms\n",
      "43:\tlearn: 0.0003360\ttotal: 843ms\tremaining: 115ms\n",
      "44:\tlearn: 0.0003161\ttotal: 863ms\tremaining: 95.9ms\n",
      "45:\tlearn: 0.0002998\ttotal: 882ms\tremaining: 76.7ms\n",
      "46:\tlearn: 0.0002839\ttotal: 899ms\tremaining: 57.4ms\n",
      "47:\tlearn: 0.0002685\ttotal: 916ms\tremaining: 38.2ms\n",
      "48:\tlearn: 0.0002546\ttotal: 933ms\tremaining: 19.1ms\n",
      "49:\tlearn: 0.0002476\ttotal: 950ms\tremaining: 0us\n",
      "0:\tlearn: 0.5200094\ttotal: 20.1ms\tremaining: 987ms\n",
      "1:\tlearn: 0.3856189\ttotal: 39.6ms\tremaining: 950ms\n",
      "2:\tlearn: 0.2878988\ttotal: 60ms\tremaining: 939ms\n",
      "3:\tlearn: 0.2125859\ttotal: 79.8ms\tremaining: 917ms\n",
      "4:\tlearn: 0.1584312\ttotal: 101ms\tremaining: 906ms\n",
      "5:\tlearn: 0.1215743\ttotal: 122ms\tremaining: 891ms\n",
      "6:\tlearn: 0.0910185\ttotal: 142ms\tremaining: 872ms\n",
      "7:\tlearn: 0.0667306\ttotal: 158ms\tremaining: 830ms\n",
      "8:\tlearn: 0.0510740\ttotal: 179ms\tremaining: 818ms\n",
      "9:\tlearn: 0.0389692\ttotal: 201ms\tremaining: 804ms\n",
      "10:\tlearn: 0.0302327\ttotal: 223ms\tremaining: 790ms\n",
      "11:\tlearn: 0.0235592\ttotal: 244ms\tremaining: 774ms\n",
      "12:\tlearn: 0.0187943\ttotal: 265ms\tremaining: 756ms\n",
      "13:\tlearn: 0.0150502\ttotal: 287ms\tremaining: 737ms\n",
      "14:\tlearn: 0.0119442\ttotal: 308ms\tremaining: 719ms\n",
      "15:\tlearn: 0.0096098\ttotal: 329ms\tremaining: 699ms\n",
      "16:\tlearn: 0.0077200\ttotal: 345ms\tremaining: 670ms\n",
      "17:\tlearn: 0.0063472\ttotal: 365ms\tremaining: 649ms\n",
      "18:\tlearn: 0.0052548\ttotal: 386ms\tremaining: 630ms\n",
      "19:\tlearn: 0.0044812\ttotal: 406ms\tremaining: 608ms\n",
      "20:\tlearn: 0.0038645\ttotal: 425ms\tremaining: 587ms\n",
      "21:\tlearn: 0.0033073\ttotal: 446ms\tremaining: 568ms\n",
      "22:\tlearn: 0.0028562\ttotal: 466ms\tremaining: 547ms\n",
      "23:\tlearn: 0.0024424\ttotal: 486ms\tremaining: 526ms\n",
      "24:\tlearn: 0.0021653\ttotal: 505ms\tremaining: 505ms\n",
      "25:\tlearn: 0.0019280\ttotal: 523ms\tremaining: 483ms\n",
      "26:\tlearn: 0.0017185\ttotal: 542ms\tremaining: 462ms\n",
      "27:\tlearn: 0.0015150\ttotal: 561ms\tremaining: 441ms\n",
      "28:\tlearn: 0.0013464\ttotal: 580ms\tremaining: 420ms\n",
      "29:\tlearn: 0.0011987\ttotal: 600ms\tremaining: 400ms\n",
      "30:\tlearn: 0.0010750\ttotal: 623ms\tremaining: 382ms\n",
      "31:\tlearn: 0.0009870\ttotal: 648ms\tremaining: 365ms\n",
      "32:\tlearn: 0.0009091\ttotal: 670ms\tremaining: 345ms\n",
      "33:\tlearn: 0.0008410\ttotal: 691ms\tremaining: 325ms\n",
      "34:\tlearn: 0.0007641\ttotal: 710ms\tremaining: 304ms\n",
      "35:\tlearn: 0.0007035\ttotal: 729ms\tremaining: 283ms\n",
      "36:\tlearn: 0.0006522\ttotal: 747ms\tremaining: 262ms\n",
      "37:\tlearn: 0.0006041\ttotal: 764ms\tremaining: 241ms\n",
      "38:\tlearn: 0.0005607\ttotal: 782ms\tremaining: 221ms\n",
      "39:\tlearn: 0.0005322\ttotal: 800ms\tremaining: 200ms\n",
      "40:\tlearn: 0.0005071\ttotal: 817ms\tremaining: 179ms\n",
      "41:\tlearn: 0.0004834\ttotal: 837ms\tremaining: 159ms\n",
      "42:\tlearn: 0.0004515\ttotal: 856ms\tremaining: 139ms\n",
      "43:\tlearn: 0.0004230\ttotal: 877ms\tremaining: 120ms\n",
      "44:\tlearn: 0.0004013\ttotal: 896ms\tremaining: 99.6ms\n",
      "45:\tlearn: 0.0003775\ttotal: 914ms\tremaining: 79.5ms\n",
      "46:\tlearn: 0.0003600\ttotal: 932ms\tremaining: 59.5ms\n",
      "47:\tlearn: 0.0003421\ttotal: 948ms\tremaining: 39.5ms\n",
      "48:\tlearn: 0.0003257\ttotal: 965ms\tremaining: 19.7ms\n",
      "49:\tlearn: 0.0003160\ttotal: 981ms\tremaining: 0us\n",
      "0:\tlearn: 0.5202632\ttotal: 20.1ms\tremaining: 983ms\n",
      "1:\tlearn: 0.3860870\ttotal: 39.5ms\tremaining: 948ms\n",
      "2:\tlearn: 0.2883550\ttotal: 60.7ms\tremaining: 951ms\n",
      "3:\tlearn: 0.2129820\ttotal: 81.5ms\tremaining: 937ms\n",
      "4:\tlearn: 0.1581037\ttotal: 102ms\tremaining: 922ms\n",
      "5:\tlearn: 0.1202168\ttotal: 124ms\tremaining: 908ms\n",
      "6:\tlearn: 0.0900459\ttotal: 144ms\tremaining: 884ms\n",
      "7:\tlearn: 0.0679688\ttotal: 165ms\tremaining: 868ms\n",
      "8:\tlearn: 0.0517948\ttotal: 187ms\tremaining: 850ms\n",
      "9:\tlearn: 0.0396378\ttotal: 208ms\tremaining: 831ms\n",
      "10:\tlearn: 0.0300473\ttotal: 229ms\tremaining: 813ms\n",
      "11:\tlearn: 0.0234476\ttotal: 251ms\tremaining: 794ms\n",
      "12:\tlearn: 0.0185541\ttotal: 274ms\tremaining: 780ms\n",
      "13:\tlearn: 0.0146670\ttotal: 295ms\tremaining: 758ms\n",
      "14:\tlearn: 0.0117866\ttotal: 318ms\tremaining: 743ms\n",
      "15:\tlearn: 0.0094116\ttotal: 339ms\tremaining: 721ms\n",
      "16:\tlearn: 0.0076359\ttotal: 361ms\tremaining: 700ms\n",
      "17:\tlearn: 0.0062937\ttotal: 382ms\tremaining: 680ms\n",
      "18:\tlearn: 0.0052892\ttotal: 405ms\tremaining: 661ms\n",
      "19:\tlearn: 0.0043827\ttotal: 427ms\tremaining: 641ms\n",
      "20:\tlearn: 0.0037751\ttotal: 448ms\tremaining: 619ms\n",
      "21:\tlearn: 0.0031862\ttotal: 470ms\tremaining: 598ms\n",
      "22:\tlearn: 0.0027389\ttotal: 491ms\tremaining: 576ms\n",
      "23:\tlearn: 0.0023624\ttotal: 511ms\tremaining: 554ms\n",
      "24:\tlearn: 0.0020382\ttotal: 532ms\tremaining: 532ms\n",
      "25:\tlearn: 0.0017879\ttotal: 553ms\tremaining: 510ms\n",
      "26:\tlearn: 0.0015764\ttotal: 573ms\tremaining: 488ms\n",
      "27:\tlearn: 0.0014127\ttotal: 593ms\tremaining: 466ms\n",
      "28:\tlearn: 0.0012593\ttotal: 613ms\tremaining: 444ms\n",
      "29:\tlearn: 0.0011323\ttotal: 634ms\tremaining: 423ms\n",
      "30:\tlearn: 0.0010193\ttotal: 655ms\tremaining: 402ms\n",
      "31:\tlearn: 0.0009398\ttotal: 676ms\tremaining: 380ms\n",
      "32:\tlearn: 0.0008719\ttotal: 694ms\tremaining: 358ms\n",
      "33:\tlearn: 0.0007901\ttotal: 713ms\tremaining: 335ms\n",
      "34:\tlearn: 0.0007222\ttotal: 732ms\tremaining: 314ms\n",
      "35:\tlearn: 0.0006665\ttotal: 750ms\tremaining: 292ms\n",
      "36:\tlearn: 0.0006153\ttotal: 770ms\tremaining: 271ms\n",
      "37:\tlearn: 0.0005698\ttotal: 789ms\tremaining: 249ms\n",
      "38:\tlearn: 0.0005417\ttotal: 805ms\tremaining: 227ms\n",
      "39:\tlearn: 0.0005154\ttotal: 822ms\tremaining: 206ms\n",
      "40:\tlearn: 0.0004902\ttotal: 840ms\tremaining: 184ms\n",
      "41:\tlearn: 0.0004583\ttotal: 859ms\tremaining: 164ms\n",
      "42:\tlearn: 0.0004319\ttotal: 878ms\tremaining: 143ms\n",
      "43:\tlearn: 0.0004085\ttotal: 896ms\tremaining: 122ms\n",
      "44:\tlearn: 0.0003853\ttotal: 913ms\tremaining: 101ms\n",
      "45:\tlearn: 0.0003660\ttotal: 931ms\tremaining: 81ms\n",
      "46:\tlearn: 0.0003469\ttotal: 947ms\tremaining: 60.5ms\n",
      "47:\tlearn: 0.0003294\ttotal: 964ms\tremaining: 40.2ms\n",
      "48:\tlearn: 0.0003207\ttotal: 980ms\tremaining: 20ms\n",
      "49:\tlearn: 0.0003117\ttotal: 996ms\tremaining: 0us\n",
      "0:\tlearn: 0.5208488\ttotal: 20.7ms\tremaining: 1.02s\n",
      "1:\tlearn: 0.3870411\ttotal: 40.6ms\tremaining: 974ms\n",
      "2:\tlearn: 0.2884435\ttotal: 61.3ms\tremaining: 960ms\n",
      "3:\tlearn: 0.2131696\ttotal: 81.3ms\tremaining: 935ms\n",
      "4:\tlearn: 0.1585522\ttotal: 102ms\tremaining: 916ms\n",
      "5:\tlearn: 0.1205216\ttotal: 123ms\tremaining: 904ms\n",
      "6:\tlearn: 0.0899832\ttotal: 144ms\tremaining: 883ms\n",
      "7:\tlearn: 0.0680578\ttotal: 165ms\tremaining: 865ms\n",
      "8:\tlearn: 0.0523214\ttotal: 185ms\tremaining: 845ms\n",
      "9:\tlearn: 0.0404423\ttotal: 207ms\tremaining: 828ms\n",
      "10:\tlearn: 0.0309760\ttotal: 229ms\tremaining: 812ms\n",
      "11:\tlearn: 0.0239944\ttotal: 250ms\tremaining: 793ms\n",
      "12:\tlearn: 0.0187984\ttotal: 272ms\tremaining: 775ms\n",
      "13:\tlearn: 0.0150650\ttotal: 294ms\tremaining: 757ms\n",
      "14:\tlearn: 0.0120462\ttotal: 314ms\tremaining: 734ms\n",
      "15:\tlearn: 0.0097711\ttotal: 336ms\tremaining: 714ms\n",
      "16:\tlearn: 0.0080034\ttotal: 357ms\tremaining: 694ms\n",
      "17:\tlearn: 0.0065356\ttotal: 378ms\tremaining: 672ms\n",
      "18:\tlearn: 0.0054750\ttotal: 399ms\tremaining: 652ms\n",
      "19:\tlearn: 0.0046109\ttotal: 420ms\tremaining: 630ms\n"
     ]
    },
    {
     "name": "stdout",
     "output_type": "stream",
     "text": [
      "20:\tlearn: 0.0039092\ttotal: 442ms\tremaining: 610ms\n",
      "21:\tlearn: 0.0033770\ttotal: 462ms\tremaining: 588ms\n",
      "22:\tlearn: 0.0028857\ttotal: 484ms\tremaining: 568ms\n",
      "23:\tlearn: 0.0025061\ttotal: 504ms\tremaining: 546ms\n",
      "24:\tlearn: 0.0021701\ttotal: 523ms\tremaining: 523ms\n",
      "25:\tlearn: 0.0018741\ttotal: 544ms\tremaining: 502ms\n",
      "26:\tlearn: 0.0016589\ttotal: 565ms\tremaining: 481ms\n",
      "27:\tlearn: 0.0014748\ttotal: 585ms\tremaining: 460ms\n",
      "28:\tlearn: 0.0013155\ttotal: 606ms\tremaining: 439ms\n",
      "29:\tlearn: 0.0011931\ttotal: 625ms\tremaining: 417ms\n",
      "30:\tlearn: 0.0010718\ttotal: 646ms\tremaining: 396ms\n",
      "31:\tlearn: 0.0009572\ttotal: 668ms\tremaining: 376ms\n",
      "32:\tlearn: 0.0008661\ttotal: 688ms\tremaining: 354ms\n",
      "33:\tlearn: 0.0007830\ttotal: 706ms\tremaining: 332ms\n",
      "34:\tlearn: 0.0007286\ttotal: 725ms\tremaining: 311ms\n",
      "35:\tlearn: 0.0006750\ttotal: 743ms\tremaining: 289ms\n",
      "36:\tlearn: 0.0006253\ttotal: 762ms\tremaining: 268ms\n",
      "37:\tlearn: 0.0005802\ttotal: 780ms\tremaining: 246ms\n",
      "38:\tlearn: 0.0005386\ttotal: 798ms\tremaining: 225ms\n",
      "39:\tlearn: 0.0005023\ttotal: 816ms\tremaining: 204ms\n",
      "40:\tlearn: 0.0004725\ttotal: 832ms\tremaining: 183ms\n",
      "41:\tlearn: 0.0004430\ttotal: 852ms\tremaining: 162ms\n",
      "42:\tlearn: 0.0004192\ttotal: 871ms\tremaining: 142ms\n",
      "43:\tlearn: 0.0003974\ttotal: 890ms\tremaining: 121ms\n",
      "44:\tlearn: 0.0003764\ttotal: 907ms\tremaining: 101ms\n",
      "45:\tlearn: 0.0003580\ttotal: 924ms\tremaining: 80.4ms\n",
      "46:\tlearn: 0.0003412\ttotal: 942ms\tremaining: 60.1ms\n",
      "47:\tlearn: 0.0003247\ttotal: 959ms\tremaining: 40ms\n",
      "48:\tlearn: 0.0003098\ttotal: 977ms\tremaining: 19.9ms\n",
      "49:\tlearn: 0.0002961\ttotal: 994ms\tremaining: 0us\n",
      "0:\tlearn: 0.5189207\ttotal: 19.9ms\tremaining: 977ms\n",
      "1:\tlearn: 0.3857419\ttotal: 39.9ms\tremaining: 957ms\n",
      "2:\tlearn: 0.2849656\ttotal: 59.7ms\tremaining: 935ms\n",
      "3:\tlearn: 0.2121746\ttotal: 80ms\tremaining: 920ms\n",
      "4:\tlearn: 0.1568117\ttotal: 101ms\tremaining: 906ms\n",
      "5:\tlearn: 0.1187279\ttotal: 121ms\tremaining: 891ms\n",
      "6:\tlearn: 0.0880071\ttotal: 142ms\tremaining: 875ms\n",
      "7:\tlearn: 0.0666083\ttotal: 163ms\tremaining: 855ms\n",
      "8:\tlearn: 0.0507229\ttotal: 184ms\tremaining: 837ms\n",
      "9:\tlearn: 0.0388680\ttotal: 205ms\tremaining: 820ms\n",
      "10:\tlearn: 0.0294236\ttotal: 226ms\tremaining: 800ms\n",
      "11:\tlearn: 0.0225859\ttotal: 246ms\tremaining: 780ms\n",
      "12:\tlearn: 0.0180645\ttotal: 267ms\tremaining: 759ms\n",
      "13:\tlearn: 0.0143398\ttotal: 287ms\tremaining: 739ms\n",
      "14:\tlearn: 0.0113404\ttotal: 308ms\tremaining: 719ms\n",
      "15:\tlearn: 0.0093580\ttotal: 329ms\tremaining: 700ms\n",
      "16:\tlearn: 0.0076806\ttotal: 351ms\tremaining: 682ms\n",
      "17:\tlearn: 0.0062793\ttotal: 374ms\tremaining: 666ms\n",
      "18:\tlearn: 0.0052180\ttotal: 396ms\tremaining: 646ms\n",
      "19:\tlearn: 0.0043973\ttotal: 418ms\tremaining: 627ms\n",
      "20:\tlearn: 0.0037924\ttotal: 439ms\tremaining: 606ms\n",
      "21:\tlearn: 0.0032242\ttotal: 458ms\tremaining: 584ms\n",
      "22:\tlearn: 0.0027800\ttotal: 480ms\tremaining: 563ms\n",
      "23:\tlearn: 0.0024091\ttotal: 500ms\tremaining: 541ms\n",
      "24:\tlearn: 0.0020821\ttotal: 520ms\tremaining: 520ms\n",
      "25:\tlearn: 0.0018050\ttotal: 540ms\tremaining: 499ms\n",
      "26:\tlearn: 0.0015890\ttotal: 560ms\tremaining: 477ms\n",
      "27:\tlearn: 0.0014175\ttotal: 580ms\tremaining: 456ms\n",
      "28:\tlearn: 0.0012657\ttotal: 598ms\tremaining: 433ms\n",
      "29:\tlearn: 0.0011344\ttotal: 618ms\tremaining: 412ms\n",
      "30:\tlearn: 0.0010204\ttotal: 637ms\tremaining: 390ms\n",
      "31:\tlearn: 0.0009196\ttotal: 657ms\tremaining: 369ms\n",
      "32:\tlearn: 0.0008378\ttotal: 675ms\tremaining: 348ms\n",
      "33:\tlearn: 0.0007689\ttotal: 695ms\tremaining: 327ms\n",
      "34:\tlearn: 0.0007100\ttotal: 713ms\tremaining: 306ms\n",
      "35:\tlearn: 0.0006549\ttotal: 733ms\tremaining: 285ms\n",
      "36:\tlearn: 0.0006102\ttotal: 751ms\tremaining: 264ms\n",
      "37:\tlearn: 0.0005692\ttotal: 770ms\tremaining: 243ms\n",
      "38:\tlearn: 0.0005417\ttotal: 786ms\tremaining: 222ms\n",
      "39:\tlearn: 0.0005044\ttotal: 804ms\tremaining: 201ms\n",
      "40:\tlearn: 0.0004708\ttotal: 822ms\tremaining: 181ms\n",
      "41:\tlearn: 0.0004427\ttotal: 842ms\tremaining: 160ms\n",
      "42:\tlearn: 0.0004184\ttotal: 862ms\tremaining: 140ms\n",
      "43:\tlearn: 0.0003961\ttotal: 879ms\tremaining: 120ms\n",
      "44:\tlearn: 0.0003756\ttotal: 897ms\tremaining: 99.7ms\n",
      "45:\tlearn: 0.0003569\ttotal: 914ms\tremaining: 79.5ms\n",
      "46:\tlearn: 0.0003406\ttotal: 930ms\tremaining: 59.4ms\n",
      "47:\tlearn: 0.0003258\ttotal: 947ms\tremaining: 39.5ms\n",
      "48:\tlearn: 0.0003174\ttotal: 964ms\tremaining: 19.7ms\n",
      "49:\tlearn: 0.0003092\ttotal: 981ms\tremaining: 0us\n",
      "0:\tlearn: 0.5200986\ttotal: 20.1ms\tremaining: 983ms\n",
      "1:\tlearn: 0.3858020\ttotal: 39.6ms\tremaining: 950ms\n",
      "2:\tlearn: 0.2877645\ttotal: 60.2ms\tremaining: 944ms\n",
      "3:\tlearn: 0.2125625\ttotal: 79.9ms\tremaining: 919ms\n",
      "4:\tlearn: 0.1577542\ttotal: 99.9ms\tremaining: 899ms\n",
      "5:\tlearn: 0.1210598\ttotal: 121ms\tremaining: 884ms\n",
      "6:\tlearn: 0.0906504\ttotal: 141ms\tremaining: 866ms\n",
      "7:\tlearn: 0.0664036\ttotal: 157ms\tremaining: 824ms\n",
      "8:\tlearn: 0.0506660\ttotal: 177ms\tremaining: 804ms\n",
      "9:\tlearn: 0.0386760\ttotal: 197ms\tremaining: 787ms\n",
      "10:\tlearn: 0.0298533\ttotal: 217ms\tremaining: 771ms\n",
      "11:\tlearn: 0.0231533\ttotal: 240ms\tremaining: 759ms\n",
      "12:\tlearn: 0.0183607\ttotal: 258ms\tremaining: 733ms\n",
      "13:\tlearn: 0.0144009\ttotal: 277ms\tremaining: 712ms\n",
      "14:\tlearn: 0.0117596\ttotal: 298ms\tremaining: 696ms\n",
      "15:\tlearn: 0.0094999\ttotal: 318ms\tremaining: 676ms\n",
      "16:\tlearn: 0.0078327\ttotal: 339ms\tremaining: 658ms\n",
      "17:\tlearn: 0.0065094\ttotal: 360ms\tremaining: 640ms\n",
      "18:\tlearn: 0.0055002\ttotal: 381ms\tremaining: 622ms\n",
      "19:\tlearn: 0.0045881\ttotal: 404ms\tremaining: 606ms\n",
      "20:\tlearn: 0.0038626\ttotal: 422ms\tremaining: 582ms\n",
      "21:\tlearn: 0.0032867\ttotal: 442ms\tremaining: 562ms\n",
      "22:\tlearn: 0.0027596\ttotal: 463ms\tremaining: 543ms\n",
      "23:\tlearn: 0.0023557\ttotal: 482ms\tremaining: 522ms\n",
      "24:\tlearn: 0.0020347\ttotal: 501ms\tremaining: 501ms\n",
      "25:\tlearn: 0.0017508\ttotal: 521ms\tremaining: 481ms\n",
      "26:\tlearn: 0.0015440\ttotal: 540ms\tremaining: 460ms\n",
      "27:\tlearn: 0.0013531\ttotal: 561ms\tremaining: 440ms\n",
      "28:\tlearn: 0.0011952\ttotal: 580ms\tremaining: 420ms\n",
      "29:\tlearn: 0.0010533\ttotal: 599ms\tremaining: 400ms\n",
      "30:\tlearn: 0.0009415\ttotal: 619ms\tremaining: 379ms\n",
      "31:\tlearn: 0.0008412\ttotal: 638ms\tremaining: 359ms\n",
      "32:\tlearn: 0.0007678\ttotal: 659ms\tremaining: 339ms\n",
      "33:\tlearn: 0.0007022\ttotal: 676ms\tremaining: 318ms\n",
      "34:\tlearn: 0.0006362\ttotal: 696ms\tremaining: 298ms\n",
      "35:\tlearn: 0.0005797\ttotal: 714ms\tremaining: 278ms\n",
      "36:\tlearn: 0.0005300\ttotal: 732ms\tremaining: 257ms\n",
      "37:\tlearn: 0.0004877\ttotal: 752ms\tremaining: 238ms\n",
      "38:\tlearn: 0.0004507\ttotal: 771ms\tremaining: 218ms\n",
      "39:\tlearn: 0.0004285\ttotal: 789ms\tremaining: 197ms\n",
      "40:\tlearn: 0.0004053\ttotal: 806ms\tremaining: 177ms\n",
      "41:\tlearn: 0.0003828\ttotal: 823ms\tremaining: 157ms\n",
      "42:\tlearn: 0.0003582\ttotal: 841ms\tremaining: 137ms\n",
      "43:\tlearn: 0.0003360\ttotal: 859ms\tremaining: 117ms\n",
      "44:\tlearn: 0.0003161\ttotal: 880ms\tremaining: 97.7ms\n",
      "45:\tlearn: 0.0002998\ttotal: 898ms\tremaining: 78.1ms\n",
      "46:\tlearn: 0.0002839\ttotal: 914ms\tremaining: 58.4ms\n",
      "47:\tlearn: 0.0002685\ttotal: 932ms\tremaining: 38.8ms\n",
      "48:\tlearn: 0.0002546\ttotal: 949ms\tremaining: 19.4ms\n",
      "49:\tlearn: 0.0002476\ttotal: 965ms\tremaining: 0us\n",
      "0:\tlearn: 0.5200094\ttotal: 21.1ms\tremaining: 1.03s\n",
      "1:\tlearn: 0.3856189\ttotal: 41.2ms\tremaining: 988ms\n",
      "2:\tlearn: 0.2878988\ttotal: 63.1ms\tremaining: 988ms\n",
      "3:\tlearn: 0.2125859\ttotal: 82.6ms\tremaining: 950ms\n",
      "4:\tlearn: 0.1584312\ttotal: 104ms\tremaining: 937ms\n",
      "5:\tlearn: 0.1215743\ttotal: 125ms\tremaining: 919ms\n",
      "6:\tlearn: 0.0910185\ttotal: 146ms\tremaining: 894ms\n",
      "7:\tlearn: 0.0667306\ttotal: 161ms\tremaining: 848ms\n",
      "8:\tlearn: 0.0510740\ttotal: 181ms\tremaining: 827ms\n",
      "9:\tlearn: 0.0389692\ttotal: 202ms\tremaining: 807ms\n",
      "10:\tlearn: 0.0302327\ttotal: 223ms\tremaining: 791ms\n",
      "11:\tlearn: 0.0235592\ttotal: 246ms\tremaining: 778ms\n",
      "12:\tlearn: 0.0187943\ttotal: 268ms\tremaining: 762ms\n",
      "13:\tlearn: 0.0150502\ttotal: 289ms\tremaining: 744ms\n",
      "14:\tlearn: 0.0119442\ttotal: 312ms\tremaining: 728ms\n",
      "15:\tlearn: 0.0096098\ttotal: 333ms\tremaining: 707ms\n",
      "16:\tlearn: 0.0077200\ttotal: 348ms\tremaining: 676ms\n",
      "17:\tlearn: 0.0063472\ttotal: 369ms\tremaining: 656ms\n",
      "18:\tlearn: 0.0052548\ttotal: 391ms\tremaining: 638ms\n",
      "19:\tlearn: 0.0044812\ttotal: 411ms\tremaining: 617ms\n",
      "20:\tlearn: 0.0038645\ttotal: 433ms\tremaining: 598ms\n",
      "21:\tlearn: 0.0033073\ttotal: 456ms\tremaining: 580ms\n",
      "22:\tlearn: 0.0028562\ttotal: 478ms\tremaining: 561ms\n",
      "23:\tlearn: 0.0024424\ttotal: 498ms\tremaining: 539ms\n",
      "24:\tlearn: 0.0021653\ttotal: 517ms\tremaining: 517ms\n",
      "25:\tlearn: 0.0019280\ttotal: 536ms\tremaining: 495ms\n",
      "26:\tlearn: 0.0017185\ttotal: 555ms\tremaining: 473ms\n",
      "27:\tlearn: 0.0015150\ttotal: 574ms\tremaining: 451ms\n",
      "28:\tlearn: 0.0013464\ttotal: 593ms\tremaining: 430ms\n",
      "29:\tlearn: 0.0011987\ttotal: 614ms\tremaining: 410ms\n",
      "30:\tlearn: 0.0010750\ttotal: 635ms\tremaining: 389ms\n",
      "31:\tlearn: 0.0009870\ttotal: 655ms\tremaining: 368ms\n",
      "32:\tlearn: 0.0009091\ttotal: 674ms\tremaining: 347ms\n",
      "33:\tlearn: 0.0008410\ttotal: 693ms\tremaining: 326ms\n",
      "34:\tlearn: 0.0007641\ttotal: 712ms\tremaining: 305ms\n",
      "35:\tlearn: 0.0007035\ttotal: 732ms\tremaining: 285ms\n",
      "36:\tlearn: 0.0006522\ttotal: 750ms\tremaining: 264ms\n",
      "37:\tlearn: 0.0006041\ttotal: 769ms\tremaining: 243ms\n",
      "38:\tlearn: 0.0005607\ttotal: 787ms\tremaining: 222ms\n",
      "39:\tlearn: 0.0005322\ttotal: 804ms\tremaining: 201ms\n",
      "40:\tlearn: 0.0005071\ttotal: 821ms\tremaining: 180ms\n"
     ]
    },
    {
     "name": "stdout",
     "output_type": "stream",
     "text": [
      "41:\tlearn: 0.0004834\ttotal: 839ms\tremaining: 160ms\n",
      "42:\tlearn: 0.0004515\ttotal: 858ms\tremaining: 140ms\n",
      "43:\tlearn: 0.0004230\ttotal: 879ms\tremaining: 120ms\n",
      "44:\tlearn: 0.0004013\ttotal: 898ms\tremaining: 99.8ms\n",
      "45:\tlearn: 0.0003775\ttotal: 918ms\tremaining: 79.8ms\n",
      "46:\tlearn: 0.0003600\ttotal: 937ms\tremaining: 59.8ms\n",
      "47:\tlearn: 0.0003421\ttotal: 955ms\tremaining: 39.8ms\n",
      "48:\tlearn: 0.0003257\ttotal: 972ms\tremaining: 19.8ms\n",
      "49:\tlearn: 0.0003160\ttotal: 991ms\tremaining: 0us\n",
      "0:\tlearn: 0.5202632\ttotal: 21ms\tremaining: 1.03s\n",
      "1:\tlearn: 0.3860870\ttotal: 41.2ms\tremaining: 989ms\n",
      "2:\tlearn: 0.2883550\ttotal: 62.4ms\tremaining: 977ms\n",
      "3:\tlearn: 0.2129820\ttotal: 82.6ms\tremaining: 950ms\n",
      "4:\tlearn: 0.1581037\ttotal: 103ms\tremaining: 927ms\n",
      "5:\tlearn: 0.1202168\ttotal: 125ms\tremaining: 916ms\n",
      "6:\tlearn: 0.0900459\ttotal: 146ms\tremaining: 894ms\n",
      "7:\tlearn: 0.0679688\ttotal: 167ms\tremaining: 874ms\n",
      "8:\tlearn: 0.0517948\ttotal: 187ms\tremaining: 853ms\n",
      "9:\tlearn: 0.0396378\ttotal: 208ms\tremaining: 832ms\n",
      "10:\tlearn: 0.0300473\ttotal: 229ms\tremaining: 814ms\n",
      "11:\tlearn: 0.0234476\ttotal: 250ms\tremaining: 792ms\n",
      "12:\tlearn: 0.0185541\ttotal: 272ms\tremaining: 775ms\n",
      "13:\tlearn: 0.0146670\ttotal: 293ms\tremaining: 754ms\n",
      "14:\tlearn: 0.0117866\ttotal: 315ms\tremaining: 735ms\n",
      "15:\tlearn: 0.0094116\ttotal: 336ms\tremaining: 713ms\n",
      "16:\tlearn: 0.0076359\ttotal: 358ms\tremaining: 695ms\n",
      "17:\tlearn: 0.0062937\ttotal: 379ms\tremaining: 673ms\n",
      "18:\tlearn: 0.0052892\ttotal: 400ms\tremaining: 653ms\n",
      "19:\tlearn: 0.0043827\ttotal: 422ms\tremaining: 633ms\n",
      "20:\tlearn: 0.0037751\ttotal: 444ms\tremaining: 613ms\n",
      "21:\tlearn: 0.0031862\ttotal: 465ms\tremaining: 592ms\n",
      "22:\tlearn: 0.0027389\ttotal: 486ms\tremaining: 571ms\n",
      "23:\tlearn: 0.0023624\ttotal: 507ms\tremaining: 549ms\n",
      "24:\tlearn: 0.0020382\ttotal: 526ms\tremaining: 526ms\n",
      "25:\tlearn: 0.0017879\ttotal: 548ms\tremaining: 505ms\n",
      "26:\tlearn: 0.0015764\ttotal: 566ms\tremaining: 482ms\n",
      "27:\tlearn: 0.0014127\ttotal: 586ms\tremaining: 460ms\n",
      "28:\tlearn: 0.0012593\ttotal: 606ms\tremaining: 439ms\n",
      "29:\tlearn: 0.0011323\ttotal: 626ms\tremaining: 417ms\n",
      "30:\tlearn: 0.0010193\ttotal: 644ms\tremaining: 395ms\n",
      "31:\tlearn: 0.0009398\ttotal: 665ms\tremaining: 374ms\n",
      "32:\tlearn: 0.0008719\ttotal: 683ms\tremaining: 352ms\n",
      "33:\tlearn: 0.0007901\ttotal: 701ms\tremaining: 330ms\n",
      "34:\tlearn: 0.0007222\ttotal: 720ms\tremaining: 309ms\n",
      "35:\tlearn: 0.0006665\ttotal: 739ms\tremaining: 287ms\n",
      "36:\tlearn: 0.0006153\ttotal: 759ms\tremaining: 267ms\n",
      "37:\tlearn: 0.0005698\ttotal: 779ms\tremaining: 246ms\n",
      "38:\tlearn: 0.0005417\ttotal: 795ms\tremaining: 224ms\n",
      "39:\tlearn: 0.0005154\ttotal: 812ms\tremaining: 203ms\n",
      "40:\tlearn: 0.0004902\ttotal: 829ms\tremaining: 182ms\n",
      "41:\tlearn: 0.0004583\ttotal: 847ms\tremaining: 161ms\n",
      "42:\tlearn: 0.0004319\ttotal: 868ms\tremaining: 141ms\n",
      "43:\tlearn: 0.0004085\ttotal: 887ms\tremaining: 121ms\n",
      "44:\tlearn: 0.0003853\ttotal: 905ms\tremaining: 101ms\n",
      "45:\tlearn: 0.0003660\ttotal: 924ms\tremaining: 80.3ms\n",
      "46:\tlearn: 0.0003469\ttotal: 941ms\tremaining: 60ms\n",
      "47:\tlearn: 0.0003294\ttotal: 959ms\tremaining: 39.9ms\n",
      "48:\tlearn: 0.0003207\ttotal: 975ms\tremaining: 19.9ms\n",
      "49:\tlearn: 0.0003117\ttotal: 992ms\tremaining: 0us\n",
      "0:\tlearn: 0.5208488\ttotal: 20.6ms\tremaining: 1.01s\n",
      "1:\tlearn: 0.3870411\ttotal: 40.4ms\tremaining: 969ms\n",
      "2:\tlearn: 0.2884435\ttotal: 61.7ms\tremaining: 967ms\n",
      "3:\tlearn: 0.2131696\ttotal: 82.5ms\tremaining: 949ms\n",
      "4:\tlearn: 0.1585522\ttotal: 103ms\tremaining: 927ms\n",
      "5:\tlearn: 0.1205216\ttotal: 125ms\tremaining: 916ms\n",
      "6:\tlearn: 0.0899832\ttotal: 145ms\tremaining: 892ms\n",
      "7:\tlearn: 0.0680578\ttotal: 166ms\tremaining: 872ms\n",
      "8:\tlearn: 0.0523214\ttotal: 187ms\tremaining: 854ms\n",
      "9:\tlearn: 0.0404423\ttotal: 208ms\tremaining: 832ms\n",
      "10:\tlearn: 0.0309760\ttotal: 229ms\tremaining: 812ms\n",
      "11:\tlearn: 0.0239944\ttotal: 250ms\tremaining: 793ms\n",
      "12:\tlearn: 0.0187984\ttotal: 273ms\tremaining: 777ms\n",
      "13:\tlearn: 0.0150650\ttotal: 296ms\tremaining: 760ms\n",
      "14:\tlearn: 0.0120462\ttotal: 317ms\tremaining: 739ms\n",
      "15:\tlearn: 0.0097711\ttotal: 339ms\tremaining: 721ms\n",
      "16:\tlearn: 0.0080034\ttotal: 362ms\tremaining: 704ms\n",
      "17:\tlearn: 0.0065356\ttotal: 383ms\tremaining: 681ms\n",
      "18:\tlearn: 0.0054750\ttotal: 404ms\tremaining: 660ms\n",
      "19:\tlearn: 0.0046109\ttotal: 426ms\tremaining: 639ms\n",
      "20:\tlearn: 0.0039092\ttotal: 448ms\tremaining: 618ms\n",
      "21:\tlearn: 0.0033770\ttotal: 467ms\tremaining: 595ms\n",
      "22:\tlearn: 0.0028857\ttotal: 488ms\tremaining: 573ms\n",
      "23:\tlearn: 0.0025061\ttotal: 508ms\tremaining: 551ms\n",
      "24:\tlearn: 0.0021701\ttotal: 527ms\tremaining: 527ms\n",
      "25:\tlearn: 0.0018741\ttotal: 548ms\tremaining: 506ms\n",
      "26:\tlearn: 0.0016589\ttotal: 567ms\tremaining: 483ms\n",
      "27:\tlearn: 0.0014748\ttotal: 586ms\tremaining: 461ms\n",
      "28:\tlearn: 0.0013155\ttotal: 605ms\tremaining: 438ms\n",
      "29:\tlearn: 0.0011931\ttotal: 624ms\tremaining: 416ms\n",
      "30:\tlearn: 0.0010718\ttotal: 643ms\tremaining: 394ms\n",
      "31:\tlearn: 0.0009572\ttotal: 665ms\tremaining: 374ms\n",
      "32:\tlearn: 0.0008661\ttotal: 685ms\tremaining: 353ms\n",
      "33:\tlearn: 0.0007830\ttotal: 703ms\tremaining: 331ms\n",
      "34:\tlearn: 0.0007286\ttotal: 722ms\tremaining: 310ms\n",
      "35:\tlearn: 0.0006750\ttotal: 741ms\tremaining: 288ms\n",
      "36:\tlearn: 0.0006253\ttotal: 759ms\tremaining: 267ms\n",
      "37:\tlearn: 0.0005802\ttotal: 778ms\tremaining: 246ms\n",
      "38:\tlearn: 0.0005386\ttotal: 796ms\tremaining: 224ms\n",
      "39:\tlearn: 0.0005023\ttotal: 813ms\tremaining: 203ms\n",
      "40:\tlearn: 0.0004725\ttotal: 830ms\tremaining: 182ms\n",
      "41:\tlearn: 0.0004430\ttotal: 849ms\tremaining: 162ms\n",
      "42:\tlearn: 0.0004192\ttotal: 870ms\tremaining: 142ms\n",
      "43:\tlearn: 0.0003974\ttotal: 889ms\tremaining: 121ms\n",
      "44:\tlearn: 0.0003764\ttotal: 907ms\tremaining: 101ms\n",
      "45:\tlearn: 0.0003580\ttotal: 925ms\tremaining: 80.4ms\n",
      "46:\tlearn: 0.0003412\ttotal: 942ms\tremaining: 60.1ms\n",
      "47:\tlearn: 0.0003247\ttotal: 959ms\tremaining: 40ms\n",
      "48:\tlearn: 0.0003098\ttotal: 977ms\tremaining: 19.9ms\n",
      "49:\tlearn: 0.0002961\ttotal: 994ms\tremaining: 0us\n",
      "0:\tlearn: 0.5189207\ttotal: 21.9ms\tremaining: 1.07s\n",
      "1:\tlearn: 0.3857419\ttotal: 42.2ms\tremaining: 1.01s\n",
      "2:\tlearn: 0.2849656\ttotal: 63.3ms\tremaining: 991ms\n",
      "3:\tlearn: 0.2121746\ttotal: 83.5ms\tremaining: 960ms\n",
      "4:\tlearn: 0.1568117\ttotal: 104ms\tremaining: 932ms\n",
      "5:\tlearn: 0.1187279\ttotal: 125ms\tremaining: 917ms\n",
      "6:\tlearn: 0.0880071\ttotal: 145ms\tremaining: 892ms\n",
      "7:\tlearn: 0.0666083\ttotal: 165ms\tremaining: 868ms\n",
      "8:\tlearn: 0.0507229\ttotal: 186ms\tremaining: 847ms\n",
      "9:\tlearn: 0.0388680\ttotal: 206ms\tremaining: 823ms\n",
      "10:\tlearn: 0.0294236\ttotal: 227ms\tremaining: 804ms\n",
      "11:\tlearn: 0.0225859\ttotal: 249ms\tremaining: 789ms\n",
      "12:\tlearn: 0.0180645\ttotal: 272ms\tremaining: 774ms\n",
      "13:\tlearn: 0.0143398\ttotal: 294ms\tremaining: 755ms\n",
      "14:\tlearn: 0.0113404\ttotal: 315ms\tremaining: 736ms\n",
      "15:\tlearn: 0.0093580\ttotal: 336ms\tremaining: 714ms\n",
      "16:\tlearn: 0.0076806\ttotal: 358ms\tremaining: 694ms\n",
      "17:\tlearn: 0.0062793\ttotal: 379ms\tremaining: 673ms\n",
      "18:\tlearn: 0.0052180\ttotal: 399ms\tremaining: 651ms\n",
      "19:\tlearn: 0.0043973\ttotal: 420ms\tremaining: 629ms\n",
      "20:\tlearn: 0.0037924\ttotal: 440ms\tremaining: 607ms\n",
      "21:\tlearn: 0.0032242\ttotal: 460ms\tremaining: 586ms\n",
      "22:\tlearn: 0.0027800\ttotal: 481ms\tremaining: 565ms\n",
      "23:\tlearn: 0.0024091\ttotal: 500ms\tremaining: 542ms\n",
      "24:\tlearn: 0.0020821\ttotal: 521ms\tremaining: 521ms\n",
      "25:\tlearn: 0.0018050\ttotal: 541ms\tremaining: 499ms\n",
      "26:\tlearn: 0.0015890\ttotal: 561ms\tremaining: 477ms\n",
      "27:\tlearn: 0.0014175\ttotal: 580ms\tremaining: 456ms\n",
      "28:\tlearn: 0.0012657\ttotal: 599ms\tremaining: 434ms\n",
      "29:\tlearn: 0.0011344\ttotal: 619ms\tremaining: 412ms\n",
      "30:\tlearn: 0.0010204\ttotal: 638ms\tremaining: 391ms\n",
      "31:\tlearn: 0.0009196\ttotal: 659ms\tremaining: 371ms\n",
      "32:\tlearn: 0.0008378\ttotal: 678ms\tremaining: 349ms\n",
      "33:\tlearn: 0.0007689\ttotal: 697ms\tremaining: 328ms\n",
      "34:\tlearn: 0.0007100\ttotal: 715ms\tremaining: 306ms\n",
      "35:\tlearn: 0.0006549\ttotal: 734ms\tremaining: 286ms\n",
      "36:\tlearn: 0.0006102\ttotal: 753ms\tremaining: 265ms\n",
      "37:\tlearn: 0.0005692\ttotal: 771ms\tremaining: 244ms\n",
      "38:\tlearn: 0.0005417\ttotal: 788ms\tremaining: 222ms\n",
      "39:\tlearn: 0.0005044\ttotal: 805ms\tremaining: 201ms\n",
      "40:\tlearn: 0.0004708\ttotal: 823ms\tremaining: 181ms\n",
      "41:\tlearn: 0.0004427\ttotal: 843ms\tremaining: 161ms\n",
      "42:\tlearn: 0.0004184\ttotal: 862ms\tremaining: 140ms\n",
      "43:\tlearn: 0.0003961\ttotal: 881ms\tremaining: 120ms\n",
      "44:\tlearn: 0.0003756\ttotal: 900ms\tremaining: 100ms\n",
      "45:\tlearn: 0.0003569\ttotal: 917ms\tremaining: 79.7ms\n",
      "46:\tlearn: 0.0003406\ttotal: 934ms\tremaining: 59.6ms\n",
      "47:\tlearn: 0.0003258\ttotal: 951ms\tremaining: 39.6ms\n",
      "48:\tlearn: 0.0003174\ttotal: 968ms\tremaining: 19.7ms\n",
      "49:\tlearn: 0.0003092\ttotal: 984ms\tremaining: 0us\n",
      "0:\tlearn: 0.5200986\ttotal: 21.6ms\tremaining: 1.05s\n",
      "1:\tlearn: 0.3858020\ttotal: 41.7ms\tremaining: 1s\n",
      "2:\tlearn: 0.2877645\ttotal: 65ms\tremaining: 1.02s\n",
      "3:\tlearn: 0.2125625\ttotal: 85.6ms\tremaining: 985ms\n",
      "4:\tlearn: 0.1577542\ttotal: 106ms\tremaining: 955ms\n",
      "5:\tlearn: 0.1210598\ttotal: 127ms\tremaining: 932ms\n",
      "6:\tlearn: 0.0906504\ttotal: 148ms\tremaining: 909ms\n",
      "7:\tlearn: 0.0664036\ttotal: 164ms\tremaining: 861ms\n",
      "8:\tlearn: 0.0506660\ttotal: 183ms\tremaining: 835ms\n",
      "9:\tlearn: 0.0386760\ttotal: 203ms\tremaining: 813ms\n"
     ]
    },
    {
     "name": "stdout",
     "output_type": "stream",
     "text": [
      "10:\tlearn: 0.0298533\ttotal: 224ms\tremaining: 795ms\n",
      "11:\tlearn: 0.0231533\ttotal: 244ms\tremaining: 774ms\n",
      "12:\tlearn: 0.0183607\ttotal: 263ms\tremaining: 748ms\n",
      "13:\tlearn: 0.0144009\ttotal: 282ms\tremaining: 725ms\n",
      "14:\tlearn: 0.0117596\ttotal: 304ms\tremaining: 708ms\n",
      "15:\tlearn: 0.0094999\ttotal: 324ms\tremaining: 689ms\n",
      "16:\tlearn: 0.0078327\ttotal: 344ms\tremaining: 669ms\n",
      "17:\tlearn: 0.0065094\ttotal: 366ms\tremaining: 650ms\n",
      "18:\tlearn: 0.0055002\ttotal: 386ms\tremaining: 630ms\n",
      "19:\tlearn: 0.0045881\ttotal: 408ms\tremaining: 612ms\n",
      "20:\tlearn: 0.0038626\ttotal: 426ms\tremaining: 588ms\n",
      "21:\tlearn: 0.0032867\ttotal: 446ms\tremaining: 568ms\n",
      "22:\tlearn: 0.0027596\ttotal: 465ms\tremaining: 546ms\n",
      "23:\tlearn: 0.0023557\ttotal: 485ms\tremaining: 526ms\n",
      "24:\tlearn: 0.0020347\ttotal: 506ms\tremaining: 506ms\n",
      "25:\tlearn: 0.0017508\ttotal: 526ms\tremaining: 485ms\n",
      "26:\tlearn: 0.0015440\ttotal: 547ms\tremaining: 466ms\n",
      "27:\tlearn: 0.0013531\ttotal: 568ms\tremaining: 446ms\n",
      "28:\tlearn: 0.0011952\ttotal: 587ms\tremaining: 425ms\n",
      "29:\tlearn: 0.0010533\ttotal: 608ms\tremaining: 405ms\n",
      "30:\tlearn: 0.0009415\ttotal: 628ms\tremaining: 385ms\n",
      "31:\tlearn: 0.0008412\ttotal: 649ms\tremaining: 365ms\n",
      "32:\tlearn: 0.0007678\ttotal: 666ms\tremaining: 343ms\n",
      "33:\tlearn: 0.0007022\ttotal: 683ms\tremaining: 322ms\n",
      "34:\tlearn: 0.0006362\ttotal: 703ms\tremaining: 301ms\n",
      "35:\tlearn: 0.0005797\ttotal: 721ms\tremaining: 280ms\n",
      "36:\tlearn: 0.0005300\ttotal: 740ms\tremaining: 260ms\n",
      "37:\tlearn: 0.0004877\ttotal: 762ms\tremaining: 240ms\n",
      "38:\tlearn: 0.0004507\ttotal: 782ms\tremaining: 221ms\n",
      "39:\tlearn: 0.0004285\ttotal: 801ms\tremaining: 200ms\n",
      "40:\tlearn: 0.0004053\ttotal: 819ms\tremaining: 180ms\n",
      "41:\tlearn: 0.0003828\ttotal: 838ms\tremaining: 160ms\n",
      "42:\tlearn: 0.0003582\ttotal: 859ms\tremaining: 140ms\n",
      "43:\tlearn: 0.0003360\ttotal: 879ms\tremaining: 120ms\n",
      "44:\tlearn: 0.0003161\ttotal: 899ms\tremaining: 99.8ms\n",
      "45:\tlearn: 0.0002998\ttotal: 918ms\tremaining: 79.9ms\n",
      "46:\tlearn: 0.0002839\ttotal: 937ms\tremaining: 59.8ms\n",
      "47:\tlearn: 0.0002685\ttotal: 955ms\tremaining: 39.8ms\n",
      "48:\tlearn: 0.0002546\ttotal: 973ms\tremaining: 19.9ms\n",
      "49:\tlearn: 0.0002476\ttotal: 990ms\tremaining: 0us\n",
      "0:\tlearn: 0.5200094\ttotal: 20.8ms\tremaining: 1.02s\n",
      "1:\tlearn: 0.3856189\ttotal: 40.7ms\tremaining: 976ms\n",
      "2:\tlearn: 0.2878988\ttotal: 61.8ms\tremaining: 967ms\n",
      "3:\tlearn: 0.2125859\ttotal: 81.8ms\tremaining: 940ms\n",
      "4:\tlearn: 0.1584312\ttotal: 103ms\tremaining: 925ms\n",
      "5:\tlearn: 0.1215743\ttotal: 125ms\tremaining: 916ms\n",
      "6:\tlearn: 0.0910185\ttotal: 148ms\tremaining: 910ms\n",
      "7:\tlearn: 0.0667306\ttotal: 166ms\tremaining: 869ms\n",
      "8:\tlearn: 0.0510740\ttotal: 187ms\tremaining: 853ms\n",
      "9:\tlearn: 0.0389692\ttotal: 209ms\tremaining: 838ms\n",
      "10:\tlearn: 0.0302327\ttotal: 234ms\tremaining: 830ms\n",
      "11:\tlearn: 0.0235592\ttotal: 256ms\tremaining: 810ms\n",
      "12:\tlearn: 0.0187943\ttotal: 277ms\tremaining: 789ms\n",
      "13:\tlearn: 0.0150502\ttotal: 299ms\tremaining: 768ms\n",
      "14:\tlearn: 0.0119442\ttotal: 320ms\tremaining: 746ms\n",
      "15:\tlearn: 0.0096098\ttotal: 341ms\tremaining: 724ms\n",
      "16:\tlearn: 0.0077200\ttotal: 356ms\tremaining: 692ms\n",
      "17:\tlearn: 0.0063472\ttotal: 378ms\tremaining: 672ms\n",
      "18:\tlearn: 0.0052548\ttotal: 399ms\tremaining: 651ms\n",
      "19:\tlearn: 0.0044812\ttotal: 419ms\tremaining: 629ms\n",
      "20:\tlearn: 0.0038645\ttotal: 440ms\tremaining: 607ms\n",
      "21:\tlearn: 0.0033073\ttotal: 462ms\tremaining: 587ms\n",
      "22:\tlearn: 0.0028562\ttotal: 482ms\tremaining: 566ms\n",
      "23:\tlearn: 0.0024424\ttotal: 502ms\tremaining: 544ms\n",
      "24:\tlearn: 0.0021653\ttotal: 521ms\tremaining: 521ms\n",
      "25:\tlearn: 0.0019280\ttotal: 540ms\tremaining: 498ms\n",
      "26:\tlearn: 0.0017185\ttotal: 559ms\tremaining: 476ms\n",
      "27:\tlearn: 0.0015150\ttotal: 579ms\tremaining: 455ms\n",
      "28:\tlearn: 0.0013464\ttotal: 598ms\tremaining: 433ms\n",
      "29:\tlearn: 0.0011987\ttotal: 617ms\tremaining: 412ms\n",
      "30:\tlearn: 0.0010750\ttotal: 637ms\tremaining: 390ms\n",
      "31:\tlearn: 0.0009870\ttotal: 658ms\tremaining: 370ms\n",
      "32:\tlearn: 0.0009091\ttotal: 677ms\tremaining: 349ms\n",
      "33:\tlearn: 0.0008410\ttotal: 695ms\tremaining: 327ms\n",
      "34:\tlearn: 0.0007641\ttotal: 715ms\tremaining: 306ms\n",
      "35:\tlearn: 0.0007035\ttotal: 734ms\tremaining: 285ms\n",
      "36:\tlearn: 0.0006522\ttotal: 753ms\tremaining: 265ms\n",
      "37:\tlearn: 0.0006041\ttotal: 771ms\tremaining: 244ms\n",
      "38:\tlearn: 0.0005607\ttotal: 789ms\tremaining: 223ms\n",
      "39:\tlearn: 0.0005322\ttotal: 806ms\tremaining: 202ms\n",
      "40:\tlearn: 0.0005071\ttotal: 824ms\tremaining: 181ms\n",
      "41:\tlearn: 0.0004834\ttotal: 841ms\tremaining: 160ms\n",
      "42:\tlearn: 0.0004515\ttotal: 859ms\tremaining: 140ms\n",
      "43:\tlearn: 0.0004230\ttotal: 880ms\tremaining: 120ms\n",
      "44:\tlearn: 0.0004013\ttotal: 899ms\tremaining: 99.9ms\n",
      "45:\tlearn: 0.0003775\ttotal: 917ms\tremaining: 79.8ms\n",
      "46:\tlearn: 0.0003600\ttotal: 935ms\tremaining: 59.7ms\n",
      "47:\tlearn: 0.0003421\ttotal: 952ms\tremaining: 39.7ms\n",
      "48:\tlearn: 0.0003257\ttotal: 970ms\tremaining: 19.8ms\n",
      "49:\tlearn: 0.0003160\ttotal: 987ms\tremaining: 0us\n",
      "0:\tlearn: 0.5202632\ttotal: 20.8ms\tremaining: 1.02s\n",
      "1:\tlearn: 0.3860870\ttotal: 40.2ms\tremaining: 966ms\n",
      "2:\tlearn: 0.2883550\ttotal: 61.3ms\tremaining: 960ms\n",
      "3:\tlearn: 0.2129820\ttotal: 81.3ms\tremaining: 935ms\n",
      "4:\tlearn: 0.1581037\ttotal: 101ms\tremaining: 913ms\n",
      "5:\tlearn: 0.1202168\ttotal: 122ms\tremaining: 897ms\n",
      "6:\tlearn: 0.0900459\ttotal: 143ms\tremaining: 875ms\n",
      "7:\tlearn: 0.0679688\ttotal: 163ms\tremaining: 857ms\n",
      "8:\tlearn: 0.0517948\ttotal: 184ms\tremaining: 840ms\n",
      "9:\tlearn: 0.0396378\ttotal: 205ms\tremaining: 822ms\n",
      "10:\tlearn: 0.0300473\ttotal: 226ms\tremaining: 802ms\n",
      "11:\tlearn: 0.0234476\ttotal: 248ms\tremaining: 785ms\n",
      "12:\tlearn: 0.0185541\ttotal: 269ms\tremaining: 766ms\n",
      "13:\tlearn: 0.0146670\ttotal: 291ms\tremaining: 747ms\n",
      "14:\tlearn: 0.0117866\ttotal: 314ms\tremaining: 733ms\n",
      "15:\tlearn: 0.0094116\ttotal: 335ms\tremaining: 712ms\n",
      "16:\tlearn: 0.0076359\ttotal: 356ms\tremaining: 691ms\n",
      "17:\tlearn: 0.0062937\ttotal: 377ms\tremaining: 671ms\n",
      "18:\tlearn: 0.0052892\ttotal: 400ms\tremaining: 653ms\n",
      "19:\tlearn: 0.0043827\ttotal: 423ms\tremaining: 634ms\n",
      "20:\tlearn: 0.0037751\ttotal: 445ms\tremaining: 615ms\n",
      "21:\tlearn: 0.0031862\ttotal: 467ms\tremaining: 595ms\n",
      "22:\tlearn: 0.0027389\ttotal: 488ms\tremaining: 573ms\n",
      "23:\tlearn: 0.0023624\ttotal: 509ms\tremaining: 552ms\n",
      "24:\tlearn: 0.0020382\ttotal: 529ms\tremaining: 529ms\n",
      "25:\tlearn: 0.0017879\ttotal: 550ms\tremaining: 508ms\n",
      "26:\tlearn: 0.0015764\ttotal: 569ms\tremaining: 485ms\n",
      "27:\tlearn: 0.0014127\ttotal: 589ms\tremaining: 463ms\n",
      "28:\tlearn: 0.0012593\ttotal: 609ms\tremaining: 441ms\n",
      "29:\tlearn: 0.0011323\ttotal: 629ms\tremaining: 419ms\n",
      "30:\tlearn: 0.0010193\ttotal: 648ms\tremaining: 397ms\n",
      "31:\tlearn: 0.0009398\ttotal: 668ms\tremaining: 376ms\n",
      "32:\tlearn: 0.0008719\ttotal: 686ms\tremaining: 354ms\n",
      "33:\tlearn: 0.0007901\ttotal: 705ms\tremaining: 332ms\n",
      "34:\tlearn: 0.0007222\ttotal: 723ms\tremaining: 310ms\n",
      "35:\tlearn: 0.0006665\ttotal: 742ms\tremaining: 289ms\n",
      "36:\tlearn: 0.0006153\ttotal: 762ms\tremaining: 268ms\n",
      "37:\tlearn: 0.0005698\ttotal: 781ms\tremaining: 247ms\n",
      "38:\tlearn: 0.0005417\ttotal: 798ms\tremaining: 225ms\n",
      "39:\tlearn: 0.0005154\ttotal: 815ms\tremaining: 204ms\n",
      "40:\tlearn: 0.0004902\ttotal: 832ms\tremaining: 183ms\n",
      "41:\tlearn: 0.0004583\ttotal: 851ms\tremaining: 162ms\n",
      "42:\tlearn: 0.0004319\ttotal: 871ms\tremaining: 142ms\n",
      "43:\tlearn: 0.0004085\ttotal: 889ms\tremaining: 121ms\n",
      "44:\tlearn: 0.0003853\ttotal: 907ms\tremaining: 101ms\n",
      "45:\tlearn: 0.0003660\ttotal: 924ms\tremaining: 80.4ms\n",
      "46:\tlearn: 0.0003469\ttotal: 941ms\tremaining: 60.1ms\n",
      "47:\tlearn: 0.0003294\ttotal: 958ms\tremaining: 39.9ms\n",
      "48:\tlearn: 0.0003207\ttotal: 975ms\tremaining: 19.9ms\n",
      "49:\tlearn: 0.0003117\ttotal: 991ms\tremaining: 0us\n",
      "0:\tlearn: 0.5208488\ttotal: 20.2ms\tremaining: 992ms\n",
      "1:\tlearn: 0.3870411\ttotal: 39.6ms\tremaining: 950ms\n",
      "2:\tlearn: 0.2884435\ttotal: 60.7ms\tremaining: 951ms\n",
      "3:\tlearn: 0.2131696\ttotal: 80.6ms\tremaining: 927ms\n",
      "4:\tlearn: 0.1585522\ttotal: 101ms\tremaining: 908ms\n",
      "5:\tlearn: 0.1205216\ttotal: 122ms\tremaining: 893ms\n",
      "6:\tlearn: 0.0899832\ttotal: 143ms\tremaining: 879ms\n",
      "7:\tlearn: 0.0680578\ttotal: 164ms\tremaining: 860ms\n",
      "8:\tlearn: 0.0523214\ttotal: 185ms\tremaining: 841ms\n",
      "9:\tlearn: 0.0404423\ttotal: 206ms\tremaining: 823ms\n",
      "10:\tlearn: 0.0309760\ttotal: 227ms\tremaining: 805ms\n",
      "11:\tlearn: 0.0239944\ttotal: 248ms\tremaining: 786ms\n",
      "12:\tlearn: 0.0187984\ttotal: 270ms\tremaining: 768ms\n",
      "13:\tlearn: 0.0150650\ttotal: 292ms\tremaining: 750ms\n",
      "14:\tlearn: 0.0120462\ttotal: 312ms\tremaining: 727ms\n",
      "15:\tlearn: 0.0097711\ttotal: 333ms\tremaining: 708ms\n",
      "16:\tlearn: 0.0080034\ttotal: 355ms\tremaining: 689ms\n",
      "17:\tlearn: 0.0065356\ttotal: 376ms\tremaining: 669ms\n",
      "18:\tlearn: 0.0054750\ttotal: 398ms\tremaining: 650ms\n",
      "19:\tlearn: 0.0046109\ttotal: 420ms\tremaining: 630ms\n",
      "20:\tlearn: 0.0039092\ttotal: 442ms\tremaining: 611ms\n",
      "21:\tlearn: 0.0033770\ttotal: 463ms\tremaining: 589ms\n",
      "22:\tlearn: 0.0028857\ttotal: 483ms\tremaining: 567ms\n",
      "23:\tlearn: 0.0025061\ttotal: 503ms\tremaining: 545ms\n",
      "24:\tlearn: 0.0021701\ttotal: 522ms\tremaining: 522ms\n",
      "25:\tlearn: 0.0018741\ttotal: 543ms\tremaining: 501ms\n",
      "26:\tlearn: 0.0016589\ttotal: 562ms\tremaining: 479ms\n",
      "27:\tlearn: 0.0014748\ttotal: 582ms\tremaining: 457ms\n",
      "28:\tlearn: 0.0013155\ttotal: 601ms\tremaining: 435ms\n",
      "29:\tlearn: 0.0011931\ttotal: 620ms\tremaining: 413ms\n",
      "30:\tlearn: 0.0010718\ttotal: 639ms\tremaining: 392ms\n"
     ]
    },
    {
     "name": "stdout",
     "output_type": "stream",
     "text": [
      "31:\tlearn: 0.0009572\ttotal: 661ms\tremaining: 372ms\n",
      "32:\tlearn: 0.0008661\ttotal: 681ms\tremaining: 351ms\n",
      "33:\tlearn: 0.0007830\ttotal: 700ms\tremaining: 330ms\n",
      "34:\tlearn: 0.0007286\ttotal: 719ms\tremaining: 308ms\n",
      "35:\tlearn: 0.0006750\ttotal: 738ms\tremaining: 287ms\n",
      "36:\tlearn: 0.0006253\ttotal: 756ms\tremaining: 266ms\n",
      "37:\tlearn: 0.0005802\ttotal: 775ms\tremaining: 245ms\n",
      "38:\tlearn: 0.0005386\ttotal: 794ms\tremaining: 224ms\n",
      "39:\tlearn: 0.0005023\ttotal: 812ms\tremaining: 203ms\n",
      "40:\tlearn: 0.0004725\ttotal: 830ms\tremaining: 182ms\n",
      "41:\tlearn: 0.0004430\ttotal: 849ms\tremaining: 162ms\n",
      "42:\tlearn: 0.0004192\ttotal: 870ms\tremaining: 142ms\n",
      "43:\tlearn: 0.0003974\ttotal: 888ms\tremaining: 121ms\n",
      "44:\tlearn: 0.0003764\ttotal: 906ms\tremaining: 101ms\n",
      "45:\tlearn: 0.0003580\ttotal: 923ms\tremaining: 80.3ms\n",
      "46:\tlearn: 0.0003412\ttotal: 940ms\tremaining: 60ms\n",
      "47:\tlearn: 0.0003247\ttotal: 957ms\tremaining: 39.9ms\n",
      "48:\tlearn: 0.0003098\ttotal: 975ms\tremaining: 19.9ms\n",
      "49:\tlearn: 0.0002961\ttotal: 991ms\tremaining: 0us\n",
      "0:\tlearn: 0.5189207\ttotal: 19.9ms\tremaining: 973ms\n",
      "1:\tlearn: 0.3857419\ttotal: 40.3ms\tremaining: 967ms\n",
      "2:\tlearn: 0.2849656\ttotal: 60.2ms\tremaining: 943ms\n",
      "3:\tlearn: 0.2121746\ttotal: 80.4ms\tremaining: 924ms\n",
      "4:\tlearn: 0.1568117\ttotal: 100ms\tremaining: 901ms\n",
      "5:\tlearn: 0.1187279\ttotal: 121ms\tremaining: 887ms\n",
      "6:\tlearn: 0.0880071\ttotal: 141ms\tremaining: 866ms\n",
      "7:\tlearn: 0.0666083\ttotal: 161ms\tremaining: 847ms\n",
      "8:\tlearn: 0.0507229\ttotal: 182ms\tremaining: 830ms\n",
      "9:\tlearn: 0.0388680\ttotal: 203ms\tremaining: 811ms\n",
      "10:\tlearn: 0.0294236\ttotal: 225ms\tremaining: 796ms\n",
      "11:\tlearn: 0.0225859\ttotal: 246ms\tremaining: 779ms\n",
      "12:\tlearn: 0.0180645\ttotal: 267ms\tremaining: 760ms\n",
      "13:\tlearn: 0.0143398\ttotal: 289ms\tremaining: 742ms\n",
      "14:\tlearn: 0.0113404\ttotal: 310ms\tremaining: 724ms\n",
      "15:\tlearn: 0.0093580\ttotal: 330ms\tremaining: 701ms\n",
      "16:\tlearn: 0.0076806\ttotal: 350ms\tremaining: 679ms\n",
      "17:\tlearn: 0.0062793\ttotal: 371ms\tremaining: 659ms\n",
      "18:\tlearn: 0.0052180\ttotal: 391ms\tremaining: 638ms\n",
      "19:\tlearn: 0.0043973\ttotal: 412ms\tremaining: 618ms\n",
      "20:\tlearn: 0.0037924\ttotal: 432ms\tremaining: 597ms\n",
      "21:\tlearn: 0.0032242\ttotal: 452ms\tremaining: 575ms\n",
      "22:\tlearn: 0.0027800\ttotal: 473ms\tremaining: 555ms\n",
      "23:\tlearn: 0.0024091\ttotal: 492ms\tremaining: 533ms\n",
      "24:\tlearn: 0.0020821\ttotal: 513ms\tremaining: 513ms\n",
      "25:\tlearn: 0.0018050\ttotal: 533ms\tremaining: 492ms\n",
      "26:\tlearn: 0.0015890\ttotal: 553ms\tremaining: 471ms\n",
      "27:\tlearn: 0.0014175\ttotal: 572ms\tremaining: 450ms\n",
      "28:\tlearn: 0.0012657\ttotal: 591ms\tremaining: 428ms\n",
      "29:\tlearn: 0.0011344\ttotal: 610ms\tremaining: 407ms\n",
      "30:\tlearn: 0.0010204\ttotal: 629ms\tremaining: 386ms\n",
      "31:\tlearn: 0.0009196\ttotal: 650ms\tremaining: 366ms\n",
      "32:\tlearn: 0.0008378\ttotal: 669ms\tremaining: 345ms\n",
      "33:\tlearn: 0.0007689\ttotal: 688ms\tremaining: 324ms\n",
      "34:\tlearn: 0.0007100\ttotal: 708ms\tremaining: 303ms\n",
      "35:\tlearn: 0.0006549\ttotal: 727ms\tremaining: 283ms\n",
      "36:\tlearn: 0.0006102\ttotal: 746ms\tremaining: 262ms\n",
      "37:\tlearn: 0.0005692\ttotal: 765ms\tremaining: 241ms\n",
      "38:\tlearn: 0.0005417\ttotal: 782ms\tremaining: 220ms\n",
      "39:\tlearn: 0.0005044\ttotal: 799ms\tremaining: 200ms\n",
      "40:\tlearn: 0.0004708\ttotal: 817ms\tremaining: 179ms\n",
      "41:\tlearn: 0.0004427\ttotal: 837ms\tremaining: 159ms\n",
      "42:\tlearn: 0.0004184\ttotal: 856ms\tremaining: 139ms\n",
      "43:\tlearn: 0.0003961\ttotal: 874ms\tremaining: 119ms\n",
      "44:\tlearn: 0.0003756\ttotal: 891ms\tremaining: 99ms\n",
      "45:\tlearn: 0.0003569\ttotal: 908ms\tremaining: 79ms\n",
      "46:\tlearn: 0.0003406\ttotal: 926ms\tremaining: 59.1ms\n",
      "47:\tlearn: 0.0003258\ttotal: 942ms\tremaining: 39.3ms\n",
      "48:\tlearn: 0.0003174\ttotal: 959ms\tremaining: 19.6ms\n",
      "49:\tlearn: 0.0003092\ttotal: 976ms\tremaining: 0us\n",
      "0:\tlearn: 0.5200986\ttotal: 20.3ms\tremaining: 992ms\n",
      "1:\tlearn: 0.3858020\ttotal: 40.2ms\tremaining: 965ms\n",
      "2:\tlearn: 0.2877645\ttotal: 60.8ms\tremaining: 952ms\n",
      "3:\tlearn: 0.2125625\ttotal: 80.9ms\tremaining: 930ms\n",
      "4:\tlearn: 0.1577542\ttotal: 101ms\tremaining: 910ms\n",
      "5:\tlearn: 0.1210598\ttotal: 122ms\tremaining: 893ms\n",
      "6:\tlearn: 0.0906504\ttotal: 142ms\tremaining: 872ms\n",
      "7:\tlearn: 0.0664036\ttotal: 158ms\tremaining: 828ms\n",
      "8:\tlearn: 0.0506660\ttotal: 177ms\tremaining: 807ms\n",
      "9:\tlearn: 0.0386760\ttotal: 198ms\tremaining: 791ms\n",
      "10:\tlearn: 0.0298533\ttotal: 220ms\tremaining: 779ms\n",
      "11:\tlearn: 0.0231533\ttotal: 242ms\tremaining: 767ms\n",
      "12:\tlearn: 0.0183607\ttotal: 260ms\tremaining: 741ms\n",
      "13:\tlearn: 0.0144009\ttotal: 280ms\tremaining: 720ms\n",
      "14:\tlearn: 0.0117596\ttotal: 301ms\tremaining: 702ms\n",
      "15:\tlearn: 0.0094999\ttotal: 321ms\tremaining: 682ms\n",
      "16:\tlearn: 0.0078327\ttotal: 341ms\tremaining: 662ms\n",
      "17:\tlearn: 0.0065094\ttotal: 362ms\tremaining: 644ms\n",
      "18:\tlearn: 0.0055002\ttotal: 383ms\tremaining: 625ms\n",
      "19:\tlearn: 0.0045881\ttotal: 405ms\tremaining: 607ms\n",
      "20:\tlearn: 0.0038626\ttotal: 424ms\tremaining: 585ms\n",
      "21:\tlearn: 0.0032867\ttotal: 444ms\tremaining: 565ms\n",
      "22:\tlearn: 0.0027596\ttotal: 463ms\tremaining: 544ms\n",
      "23:\tlearn: 0.0023557\ttotal: 483ms\tremaining: 523ms\n",
      "24:\tlearn: 0.0020347\ttotal: 504ms\tremaining: 504ms\n",
      "25:\tlearn: 0.0017508\ttotal: 524ms\tremaining: 483ms\n",
      "26:\tlearn: 0.0015440\ttotal: 544ms\tremaining: 463ms\n",
      "27:\tlearn: 0.0013531\ttotal: 565ms\tremaining: 444ms\n",
      "28:\tlearn: 0.0011952\ttotal: 584ms\tremaining: 423ms\n",
      "29:\tlearn: 0.0010533\ttotal: 603ms\tremaining: 402ms\n",
      "30:\tlearn: 0.0009415\ttotal: 623ms\tremaining: 382ms\n",
      "31:\tlearn: 0.0008412\ttotal: 643ms\tremaining: 362ms\n",
      "32:\tlearn: 0.0007678\ttotal: 661ms\tremaining: 341ms\n",
      "33:\tlearn: 0.0007022\ttotal: 678ms\tremaining: 319ms\n",
      "34:\tlearn: 0.0006362\ttotal: 698ms\tremaining: 299ms\n",
      "35:\tlearn: 0.0005797\ttotal: 715ms\tremaining: 278ms\n",
      "36:\tlearn: 0.0005300\ttotal: 733ms\tremaining: 258ms\n",
      "37:\tlearn: 0.0004877\ttotal: 752ms\tremaining: 238ms\n",
      "38:\tlearn: 0.0004507\ttotal: 771ms\tremaining: 217ms\n",
      "39:\tlearn: 0.0004285\ttotal: 787ms\tremaining: 197ms\n",
      "40:\tlearn: 0.0004053\ttotal: 805ms\tremaining: 177ms\n",
      "41:\tlearn: 0.0003828\ttotal: 822ms\tremaining: 157ms\n",
      "42:\tlearn: 0.0003582\ttotal: 842ms\tremaining: 137ms\n",
      "43:\tlearn: 0.0003360\ttotal: 862ms\tremaining: 117ms\n",
      "44:\tlearn: 0.0003161\ttotal: 880ms\tremaining: 97.8ms\n",
      "45:\tlearn: 0.0002998\ttotal: 899ms\tremaining: 78.2ms\n",
      "46:\tlearn: 0.0002839\ttotal: 916ms\tremaining: 58.5ms\n",
      "47:\tlearn: 0.0002685\ttotal: 933ms\tremaining: 38.9ms\n",
      "48:\tlearn: 0.0002546\ttotal: 950ms\tremaining: 19.4ms\n",
      "49:\tlearn: 0.0002476\ttotal: 966ms\tremaining: 0us\n",
      "0:\tlearn: 0.5200094\ttotal: 20.3ms\tremaining: 995ms\n",
      "1:\tlearn: 0.3856189\ttotal: 39.8ms\tremaining: 956ms\n",
      "2:\tlearn: 0.2878988\ttotal: 60.8ms\tremaining: 953ms\n",
      "3:\tlearn: 0.2125859\ttotal: 80.4ms\tremaining: 925ms\n",
      "4:\tlearn: 0.1584312\ttotal: 101ms\tremaining: 913ms\n",
      "5:\tlearn: 0.1215743\ttotal: 122ms\tremaining: 897ms\n",
      "6:\tlearn: 0.0910185\ttotal: 143ms\tremaining: 880ms\n",
      "7:\tlearn: 0.0667306\ttotal: 160ms\tremaining: 838ms\n",
      "8:\tlearn: 0.0510740\ttotal: 180ms\tremaining: 820ms\n",
      "9:\tlearn: 0.0389692\ttotal: 201ms\tremaining: 803ms\n",
      "10:\tlearn: 0.0302327\ttotal: 223ms\tremaining: 789ms\n",
      "11:\tlearn: 0.0235592\ttotal: 246ms\tremaining: 778ms\n",
      "12:\tlearn: 0.0187943\ttotal: 268ms\tremaining: 762ms\n",
      "13:\tlearn: 0.0150502\ttotal: 289ms\tremaining: 743ms\n",
      "14:\tlearn: 0.0119442\ttotal: 311ms\tremaining: 726ms\n",
      "15:\tlearn: 0.0096098\ttotal: 332ms\tremaining: 706ms\n",
      "16:\tlearn: 0.0077200\ttotal: 348ms\tremaining: 676ms\n",
      "17:\tlearn: 0.0063472\ttotal: 368ms\tremaining: 655ms\n",
      "18:\tlearn: 0.0052548\ttotal: 390ms\tremaining: 636ms\n",
      "19:\tlearn: 0.0044812\ttotal: 409ms\tremaining: 614ms\n",
      "20:\tlearn: 0.0038645\ttotal: 430ms\tremaining: 594ms\n",
      "21:\tlearn: 0.0033073\ttotal: 453ms\tremaining: 576ms\n",
      "22:\tlearn: 0.0028562\ttotal: 475ms\tremaining: 558ms\n",
      "23:\tlearn: 0.0024424\ttotal: 496ms\tremaining: 537ms\n",
      "24:\tlearn: 0.0021653\ttotal: 515ms\tremaining: 515ms\n",
      "25:\tlearn: 0.0019280\ttotal: 534ms\tremaining: 493ms\n",
      "26:\tlearn: 0.0017185\ttotal: 554ms\tremaining: 472ms\n",
      "27:\tlearn: 0.0015150\ttotal: 573ms\tremaining: 451ms\n",
      "28:\tlearn: 0.0013464\ttotal: 594ms\tremaining: 430ms\n",
      "29:\tlearn: 0.0011987\ttotal: 613ms\tremaining: 409ms\n",
      "30:\tlearn: 0.0010750\ttotal: 633ms\tremaining: 388ms\n",
      "31:\tlearn: 0.0009870\ttotal: 653ms\tremaining: 367ms\n",
      "32:\tlearn: 0.0009091\ttotal: 672ms\tremaining: 346ms\n",
      "33:\tlearn: 0.0008410\ttotal: 690ms\tremaining: 325ms\n",
      "34:\tlearn: 0.0007641\ttotal: 710ms\tremaining: 304ms\n",
      "35:\tlearn: 0.0007035\ttotal: 729ms\tremaining: 283ms\n",
      "36:\tlearn: 0.0006522\ttotal: 747ms\tremaining: 262ms\n",
      "37:\tlearn: 0.0006041\ttotal: 765ms\tremaining: 241ms\n",
      "38:\tlearn: 0.0005607\ttotal: 782ms\tremaining: 221ms\n",
      "39:\tlearn: 0.0005322\ttotal: 799ms\tremaining: 200ms\n",
      "40:\tlearn: 0.0005071\ttotal: 816ms\tremaining: 179ms\n",
      "41:\tlearn: 0.0004834\ttotal: 833ms\tremaining: 159ms\n",
      "42:\tlearn: 0.0004515\ttotal: 852ms\tremaining: 139ms\n",
      "43:\tlearn: 0.0004230\ttotal: 872ms\tremaining: 119ms\n",
      "44:\tlearn: 0.0004013\ttotal: 890ms\tremaining: 98.9ms\n",
      "45:\tlearn: 0.0003775\ttotal: 908ms\tremaining: 79ms\n",
      "46:\tlearn: 0.0003600\ttotal: 926ms\tremaining: 59.1ms\n",
      "47:\tlearn: 0.0003421\ttotal: 943ms\tremaining: 39.3ms\n",
      "48:\tlearn: 0.0003257\ttotal: 960ms\tremaining: 19.6ms\n",
      "49:\tlearn: 0.0003160\ttotal: 978ms\tremaining: 0us\n"
     ]
    },
    {
     "name": "stdout",
     "output_type": "stream",
     "text": [
      "0:\tlearn: 0.5202632\ttotal: 21ms\tremaining: 1.03s\n",
      "1:\tlearn: 0.3860870\ttotal: 41ms\tremaining: 985ms\n",
      "2:\tlearn: 0.2883550\ttotal: 62.1ms\tremaining: 972ms\n",
      "3:\tlearn: 0.2129820\ttotal: 82.9ms\tremaining: 954ms\n",
      "4:\tlearn: 0.1581037\ttotal: 103ms\tremaining: 930ms\n",
      "5:\tlearn: 0.1202168\ttotal: 124ms\tremaining: 909ms\n",
      "6:\tlearn: 0.0900459\ttotal: 144ms\tremaining: 886ms\n",
      "7:\tlearn: 0.0679688\ttotal: 165ms\tremaining: 866ms\n",
      "8:\tlearn: 0.0517948\ttotal: 186ms\tremaining: 848ms\n",
      "9:\tlearn: 0.0396378\ttotal: 207ms\tremaining: 828ms\n",
      "10:\tlearn: 0.0300473\ttotal: 228ms\tremaining: 808ms\n",
      "11:\tlearn: 0.0234476\ttotal: 249ms\tremaining: 787ms\n",
      "12:\tlearn: 0.0185541\ttotal: 271ms\tremaining: 771ms\n",
      "13:\tlearn: 0.0146670\ttotal: 292ms\tremaining: 752ms\n",
      "14:\tlearn: 0.0117866\ttotal: 315ms\tremaining: 734ms\n",
      "15:\tlearn: 0.0094116\ttotal: 336ms\tremaining: 714ms\n",
      "16:\tlearn: 0.0076359\ttotal: 357ms\tremaining: 694ms\n",
      "17:\tlearn: 0.0062937\ttotal: 379ms\tremaining: 673ms\n",
      "18:\tlearn: 0.0052892\ttotal: 400ms\tremaining: 653ms\n",
      "19:\tlearn: 0.0043827\ttotal: 422ms\tremaining: 633ms\n",
      "20:\tlearn: 0.0037751\ttotal: 444ms\tremaining: 613ms\n",
      "21:\tlearn: 0.0031862\ttotal: 465ms\tremaining: 592ms\n",
      "22:\tlearn: 0.0027389\ttotal: 486ms\tremaining: 571ms\n",
      "23:\tlearn: 0.0023624\ttotal: 507ms\tremaining: 549ms\n",
      "24:\tlearn: 0.0020382\ttotal: 527ms\tremaining: 527ms\n",
      "25:\tlearn: 0.0017879\ttotal: 548ms\tremaining: 506ms\n",
      "26:\tlearn: 0.0015764\ttotal: 567ms\tremaining: 483ms\n",
      "27:\tlearn: 0.0014127\ttotal: 586ms\tremaining: 460ms\n",
      "28:\tlearn: 0.0012593\ttotal: 606ms\tremaining: 439ms\n",
      "29:\tlearn: 0.0011323\ttotal: 626ms\tremaining: 417ms\n",
      "30:\tlearn: 0.0010193\ttotal: 645ms\tremaining: 395ms\n",
      "31:\tlearn: 0.0009398\ttotal: 666ms\tremaining: 374ms\n",
      "32:\tlearn: 0.0008719\ttotal: 684ms\tremaining: 352ms\n",
      "33:\tlearn: 0.0007901\ttotal: 702ms\tremaining: 331ms\n",
      "34:\tlearn: 0.0007222\ttotal: 721ms\tremaining: 309ms\n",
      "35:\tlearn: 0.0006665\ttotal: 741ms\tremaining: 288ms\n",
      "36:\tlearn: 0.0006153\ttotal: 762ms\tremaining: 268ms\n",
      "37:\tlearn: 0.0005698\ttotal: 781ms\tremaining: 247ms\n",
      "38:\tlearn: 0.0005417\ttotal: 798ms\tremaining: 225ms\n",
      "39:\tlearn: 0.0005154\ttotal: 816ms\tremaining: 204ms\n",
      "40:\tlearn: 0.0004902\ttotal: 833ms\tremaining: 183ms\n",
      "41:\tlearn: 0.0004583\ttotal: 853ms\tremaining: 163ms\n",
      "42:\tlearn: 0.0004319\ttotal: 872ms\tremaining: 142ms\n",
      "43:\tlearn: 0.0004085\ttotal: 892ms\tremaining: 122ms\n",
      "44:\tlearn: 0.0003853\ttotal: 909ms\tremaining: 101ms\n",
      "45:\tlearn: 0.0003660\ttotal: 927ms\tremaining: 80.6ms\n",
      "46:\tlearn: 0.0003469\ttotal: 944ms\tremaining: 60.3ms\n",
      "47:\tlearn: 0.0003294\ttotal: 962ms\tremaining: 40.1ms\n",
      "48:\tlearn: 0.0003207\ttotal: 978ms\tremaining: 20ms\n",
      "49:\tlearn: 0.0003117\ttotal: 994ms\tremaining: 0us\n",
      "0:\tlearn: 0.5208488\ttotal: 21ms\tremaining: 1.03s\n",
      "1:\tlearn: 0.3870411\ttotal: 40.4ms\tremaining: 970ms\n",
      "2:\tlearn: 0.2884435\ttotal: 62.1ms\tremaining: 972ms\n",
      "3:\tlearn: 0.2131696\ttotal: 83.8ms\tremaining: 964ms\n",
      "4:\tlearn: 0.1585522\ttotal: 104ms\tremaining: 940ms\n",
      "5:\tlearn: 0.1205216\ttotal: 126ms\tremaining: 921ms\n",
      "6:\tlearn: 0.0899832\ttotal: 147ms\tremaining: 904ms\n",
      "7:\tlearn: 0.0680578\ttotal: 169ms\tremaining: 885ms\n",
      "8:\tlearn: 0.0523214\ttotal: 190ms\tremaining: 864ms\n",
      "9:\tlearn: 0.0404423\ttotal: 211ms\tremaining: 845ms\n",
      "10:\tlearn: 0.0309760\ttotal: 233ms\tremaining: 826ms\n",
      "11:\tlearn: 0.0239944\ttotal: 253ms\tremaining: 802ms\n",
      "12:\tlearn: 0.0187984\ttotal: 275ms\tremaining: 781ms\n",
      "13:\tlearn: 0.0150650\ttotal: 296ms\tremaining: 760ms\n",
      "14:\tlearn: 0.0120462\ttotal: 315ms\tremaining: 734ms\n",
      "15:\tlearn: 0.0097711\ttotal: 336ms\tremaining: 714ms\n",
      "16:\tlearn: 0.0080034\ttotal: 357ms\tremaining: 693ms\n",
      "17:\tlearn: 0.0065356\ttotal: 378ms\tremaining: 672ms\n",
      "18:\tlearn: 0.0054750\ttotal: 399ms\tremaining: 652ms\n",
      "19:\tlearn: 0.0046109\ttotal: 420ms\tremaining: 630ms\n",
      "20:\tlearn: 0.0039092\ttotal: 441ms\tremaining: 609ms\n",
      "21:\tlearn: 0.0033770\ttotal: 461ms\tremaining: 587ms\n",
      "22:\tlearn: 0.0028857\ttotal: 482ms\tremaining: 565ms\n",
      "23:\tlearn: 0.0025061\ttotal: 502ms\tremaining: 544ms\n",
      "24:\tlearn: 0.0021701\ttotal: 522ms\tremaining: 522ms\n",
      "25:\tlearn: 0.0018741\ttotal: 543ms\tremaining: 501ms\n",
      "26:\tlearn: 0.0016589\ttotal: 563ms\tremaining: 479ms\n",
      "27:\tlearn: 0.0014748\ttotal: 582ms\tremaining: 458ms\n",
      "28:\tlearn: 0.0013155\ttotal: 602ms\tremaining: 436ms\n",
      "29:\tlearn: 0.0011931\ttotal: 621ms\tremaining: 414ms\n",
      "30:\tlearn: 0.0010718\ttotal: 641ms\tremaining: 393ms\n",
      "31:\tlearn: 0.0009572\ttotal: 663ms\tremaining: 373ms\n",
      "32:\tlearn: 0.0008661\ttotal: 682ms\tremaining: 352ms\n",
      "33:\tlearn: 0.0007830\ttotal: 701ms\tremaining: 330ms\n",
      "34:\tlearn: 0.0007286\ttotal: 720ms\tremaining: 309ms\n",
      "35:\tlearn: 0.0006750\ttotal: 739ms\tremaining: 287ms\n",
      "36:\tlearn: 0.0006253\ttotal: 757ms\tremaining: 266ms\n",
      "37:\tlearn: 0.0005802\ttotal: 776ms\tremaining: 245ms\n",
      "38:\tlearn: 0.0005386\ttotal: 794ms\tremaining: 224ms\n",
      "39:\tlearn: 0.0005023\ttotal: 812ms\tremaining: 203ms\n",
      "40:\tlearn: 0.0004725\ttotal: 830ms\tremaining: 182ms\n",
      "41:\tlearn: 0.0004430\ttotal: 851ms\tremaining: 162ms\n",
      "42:\tlearn: 0.0004192\ttotal: 871ms\tremaining: 142ms\n",
      "43:\tlearn: 0.0003974\ttotal: 890ms\tremaining: 121ms\n",
      "44:\tlearn: 0.0003764\ttotal: 908ms\tremaining: 101ms\n",
      "45:\tlearn: 0.0003580\ttotal: 925ms\tremaining: 80.4ms\n",
      "46:\tlearn: 0.0003412\ttotal: 943ms\tremaining: 60.2ms\n",
      "47:\tlearn: 0.0003247\ttotal: 960ms\tremaining: 40ms\n",
      "48:\tlearn: 0.0003098\ttotal: 977ms\tremaining: 19.9ms\n",
      "49:\tlearn: 0.0002961\ttotal: 994ms\tremaining: 0us\n",
      "0:\tlearn: 0.5189207\ttotal: 20.6ms\tremaining: 1.01s\n",
      "1:\tlearn: 0.3857419\ttotal: 40.7ms\tremaining: 977ms\n",
      "2:\tlearn: 0.2849656\ttotal: 61.1ms\tremaining: 957ms\n",
      "3:\tlearn: 0.2121746\ttotal: 81.5ms\tremaining: 937ms\n",
      "4:\tlearn: 0.1568117\ttotal: 102ms\tremaining: 919ms\n",
      "5:\tlearn: 0.1187279\ttotal: 123ms\tremaining: 899ms\n",
      "6:\tlearn: 0.0880071\ttotal: 143ms\tremaining: 879ms\n",
      "7:\tlearn: 0.0666083\ttotal: 163ms\tremaining: 857ms\n",
      "8:\tlearn: 0.0507229\ttotal: 183ms\tremaining: 835ms\n",
      "9:\tlearn: 0.0388680\ttotal: 204ms\tremaining: 816ms\n",
      "10:\tlearn: 0.0294236\ttotal: 226ms\tremaining: 800ms\n",
      "11:\tlearn: 0.0225859\ttotal: 248ms\tremaining: 786ms\n",
      "12:\tlearn: 0.0180645\ttotal: 270ms\tremaining: 769ms\n",
      "13:\tlearn: 0.0143398\ttotal: 292ms\tremaining: 751ms\n",
      "14:\tlearn: 0.0113404\ttotal: 313ms\tremaining: 731ms\n",
      "15:\tlearn: 0.0093580\ttotal: 334ms\tremaining: 710ms\n",
      "16:\tlearn: 0.0076806\ttotal: 355ms\tremaining: 689ms\n",
      "17:\tlearn: 0.0062793\ttotal: 375ms\tremaining: 668ms\n",
      "18:\tlearn: 0.0052180\ttotal: 395ms\tremaining: 645ms\n",
      "19:\tlearn: 0.0043973\ttotal: 416ms\tremaining: 624ms\n",
      "20:\tlearn: 0.0037924\ttotal: 436ms\tremaining: 602ms\n",
      "21:\tlearn: 0.0032242\ttotal: 456ms\tremaining: 581ms\n",
      "22:\tlearn: 0.0027800\ttotal: 477ms\tremaining: 560ms\n",
      "23:\tlearn: 0.0024091\ttotal: 497ms\tremaining: 538ms\n",
      "24:\tlearn: 0.0020821\ttotal: 518ms\tremaining: 518ms\n",
      "25:\tlearn: 0.0018050\ttotal: 538ms\tremaining: 497ms\n",
      "26:\tlearn: 0.0015890\ttotal: 557ms\tremaining: 475ms\n",
      "27:\tlearn: 0.0014175\ttotal: 578ms\tremaining: 454ms\n",
      "28:\tlearn: 0.0012657\ttotal: 597ms\tremaining: 432ms\n",
      "29:\tlearn: 0.0011344\ttotal: 616ms\tremaining: 411ms\n",
      "30:\tlearn: 0.0010204\ttotal: 636ms\tremaining: 390ms\n",
      "31:\tlearn: 0.0009196\ttotal: 656ms\tremaining: 369ms\n",
      "32:\tlearn: 0.0008378\ttotal: 675ms\tremaining: 348ms\n",
      "33:\tlearn: 0.0007689\ttotal: 694ms\tremaining: 326ms\n",
      "34:\tlearn: 0.0007100\ttotal: 712ms\tremaining: 305ms\n",
      "35:\tlearn: 0.0006549\ttotal: 732ms\tremaining: 285ms\n",
      "36:\tlearn: 0.0006102\ttotal: 751ms\tremaining: 264ms\n",
      "37:\tlearn: 0.0005692\ttotal: 770ms\tremaining: 243ms\n",
      "38:\tlearn: 0.0005417\ttotal: 787ms\tremaining: 222ms\n",
      "39:\tlearn: 0.0005044\ttotal: 804ms\tremaining: 201ms\n",
      "40:\tlearn: 0.0004708\ttotal: 823ms\tremaining: 181ms\n",
      "41:\tlearn: 0.0004427\ttotal: 843ms\tremaining: 161ms\n",
      "42:\tlearn: 0.0004184\ttotal: 863ms\tremaining: 140ms\n",
      "43:\tlearn: 0.0003961\ttotal: 880ms\tremaining: 120ms\n",
      "44:\tlearn: 0.0003756\ttotal: 898ms\tremaining: 99.7ms\n",
      "45:\tlearn: 0.0003569\ttotal: 915ms\tremaining: 79.5ms\n",
      "46:\tlearn: 0.0003406\ttotal: 931ms\tremaining: 59.4ms\n",
      "47:\tlearn: 0.0003258\ttotal: 948ms\tremaining: 39.5ms\n",
      "48:\tlearn: 0.0003174\ttotal: 964ms\tremaining: 19.7ms\n",
      "49:\tlearn: 0.0003092\ttotal: 980ms\tremaining: 0us\n"
     ]
    }
   ],
   "source": [
    "from sklearn.model_selection import cross_val_score\n",
    "from sklearn import metrics\n",
    "\n",
    "accuracy = cross_val_score(modelCB, X_eval, y_eval, cv=5, scoring='accuracy')\n",
    "f = cross_val_score(modelCB, X_eval, y_eval, cv=5, scoring='f1')\n",
    "precision = cross_val_score(modelCB, X_eval, y_eval, cv=5, scoring='precision')\n",
    "recall = cross_val_score(modelCB, X_eval, y_eval, cv=5, scoring='recall')"
   ]
  },
  {
   "cell_type": "code",
   "execution_count": 66,
   "metadata": {},
   "outputs": [
    {
     "name": "stdout",
     "output_type": "stream",
     "text": [
      "Accuracy: 1.00000 (+/- 0.00000)\n",
      "F1 Score: 1.00000 (+/- 0.00000)\n",
      "Precision: 1.00000 (+/- 0.00000)\n",
      "Recall: 1.00000 (+/- 0.00000)\n"
     ]
    }
   ],
   "source": [
    "print(\"Accuracy: %0.5f (+/- %0.5f)\" % (accuracy.mean(), accuracy.std() * 2))\n",
    "print(\"F1 Score: %0.5f (+/- %0.5f)\" % (f.mean(), f.std() * 2))\n",
    "print(\"Precision: %0.5f (+/- %0.5f)\" % (precision.mean(), precision.std() * 2))\n",
    "print(\"Recall: %0.5f (+/- %0.5f)\" % (recall.mean(), recall.std() * 2))"
   ]
  }
 ],
 "metadata": {
  "kernelspec": {
   "display_name": "Python 3",
   "language": "python",
   "name": "python3"
  },
  "language_info": {
   "codemirror_mode": {
    "name": "ipython",
    "version": 3
   },
   "file_extension": ".py",
   "mimetype": "text/x-python",
   "name": "python",
   "nbconvert_exporter": "python",
   "pygments_lexer": "ipython3",
   "version": "3.7.6"
  },
  "toc": {
   "base_numbering": 1,
   "nav_menu": {},
   "number_sections": true,
   "sideBar": true,
   "skip_h1_title": false,
   "title_cell": "Table of Contents",
   "title_sidebar": "Contents",
   "toc_cell": false,
   "toc_position": {},
   "toc_section_display": "block",
   "toc_window_display": true
  }
 },
 "nbformat": 4,
 "nbformat_minor": 2
}
