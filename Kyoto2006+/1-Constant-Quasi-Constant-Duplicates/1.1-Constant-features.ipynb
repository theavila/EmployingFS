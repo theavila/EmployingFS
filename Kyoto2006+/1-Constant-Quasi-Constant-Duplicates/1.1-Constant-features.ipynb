{
 "cells": [
  {
   "cell_type": "markdown",
   "metadata": {},
   "source": [
    "## Constant features"
   ]
  },
  {
   "cell_type": "code",
   "execution_count": 1,
   "metadata": {},
   "outputs": [],
   "source": [
    "import numpy as np\n",
    "import pandas as pd\n",
    "from sklearn.model_selection import train_test_split\n",
    "from sklearn.feature_selection import VarianceThreshold"
   ]
  },
  {
   "cell_type": "markdown",
   "metadata": {},
   "source": [
    "## Read Data"
   ]
  },
  {
   "cell_type": "code",
   "execution_count": 3,
   "metadata": {},
   "outputs": [
    {
     "data": {
      "text/html": [
       "<div>\n",
       "<style scoped>\n",
       "    .dataframe tbody tr th:only-of-type {\n",
       "        vertical-align: middle;\n",
       "    }\n",
       "\n",
       "    .dataframe tbody tr th {\n",
       "        vertical-align: top;\n",
       "    }\n",
       "\n",
       "    .dataframe thead th {\n",
       "        text-align: right;\n",
       "    }\n",
       "</style>\n",
       "<table border=\"1\" class=\"dataframe\">\n",
       "  <thead>\n",
       "    <tr style=\"text-align: right;\">\n",
       "      <th></th>\n",
       "      <th>Duration</th>\n",
       "      <th>Source</th>\n",
       "      <th>Destination_bytes</th>\n",
       "      <th>Count</th>\n",
       "      <th>Same_srv_rate</th>\n",
       "      <th>Serror_rate</th>\n",
       "      <th>Srv_serror_rate</th>\n",
       "      <th>Dst_host_count</th>\n",
       "      <th>Dst_host_srv_count</th>\n",
       "      <th>Dst_host_same_port_rate</th>\n",
       "      <th>...</th>\n",
       "      <th>Service_code</th>\n",
       "      <th>Flag_code</th>\n",
       "      <th>IDS_detection_code</th>\n",
       "      <th>Malware_detection_code</th>\n",
       "      <th>Ashula_detection_code</th>\n",
       "      <th>Source_IP_Address_code</th>\n",
       "      <th>Destination_IP_Address_code</th>\n",
       "      <th>Start_Time_code</th>\n",
       "      <th>Protocol_code</th>\n",
       "      <th>Label_code</th>\n",
       "    </tr>\n",
       "  </thead>\n",
       "  <tbody>\n",
       "    <tr>\n",
       "      <th>0</th>\n",
       "      <td>1.551192</td>\n",
       "      <td>1423</td>\n",
       "      <td>2077</td>\n",
       "      <td>1</td>\n",
       "      <td>1.0</td>\n",
       "      <td>0.0</td>\n",
       "      <td>0.00</td>\n",
       "      <td>12</td>\n",
       "      <td>12</td>\n",
       "      <td>0.0</td>\n",
       "      <td>...</td>\n",
       "      <td>13.0</td>\n",
       "      <td>10.0</td>\n",
       "      <td>0.0</td>\n",
       "      <td>0.0</td>\n",
       "      <td>0.0</td>\n",
       "      <td>175740.0</td>\n",
       "      <td>6721.0</td>\n",
       "      <td>27120.0</td>\n",
       "      <td>1.0</td>\n",
       "      <td>0.0</td>\n",
       "    </tr>\n",
       "    <tr>\n",
       "      <th>1</th>\n",
       "      <td>0.001476</td>\n",
       "      <td>45</td>\n",
       "      <td>104</td>\n",
       "      <td>9</td>\n",
       "      <td>1.0</td>\n",
       "      <td>0.0</td>\n",
       "      <td>0.03</td>\n",
       "      <td>24</td>\n",
       "      <td>31</td>\n",
       "      <td>0.0</td>\n",
       "      <td>...</td>\n",
       "      <td>1.0</td>\n",
       "      <td>10.0</td>\n",
       "      <td>0.0</td>\n",
       "      <td>0.0</td>\n",
       "      <td>0.0</td>\n",
       "      <td>137102.0</td>\n",
       "      <td>19045.0</td>\n",
       "      <td>28207.0</td>\n",
       "      <td>2.0</td>\n",
       "      <td>0.0</td>\n",
       "    </tr>\n",
       "    <tr>\n",
       "      <th>2</th>\n",
       "      <td>0.000000</td>\n",
       "      <td>0</td>\n",
       "      <td>0</td>\n",
       "      <td>0</td>\n",
       "      <td>0.0</td>\n",
       "      <td>0.0</td>\n",
       "      <td>0.33</td>\n",
       "      <td>0</td>\n",
       "      <td>0</td>\n",
       "      <td>0.0</td>\n",
       "      <td>...</td>\n",
       "      <td>6.0</td>\n",
       "      <td>6.0</td>\n",
       "      <td>0.0</td>\n",
       "      <td>0.0</td>\n",
       "      <td>0.0</td>\n",
       "      <td>257402.0</td>\n",
       "      <td>9396.0</td>\n",
       "      <td>14579.0</td>\n",
       "      <td>1.0</td>\n",
       "      <td>0.0</td>\n",
       "    </tr>\n",
       "    <tr>\n",
       "      <th>3</th>\n",
       "      <td>2.095259</td>\n",
       "      <td>520</td>\n",
       "      <td>1745</td>\n",
       "      <td>1</td>\n",
       "      <td>1.0</td>\n",
       "      <td>0.0</td>\n",
       "      <td>0.00</td>\n",
       "      <td>12</td>\n",
       "      <td>12</td>\n",
       "      <td>0.0</td>\n",
       "      <td>...</td>\n",
       "      <td>13.0</td>\n",
       "      <td>10.0</td>\n",
       "      <td>255.0</td>\n",
       "      <td>0.0</td>\n",
       "      <td>0.0</td>\n",
       "      <td>288858.0</td>\n",
       "      <td>11847.0</td>\n",
       "      <td>39547.0</td>\n",
       "      <td>1.0</td>\n",
       "      <td>0.0</td>\n",
       "    </tr>\n",
       "    <tr>\n",
       "      <th>4</th>\n",
       "      <td>0.127928</td>\n",
       "      <td>54</td>\n",
       "      <td>106</td>\n",
       "      <td>3</td>\n",
       "      <td>1.0</td>\n",
       "      <td>0.0</td>\n",
       "      <td>0.00</td>\n",
       "      <td>6</td>\n",
       "      <td>62</td>\n",
       "      <td>0.0</td>\n",
       "      <td>...</td>\n",
       "      <td>1.0</td>\n",
       "      <td>10.0</td>\n",
       "      <td>0.0</td>\n",
       "      <td>0.0</td>\n",
       "      <td>0.0</td>\n",
       "      <td>210104.0</td>\n",
       "      <td>5573.0</td>\n",
       "      <td>35734.0</td>\n",
       "      <td>2.0</td>\n",
       "      <td>1.0</td>\n",
       "    </tr>\n",
       "  </tbody>\n",
       "</table>\n",
       "<p>5 rows × 24 columns</p>\n",
       "</div>"
      ],
      "text/plain": [
       "   Duration  Source  Destination_bytes  Count  Same_srv_rate  Serror_rate  \\\n",
       "0  1.551192    1423               2077      1            1.0          0.0   \n",
       "1  0.001476      45                104      9            1.0          0.0   \n",
       "2  0.000000       0                  0      0            0.0          0.0   \n",
       "3  2.095259     520               1745      1            1.0          0.0   \n",
       "4  0.127928      54                106      3            1.0          0.0   \n",
       "\n",
       "   Srv_serror_rate  Dst_host_count  Dst_host_srv_count  \\\n",
       "0             0.00              12                  12   \n",
       "1             0.03              24                  31   \n",
       "2             0.33               0                   0   \n",
       "3             0.00              12                  12   \n",
       "4             0.00               6                  62   \n",
       "\n",
       "   Dst_host_same_port_rate  ...  Service_code  Flag_code  IDS_detection_code  \\\n",
       "0                      0.0  ...          13.0       10.0                 0.0   \n",
       "1                      0.0  ...           1.0       10.0                 0.0   \n",
       "2                      0.0  ...           6.0        6.0                 0.0   \n",
       "3                      0.0  ...          13.0       10.0               255.0   \n",
       "4                      0.0  ...           1.0       10.0                 0.0   \n",
       "\n",
       "   Malware_detection_code  Ashula_detection_code  Source_IP_Address_code  \\\n",
       "0                     0.0                    0.0                175740.0   \n",
       "1                     0.0                    0.0                137102.0   \n",
       "2                     0.0                    0.0                257402.0   \n",
       "3                     0.0                    0.0                288858.0   \n",
       "4                     0.0                    0.0                210104.0   \n",
       "\n",
       "   Destination_IP_Address_code  Start_Time_code  Protocol_code  Label_code  \n",
       "0                       6721.0          27120.0            1.0         0.0  \n",
       "1                      19045.0          28207.0            2.0         0.0  \n",
       "2                       9396.0          14579.0            1.0         0.0  \n",
       "3                      11847.0          39547.0            1.0         0.0  \n",
       "4                       5573.0          35734.0            2.0         1.0  \n",
       "\n",
       "[5 rows x 24 columns]"
      ]
     },
     "execution_count": 3,
     "metadata": {},
     "output_type": "execute_result"
    }
   ],
   "source": [
    "data.head(5)"
   ]
  },
  {
   "cell_type": "markdown",
   "metadata": {},
   "source": [
    "### Train - Test Split"
   ]
  },
  {
   "cell_type": "code",
   "execution_count": 4,
   "metadata": {},
   "outputs": [
    {
     "data": {
      "text/plain": [
       "Duration                       float64\n",
       "Source                           Int64\n",
       "Destination_bytes                Int64\n",
       "Count                            Int64\n",
       "Same_srv_rate                  float64\n",
       "Serror_rate                    float64\n",
       "Srv_serror_rate                float64\n",
       "Dst_host_count                   Int64\n",
       "Dst_host_srv_count               Int64\n",
       "Dst_host_same_port_rate        float64\n",
       "Dst_host_serror_rate           float64\n",
       "Dst_host_srv_serror_rate       float64\n",
       "Source_Port_Number               Int64\n",
       "Destination_Port_Number          Int64\n",
       "Service_code                     Int64\n",
       "Flag_code                        Int64\n",
       "IDS_detection_code               Int64\n",
       "Malware_detection_code           Int64\n",
       "Ashula_detection_code            Int64\n",
       "Source_IP_Address_code           Int64\n",
       "Destination_IP_Address_code      Int64\n",
       "Start_Time_code                  Int64\n",
       "Protocol_code                    Int64\n",
       "Label_code                       Int64\n",
       "dtype: object"
      ]
     },
     "execution_count": 4,
     "metadata": {},
     "output_type": "execute_result"
    }
   ],
   "source": [
    "data.convert_dtypes().dtypes"
   ]
  },
  {
   "cell_type": "code",
   "execution_count": 24,
   "metadata": {},
   "outputs": [
    {
     "data": {
      "text/plain": [
       "((99244, 23), (24811, 23))"
      ]
     },
     "execution_count": 24,
     "metadata": {},
     "output_type": "execute_result"
    }
   ],
   "source": [
    "# separate dataset into train and test\n",
    "X_train, X_test, y_train, y_test = train_test_split(\n",
    "    data.drop(labels=['Label_code'], axis=1),       # drop the target\n",
    "    data['Label_code'],                             # just the target\n",
    "    test_size=0.2,\n",
    "    random_state=0)\n",
    "X_train.shape, X_test.shape"
   ]
  },
  {
   "cell_type": "markdown",
   "metadata": {},
   "source": [
    "### Using VarianceThreshold from Scikit-learn\n",
    "\n",
    "The VarianceThreshold from sklearn provides a simple baseline approach to feature selection. It removes all features which variance doesn’t meet a certain threshold. By default, it removes all zero-variance features, i.e., features that have the same value in all samples."
   ]
  },
  {
   "cell_type": "code",
   "execution_count": 25,
   "metadata": {},
   "outputs": [
    {
     "data": {
      "text/plain": [
       "VarianceThreshold(threshold=0.01)"
      ]
     },
     "execution_count": 25,
     "metadata": {},
     "output_type": "execute_result"
    }
   ],
   "source": [
    "sel = VarianceThreshold(threshold=0.01)\n",
    "sel.fit(X_train)  # fit finds the features with zero variance"
   ]
  },
  {
   "cell_type": "code",
   "execution_count": 26,
   "metadata": {},
   "outputs": [
    {
     "data": {
      "text/plain": [
       "23"
      ]
     },
     "execution_count": 26,
     "metadata": {},
     "output_type": "execute_result"
    }
   ],
   "source": [
    "# get_support is a boolean vector that indicates which features are retained\n",
    "# if we sum over get_support, we get the number of features that are not constant\n",
    "# (if necessary, print the result of sel.get_support() to understand its output)\n",
    "sum(sel.get_support())"
   ]
  },
  {
   "cell_type": "code",
   "execution_count": 27,
   "metadata": {},
   "outputs": [
    {
     "data": {
      "text/plain": [
       "0"
      ]
     },
     "execution_count": 27,
     "metadata": {},
     "output_type": "execute_result"
    }
   ],
   "source": [
    "# now let's print the number of constant feautures\n",
    "# (see how we use ~ to exclude non-constant features)\n",
    "constant = X_train.columns[~sel.get_support()]\n",
    "len(constant)"
   ]
  },
  {
   "cell_type": "markdown",
   "metadata": {},
   "source": [
    "We can see that 0 columns / variables are constant. This means that 0 variables show the same value, just one value, for all the observations of the training set."
   ]
  },
  {
   "cell_type": "code",
   "execution_count": 28,
   "metadata": {
    "scrolled": true
   },
   "outputs": [
    {
     "data": {
      "text/plain": [
       "Index([], dtype='object')"
      ]
     },
     "execution_count": 28,
     "metadata": {},
     "output_type": "execute_result"
    }
   ],
   "source": [
    "# let's print the constant variable names\n",
    "constant"
   ]
  },
  {
   "cell_type": "code",
   "execution_count": 29,
   "metadata": {},
   "outputs": [
    {
     "data": {
      "text/plain": [
       "array([1., 2., 0.])"
      ]
     },
     "execution_count": 29,
     "metadata": {},
     "output_type": "execute_result"
    }
   ],
   "source": [
    "# let's visualise the values of one of the constant variables\n",
    "# as an example\n",
    "X_train['Protocol_code'].unique()"
   ]
  },
  {
   "cell_type": "code",
   "execution_count": 30,
   "metadata": {
    "scrolled": true
   },
   "outputs": [],
   "source": [
    "# we can do the same for every feature:\n",
    "for col in constant:\n",
    "    print(col, X_train[col].unique())"
   ]
  },
  {
   "cell_type": "markdown",
   "metadata": {},
   "source": [
    "We then use the transform() method of the VarianceThreshold to reduce the training and testing sets to its non-constant features.\n",
    "\n",
    "Note that VarianceThreshold returns a NumPy array without feature names, so we need to capture the names first, and reconstitute the dataframe in a later step."
   ]
  },
  {
   "cell_type": "code",
   "execution_count": 31,
   "metadata": {},
   "outputs": [],
   "source": [
    "# capture non-constant feature names\n",
    "feat_names = X_train.columns[sel.get_support()]"
   ]
  },
  {
   "cell_type": "code",
   "execution_count": 32,
   "metadata": {},
   "outputs": [
    {
     "data": {
      "text/plain": [
       "((99244, 23), (24811, 23))"
      ]
     },
     "execution_count": 32,
     "metadata": {},
     "output_type": "execute_result"
    }
   ],
   "source": [
    "X_train = sel.transform(X_train)\n",
    "X_test = sel.transform(X_test)\n",
    "X_train.shape, X_test.shape"
   ]
  },
  {
   "cell_type": "markdown",
   "metadata": {},
   "source": [
    "We have now 23 variables."
   ]
  },
  {
   "cell_type": "code",
   "execution_count": 33,
   "metadata": {},
   "outputs": [
    {
     "data": {
      "text/plain": [
       "array([[0.000000e+00, 0.000000e+00, 0.000000e+00, ..., 1.228300e+04,\n",
       "        2.410500e+04, 1.000000e+00],\n",
       "       [4.000000e-04, 4.600000e+01, 1.040000e+02, ..., 5.573000e+03,\n",
       "        4.040200e+04, 2.000000e+00],\n",
       "       [1.417088e+00, 6.210000e+02, 1.813000e+03, ..., 1.184700e+04,\n",
       "        2.841000e+03, 1.000000e+00],\n",
       "       ...,\n",
       "       [4.290000e-04, 4.400000e+01, 1.050000e+02, ..., 5.573000e+03,\n",
       "        4.340000e+04, 2.000000e+00],\n",
       "       [3.940000e-04, 6.100000e+01, 7.700000e+01, ..., 5.573000e+03,\n",
       "        6.025800e+04, 2.000000e+00],\n",
       "       [4.640000e-04, 6.100000e+01, 7.700000e+01, ..., 5.573000e+03,\n",
       "        6.962900e+04, 2.000000e+00]])"
      ]
     },
     "execution_count": 33,
     "metadata": {},
     "output_type": "execute_result"
    }
   ],
   "source": [
    "# X_ train is a NumPy array\n",
    "X_train"
   ]
  },
  {
   "cell_type": "code",
   "execution_count": 34,
   "metadata": {},
   "outputs": [
    {
     "data": {
      "text/html": [
       "<div>\n",
       "<style scoped>\n",
       "    .dataframe tbody tr th:only-of-type {\n",
       "        vertical-align: middle;\n",
       "    }\n",
       "\n",
       "    .dataframe tbody tr th {\n",
       "        vertical-align: top;\n",
       "    }\n",
       "\n",
       "    .dataframe thead th {\n",
       "        text-align: right;\n",
       "    }\n",
       "</style>\n",
       "<table border=\"1\" class=\"dataframe\">\n",
       "  <thead>\n",
       "    <tr style=\"text-align: right;\">\n",
       "      <th></th>\n",
       "      <th>Duration</th>\n",
       "      <th>Source</th>\n",
       "      <th>Destination_bytes</th>\n",
       "      <th>Count</th>\n",
       "      <th>Same_srv_rate</th>\n",
       "      <th>Serror_rate</th>\n",
       "      <th>Srv_serror_rate</th>\n",
       "      <th>Dst_host_count</th>\n",
       "      <th>Dst_host_srv_count</th>\n",
       "      <th>Dst_host_same_port_rate</th>\n",
       "      <th>...</th>\n",
       "      <th>Destination_Port_Number</th>\n",
       "      <th>Service_code</th>\n",
       "      <th>Flag_code</th>\n",
       "      <th>IDS_detection_code</th>\n",
       "      <th>Malware_detection_code</th>\n",
       "      <th>Ashula_detection_code</th>\n",
       "      <th>Source_IP_Address_code</th>\n",
       "      <th>Destination_IP_Address_code</th>\n",
       "      <th>Start_Time_code</th>\n",
       "      <th>Protocol_code</th>\n",
       "    </tr>\n",
       "  </thead>\n",
       "  <tbody>\n",
       "    <tr>\n",
       "      <th>0</th>\n",
       "      <td>0.000000</td>\n",
       "      <td>0.0</td>\n",
       "      <td>0.0</td>\n",
       "      <td>0.0</td>\n",
       "      <td>0.0</td>\n",
       "      <td>0.0</td>\n",
       "      <td>1.00</td>\n",
       "      <td>0.0</td>\n",
       "      <td>0.0</td>\n",
       "      <td>0.0</td>\n",
       "      <td>...</td>\n",
       "      <td>22.0</td>\n",
       "      <td>6.0</td>\n",
       "      <td>6.0</td>\n",
       "      <td>0.0</td>\n",
       "      <td>0.0</td>\n",
       "      <td>0.0</td>\n",
       "      <td>84856.0</td>\n",
       "      <td>12283.0</td>\n",
       "      <td>24105.0</td>\n",
       "      <td>1.0</td>\n",
       "    </tr>\n",
       "    <tr>\n",
       "      <th>1</th>\n",
       "      <td>0.000400</td>\n",
       "      <td>46.0</td>\n",
       "      <td>104.0</td>\n",
       "      <td>6.0</td>\n",
       "      <td>1.0</td>\n",
       "      <td>0.0</td>\n",
       "      <td>0.14</td>\n",
       "      <td>98.0</td>\n",
       "      <td>98.0</td>\n",
       "      <td>0.0</td>\n",
       "      <td>...</td>\n",
       "      <td>53.0</td>\n",
       "      <td>1.0</td>\n",
       "      <td>10.0</td>\n",
       "      <td>0.0</td>\n",
       "      <td>0.0</td>\n",
       "      <td>0.0</td>\n",
       "      <td>255086.0</td>\n",
       "      <td>5573.0</td>\n",
       "      <td>40402.0</td>\n",
       "      <td>2.0</td>\n",
       "    </tr>\n",
       "    <tr>\n",
       "      <th>2</th>\n",
       "      <td>1.417088</td>\n",
       "      <td>621.0</td>\n",
       "      <td>1813.0</td>\n",
       "      <td>2.0</td>\n",
       "      <td>1.0</td>\n",
       "      <td>0.0</td>\n",
       "      <td>0.00</td>\n",
       "      <td>33.0</td>\n",
       "      <td>33.0</td>\n",
       "      <td>0.0</td>\n",
       "      <td>...</td>\n",
       "      <td>22.0</td>\n",
       "      <td>13.0</td>\n",
       "      <td>10.0</td>\n",
       "      <td>0.0</td>\n",
       "      <td>0.0</td>\n",
       "      <td>0.0</td>\n",
       "      <td>96829.0</td>\n",
       "      <td>11847.0</td>\n",
       "      <td>2841.0</td>\n",
       "      <td>1.0</td>\n",
       "    </tr>\n",
       "    <tr>\n",
       "      <th>3</th>\n",
       "      <td>2.791112</td>\n",
       "      <td>520.0</td>\n",
       "      <td>1564.0</td>\n",
       "      <td>0.0</td>\n",
       "      <td>0.0</td>\n",
       "      <td>0.0</td>\n",
       "      <td>0.00</td>\n",
       "      <td>37.0</td>\n",
       "      <td>36.0</td>\n",
       "      <td>0.0</td>\n",
       "      <td>...</td>\n",
       "      <td>22.0</td>\n",
       "      <td>13.0</td>\n",
       "      <td>10.0</td>\n",
       "      <td>0.0</td>\n",
       "      <td>0.0</td>\n",
       "      <td>0.0</td>\n",
       "      <td>178954.0</td>\n",
       "      <td>15256.0</td>\n",
       "      <td>67520.0</td>\n",
       "      <td>1.0</td>\n",
       "    </tr>\n",
       "    <tr>\n",
       "      <th>4</th>\n",
       "      <td>0.000000</td>\n",
       "      <td>0.0</td>\n",
       "      <td>0.0</td>\n",
       "      <td>0.0</td>\n",
       "      <td>0.0</td>\n",
       "      <td>0.0</td>\n",
       "      <td>1.00</td>\n",
       "      <td>0.0</td>\n",
       "      <td>0.0</td>\n",
       "      <td>0.0</td>\n",
       "      <td>...</td>\n",
       "      <td>8080.0</td>\n",
       "      <td>6.0</td>\n",
       "      <td>6.0</td>\n",
       "      <td>0.0</td>\n",
       "      <td>0.0</td>\n",
       "      <td>0.0</td>\n",
       "      <td>12229.0</td>\n",
       "      <td>14405.0</td>\n",
       "      <td>39099.0</td>\n",
       "      <td>1.0</td>\n",
       "    </tr>\n",
       "  </tbody>\n",
       "</table>\n",
       "<p>5 rows × 23 columns</p>\n",
       "</div>"
      ],
      "text/plain": [
       "   Duration  Source  Destination_bytes  Count  Same_srv_rate  Serror_rate  \\\n",
       "0  0.000000     0.0                0.0    0.0            0.0          0.0   \n",
       "1  0.000400    46.0              104.0    6.0            1.0          0.0   \n",
       "2  1.417088   621.0             1813.0    2.0            1.0          0.0   \n",
       "3  2.791112   520.0             1564.0    0.0            0.0          0.0   \n",
       "4  0.000000     0.0                0.0    0.0            0.0          0.0   \n",
       "\n",
       "   Srv_serror_rate  Dst_host_count  Dst_host_srv_count  \\\n",
       "0             1.00             0.0                 0.0   \n",
       "1             0.14            98.0                98.0   \n",
       "2             0.00            33.0                33.0   \n",
       "3             0.00            37.0                36.0   \n",
       "4             1.00             0.0                 0.0   \n",
       "\n",
       "   Dst_host_same_port_rate  ...  Destination_Port_Number  Service_code  \\\n",
       "0                      0.0  ...                     22.0           6.0   \n",
       "1                      0.0  ...                     53.0           1.0   \n",
       "2                      0.0  ...                     22.0          13.0   \n",
       "3                      0.0  ...                     22.0          13.0   \n",
       "4                      0.0  ...                   8080.0           6.0   \n",
       "\n",
       "   Flag_code  IDS_detection_code  Malware_detection_code  \\\n",
       "0        6.0                 0.0                     0.0   \n",
       "1       10.0                 0.0                     0.0   \n",
       "2       10.0                 0.0                     0.0   \n",
       "3       10.0                 0.0                     0.0   \n",
       "4        6.0                 0.0                     0.0   \n",
       "\n",
       "   Ashula_detection_code  Source_IP_Address_code  Destination_IP_Address_code  \\\n",
       "0                    0.0                 84856.0                      12283.0   \n",
       "1                    0.0                255086.0                       5573.0   \n",
       "2                    0.0                 96829.0                      11847.0   \n",
       "3                    0.0                178954.0                      15256.0   \n",
       "4                    0.0                 12229.0                      14405.0   \n",
       "\n",
       "   Start_Time_code  Protocol_code  \n",
       "0          24105.0            1.0  \n",
       "1          40402.0            2.0  \n",
       "2           2841.0            1.0  \n",
       "3          67520.0            1.0  \n",
       "4          39099.0            1.0  \n",
       "\n",
       "[5 rows x 23 columns]"
      ]
     },
     "execution_count": 34,
     "metadata": {},
     "output_type": "execute_result"
    }
   ],
   "source": [
    "# reconstitute de dataframe\n",
    "X_train = pd.DataFrame(X_train, columns=feat_names)\n",
    "X_train.head()"
   ]
  },
  {
   "cell_type": "markdown",
   "metadata": {},
   "source": [
    "In the Kyoto dataset, 0 features was classified as constant were found, remaining the original 23 features of the dataset"
   ]
  },
  {
   "cell_type": "markdown",
   "metadata": {},
   "source": [
    "## Standardize Data"
   ]
  },
  {
   "cell_type": "code",
   "execution_count": 35,
   "metadata": {},
   "outputs": [],
   "source": [
    "from sklearn.preprocessing import StandardScaler\n",
    "scaler = StandardScaler().fit(X_train)\n",
    "X_train = scaler.transform(X_train)"
   ]
  },
  {
   "cell_type": "markdown",
   "metadata": {},
   "source": [
    "## Hyperparameter Optimization"
   ]
  },
  {
   "cell_type": "code",
   "execution_count": 17,
   "metadata": {},
   "outputs": [],
   "source": [
    "import numpy as np\n",
    "import pandas as pd\n",
    "from sklearn.model_selection import GridSearchCV\n",
    "\n",
    "class EstimatorSelectionHelper:\n",
    "    \n",
    "    def __init__(self, models, params):\n",
    "        self.models = models\n",
    "        self.params = params\n",
    "        self.keys = models.keys()\n",
    "        self.grid_searches = {}\n",
    "    \n",
    "    def fit(self, X, y, **grid_kwargs):\n",
    "        for key in self.keys:\n",
    "            print('Running GridSearchCV for %s.' % key)\n",
    "            model = self.models[key]\n",
    "            params = self.params[key]\n",
    "            grid_search = GridSearchCV(model, params, **grid_kwargs)\n",
    "            grid_search.fit(X, y)\n",
    "            self.grid_searches[key] = grid_search\n",
    "        print('Done.')\n",
    "    \n",
    "    def score_summary(self, sort_by='mean_test_score'):\n",
    "        frames = []\n",
    "        for name, grid_search in self.grid_searches.items():\n",
    "            frame = pd.DataFrame(grid_search.cv_results_)\n",
    "            frame = frame.filter(regex='^(?!.*param_).*$')\n",
    "            frame['estimator'] = len(frame)*[name]\n",
    "            frames.append(frame)\n",
    "        df = pd.concat(frames)\n",
    "        \n",
    "        df = df.sort_values([sort_by], ascending=False)\n",
    "        df = df.reset_index()\n",
    "        df = df.drop(['rank_test_score', 'index'], 1)\n",
    "        \n",
    "        columns = df.columns.tolist()\n",
    "        columns.remove('estimator')\n",
    "        columns = ['estimator']+columns\n",
    "        df = df[columns]\n",
    "        return df"
   ]
  },
  {
   "cell_type": "code",
   "execution_count": 18,
   "metadata": {},
   "outputs": [],
   "source": [
    "from sklearn import linear_model\n",
    "from sklearn.naive_bayes import GaussianNB\n",
    "from sklearn.ensemble import RandomForestClassifier\n",
    "from sklearn.neighbors import KNeighborsClassifier\n",
    "from catboost import CatBoostClassifier\n",
    "\n",
    "\n",
    "models = { \n",
    "    'LogisticRegression': linear_model.LogisticRegression(max_iter=1000),\n",
    "    'GaussianNB': GaussianNB(),\n",
    "    'RandomForest': RandomForestClassifier(random_state=123),\n",
    "    'KNN': KNeighborsClassifier(n_jobs=-1),\n",
    "    'CatBoost': CatBoostClassifier(),\n",
    "}\n",
    "\n",
    "params = { \n",
    "    'LogisticRegression': {'C':[0.1,0.5,1,2,3,4,5,10,20,25]},\n",
    "    'GaussianNB': {'var_smoothing':[1e-9,1e-8,1e-7,1e-6,1e-5,1e-4]},\n",
    "    'RandomForest': {'max_depth': [70,80,90,100],'n_estimators': [100,1000]},\n",
    "    'KNN': {'n_neighbors':[2,3,4,5],'leaf_size':[1,2,3],'weights':['uniform', 'distance'],\n",
    "          'algorithm':['auto','ball_tree','kd_tree','brute']},\n",
    "    'CatBoost': {'depth':[4,5,6,7],'learning_rate':[0.01,0.02,0.03,0.04],'iterations':[10,20,30,40,50]}\n",
    "}"
   ]
  },
  {
   "cell_type": "code",
   "execution_count": 19,
   "metadata": {},
   "outputs": [
    {
     "name": "stdout",
     "output_type": "stream",
     "text": [
      "Running GridSearchCV for LogisticRegression.\n"
     ]
    },
    {
     "name": "stderr",
     "output_type": "stream",
     "text": [
      "/opt/anaconda3/lib/python3.8/site-packages/joblib/externals/loky/process_executor.py:688: UserWarning: A worker stopped while some jobs were given to the executor. This can be caused by a too short worker timeout or by a memory leak.\n",
      "  warnings.warn(\n"
     ]
    },
    {
     "name": "stdout",
     "output_type": "stream",
     "text": [
      "Running GridSearchCV for GaussianNB.\n"
     ]
    },
    {
     "name": "stderr",
     "output_type": "stream",
     "text": [
      "/opt/anaconda3/lib/python3.8/site-packages/joblib/externals/loky/process_executor.py:688: UserWarning: A worker stopped while some jobs were given to the executor. This can be caused by a too short worker timeout or by a memory leak.\n",
      "  warnings.warn(\n"
     ]
    },
    {
     "name": "stdout",
     "output_type": "stream",
     "text": [
      "Running GridSearchCV for RandomForest.\n"
     ]
    },
    {
     "name": "stderr",
     "output_type": "stream",
     "text": [
      "/opt/anaconda3/lib/python3.8/site-packages/joblib/externals/loky/process_executor.py:688: UserWarning: A worker stopped while some jobs were given to the executor. This can be caused by a too short worker timeout or by a memory leak.\n",
      "  warnings.warn(\n"
     ]
    },
    {
     "name": "stdout",
     "output_type": "stream",
     "text": [
      "Running GridSearchCV for KNN.\n"
     ]
    },
    {
     "name": "stderr",
     "output_type": "stream",
     "text": [
      "/opt/anaconda3/lib/python3.8/site-packages/joblib/externals/loky/process_executor.py:688: UserWarning: A worker stopped while some jobs were given to the executor. This can be caused by a too short worker timeout or by a memory leak.\n",
      "  warnings.warn(\n"
     ]
    },
    {
     "name": "stdout",
     "output_type": "stream",
     "text": [
      "Running GridSearchCV for CatBoost.\n"
     ]
    },
    {
     "name": "stderr",
     "output_type": "stream",
     "text": [
      "/opt/anaconda3/lib/python3.8/site-packages/joblib/externals/loky/process_executor.py:688: UserWarning: A worker stopped while some jobs were given to the executor. This can be caused by a too short worker timeout or by a memory leak.\n",
      "  warnings.warn(\n"
     ]
    },
    {
     "name": "stdout",
     "output_type": "stream",
     "text": [
      "0:\tlearn: 0.5962215\ttotal: 89ms\tremaining: 4.36s\n",
      "1:\tlearn: 0.5157400\ttotal: 111ms\tremaining: 2.67s\n",
      "2:\tlearn: 0.4602641\ttotal: 133ms\tremaining: 2.09s\n",
      "3:\tlearn: 0.4037906\ttotal: 155ms\tremaining: 1.78s\n",
      "4:\tlearn: 0.3630171\ttotal: 176ms\tremaining: 1.58s\n",
      "5:\tlearn: 0.3296365\ttotal: 197ms\tremaining: 1.45s\n",
      "6:\tlearn: 0.2736792\ttotal: 220ms\tremaining: 1.35s\n",
      "7:\tlearn: 0.2523208\ttotal: 241ms\tremaining: 1.26s\n",
      "8:\tlearn: 0.2224886\ttotal: 262ms\tremaining: 1.19s\n",
      "9:\tlearn: 0.1674967\ttotal: 284ms\tremaining: 1.14s\n",
      "10:\tlearn: 0.1547081\ttotal: 306ms\tremaining: 1.08s\n",
      "11:\tlearn: 0.1419578\ttotal: 329ms\tremaining: 1.04s\n",
      "12:\tlearn: 0.1334022\ttotal: 351ms\tremaining: 998ms\n",
      "13:\tlearn: 0.1001768\ttotal: 375ms\tremaining: 964ms\n",
      "14:\tlearn: 0.0898917\ttotal: 397ms\tremaining: 926ms\n",
      "15:\tlearn: 0.0783601\ttotal: 418ms\tremaining: 889ms\n",
      "16:\tlearn: 0.0579665\ttotal: 442ms\tremaining: 857ms\n",
      "17:\tlearn: 0.0445215\ttotal: 463ms\tremaining: 823ms\n",
      "18:\tlearn: 0.0345035\ttotal: 485ms\tremaining: 792ms\n",
      "19:\tlearn: 0.0315594\ttotal: 507ms\tremaining: 760ms\n",
      "20:\tlearn: 0.0291276\ttotal: 529ms\tremaining: 731ms\n",
      "21:\tlearn: 0.0259127\ttotal: 551ms\tremaining: 702ms\n",
      "22:\tlearn: 0.0246806\ttotal: 575ms\tremaining: 675ms\n",
      "23:\tlearn: 0.0224730\ttotal: 597ms\tremaining: 646ms\n",
      "24:\tlearn: 0.0209606\ttotal: 619ms\tremaining: 619ms\n",
      "25:\tlearn: 0.0179381\ttotal: 640ms\tremaining: 591ms\n",
      "26:\tlearn: 0.0163770\ttotal: 661ms\tremaining: 563ms\n",
      "27:\tlearn: 0.0152181\ttotal: 682ms\tremaining: 536ms\n",
      "28:\tlearn: 0.0131463\ttotal: 704ms\tremaining: 510ms\n",
      "29:\tlearn: 0.0122537\ttotal: 725ms\tremaining: 484ms\n",
      "30:\tlearn: 0.0116104\ttotal: 747ms\tremaining: 458ms\n",
      "31:\tlearn: 0.0108290\ttotal: 768ms\tremaining: 432ms\n",
      "32:\tlearn: 0.0099306\ttotal: 790ms\tremaining: 407ms\n",
      "33:\tlearn: 0.0087506\ttotal: 812ms\tremaining: 382ms\n",
      "34:\tlearn: 0.0083461\ttotal: 832ms\tremaining: 357ms\n",
      "35:\tlearn: 0.0077432\ttotal: 854ms\tremaining: 332ms\n",
      "36:\tlearn: 0.0073831\ttotal: 874ms\tremaining: 307ms\n",
      "37:\tlearn: 0.0064055\ttotal: 897ms\tremaining: 283ms\n",
      "38:\tlearn: 0.0060138\ttotal: 918ms\tremaining: 259ms\n",
      "39:\tlearn: 0.0055773\ttotal: 940ms\tremaining: 235ms\n",
      "40:\tlearn: 0.0049679\ttotal: 963ms\tremaining: 211ms\n",
      "41:\tlearn: 0.0046381\ttotal: 985ms\tremaining: 188ms\n",
      "42:\tlearn: 0.0043504\ttotal: 1.01s\tremaining: 164ms\n",
      "43:\tlearn: 0.0038839\ttotal: 1.03s\tremaining: 140ms\n",
      "44:\tlearn: 0.0036213\ttotal: 1.05s\tremaining: 117ms\n",
      "45:\tlearn: 0.0032607\ttotal: 1.07s\tremaining: 93.4ms\n",
      "46:\tlearn: 0.0029644\ttotal: 1.09s\tremaining: 69.9ms\n",
      "47:\tlearn: 0.0028359\ttotal: 1.12s\tremaining: 46.6ms\n",
      "48:\tlearn: 0.0027291\ttotal: 1.14s\tremaining: 23.2ms\n",
      "49:\tlearn: 0.0026493\ttotal: 1.16s\tremaining: 0us\n",
      "Done.\n",
      "CPU times: user 2min 25s, sys: 6.91 s, total: 2min 32s\n",
      "Wall time: 9h 5min 52s\n"
     ]
    }
   ],
   "source": [
    "%%time\n",
    "helper = EstimatorSelectionHelper(models, params)\n",
    "helper.fit(X_test, y_test, scoring='f1', n_jobs=2)"
   ]
  },
  {
   "cell_type": "code",
   "execution_count": 20,
   "metadata": {},
   "outputs": [
    {
     "data": {
      "text/html": [
       "<div>\n",
       "<style scoped>\n",
       "    .dataframe tbody tr th:only-of-type {\n",
       "        vertical-align: middle;\n",
       "    }\n",
       "\n",
       "    .dataframe tbody tr th {\n",
       "        vertical-align: top;\n",
       "    }\n",
       "\n",
       "    .dataframe thead th {\n",
       "        text-align: right;\n",
       "    }\n",
       "</style>\n",
       "<table border=\"1\" class=\"dataframe\">\n",
       "  <thead>\n",
       "    <tr style=\"text-align: right;\">\n",
       "      <th></th>\n",
       "      <th>estimator</th>\n",
       "      <th>mean_fit_time</th>\n",
       "      <th>std_fit_time</th>\n",
       "      <th>mean_score_time</th>\n",
       "      <th>std_score_time</th>\n",
       "      <th>params</th>\n",
       "      <th>split0_test_score</th>\n",
       "      <th>split1_test_score</th>\n",
       "      <th>split2_test_score</th>\n",
       "      <th>split3_test_score</th>\n",
       "      <th>split4_test_score</th>\n",
       "      <th>mean_test_score</th>\n",
       "      <th>std_test_score</th>\n",
       "    </tr>\n",
       "  </thead>\n",
       "  <tbody>\n",
       "    <tr>\n",
       "      <th>0</th>\n",
       "      <td>CatBoost</td>\n",
       "      <td>4.319576</td>\n",
       "      <td>0.020049</td>\n",
       "      <td>0.391137</td>\n",
       "      <td>0.021617</td>\n",
       "      <td>{'depth': 7, 'iterations': 50, 'learning_rate'...</td>\n",
       "      <td>1.000000</td>\n",
       "      <td>1.000000</td>\n",
       "      <td>1.000000</td>\n",
       "      <td>0.999686</td>\n",
       "      <td>0.999790</td>\n",
       "      <td>0.999895</td>\n",
       "      <td>0.000133</td>\n",
       "    </tr>\n",
       "    <tr>\n",
       "      <th>1</th>\n",
       "      <td>CatBoost</td>\n",
       "      <td>3.101321</td>\n",
       "      <td>0.025885</td>\n",
       "      <td>0.420988</td>\n",
       "      <td>0.049243</td>\n",
       "      <td>{'depth': 7, 'iterations': 20, 'learning_rate'...</td>\n",
       "      <td>1.000000</td>\n",
       "      <td>1.000000</td>\n",
       "      <td>1.000000</td>\n",
       "      <td>0.999686</td>\n",
       "      <td>0.999790</td>\n",
       "      <td>0.999895</td>\n",
       "      <td>0.000133</td>\n",
       "    </tr>\n",
       "    <tr>\n",
       "      <th>2</th>\n",
       "      <td>CatBoost</td>\n",
       "      <td>3.249692</td>\n",
       "      <td>0.225021</td>\n",
       "      <td>0.421500</td>\n",
       "      <td>0.048314</td>\n",
       "      <td>{'depth': 6, 'iterations': 20, 'learning_rate'...</td>\n",
       "      <td>1.000000</td>\n",
       "      <td>1.000000</td>\n",
       "      <td>1.000000</td>\n",
       "      <td>0.999686</td>\n",
       "      <td>0.999790</td>\n",
       "      <td>0.999895</td>\n",
       "      <td>0.000133</td>\n",
       "    </tr>\n",
       "    <tr>\n",
       "      <th>3</th>\n",
       "      <td>CatBoost</td>\n",
       "      <td>3.624060</td>\n",
       "      <td>0.159963</td>\n",
       "      <td>0.417535</td>\n",
       "      <td>0.045990</td>\n",
       "      <td>{'depth': 6, 'iterations': 30, 'learning_rate'...</td>\n",
       "      <td>1.000000</td>\n",
       "      <td>1.000000</td>\n",
       "      <td>1.000000</td>\n",
       "      <td>0.999686</td>\n",
       "      <td>0.999790</td>\n",
       "      <td>0.999895</td>\n",
       "      <td>0.000133</td>\n",
       "    </tr>\n",
       "    <tr>\n",
       "      <th>4</th>\n",
       "      <td>CatBoost</td>\n",
       "      <td>3.662820</td>\n",
       "      <td>0.170793</td>\n",
       "      <td>0.518677</td>\n",
       "      <td>0.135676</td>\n",
       "      <td>{'depth': 6, 'iterations': 30, 'learning_rate'...</td>\n",
       "      <td>1.000000</td>\n",
       "      <td>1.000000</td>\n",
       "      <td>1.000000</td>\n",
       "      <td>0.999686</td>\n",
       "      <td>0.999790</td>\n",
       "      <td>0.999895</td>\n",
       "      <td>0.000133</td>\n",
       "    </tr>\n",
       "    <tr>\n",
       "      <th>...</th>\n",
       "      <td>...</td>\n",
       "      <td>...</td>\n",
       "      <td>...</td>\n",
       "      <td>...</td>\n",
       "      <td>...</td>\n",
       "      <td>...</td>\n",
       "      <td>...</td>\n",
       "      <td>...</td>\n",
       "      <td>...</td>\n",
       "      <td>...</td>\n",
       "      <td>...</td>\n",
       "      <td>...</td>\n",
       "      <td>...</td>\n",
       "    </tr>\n",
       "    <tr>\n",
       "      <th>195</th>\n",
       "      <td>GaussianNB</td>\n",
       "      <td>0.161354</td>\n",
       "      <td>0.018309</td>\n",
       "      <td>0.047705</td>\n",
       "      <td>0.002726</td>\n",
       "      <td>{'var_smoothing': 1e-09}</td>\n",
       "      <td>0.195950</td>\n",
       "      <td>0.191369</td>\n",
       "      <td>0.191935</td>\n",
       "      <td>0.192577</td>\n",
       "      <td>0.246552</td>\n",
       "      <td>0.203677</td>\n",
       "      <td>0.021497</td>\n",
       "    </tr>\n",
       "    <tr>\n",
       "      <th>196</th>\n",
       "      <td>GaussianNB</td>\n",
       "      <td>0.141394</td>\n",
       "      <td>0.002438</td>\n",
       "      <td>0.041558</td>\n",
       "      <td>0.001035</td>\n",
       "      <td>{'var_smoothing': 1e-07}</td>\n",
       "      <td>0.198868</td>\n",
       "      <td>0.193671</td>\n",
       "      <td>0.194661</td>\n",
       "      <td>0.195713</td>\n",
       "      <td>0.231815</td>\n",
       "      <td>0.202946</td>\n",
       "      <td>0.014540</td>\n",
       "    </tr>\n",
       "    <tr>\n",
       "      <th>197</th>\n",
       "      <td>GaussianNB</td>\n",
       "      <td>0.141202</td>\n",
       "      <td>0.001735</td>\n",
       "      <td>0.041999</td>\n",
       "      <td>0.001101</td>\n",
       "      <td>{'var_smoothing': 1e-08}</td>\n",
       "      <td>0.196382</td>\n",
       "      <td>0.191042</td>\n",
       "      <td>0.191756</td>\n",
       "      <td>0.192482</td>\n",
       "      <td>0.238356</td>\n",
       "      <td>0.202004</td>\n",
       "      <td>0.018270</td>\n",
       "    </tr>\n",
       "    <tr>\n",
       "      <th>198</th>\n",
       "      <td>GaussianNB</td>\n",
       "      <td>0.139142</td>\n",
       "      <td>0.004729</td>\n",
       "      <td>0.041513</td>\n",
       "      <td>0.001603</td>\n",
       "      <td>{'var_smoothing': 0.0001}</td>\n",
       "      <td>0.188366</td>\n",
       "      <td>0.187153</td>\n",
       "      <td>0.187870</td>\n",
       "      <td>0.188410</td>\n",
       "      <td>0.255720</td>\n",
       "      <td>0.201504</td>\n",
       "      <td>0.027112</td>\n",
       "    </tr>\n",
       "    <tr>\n",
       "      <th>199</th>\n",
       "      <td>LogisticRegression</td>\n",
       "      <td>20.709690</td>\n",
       "      <td>7.712104</td>\n",
       "      <td>0.050034</td>\n",
       "      <td>0.001634</td>\n",
       "      <td>{'C': 0.1}</td>\n",
       "      <td>0.075560</td>\n",
       "      <td>0.276649</td>\n",
       "      <td>0.069247</td>\n",
       "      <td>0.270162</td>\n",
       "      <td>0.226026</td>\n",
       "      <td>0.183529</td>\n",
       "      <td>0.092412</td>\n",
       "    </tr>\n",
       "  </tbody>\n",
       "</table>\n",
       "<p>200 rows × 13 columns</p>\n",
       "</div>"
      ],
      "text/plain": [
       "              estimator  mean_fit_time  std_fit_time  mean_score_time  \\\n",
       "0              CatBoost       4.319576      0.020049         0.391137   \n",
       "1              CatBoost       3.101321      0.025885         0.420988   \n",
       "2              CatBoost       3.249692      0.225021         0.421500   \n",
       "3              CatBoost       3.624060      0.159963         0.417535   \n",
       "4              CatBoost       3.662820      0.170793         0.518677   \n",
       "..                  ...            ...           ...              ...   \n",
       "195          GaussianNB       0.161354      0.018309         0.047705   \n",
       "196          GaussianNB       0.141394      0.002438         0.041558   \n",
       "197          GaussianNB       0.141202      0.001735         0.041999   \n",
       "198          GaussianNB       0.139142      0.004729         0.041513   \n",
       "199  LogisticRegression      20.709690      7.712104         0.050034   \n",
       "\n",
       "     std_score_time                                             params  \\\n",
       "0          0.021617  {'depth': 7, 'iterations': 50, 'learning_rate'...   \n",
       "1          0.049243  {'depth': 7, 'iterations': 20, 'learning_rate'...   \n",
       "2          0.048314  {'depth': 6, 'iterations': 20, 'learning_rate'...   \n",
       "3          0.045990  {'depth': 6, 'iterations': 30, 'learning_rate'...   \n",
       "4          0.135676  {'depth': 6, 'iterations': 30, 'learning_rate'...   \n",
       "..              ...                                                ...   \n",
       "195        0.002726                           {'var_smoothing': 1e-09}   \n",
       "196        0.001035                           {'var_smoothing': 1e-07}   \n",
       "197        0.001101                           {'var_smoothing': 1e-08}   \n",
       "198        0.001603                          {'var_smoothing': 0.0001}   \n",
       "199        0.001634                                         {'C': 0.1}   \n",
       "\n",
       "     split0_test_score  split1_test_score  split2_test_score  \\\n",
       "0             1.000000           1.000000           1.000000   \n",
       "1             1.000000           1.000000           1.000000   \n",
       "2             1.000000           1.000000           1.000000   \n",
       "3             1.000000           1.000000           1.000000   \n",
       "4             1.000000           1.000000           1.000000   \n",
       "..                 ...                ...                ...   \n",
       "195           0.195950           0.191369           0.191935   \n",
       "196           0.198868           0.193671           0.194661   \n",
       "197           0.196382           0.191042           0.191756   \n",
       "198           0.188366           0.187153           0.187870   \n",
       "199           0.075560           0.276649           0.069247   \n",
       "\n",
       "     split3_test_score  split4_test_score  mean_test_score  std_test_score  \n",
       "0             0.999686           0.999790         0.999895        0.000133  \n",
       "1             0.999686           0.999790         0.999895        0.000133  \n",
       "2             0.999686           0.999790         0.999895        0.000133  \n",
       "3             0.999686           0.999790         0.999895        0.000133  \n",
       "4             0.999686           0.999790         0.999895        0.000133  \n",
       "..                 ...                ...              ...             ...  \n",
       "195           0.192577           0.246552         0.203677        0.021497  \n",
       "196           0.195713           0.231815         0.202946        0.014540  \n",
       "197           0.192482           0.238356         0.202004        0.018270  \n",
       "198           0.188410           0.255720         0.201504        0.027112  \n",
       "199           0.270162           0.226026         0.183529        0.092412  \n",
       "\n",
       "[200 rows x 13 columns]"
      ]
     },
     "execution_count": 20,
     "metadata": {},
     "output_type": "execute_result"
    }
   ],
   "source": [
    "helper.score_summary()"
   ]
  },
  {
   "cell_type": "code",
   "execution_count": 21,
   "metadata": {},
   "outputs": [],
   "source": [
    "df_gridsearchcv_summary = helper.score_summary()"
   ]
  },
  {
   "cell_type": "code",
   "execution_count": 22,
   "metadata": {},
   "outputs": [],
   "source": [
    "df_gridsearchcv_summary.to_csv(\"gridsearchcv_summaryBase.csv\", index=False)"
   ]
  },
  {
   "cell_type": "markdown",
   "metadata": {},
   "source": [
    "## Classifiers"
   ]
  },
  {
   "cell_type": "code",
   "execution_count": 38,
   "metadata": {},
   "outputs": [],
   "source": [
    "from sklearn import linear_model\n",
    "from sklearn.naive_bayes import GaussianNB\n",
    "from sklearn.ensemble import RandomForestClassifier\n",
    "from sklearn.neighbors import KNeighborsClassifier\n",
    "from catboost import CatBoostClassifier"
   ]
  },
  {
   "cell_type": "markdown",
   "metadata": {},
   "source": [
    "## Metrics Evaluation"
   ]
  },
  {
   "cell_type": "code",
   "execution_count": 39,
   "metadata": {},
   "outputs": [],
   "source": [
    "from sklearn.metrics import accuracy_score\n",
    "from sklearn.metrics import confusion_matrix\n",
    "from sklearn.metrics import roc_curve, f1_score\n",
    "from sklearn import metrics\n",
    "from sklearn.model_selection import cross_val_score"
   ]
  },
  {
   "cell_type": "markdown",
   "metadata": {},
   "source": [
    "### Logistic Regression"
   ]
  },
  {
   "cell_type": "code",
   "execution_count": 40,
   "metadata": {},
   "outputs": [
    {
     "name": "stdout",
     "output_type": "stream",
     "text": [
      "CPU times: user 77.6 ms, sys: 211 ms, total: 289 ms\n",
      "Wall time: 3.2 s\n"
     ]
    }
   ],
   "source": [
    "%%time\n",
    "clf_LR = linear_model.LogisticRegression(n_jobs=-1, random_state=42, C=1).fit(X_train, y_train)"
   ]
  },
  {
   "cell_type": "code",
   "execution_count": 41,
   "metadata": {},
   "outputs": [
    {
     "name": "stdout",
     "output_type": "stream",
     "text": [
      "Accuracy: 0.4527830397807424\n",
      "F1 Score: 0.2463502636691646\n",
      "FPR: 0.5989054991991457\n",
      "TPR: 0.9503211991434689\n"
     ]
    }
   ],
   "source": [
    "pred_y_test = clf_LR.predict(X_test)\n",
    "print('Accuracy:', accuracy_score(y_test, pred_y_test))\n",
    "\n",
    "f1 = f1_score(y_test, pred_y_test)\n",
    "print('F1 Score:', f1)\n",
    "\n",
    "fpr, tpr, thresholds = roc_curve(y_test, pred_y_test)\n",
    "print('FPR:', fpr[1])\n",
    "print('TPR:', tpr[1])"
   ]
  },
  {
   "cell_type": "markdown",
   "metadata": {},
   "source": [
    "### Naive Bayes"
   ]
  },
  {
   "cell_type": "code",
   "execution_count": 42,
   "metadata": {},
   "outputs": [
    {
     "name": "stdout",
     "output_type": "stream",
     "text": [
      "CPU times: user 40.1 ms, sys: 7.54 ms, total: 47.7 ms\n",
      "Wall time: 45.9 ms\n"
     ]
    }
   ],
   "source": [
    "%%time\n",
    "clf_NB = GaussianNB(var_smoothing=1e-05).fit(X_train, y_train)"
   ]
  },
  {
   "cell_type": "code",
   "execution_count": 43,
   "metadata": {},
   "outputs": [
    {
     "name": "stdout",
     "output_type": "stream",
     "text": [
      "Accuracy: 0.9045584619725122\n",
      "F1 Score: 0.0\n",
      "FPR: 0.0014682327816337426\n",
      "TPR: 0.0\n"
     ]
    }
   ],
   "source": [
    "pred_y_testNB = clf_NB.predict(X_test)\n",
    "print('Accuracy:', accuracy_score(y_test, pred_y_testNB))\n",
    "\n",
    "f1 = f1_score(y_test, pred_y_testNB)\n",
    "print('F1 Score:', f1)\n",
    "\n",
    "fpr, tpr, thresholds = roc_curve(y_test, pred_y_testNB)\n",
    "print('FPR:', fpr[1])\n",
    "print('TPR:', tpr[1])"
   ]
  },
  {
   "cell_type": "markdown",
   "metadata": {},
   "source": [
    "### Random Forest"
   ]
  },
  {
   "cell_type": "code",
   "execution_count": 44,
   "metadata": {},
   "outputs": [
    {
     "name": "stdout",
     "output_type": "stream",
     "text": [
      "CPU times: user 6.16 s, sys: 45.8 ms, total: 6.2 s\n",
      "Wall time: 6.2 s\n"
     ]
    }
   ],
   "source": [
    "%%time\n",
    "clf_RF = RandomForestClassifier(random_state=0,max_depth=70,n_estimators=100).fit(X_train, y_train)"
   ]
  },
  {
   "cell_type": "code",
   "execution_count": 45,
   "metadata": {},
   "outputs": [
    {
     "name": "stdout",
     "output_type": "stream",
     "text": [
      "Accuracy: 0.9058885171899561\n",
      "F1 Score: 0.8611563563923045\n",
      "FPR: 1.0\n",
      "TPR: 1.0\n"
     ]
    }
   ],
   "source": [
    "pred_y_testRF = clf_RF.predict(X_test)\n",
    "print('Accuracy:', accuracy_score(y_test, pred_y_testRF))\n",
    "\n",
    "f1 = f1_score(y_test, pred_y_testRF, average='weighted', zero_division=0)\n",
    "print('F1 Score:', f1)\n",
    "\n",
    "fpr, tpr, thresholds = roc_curve(y_test, pred_y_testRF)\n",
    "print('FPR:', fpr[1])\n",
    "print('TPR:', tpr[1])"
   ]
  },
  {
   "cell_type": "markdown",
   "metadata": {},
   "source": [
    "### KNN"
   ]
  },
  {
   "cell_type": "code",
   "execution_count": 46,
   "metadata": {},
   "outputs": [
    {
     "name": "stdout",
     "output_type": "stream",
     "text": [
      "CPU times: user 9.96 s, sys: 61.3 ms, total: 10 s\n",
      "Wall time: 9.98 s\n"
     ]
    }
   ],
   "source": [
    "%%time\n",
    "clf_KNN = KNeighborsClassifier(algorithm='auto',leaf_size=1,n_neighbors=2,weights='uniform').fit(X_train, y_train)"
   ]
  },
  {
   "cell_type": "code",
   "execution_count": 47,
   "metadata": {},
   "outputs": [
    {
     "name": "stdout",
     "output_type": "stream",
     "text": [
      "accuracy_score: 0.9058885171899561\n",
      "f1: 0.0\n",
      "fpr: 1.0\n",
      "tpr: 1.0\n"
     ]
    }
   ],
   "source": [
    "pred_y_testKNN = clf_KNN.predict(X_test)\n",
    "print('accuracy_score:', accuracy_score(y_test, pred_y_testKNN))\n",
    "\n",
    "f1 = f1_score(y_test, pred_y_testKNN)\n",
    "print('f1:', f1)\n",
    "\n",
    "fpr, tpr, thresholds = roc_curve(y_test, pred_y_testKNN)\n",
    "print('fpr:', fpr[1])\n",
    "print('tpr:', tpr[1])"
   ]
  },
  {
   "cell_type": "markdown",
   "metadata": {},
   "source": [
    "### CatBoost"
   ]
  },
  {
   "cell_type": "code",
   "execution_count": 48,
   "metadata": {},
   "outputs": [
    {
     "name": "stdout",
     "output_type": "stream",
     "text": [
      "0:\tlearn: 0.5950021\ttotal: 21.5ms\tremaining: 1.05s\n",
      "1:\tlearn: 0.4943009\ttotal: 39.9ms\tremaining: 958ms\n",
      "2:\tlearn: 0.4235946\ttotal: 57.5ms\tremaining: 901ms\n",
      "3:\tlearn: 0.3620619\ttotal: 75.7ms\tremaining: 871ms\n",
      "4:\tlearn: 0.3121757\ttotal: 93.6ms\tremaining: 842ms\n",
      "5:\tlearn: 0.2371811\ttotal: 111ms\tremaining: 816ms\n",
      "6:\tlearn: 0.2070297\ttotal: 129ms\tremaining: 795ms\n",
      "7:\tlearn: 0.1610239\ttotal: 148ms\tremaining: 779ms\n",
      "8:\tlearn: 0.1441127\ttotal: 166ms\tremaining: 756ms\n",
      "9:\tlearn: 0.1140228\ttotal: 186ms\tremaining: 744ms\n",
      "10:\tlearn: 0.1028733\ttotal: 203ms\tremaining: 721ms\n",
      "11:\tlearn: 0.0790135\ttotal: 221ms\tremaining: 701ms\n",
      "12:\tlearn: 0.0614288\ttotal: 239ms\tremaining: 681ms\n",
      "13:\tlearn: 0.0478516\ttotal: 259ms\tremaining: 666ms\n",
      "14:\tlearn: 0.0375712\ttotal: 277ms\tremaining: 647ms\n",
      "15:\tlearn: 0.0312555\ttotal: 295ms\tremaining: 627ms\n",
      "16:\tlearn: 0.0249900\ttotal: 312ms\tremaining: 606ms\n",
      "17:\tlearn: 0.0196449\ttotal: 330ms\tremaining: 586ms\n",
      "18:\tlearn: 0.0159795\ttotal: 348ms\tremaining: 567ms\n",
      "19:\tlearn: 0.0128696\ttotal: 365ms\tremaining: 548ms\n",
      "20:\tlearn: 0.0106125\ttotal: 384ms\tremaining: 530ms\n",
      "21:\tlearn: 0.0090042\ttotal: 402ms\tremaining: 512ms\n",
      "22:\tlearn: 0.0074177\ttotal: 420ms\tremaining: 493ms\n",
      "23:\tlearn: 0.0062532\ttotal: 438ms\tremaining: 474ms\n",
      "24:\tlearn: 0.0052067\ttotal: 456ms\tremaining: 456ms\n",
      "25:\tlearn: 0.0044424\ttotal: 474ms\tremaining: 437ms\n",
      "26:\tlearn: 0.0037750\ttotal: 491ms\tremaining: 418ms\n",
      "27:\tlearn: 0.0032876\ttotal: 508ms\tremaining: 399ms\n",
      "28:\tlearn: 0.0028467\ttotal: 526ms\tremaining: 381ms\n",
      "29:\tlearn: 0.0024856\ttotal: 543ms\tremaining: 362ms\n",
      "30:\tlearn: 0.0022038\ttotal: 561ms\tremaining: 344ms\n",
      "31:\tlearn: 0.0019416\ttotal: 580ms\tremaining: 326ms\n",
      "32:\tlearn: 0.0017309\ttotal: 598ms\tremaining: 308ms\n",
      "33:\tlearn: 0.0015386\ttotal: 615ms\tremaining: 289ms\n",
      "34:\tlearn: 0.0013602\ttotal: 632ms\tremaining: 271ms\n",
      "35:\tlearn: 0.0012191\ttotal: 650ms\tremaining: 253ms\n",
      "36:\tlearn: 0.0010849\ttotal: 668ms\tremaining: 235ms\n",
      "37:\tlearn: 0.0009851\ttotal: 687ms\tremaining: 217ms\n",
      "38:\tlearn: 0.0008939\ttotal: 704ms\tremaining: 199ms\n",
      "39:\tlearn: 0.0008057\ttotal: 722ms\tremaining: 180ms\n",
      "40:\tlearn: 0.0007422\ttotal: 739ms\tremaining: 162ms\n",
      "41:\tlearn: 0.0006801\ttotal: 756ms\tremaining: 144ms\n",
      "42:\tlearn: 0.0006254\ttotal: 774ms\tremaining: 126ms\n",
      "43:\tlearn: 0.0005768\ttotal: 791ms\tremaining: 108ms\n",
      "44:\tlearn: 0.0005253\ttotal: 808ms\tremaining: 89.8ms\n",
      "45:\tlearn: 0.0004894\ttotal: 827ms\tremaining: 71.9ms\n",
      "46:\tlearn: 0.0004579\ttotal: 846ms\tremaining: 54ms\n",
      "47:\tlearn: 0.0004291\ttotal: 865ms\tremaining: 36ms\n",
      "48:\tlearn: 0.0004010\ttotal: 883ms\tremaining: 18ms\n",
      "49:\tlearn: 0.0003927\ttotal: 899ms\tremaining: 0us\n",
      "CPU times: user 6.4 s, sys: 1.79 s, total: 8.18 s\n",
      "Wall time: 961 ms\n"
     ]
    }
   ],
   "source": [
    "%%time\n",
    "clf_CB = CatBoostClassifier(random_state=0,depth=7,iterations=50,learning_rate=0.04).fit(X_train, y_train)"
   ]
  },
  {
   "cell_type": "code",
   "execution_count": 49,
   "metadata": {},
   "outputs": [
    {
     "name": "stdout",
     "output_type": "stream",
     "text": [
      "Accuracy: 0.9058885171899561\n",
      "F1 Score: 0.8611563563923045\n",
      "FPR: 1.0\n",
      "TPR: 1.0\n"
     ]
    }
   ],
   "source": [
    "pred_y_testCB = clf_CB.predict(X_test)\n",
    "print('Accuracy:', accuracy_score(y_test, pred_y_testCB))\n",
    "\n",
    "f1 = f1_score(y_test, pred_y_testCB, average='weighted', zero_division=0)\n",
    "print('F1 Score:', f1)\n",
    "\n",
    "fpr, tpr, thresholds = roc_curve(y_test, pred_y_testCB)\n",
    "print('FPR:', fpr[1])\n",
    "print('TPR:', tpr[1])"
   ]
  },
  {
   "cell_type": "markdown",
   "metadata": {},
   "source": [
    "## Model Evaluation"
   ]
  },
  {
   "cell_type": "code",
   "execution_count": 50,
   "metadata": {},
   "outputs": [
    {
     "data": {
      "text/plain": [
       "(62028, 24)"
      ]
     },
     "execution_count": 50,
     "metadata": {},
     "output_type": "execute_result"
    }
   ],
   "source": [
    "import pandas as pd, numpy as np\n",
    "test_df = pd.read_csv(\"../Kyoto_Test.csv\")\n",
    "test_df.shape"
   ]
  },
  {
   "cell_type": "code",
   "execution_count": 59,
   "metadata": {},
   "outputs": [],
   "source": [
    "# Create feature matrix X and target vextor y\n",
    "y_eval = test_df['Label_code']\n",
    "X_eval = test_df.drop(columns=['Label_code'])"
   ]
  },
  {
   "cell_type": "markdown",
   "metadata": {},
   "source": [
    "### Model Evaluation - Logistic Regression"
   ]
  },
  {
   "cell_type": "code",
   "execution_count": 60,
   "metadata": {},
   "outputs": [
    {
     "data": {
      "text/plain": [
       "LogisticRegression(C=1, n_jobs=-1, random_state=42)"
      ]
     },
     "execution_count": 60,
     "metadata": {},
     "output_type": "execute_result"
    }
   ],
   "source": [
    "modelLR = linear_model.LogisticRegression(n_jobs=-1, random_state=42, C=1)\n",
    "modelLR.fit(X_train, y_train)"
   ]
  },
  {
   "cell_type": "code",
   "execution_count": 61,
   "metadata": {},
   "outputs": [],
   "source": [
    "# Predict on the new unseen test data\n",
    "y_evalpredLR = modelLR.predict(X_eval)\n",
    "y_predLR = modelLR.predict(X_test)"
   ]
  },
  {
   "cell_type": "code",
   "execution_count": 62,
   "metadata": {},
   "outputs": [
    {
     "name": "stdout",
     "output_type": "stream",
     "text": [
      "Training accuracy is  0.9304038531296602\n",
      "Testing accuracy is  0.4527830397807424\n"
     ]
    }
   ],
   "source": [
    "train_scoreLR = modelLR.score(X_train, y_train)\n",
    "test_scoreLR = modelLR.score(X_test, y_test)\n",
    "print(\"Training accuracy is \", train_scoreLR)\n",
    "print(\"Testing accuracy is \", test_scoreLR)"
   ]
  },
  {
   "cell_type": "code",
   "execution_count": 63,
   "metadata": {},
   "outputs": [
    {
     "name": "stdout",
     "output_type": "stream",
     "text": [
      "Performance measures for test:\n",
      "--------\n",
      "Accuracy: 0.4527830397807424\n",
      "F1 Score: 0.2463502636691646\n",
      "Precision Score: 0.14151785714285714\n",
      "Recall Score: 0.9503211991434689\n",
      "Confusion Matrix:\n",
      " [[ 9015 13461]\n",
      " [  116  2219]]\n"
     ]
    }
   ],
   "source": [
    "from sklearn.metrics import confusion_matrix, precision_score, recall_score, f1_score\n",
    "print('Performance measures for test:')\n",
    "print('--------')\n",
    "print('Accuracy:', test_scoreLR)\n",
    "print('F1 Score:',f1_score(y_test, y_predLR))\n",
    "print('Precision Score:',precision_score(y_test, y_predLR))\n",
    "print('Recall Score:', recall_score(y_test, y_predLR))\n",
    "print('Confusion Matrix:\\n', confusion_matrix(y_test, y_predLR))"
   ]
  },
  {
   "cell_type": "markdown",
   "metadata": {},
   "source": [
    "### Cross validation - Logistic Regression"
   ]
  },
  {
   "cell_type": "code",
   "execution_count": 64,
   "metadata": {},
   "outputs": [
    {
     "name": "stdout",
     "output_type": "stream",
     "text": [
      "Accuracy: 0.90021 (+/- 0.00142)\n",
      "F1 Score: 0.00064 (+/- 0.00385)\n",
      "Precision: 0.00769 (+/- 0.04615)\n",
      "Recall: 0.00033 (+/- 0.00201)\n"
     ]
    }
   ],
   "source": [
    "from sklearn.model_selection import cross_val_score\n",
    "from sklearn import metrics\n",
    "\n",
    "accuracy = cross_val_score(modelLR, X_eval, y_eval, cv=10, scoring='accuracy')\n",
    "print(\"Accuracy: %0.5f (+/- %0.5f)\" % (accuracy.mean(), accuracy.std() * 2))\n",
    "\n",
    "f = cross_val_score(modelLR, X_eval, y_eval, cv=10, scoring='f1')\n",
    "print(\"F1 Score: %0.5f (+/- %0.5f)\" % (f.mean(), f.std() * 2))\n",
    "\n",
    "precision = cross_val_score(modelLR, X_eval, y_eval, cv=10, scoring='precision')\n",
    "print(\"Precision: %0.5f (+/- %0.5f)\" % (precision.mean(), precision.std() * 2))\n",
    "\n",
    "recall = cross_val_score(modelLR, X_eval, y_eval, cv=10, scoring='recall')\n",
    "print(\"Recall: %0.5f (+/- %0.5f)\" % (recall.mean(), recall.std() * 2))"
   ]
  },
  {
   "cell_type": "markdown",
   "metadata": {},
   "source": [
    "### Model Evaluation - Naive Bayes"
   ]
  },
  {
   "cell_type": "code",
   "execution_count": 65,
   "metadata": {},
   "outputs": [
    {
     "data": {
      "text/plain": [
       "GaussianNB(var_smoothing=1e-05)"
      ]
     },
     "execution_count": 65,
     "metadata": {},
     "output_type": "execute_result"
    }
   ],
   "source": [
    "modelNB = GaussianNB(var_smoothing=1e-05)\n",
    "modelNB.fit(X_train, y_train)"
   ]
  },
  {
   "cell_type": "code",
   "execution_count": 66,
   "metadata": {},
   "outputs": [],
   "source": [
    "# Predict on the new unseen test data\n",
    "y_evalpredNB = modelNB.predict(X_eval)\n",
    "y_predNB = modelNB.predict(X_test)"
   ]
  },
  {
   "cell_type": "code",
   "execution_count": 67,
   "metadata": {},
   "outputs": [
    {
     "name": "stdout",
     "output_type": "stream",
     "text": [
      "Training accuracy is  0.3204626979968562\n",
      "Testing accuracy is  0.9045584619725122\n"
     ]
    }
   ],
   "source": [
    "train_scoreNB = modelNB.score(X_train, y_train)\n",
    "test_scoreNB = modelNB.score(X_test, y_test)\n",
    "print(\"Training accuracy is \", train_scoreNB)\n",
    "print(\"Testing accuracy is \", test_scoreNB)"
   ]
  },
  {
   "cell_type": "code",
   "execution_count": 68,
   "metadata": {},
   "outputs": [
    {
     "name": "stdout",
     "output_type": "stream",
     "text": [
      "Performance measures for test:\n",
      "--------\n",
      "Accuracy: 0.9045584619725122\n",
      "F1 Score: 0.0\n",
      "Precision Score: 0.0\n",
      "Recall Score: 0.0\n",
      "Confusion Matrix:\n",
      " [[22443    33]\n",
      " [ 2335     0]]\n"
     ]
    }
   ],
   "source": [
    "from sklearn.metrics import confusion_matrix, precision_score, recall_score, f1_score\n",
    "print('Performance measures for test:')\n",
    "print('--------')\n",
    "print('Accuracy:', test_scoreNB)\n",
    "print('F1 Score:',f1_score(y_test, y_predNB))\n",
    "print('Precision Score:',precision_score(y_test, y_predNB))\n",
    "print('Recall Score:', recall_score(y_test, y_predNB))\n",
    "print('Confusion Matrix:\\n', confusion_matrix(y_test, y_predNB))"
   ]
  },
  {
   "cell_type": "markdown",
   "metadata": {},
   "source": [
    "### Cross validation - Naive Bayes"
   ]
  },
  {
   "cell_type": "code",
   "execution_count": 69,
   "metadata": {},
   "outputs": [
    {
     "name": "stdout",
     "output_type": "stream",
     "text": [
      "Accuracy: 0.51851 (+/- 0.28039)\n",
      "F1 Score: 0.25979 (+/- 0.02808)\n",
      "Precision: 0.21404 (+/- 0.38891)\n",
      "Recall: 0.86306 (+/- 0.46302)\n"
     ]
    }
   ],
   "source": [
    "from sklearn.model_selection import cross_val_score\n",
    "from sklearn import metrics\n",
    "\n",
    "accuracy = cross_val_score(modelNB, X_eval, y_eval, cv=10, scoring='accuracy')\n",
    "print(\"Accuracy: %0.5f (+/- %0.5f)\" % (accuracy.mean(), accuracy.std() * 2))\n",
    "\n",
    "f = cross_val_score(modelNB, X_eval, y_eval, cv=10, scoring='f1')\n",
    "print(\"F1 Score: %0.5f (+/- %0.5f)\" % (f.mean(), f.std() * 2))\n",
    "\n",
    "precision = cross_val_score(modelNB, X_eval, y_eval, cv=10, scoring='precision')\n",
    "print(\"Precision: %0.5f (+/- %0.5f)\" % (precision.mean(), precision.std() * 2))\n",
    "\n",
    "recall = cross_val_score(modelNB, X_eval, y_eval, cv=10, scoring='recall')\n",
    "print(\"Recall: %0.5f (+/- %0.5f)\" % (recall.mean(), recall.std() * 2))"
   ]
  },
  {
   "cell_type": "markdown",
   "metadata": {},
   "source": [
    "### Model Evaluation - Random Forest"
   ]
  },
  {
   "cell_type": "code",
   "execution_count": 70,
   "metadata": {},
   "outputs": [
    {
     "data": {
      "text/plain": [
       "RandomForestClassifier(max_depth=70, random_state=0)"
      ]
     },
     "execution_count": 70,
     "metadata": {},
     "output_type": "execute_result"
    }
   ],
   "source": [
    "modelRF = RandomForestClassifier(random_state=0,max_depth=70,n_estimators=100)\n",
    "modelRF.fit(X_train, y_train)"
   ]
  },
  {
   "cell_type": "code",
   "execution_count": 71,
   "metadata": {},
   "outputs": [],
   "source": [
    "# Predict on the new unseen test data\n",
    "y_evalpredRF = modelRF.predict(X_eval)\n",
    "y_predRF = modelRF.predict(X_test)"
   ]
  },
  {
   "cell_type": "code",
   "execution_count": 72,
   "metadata": {},
   "outputs": [
    {
     "name": "stdout",
     "output_type": "stream",
     "text": [
      "Training accuracy is  1.0\n",
      "Testing accuracy is  0.9058885171899561\n"
     ]
    }
   ],
   "source": [
    "train_scoreRF = modelRF.score(X_train, y_train)\n",
    "test_scoreRF = modelRF.score(X_test, y_test)\n",
    "print(\"Training accuracy is \", train_scoreRF)\n",
    "print(\"Testing accuracy is \", test_scoreRF)"
   ]
  },
  {
   "cell_type": "code",
   "execution_count": 73,
   "metadata": {},
   "outputs": [],
   "source": [
    "import warnings\n",
    "warnings.filterwarnings(\"ignore\", category=DeprecationWarning)"
   ]
  },
  {
   "cell_type": "code",
   "execution_count": 87,
   "metadata": {},
   "outputs": [
    {
     "name": "stdout",
     "output_type": "stream",
     "text": [
      "Performance measures for test:\n",
      "--------\n",
      "Accuracy: 0.9058885171899561\n",
      "F1 Score: 0.8611563563923045\n",
      "Precision Score: 0.9147454883866614\n",
      "Recall Score: 0.9058885171899561\n",
      "Confusion Matrix:\n",
      " [[22476     0]\n",
      " [ 2335     0]]\n"
     ]
    }
   ],
   "source": [
    "from sklearn.metrics import confusion_matrix, precision_score, recall_score, f1_score\n",
    "print('Performance measures for test:')\n",
    "print('--------')\n",
    "print('Accuracy:', test_scoreRF)\n",
    "print('F1 Score:', f1_score(y_test, y_predRF, average='weighted', zero_division=1))\n",
    "print('Precision Score:', precision_score(y_test, y_predRF, average='weighted', zero_division=1))\n",
    "print('Recall Score:', recall_score(y_test, y_predRF, average='weighted', zero_division=1))\n",
    "print('Confusion Matrix:\\n', confusion_matrix(y_test, y_predRF))"
   ]
  },
  {
   "cell_type": "markdown",
   "metadata": {},
   "source": [
    "### Cross validation - Random Forest"
   ]
  },
  {
   "cell_type": "code",
   "execution_count": 88,
   "metadata": {},
   "outputs": [
    {
     "name": "stdout",
     "output_type": "stream",
     "text": [
      "Accuracy: 0.99929 (+/- 0.00060)\n",
      "F1 Score: 0.99631 (+/- 0.00312)\n",
      "Precision: 0.99950 (+/- 0.00154)\n",
      "Recall: 0.99315 (+/- 0.00676)\n"
     ]
    }
   ],
   "source": [
    "from sklearn.model_selection import cross_val_score\n",
    "from sklearn import metrics\n",
    "\n",
    "accuracy = cross_val_score(modelRF, X_eval, y_eval, cv=10, scoring='accuracy')\n",
    "print(\"Accuracy: %0.5f (+/- %0.5f)\" % (accuracy.mean(), accuracy.std() * 2))\n",
    "\n",
    "f = cross_val_score(modelRF, X_eval, y_eval, cv=10, scoring='f1')\n",
    "print(\"F1 Score: %0.5f (+/- %0.5f)\" % (f.mean(), f.std() * 2))\n",
    "\n",
    "precision = cross_val_score(modelRF, X_eval, y_eval, cv=10, scoring='precision')\n",
    "print(\"Precision: %0.5f (+/- %0.5f)\" % (precision.mean(), precision.std() * 2))\n",
    "\n",
    "recall = cross_val_score(modelRF, X_eval, y_eval, cv=10, scoring='recall')\n",
    "print(\"Recall: %0.5f (+/- %0.5f)\" % (recall.mean(), recall.std() * 2))"
   ]
  },
  {
   "cell_type": "markdown",
   "metadata": {},
   "source": [
    "### Model Evaluation - KNN"
   ]
  },
  {
   "cell_type": "code",
   "execution_count": 89,
   "metadata": {},
   "outputs": [
    {
     "data": {
      "text/plain": [
       "KNeighborsClassifier(leaf_size=1, n_neighbors=2)"
      ]
     },
     "execution_count": 89,
     "metadata": {},
     "output_type": "execute_result"
    }
   ],
   "source": [
    "modelKNN = KNeighborsClassifier(algorithm='auto',leaf_size=1,n_neighbors=2,weights='uniform')\n",
    "modelKNN.fit(X_train, y_train)"
   ]
  },
  {
   "cell_type": "code",
   "execution_count": null,
   "metadata": {},
   "outputs": [],
   "source": [
    "# Predict on the new unseen test data\n",
    "y_evalpredKNN = modelKNN.predict(X_eval)\n",
    "y_predKNN = modelKNN.predict(X_test)"
   ]
  },
  {
   "cell_type": "code",
   "execution_count": null,
   "metadata": {},
   "outputs": [],
   "source": [
    "train_scoreKNN = modelKNN.score(X_train, y_train)\n",
    "test_scoreKNN = modelKNN.score(X_test, y_test)\n",
    "print(\"Training accuracy is \", train_scoreKNN)\n",
    "print(\"Testing accuracy is \", test_scoreKNN)"
   ]
  },
  {
   "cell_type": "code",
   "execution_count": null,
   "metadata": {},
   "outputs": [],
   "source": [
    "from sklearn.metrics import confusion_matrix, precision_score, recall_score, f1_score\n",
    "print('Performance measures for test:')\n",
    "print('--------')\n",
    "print('Accuracy:', test_scoreKNN)\n",
    "print('F1 Score:', f1_score(y_test, y_predKNN, average='weighted', zero_division=1))\n",
    "print('Precision Score:', precision_score(y_test, y_predKNN, average='weighted', zero_division=1))\n",
    "print('Recall Score:', recall_score(y_test, y_predKNN, average='weighted', zero_division=1))\n",
    "print('Confusion Matrix:\\n', confusion_matrix(y_test, y_predKNN))"
   ]
  },
  {
   "cell_type": "markdown",
   "metadata": {},
   "source": [
    "### Cross validation - KNN"
   ]
  },
  {
   "cell_type": "code",
   "execution_count": null,
   "metadata": {},
   "outputs": [],
   "source": [
    "from sklearn.model_selection import cross_val_score\n",
    "from sklearn import metrics\n",
    "\n",
    "accuracy = cross_val_score(modelKNN, X_eval, y_eval, cv=10, scoring='accuracy')\n",
    "print(\"Accuracy: %0.5f (+/- %0.5f)\" % (accuracy.mean(), accuracy.std() * 2))\n",
    "\n",
    "f = cross_val_score(modelKNN, X_eval, y_eval, cv=10, scoring='f1')\n",
    "print(\"F1 Score: %0.5f (+/- %0.5f)\" % (f.mean(), f.std() * 2))\n",
    "\n",
    "precision = cross_val_score(modelKNN, X_eval, y_eval, cv=10, scoring='precision')\n",
    "print(\"Precision: %0.5f (+/- %0.5f)\" % (precision.mean(), precision.std() * 2))\n",
    "\n",
    "recall = cross_val_score(modelKNN, X_eval, y_eval, cv=10, scoring='recall')\n",
    "print(\"Recall: %0.5f (+/- %0.5f)\" % (recall.mean(), recall.std() * 2))"
   ]
  },
  {
   "cell_type": "markdown",
   "metadata": {},
   "source": [
    "### Model Evaluation - CatBoost"
   ]
  },
  {
   "cell_type": "code",
   "execution_count": null,
   "metadata": {},
   "outputs": [],
   "source": [
    "modelCB = CatBoostClassifier(random_state=0,depth=7,iterations=50,learning_rate=0.04)\n",
    "modelCB.fit(X_train, y_train)"
   ]
  },
  {
   "cell_type": "code",
   "execution_count": null,
   "metadata": {},
   "outputs": [],
   "source": [
    "# Predict on the new unseen test data\n",
    "y_evalpredCB = modelCB.predict(X_eval)\n",
    "y_predCB = modelCB.predict(X_test)"
   ]
  },
  {
   "cell_type": "code",
   "execution_count": null,
   "metadata": {},
   "outputs": [],
   "source": [
    "train_scoreCB = modelCB.score(X_train, y_train)\n",
    "test_scoreCB = modelCB.score(X_test, y_test)\n",
    "print(\"Training accuracy is \", train_scoreCB)\n",
    "print(\"Testing accuracy is \", test_scoreCB)"
   ]
  },
  {
   "cell_type": "code",
   "execution_count": null,
   "metadata": {},
   "outputs": [],
   "source": [
    "from sklearn.metrics import confusion_matrix, precision_score, recall_score, f1_score\n",
    "print('Performance measures for test:')\n",
    "print('--------')\n",
    "print('Accuracy:', test_scoreCB)\n",
    "print('F1 Score:',f1_score(y_test, y_predCB, average='weighted', zero_division=1))\n",
    "print('Precision Score:',precision_score(y_test, y_predCB, average='weighted', zero_division=1))\n",
    "print('Recall Score:', recall_score(y_test, y_predCB, average='weighted', zero_division=1))\n",
    "print('Confusion Matrix:\\n', confusion_matrix(y_test, y_predCB))"
   ]
  },
  {
   "cell_type": "markdown",
   "metadata": {},
   "source": [
    "### Cross validation - CatBoost"
   ]
  },
  {
   "cell_type": "code",
   "execution_count": null,
   "metadata": {},
   "outputs": [],
   "source": [
    "from sklearn.model_selection import cross_val_score\n",
    "from sklearn import metrics\n",
    "\n",
    "accuracy = cross_val_score(modelCB, X_eval, y_eval, cv=10, scoring='accuracy')\n",
    "f = cross_val_score(modelCB, X_eval, y_eval, cv=10, scoring='f1')\n",
    "precision = cross_val_score(modelCB, X_eval, y_eval, cv=10, scoring='precision')\n",
    "recall = cross_val_score(modelCB, X_eval, y_eval, cv=10, scoring='recall')"
   ]
  },
  {
   "cell_type": "code",
   "execution_count": null,
   "metadata": {},
   "outputs": [],
   "source": [
    "print(\"Accuracy: %0.5f (+/- %0.5f)\" % (accuracy.mean(), accuracy.std() * 2))\n",
    "print(\"F1 Score: %0.5f (+/- %0.5f)\" % (f.mean(), f.std() * 2))\n",
    "print(\"Precision: %0.5f (+/- %0.5f)\" % (precision.mean(), precision.std() * 2))\n",
    "print(\"Recall: %0.5f (+/- %0.5f)\" % (recall.mean(), recall.std() * 2))"
   ]
  }
 ],
 "metadata": {
  "kernelspec": {
   "display_name": "Python 3",
   "language": "python",
   "name": "python3"
  },
  "language_info": {
   "codemirror_mode": {
    "name": "ipython",
    "version": 3
   },
   "file_extension": ".py",
   "mimetype": "text/x-python",
   "name": "python",
   "nbconvert_exporter": "python",
   "pygments_lexer": "ipython3",
   "version": "3.7.6"
  },
  "toc": {
   "base_numbering": 1,
   "nav_menu": {},
   "number_sections": true,
   "sideBar": true,
   "skip_h1_title": false,
   "title_cell": "Table of Contents",
   "title_sidebar": "Contents",
   "toc_cell": false,
   "toc_position": {
    "height": "583px",
    "left": "0px",
    "right": "20px",
    "top": "107px",
    "width": "319px"
   },
   "toc_section_display": "block",
   "toc_window_display": true
  }
 },
 "nbformat": 4,
 "nbformat_minor": 2
}
